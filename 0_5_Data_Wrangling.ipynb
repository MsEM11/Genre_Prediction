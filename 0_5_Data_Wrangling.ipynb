{
 "cells": [
  {
   "cell_type": "markdown",
   "id": "1e883a69",
   "metadata": {},
   "source": [
    "Now, rather than saving a sample, attempting to load ALL the data onto my computer! "
   ]
  },
  {
   "cell_type": "code",
   "execution_count": 5,
   "id": "7c3393ca",
   "metadata": {},
   "outputs": [
    {
     "data": {
      "text/plain": [
       "True"
      ]
     },
     "execution_count": 5,
     "metadata": {},
     "output_type": "execute_result"
    }
   ],
   "source": [
    "import requests\n",
    "import json\n",
    "import csv\n",
    "from bs4 import BeautifulSoup\n",
    "import pandas as pd\n",
    "import numpy as np\n",
    "import random\n",
    "import os\n",
    "import string\n",
    "from time import sleep\n",
    "import selenium\n",
    "from selenium import webdriver\n",
    "from selenium.webdriver.common.by import By\n",
    "from selenium.webdriver.common.keys import Keys\n",
    "from selenium.webdriver import firefox\n",
    "from selenium.webdriver.firefox.options import Options\n",
    "from selenium.webdriver.firefox.service import Service\n",
    "from selenium.common.exceptions import NoSuchElementException\n",
    "from selenium.common.exceptions import WebDriverException\n",
    "from dotenv import load_dotenv\n",
    "load_dotenv()"
   ]
  },
  {
   "cell_type": "code",
   "execution_count": 2,
   "id": "845e3509",
   "metadata": {},
   "outputs": [],
   "source": [
    "def get_genres(title, author):\n",
    "    '''Given the title and author of a book,\n",
    "    return a list of genres and the publication year'''\n",
    "    book_id = -1\n",
    "    itemqueue = []\n",
    "    trials = 0\n",
    "    \n",
    "    #Put the title into the search bar\n",
    "    while (len(itemqueue) == 0) and (trials < 3):\n",
    "        browser.get('http://www.goodreads.com/search?q=&qid=')\n",
    "        search_book = browser.find_element(By.ID, value='search_query_main')\n",
    "        search_book.send_keys(title)\n",
    "        search_book.submit()\n",
    "        sleep(random.uniform(8,15))\n",
    "        itemqueue = browser.find_elements(By.XPATH, value=\"//table/tbody/tr[contains(@itemtype, 'http://schema.org/Book')]\")\n",
    "        img = browser.find_elements(By.CLASS_NAME, value=\"bookCover\")\n",
    "        book_list = list()\n",
    "        trials += 1\n",
    "    if len(itemqueue) == 0:\n",
    "        return ([], np.nan)\n",
    "    \n",
    "    #Search the first page of results for the author's name\n",
    "    #Use only first author if multiple\n",
    "        \n",
    "    for i in range(len(itemqueue)):\n",
    "        book_list.append(itemqueue[i].text.split('\\n'))\n",
    "        book_list_ap = list()\n",
    "    for i in range(0, len(book_list)):\n",
    "         book_list_ap.append((book_list[i][0],book_list[i][1],img[i].get_property(\"src\")))\n",
    "    for book in book_list_ap:\n",
    "        if f\"by {author.split(' &')[0]}\" in book[1]:\n",
    "            book_id = book[2].split('/')[-1].split('.')[0]\n",
    "            break\n",
    "            \n",
    "    #Sometimes, a book's title is so common that the correct version isn't on the first page\n",
    "    #If that happens, try putting the author into the search bar\n",
    "    #And searching the first page for the correct title\n",
    "    \n",
    "    if book_id == -1:\n",
    "        browser.get('http://www.goodreads.com/search?q=&qid=')\n",
    "        search_book = browser.find_element(By.ID, value='search_query_main')\n",
    "        search_book.send_keys(author)\n",
    "        search_book.submit()\n",
    "        sleep(random.uniform(8,15))\n",
    "        itemqueue = browser.find_elements(By.XPATH, value=\"//table/tbody/tr[contains(@itemtype, 'http://schema.org/Book')]\")\n",
    "        img = browser.find_elements(By.CLASS_NAME, value=\"bookCover\")\n",
    "        book_list = list()\n",
    "        for i in range(len(itemqueue)):\n",
    "            book_list.append(itemqueue[i].text.split('\\n'))\n",
    "            book_list_ap = list()\n",
    "        for i in range(0, len(book_list)):\n",
    "             book_list_ap.append((book_list[i][0],book_list[i][1],img[i].get_property(\"src\")))\n",
    "        for book in book_list_ap:\n",
    "            if title in book[0]:\n",
    "                book_id = book[2].split('/')[-1].split('.')[0]\n",
    "                break\n",
    "    \n",
    "    #If that doesn't work, return an empty list. \n",
    "    if book_id == -1:\n",
    "        return ([], np.nan)\n",
    "        \n",
    "        \n",
    "    book_url = f'https://www.goodreads.com/book/show/{book_id}'\n",
    "    browser.get(book_url)\n",
    "    genres = browser.find_elements(By.XPATH, value=\"//span[contains(@class, 'BookPageMetadataSection__genreButton')]\")\n",
    "    try: \n",
    "        datestring = browser.find_element(By.CSS_SELECTOR, \".FeaturedDetails > p:nth-child(2)\")\n",
    "        year = int(datestring.text[-4:])\n",
    "    except NoSuchElementException:\n",
    "        year = np.nan\n",
    "    except ValueError:\n",
    "        year = np.nan\n",
    "    sleep(random.uniform(8,15))\n",
    "    return ([genre.text for genre in genres], year)"
   ]
  },
  {
   "cell_type": "code",
   "execution_count": 3,
   "id": "9db5fbd7",
   "metadata": {},
   "outputs": [],
   "source": [
    "def get_info(book_dict):\n",
    "    '''Given a dict containing the title and author of a book in the list,\n",
    "    returns a dictionary of prosecraft's analysis about the book,\n",
    "    as well as a list of genres and the publication year from Goodreads'''\n",
    "    title = book_dict['t']\n",
    "    author = book_dict['a']\n",
    "    #Get rid of special characters in URL\n",
    "    chars_to_remove = [':', '’', '.', \",\", '“', '”']\n",
    "    info = {'title': title, 'author': author}\n",
    "    title = title.replace('/', '-')\n",
    "    URL = f\"{author}/{title}/\"\n",
    "    for char in chars_to_remove: \n",
    "        URL = URL.replace(char, '')\n",
    "    URL = URL.replace('&', 'and').replace(' ','-').lower()\n",
    "    URL = \"http://prosecraft.io/library/\" + URL\n",
    "    \n",
    "    #Get data from Prosecraft and turn it into a dict\n",
    "    page = requests.get(URL)\n",
    "    soup = BeautifulSoup(page.content, \"html.parser\")\n",
    "    headings = soup.find_all(\"div\", {\"class\": \"book-info-metric-heading\"})\n",
    "    values = soup.find_all(\"div\", {\"class\": \"book-info-metric-value\"})\n",
    "    for heading, value in zip(headings, values):\n",
    "        info[heading.text] = float(value.text.strip('%').replace(',',''))\n",
    "    \n",
    "    #Get genre data from Goodreads and include it as a list\n",
    "    info['genre'], info['year'] = get_genres(info['title'], info['author'])\n",
    "    \n",
    "    return info"
   ]
  },
  {
   "cell_type": "code",
   "execution_count": 4,
   "id": "7f86c778",
   "metadata": {},
   "outputs": [],
   "source": [
    "with open('book_list.json', 'r') as lst:\n",
    "    book_list = json.load(lst)\n"
   ]
  },
  {
   "cell_type": "code",
   "execution_count": 5,
   "id": "cbeb569f",
   "metadata": {},
   "outputs": [],
   "source": [
    "with open('counter.txt','r') as counter:\n",
    "    book_count = int(counter.read())"
   ]
  },
  {
   "cell_type": "code",
   "execution_count": 6,
   "id": "77b8b537",
   "metadata": {},
   "outputs": [],
   "source": [
    "#with open ('counter.txt','w') as counter:\n",
    "#    counter.write(str(book_count))"
   ]
  },
  {
   "cell_type": "code",
   "execution_count": 7,
   "id": "2bc3b0cd",
   "metadata": {},
   "outputs": [],
   "source": [
    "#Fill in my Goodreads username and password from the .env\n",
    "user_name = os.environ.get('USER')\n",
    "password = os.environ.get('PASSWORD')\n",
    "\n",
    "#This is just the URL I get when I go to goodreads and select log in by email.\n",
    "login_url = os.environ.get('URL')"
   ]
  },
  {
   "cell_type": "code",
   "execution_count": 8,
   "id": "d5db1fd3",
   "metadata": {},
   "outputs": [],
   "source": [
    "#Here I start up a headless Firefox browser through Selenium\n",
    "s = Service(\"geckodriver.exe\")\n",
    "opts=Options()\n",
    "opts.add_argument('-headless')\n",
    "browser = webdriver.Firefox(service=s)\n",
    "browser.get(login_url)"
   ]
  },
  {
   "cell_type": "code",
   "execution_count": 9,
   "id": "5dd24c63",
   "metadata": {},
   "outputs": [],
   "source": [
    "# Here I log into goodreads\n",
    "log_email = browser.find_element(By.ID, value=\"ap_email\")\n",
    "log_pwd = browser.find_element(By.ID, value=\"ap_password\")\n",
    "log_email.send_keys(user_name)\n",
    "log_pwd.send_keys(password)\n",
    "log_pwd.submit()\n",
    "sleep(5)"
   ]
  },
  {
   "cell_type": "code",
   "execution_count": 10,
   "id": "fb5fd50f",
   "metadata": {},
   "outputs": [],
   "source": [
    "dict_keys = ['title', 'author', 'total words', 'vividness', 'passive voice',\n",
    "       'all adverbs', 'ly-adverbs', 'non-ly-adverbs', 'genre', 'year']"
   ]
  },
  {
   "cell_type": "code",
   "execution_count": 11,
   "id": "f606a755",
   "metadata": {
    "scrolled": false
   },
   "outputs": [
    {
     "name": "stdout",
     "output_type": "stream",
     "text": [
      "Connection Error\n",
      "Connection Error\n",
      "Connection Error\n",
      "Connection Error\n",
      "Connection Error\n",
      "Connection Error\n",
      "Connection Error\n",
      "Connection Error\n",
      "Connection Error\n",
      "Connection Error\n",
      "Connection Error\n",
      "Web Driver Exception\n",
      "Finished!\n"
     ]
    }
   ],
   "source": [
    "with open('book_data.csv', 'a', newline='',encoding=\"utf-8\") as data:\n",
    "    fail_count = 0\n",
    "    writer = csv.DictWriter(data, dict_keys)\n",
    "    for i in range(25000):\n",
    "        try: \n",
    "            next_book = get_info(book_list[book_count])\n",
    "            writer.writerow(next_book)\n",
    "            book_count += 1\n",
    "        except NoSuchElementException:\n",
    "            book_trials = 1\n",
    "            fail_count += 1\n",
    "            while book_trials < 3:\n",
    "                sleep(random.uniform(8,15))\n",
    "                try: \n",
    "                    next_book = get_info(book_list[book_count])\n",
    "                    writer.writerow(next_book)\n",
    "                    book_count += 1\n",
    "                    break\n",
    "                except NoSuchElementException:\n",
    "                    book_trials += 1\n",
    "                fail_count += 1\n",
    "            book_count += 1\n",
    "        except requests.exceptions.ConnectionError:\n",
    "            print(\"Connection Error\")\n",
    "            sleep(120)\n",
    "        except WebDriverException:\n",
    "            print(\"Web Driver Exception\")\n",
    "            sleep(120)\n",
    "        except IndexError:\n",
    "            print(\"Finished!\")\n",
    "            break\n",
    "    \n",
    "    "
   ]
  },
  {
   "cell_type": "code",
   "execution_count": 12,
   "id": "9161579e",
   "metadata": {},
   "outputs": [
    {
     "data": {
      "text/plain": [
       "25090"
      ]
     },
     "execution_count": 12,
     "metadata": {},
     "output_type": "execute_result"
    }
   ],
   "source": [
    "book_count"
   ]
  },
  {
   "cell_type": "code",
   "execution_count": 13,
   "id": "87126708",
   "metadata": {},
   "outputs": [],
   "source": [
    "# I realized after adding about 50 books that the publication year, \n",
    "#in addition to the linguistic data, might be predictive of genre. \n",
    "# This was the function where I added a year to each of the titles I'd already added.\n",
    "# After that, I incorporated it into the genres function for future books. \n",
    "\n",
    "\n",
    "\n",
    "#def add_year(title, author):\n",
    "#     book_id = -1\n",
    "#     browser.get('http://www.goodreads.com/search?q=&qid=')\n",
    "#     try: \n",
    "#         search_book = browser.find_element(By.ID, value='search_query_main')\n",
    "#     except NoSuchElementException: \n",
    "#         return(add_year(title, author))\n",
    "#     search_book.send_keys(title)\n",
    "#     search_book.submit()\n",
    "#     sleep(random.uniform(10,20))\n",
    "#     itemqueue = browser.find_elements(By.XPATH, value=\"//table/tbody/tr[contains(@itemtype, 'http://schema.org/Book')]\")\n",
    "#     img = browser.find_elements(By.CLASS_NAME, value=\"bookCover\")\n",
    "#     book_list = list()\n",
    "    \n",
    "    \n",
    "#     #Search the first page of results for the author's name\n",
    "#     #Use only first author if multiple\n",
    "#     for i in range(len(itemqueue)):\n",
    "#         book_list.append(itemqueue[i].text.split('\\n'))\n",
    "#         book_list_ap = list()\n",
    "#     for i in range(0, len(book_list)):\n",
    "#          book_list_ap.append((book_list[i][0],book_list[i][1],img[i].get_property(\"src\")))\n",
    "#     for book in book_list_ap:\n",
    "#         if f\"by {author.split(' &')[0]}\" in book[1]:\n",
    "#             book_id = book[2].split('/')[-1].split('.')[0]\n",
    "#             break\n",
    "            \n",
    "#     #Sometimes, a book's title is so common that the correct version isn't on the first page\n",
    "#     #If that happens, try putting the author into the search bar\n",
    "#     #And searching the first page for the correct title\n",
    "    \n",
    "#     if book_id == -1:\n",
    "#         browser.get('http://www.goodreads.com/search?q=&qid=')\n",
    "#         search_book = browser.find_element(By.ID, value='search_query_main')\n",
    "#         search_book.send_keys(author)\n",
    "#         search_book.submit()\n",
    "#         sleep(random.uniform(10,20))\n",
    "#         itemqueue = browser.find_elements(By.XPATH, value=\"//table/tbody/tr[contains(@itemtype, 'http://schema.org/Book')]\")\n",
    "#         img = browser.find_elements(By.CLASS_NAME, value=\"bookCover\")\n",
    "#         book_list = list()\n",
    "#         for i in range(len(itemqueue)):\n",
    "#             book_list.append(itemqueue[i].text.split('\\n'))\n",
    "#             book_list_ap = list()\n",
    "#         for i in range(0, len(book_list)):\n",
    "#              book_list_ap.append((book_list[i][0],book_list[i][1],img[i].get_property(\"src\")))\n",
    "#         for book in book_list_ap:\n",
    "#             if title in book[0]:\n",
    "#                 book_id = book[2].split('/')[-1].split('.')[0]\n",
    "#                 break\n",
    "    \n",
    "#     #If that doesn't work, return an empty list. \n",
    "#     if book_id == -1:\n",
    "#         return np.nan\n",
    "    \n",
    "#     book_url = f'https://www.goodreads.com/book/show/{book_id}'\n",
    "#     browser.get(book_url)\n",
    "#     try: \n",
    "#         datestring = browser.find_element(By.CSS_SELECTOR, \".FeaturedDetails > p:nth-child(2)\")\n",
    "#     except NoSuchElementException: \n",
    "#         return(add_year(title, author))\n",
    "    \n",
    "#     year = int(datestring.text[-4:])\n",
    "#     sleep(random.uniform(10,20))\n",
    "#     return year"
   ]
  },
  {
   "cell_type": "code",
   "execution_count": 14,
   "id": "7c136356",
   "metadata": {},
   "outputs": [],
   "source": [
    "browser.quit()"
   ]
  },
  {
   "cell_type": "code",
   "execution_count": null,
   "id": "86b6ce1c",
   "metadata": {},
   "outputs": [],
   "source": []
  }
 ],
 "metadata": {
  "kernelspec": {
   "display_name": "Python 3 (ipykernel)",
   "language": "python",
   "name": "python3"
  },
  "language_info": {
   "codemirror_mode": {
    "name": "ipython",
    "version": 3
   },
   "file_extension": ".py",
   "mimetype": "text/x-python",
   "name": "python",
   "nbconvert_exporter": "python",
   "pygments_lexer": "ipython3",
   "version": "3.10.9"
  }
 },
 "nbformat": 4,
 "nbformat_minor": 5
}
