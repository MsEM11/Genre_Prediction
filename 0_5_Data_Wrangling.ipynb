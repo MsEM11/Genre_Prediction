{
 "cells": [
  {
   "cell_type": "markdown",
   "id": "1e883a69",
   "metadata": {},
   "source": [
    "Now, rather than saving a sample, attempting to load ALL the data onto my computer! "
   ]
  },
  {
   "cell_type": "code",
   "execution_count": 1,
   "id": "7c3393ca",
   "metadata": {},
   "outputs": [
    {
     "data": {
      "text/plain": [
       "True"
      ]
     },
     "execution_count": 1,
     "metadata": {},
     "output_type": "execute_result"
    }
   ],
   "source": [
    "import requests\n",
    "import json\n",
    "import csv\n",
    "from bs4 import BeautifulSoup\n",
    "import pandas as pd\n",
    "import numpy as np\n",
    "import random\n",
    "import os\n",
    "import string\n",
    "from time import sleep\n",
    "import selenium\n",
    "from selenium import webdriver\n",
    "from selenium.webdriver.common.by import By\n",
    "from selenium.webdriver.common.keys import Keys\n",
    "from selenium.webdriver import firefox\n",
    "from selenium.webdriver.firefox.options import Options\n",
    "from selenium.webdriver.firefox.service import Service\n",
    "from selenium.common.exceptions import NoSuchElementException\n",
    "from selenium.common.exceptions import WebDriverException\n",
    "from dotenv import load_dotenv\n",
    "load_dotenv()"
   ]
  },
  {
   "cell_type": "code",
   "execution_count": 14,
   "id": "845e3509",
   "metadata": {},
   "outputs": [],
   "source": [
    "def get_genres(title, author):\n",
    "    '''Given the title and author of a book,\n",
    "    return a list of genres and the publication year'''\n",
    "    book_id = -1\n",
    "    itemqueue = []\n",
    "    trials = 0\n",
    "    \n",
    "    #Put the title into the search bar\n",
    "    while (len(itemqueue) == 0) and (trials < 3):\n",
    "        browser.get('http://www.goodreads.com/search?q=&qid=')\n",
    "        search_book = browser.find_element(By.ID, value='search_query_main')\n",
    "        search_book.send_keys(title)\n",
    "        search_book.submit()\n",
    "        sleep(random.uniform(10,20))\n",
    "        itemqueue = browser.find_elements(By.XPATH, value=\"//table/tbody/tr[contains(@itemtype, 'http://schema.org/Book')]\")\n",
    "        img = browser.find_elements(By.CLASS_NAME, value=\"bookCover\")\n",
    "        book_list = list()\n",
    "        trials += 1\n",
    "    if len(itemqueue) == 0:\n",
    "        return ([], np.nan)\n",
    "    \n",
    "    #Search the first page of results for the author's name\n",
    "    #Use only first author if multiple\n",
    "        \n",
    "    for i in range(len(itemqueue)):\n",
    "        book_list.append(itemqueue[i].text.split('\\n'))\n",
    "        book_list_ap = list()\n",
    "    for i in range(0, len(book_list)):\n",
    "         book_list_ap.append((book_list[i][0],book_list[i][1],img[i].get_property(\"src\")))\n",
    "    for book in book_list_ap:\n",
    "        if f\"by {author.split(' &')[0]}\" in book[1]:\n",
    "            book_id = book[2].split('/')[-1].split('.')[0]\n",
    "            break\n",
    "            \n",
    "    #Sometimes, a book's title is so common that the correct version isn't on the first page\n",
    "    #If that happens, try putting the author into the search bar\n",
    "    #And searching the first page for the correct title\n",
    "    \n",
    "    if book_id == -1:\n",
    "        browser.get('http://www.goodreads.com/search?q=&qid=')\n",
    "        search_book = browser.find_element(By.ID, value='search_query_main')\n",
    "        search_book.send_keys(author)\n",
    "        search_book.submit()\n",
    "        sleep(random.uniform(10,20))\n",
    "        itemqueue = browser.find_elements(By.XPATH, value=\"//table/tbody/tr[contains(@itemtype, 'http://schema.org/Book')]\")\n",
    "        img = browser.find_elements(By.CLASS_NAME, value=\"bookCover\")\n",
    "        book_list = list()\n",
    "        for i in range(len(itemqueue)):\n",
    "            book_list.append(itemqueue[i].text.split('\\n'))\n",
    "            book_list_ap = list()\n",
    "        for i in range(0, len(book_list)):\n",
    "             book_list_ap.append((book_list[i][0],book_list[i][1],img[i].get_property(\"src\")))\n",
    "        for book in book_list_ap:\n",
    "            if title in book[0]:\n",
    "                book_id = book[2].split('/')[-1].split('.')[0]\n",
    "                break\n",
    "    \n",
    "    #If that doesn't work, return an empty list. \n",
    "    if book_id == -1:\n",
    "        return ([], np.nan)\n",
    "        \n",
    "        \n",
    "    book_url = f'https://www.goodreads.com/book/show/{book_id}'\n",
    "    browser.get(book_url)\n",
    "    genres = browser.find_elements(By.XPATH, value=\"//span[contains(@class, 'BookPageMetadataSection__genreButton')]\")\n",
    "    try: \n",
    "        datestring = browser.find_element(By.CSS_SELECTOR, \".FeaturedDetails > p:nth-child(2)\")\n",
    "        year = int(datestring.text[-4:])\n",
    "    except NoSuchElementException:\n",
    "        year = np.nan\n",
    "    except ValueError:\n",
    "        year = np.nan\n",
    "    sleep(random.uniform(10,20))\n",
    "    return ([genre.text for genre in genres], year)"
   ]
  },
  {
   "cell_type": "code",
   "execution_count": 3,
   "id": "9db5fbd7",
   "metadata": {},
   "outputs": [],
   "source": [
    "def get_info(book_dict):\n",
    "    '''Given a dict containing the title and author of a book in the list,\n",
    "    returns a dictionary of prosecraft's analysis about the book,\n",
    "    as well as a list of genres and the publication year from Goodreads'''\n",
    "    title = book_dict['t']\n",
    "    author = book_dict['a']\n",
    "    #Get rid of special characters in URL\n",
    "    chars_to_remove = [':', '’', '.', \",\", '“', '”']\n",
    "    info = {'title': title, 'author': author}\n",
    "    title = title.replace('/', '-')\n",
    "    URL = f\"{author}/{title}/\"\n",
    "    for char in chars_to_remove: \n",
    "        URL = URL.replace(char, '')\n",
    "    URL = URL.replace('&', 'and').replace(' ','-').lower()\n",
    "    URL = \"http://prosecraft.io/library/\" + URL\n",
    "    \n",
    "    #Get data from Prosecraft and turn it into a dict\n",
    "    page = requests.get(URL)\n",
    "    soup = BeautifulSoup(page.content, \"html.parser\")\n",
    "    headings = soup.find_all(\"div\", {\"class\": \"book-info-metric-heading\"})\n",
    "    values = soup.find_all(\"div\", {\"class\": \"book-info-metric-value\"})\n",
    "    for heading, value in zip(headings, values):\n",
    "        info[heading.text] = float(value.text.strip('%').replace(',',''))\n",
    "    \n",
    "    #Get genre data from Goodreads and include it as a list\n",
    "    info['genre'], info['year'] = get_genres(info['title'], info['author'])\n",
    "    \n",
    "    return info"
   ]
  },
  {
   "cell_type": "code",
   "execution_count": 4,
   "id": "7f86c778",
   "metadata": {},
   "outputs": [],
   "source": [
    "with open('book_list.json', 'r') as lst:\n",
    "    book_list = json.load(lst)\n"
   ]
  },
  {
   "cell_type": "code",
   "execution_count": 5,
   "id": "cbeb569f",
   "metadata": {},
   "outputs": [],
   "source": [
    "with open('counter.txt','r') as counter:\n",
    "    book_count = int(counter.read())"
   ]
  },
  {
   "cell_type": "code",
   "execution_count": 18,
   "id": "f01b5206",
   "metadata": {},
   "outputs": [],
   "source": [
    "with open ('counter.txt','w') as counter:\n",
    "    counter.write(str(book_count))"
   ]
  },
  {
   "cell_type": "code",
   "execution_count": 7,
   "id": "2bc3b0cd",
   "metadata": {},
   "outputs": [],
   "source": [
    "#Fill in my Goodreads username and password from the .env\n",
    "user_name = os.environ.get('USER')\n",
    "password = os.environ.get('PASSWORD')\n",
    "\n",
    "#This is just the URL I get when I go to goodreads and select log in by email.\n",
    "login_url = os.environ.get('URL')"
   ]
  },
  {
   "cell_type": "code",
   "execution_count": 8,
   "id": "d5db1fd3",
   "metadata": {},
   "outputs": [],
   "source": [
    "#Here I start up a headless Firefox browser through Selenium\n",
    "s = Service(\"geckodriver.exe\")\n",
    "opts=Options()\n",
    "opts.add_argument('-headless')\n",
    "browser = webdriver.Firefox(service=s)\n",
    "browser.get(login_url)"
   ]
  },
  {
   "cell_type": "code",
   "execution_count": 9,
   "id": "5dd24c63",
   "metadata": {},
   "outputs": [],
   "source": [
    "# Here I log into goodreads\n",
    "log_email = browser.find_element(By.ID, value=\"ap_email\")\n",
    "log_pwd = browser.find_element(By.ID, value=\"ap_password\")\n",
    "log_email.send_keys(user_name)\n",
    "log_pwd.send_keys(password)\n",
    "log_pwd.submit()\n",
    "sleep(5)"
   ]
  },
  {
   "cell_type": "code",
   "execution_count": 10,
   "id": "d27948a8",
   "metadata": {},
   "outputs": [],
   "source": [
    "dict_keys = ['title', 'author', 'total words', 'vividness', 'passive voice',\n",
    "       'all adverbs', 'ly-adverbs', 'non-ly-adverbs', 'genre', 'year']"
   ]
  },
  {
   "cell_type": "code",
   "execution_count": 16,
   "id": "f606a755",
   "metadata": {
    "scrolled": false
   },
   "outputs": [
    {
     "ename": "KeyboardInterrupt",
     "evalue": "",
     "output_type": "error",
     "traceback": [
      "\u001b[1;31m---------------------------------------------------------------------------\u001b[0m",
      "\u001b[1;31mKeyboardInterrupt\u001b[0m                         Traceback (most recent call last)",
      "Input \u001b[1;32mIn [16]\u001b[0m, in \u001b[0;36m<cell line: 1>\u001b[1;34m()\u001b[0m\n\u001b[0;32m      4\u001b[0m \u001b[38;5;28;01mfor\u001b[39;00m i \u001b[38;5;129;01min\u001b[39;00m \u001b[38;5;28mrange\u001b[39m(\u001b[38;5;241m25000\u001b[39m):\n\u001b[0;32m      5\u001b[0m     \u001b[38;5;28;01mtry\u001b[39;00m: \n\u001b[1;32m----> 6\u001b[0m         next_book \u001b[38;5;241m=\u001b[39m \u001b[43mget_info\u001b[49m\u001b[43m(\u001b[49m\u001b[43mbook_list\u001b[49m\u001b[43m[\u001b[49m\u001b[43mbook_count\u001b[49m\u001b[43m]\u001b[49m\u001b[43m)\u001b[49m\n\u001b[0;32m      7\u001b[0m         writer\u001b[38;5;241m.\u001b[39mwriterow(next_book)\n\u001b[0;32m      8\u001b[0m         book_count \u001b[38;5;241m+\u001b[39m\u001b[38;5;241m=\u001b[39m \u001b[38;5;241m1\u001b[39m\n",
      "Input \u001b[1;32mIn [3]\u001b[0m, in \u001b[0;36mget_info\u001b[1;34m(book_dict)\u001b[0m\n\u001b[0;32m     23\u001b[0m     info[heading\u001b[38;5;241m.\u001b[39mtext] \u001b[38;5;241m=\u001b[39m \u001b[38;5;28mfloat\u001b[39m(value\u001b[38;5;241m.\u001b[39mtext\u001b[38;5;241m.\u001b[39mstrip(\u001b[38;5;124m'\u001b[39m\u001b[38;5;124m%\u001b[39m\u001b[38;5;124m'\u001b[39m)\u001b[38;5;241m.\u001b[39mreplace(\u001b[38;5;124m'\u001b[39m\u001b[38;5;124m,\u001b[39m\u001b[38;5;124m'\u001b[39m,\u001b[38;5;124m'\u001b[39m\u001b[38;5;124m'\u001b[39m))\n\u001b[0;32m     25\u001b[0m \u001b[38;5;66;03m#Get genre data from Goodreads and include it as a list\u001b[39;00m\n\u001b[1;32m---> 26\u001b[0m info[\u001b[38;5;124m'\u001b[39m\u001b[38;5;124mgenre\u001b[39m\u001b[38;5;124m'\u001b[39m], info[\u001b[38;5;124m'\u001b[39m\u001b[38;5;124myear\u001b[39m\u001b[38;5;124m'\u001b[39m] \u001b[38;5;241m=\u001b[39m \u001b[43mget_genres\u001b[49m\u001b[43m(\u001b[49m\u001b[43minfo\u001b[49m\u001b[43m[\u001b[49m\u001b[38;5;124;43m'\u001b[39;49m\u001b[38;5;124;43mtitle\u001b[39;49m\u001b[38;5;124;43m'\u001b[39;49m\u001b[43m]\u001b[49m\u001b[43m,\u001b[49m\u001b[43m \u001b[49m\u001b[43minfo\u001b[49m\u001b[43m[\u001b[49m\u001b[38;5;124;43m'\u001b[39;49m\u001b[38;5;124;43mauthor\u001b[39;49m\u001b[38;5;124;43m'\u001b[39;49m\u001b[43m]\u001b[49m\u001b[43m)\u001b[49m\n\u001b[0;32m     28\u001b[0m \u001b[38;5;28;01mreturn\u001b[39;00m info\n",
      "Input \u001b[1;32mIn [14]\u001b[0m, in \u001b[0;36mget_genres\u001b[1;34m(title, author)\u001b[0m\n\u001b[0;32m     71\u001b[0m \u001b[38;5;28;01mexcept\u001b[39;00m \u001b[38;5;167;01mValueError\u001b[39;00m:\n\u001b[0;32m     72\u001b[0m     year \u001b[38;5;241m=\u001b[39m np\u001b[38;5;241m.\u001b[39mnan\n\u001b[1;32m---> 73\u001b[0m \u001b[43msleep\u001b[49m\u001b[43m(\u001b[49m\u001b[43mrandom\u001b[49m\u001b[38;5;241;43m.\u001b[39;49m\u001b[43muniform\u001b[49m\u001b[43m(\u001b[49m\u001b[38;5;241;43m10\u001b[39;49m\u001b[43m,\u001b[49m\u001b[38;5;241;43m20\u001b[39;49m\u001b[43m)\u001b[49m\u001b[43m)\u001b[49m\n\u001b[0;32m     74\u001b[0m \u001b[38;5;28;01mreturn\u001b[39;00m ([genre\u001b[38;5;241m.\u001b[39mtext \u001b[38;5;28;01mfor\u001b[39;00m genre \u001b[38;5;129;01min\u001b[39;00m genres], year)\n",
      "\u001b[1;31mKeyboardInterrupt\u001b[0m: "
     ]
    }
   ],
   "source": [
    "with open('book_data.csv', 'a', newline='',encoding=\"utf-8\") as data:\n",
    "    fail_count = 0\n",
    "    writer = csv.DictWriter(data, dict_keys)\n",
    "    for i in range(25000):\n",
    "        try: \n",
    "            next_book = get_info(book_list[book_count])\n",
    "            writer.writerow(next_book)\n",
    "            book_count += 1\n",
    "        except NoSuchElementException:\n",
    "            book_trials = 1\n",
    "            fail_count += 1\n",
    "            while book_trials < 3:\n",
    "                sleep(random.uniform(10,20))\n",
    "                try: \n",
    "                    next_book = get_info(book_list[book_count])\n",
    "                    writer.writerow(next_book)\n",
    "                    book_count += 1\n",
    "                    break\n",
    "                except NoSuchElementException:\n",
    "                    book_trials += 1\n",
    "                fail_count += 1\n",
    "            book_count += 1\n",
    "        except requests.exceptions.ConnectionError:\n",
    "            sleep(120)\n",
    "        except WebDriverException:\n",
    "            sleep(120)\n",
    "        except IndexError:\n",
    "            break\n",
    "    \n",
    "    "
   ]
  },
  {
   "cell_type": "code",
   "execution_count": 17,
   "id": "03719c0d",
   "metadata": {},
   "outputs": [
    {
     "data": {
      "text/plain": [
       "10128"
      ]
     },
     "execution_count": 17,
     "metadata": {},
     "output_type": "execute_result"
    }
   ],
   "source": [
    "book_count"
   ]
  },
  {
   "cell_type": "code",
   "execution_count": null,
   "id": "87126708",
   "metadata": {},
   "outputs": [],
   "source": [
    "# I realized after adding about 50 books that the publication year, \n",
    "#in addition to the linguistic data, might be predictive of genre. \n",
    "# This was the function where I added a year to each of the titles I'd already added.\n",
    "# After that, I incorporated it into the genres function for future books. \n",
    "\n",
    "\n",
    "\n",
    "#def add_year(title, author):\n",
    "#     book_id = -1\n",
    "#     browser.get('http://www.goodreads.com/search?q=&qid=')\n",
    "#     try: \n",
    "#         search_book = browser.find_element(By.ID, value='search_query_main')\n",
    "#     except NoSuchElementException: \n",
    "#         return(add_year(title, author))\n",
    "#     search_book.send_keys(title)\n",
    "#     search_book.submit()\n",
    "#     sleep(random.uniform(10,20))\n",
    "#     itemqueue = browser.find_elements(By.XPATH, value=\"//table/tbody/tr[contains(@itemtype, 'http://schema.org/Book')]\")\n",
    "#     img = browser.find_elements(By.CLASS_NAME, value=\"bookCover\")\n",
    "#     book_list = list()\n",
    "    \n",
    "    \n",
    "#     #Search the first page of results for the author's name\n",
    "#     #Use only first author if multiple\n",
    "#     for i in range(len(itemqueue)):\n",
    "#         book_list.append(itemqueue[i].text.split('\\n'))\n",
    "#         book_list_ap = list()\n",
    "#     for i in range(0, len(book_list)):\n",
    "#          book_list_ap.append((book_list[i][0],book_list[i][1],img[i].get_property(\"src\")))\n",
    "#     for book in book_list_ap:\n",
    "#         if f\"by {author.split(' &')[0]}\" in book[1]:\n",
    "#             book_id = book[2].split('/')[-1].split('.')[0]\n",
    "#             break\n",
    "            \n",
    "#     #Sometimes, a book's title is so common that the correct version isn't on the first page\n",
    "#     #If that happens, try putting the author into the search bar\n",
    "#     #And searching the first page for the correct title\n",
    "    \n",
    "#     if book_id == -1:\n",
    "#         browser.get('http://www.goodreads.com/search?q=&qid=')\n",
    "#         search_book = browser.find_element(By.ID, value='search_query_main')\n",
    "#         search_book.send_keys(author)\n",
    "#         search_book.submit()\n",
    "#         sleep(random.uniform(10,20))\n",
    "#         itemqueue = browser.find_elements(By.XPATH, value=\"//table/tbody/tr[contains(@itemtype, 'http://schema.org/Book')]\")\n",
    "#         img = browser.find_elements(By.CLASS_NAME, value=\"bookCover\")\n",
    "#         book_list = list()\n",
    "#         for i in range(len(itemqueue)):\n",
    "#             book_list.append(itemqueue[i].text.split('\\n'))\n",
    "#             book_list_ap = list()\n",
    "#         for i in range(0, len(book_list)):\n",
    "#              book_list_ap.append((book_list[i][0],book_list[i][1],img[i].get_property(\"src\")))\n",
    "#         for book in book_list_ap:\n",
    "#             if title in book[0]:\n",
    "#                 book_id = book[2].split('/')[-1].split('.')[0]\n",
    "#                 break\n",
    "    \n",
    "#     #If that doesn't work, return an empty list. \n",
    "#     if book_id == -1:\n",
    "#         return np.nan\n",
    "    \n",
    "#     book_url = f'https://www.goodreads.com/book/show/{book_id}'\n",
    "#     browser.get(book_url)\n",
    "#     try: \n",
    "#         datestring = browser.find_element(By.CSS_SELECTOR, \".FeaturedDetails > p:nth-child(2)\")\n",
    "#     except NoSuchElementException: \n",
    "#         return(add_year(title, author))\n",
    "    \n",
    "#     year = int(datestring.text[-4:])\n",
    "#     sleep(random.uniform(10,20))\n",
    "#     return year"
   ]
  },
  {
   "cell_type": "code",
   "execution_count": null,
   "id": "24b7b539",
   "metadata": {},
   "outputs": [],
   "source": [
    "browser.quit()"
   ]
  },
  {
   "cell_type": "code",
   "execution_count": null,
   "id": "97c8e0ab",
   "metadata": {},
   "outputs": [],
   "source": []
  }
 ],
 "metadata": {
  "kernelspec": {
   "display_name": "Python 3 (ipykernel)",
   "language": "python",
   "name": "python3"
  },
  "language_info": {
   "codemirror_mode": {
    "name": "ipython",
    "version": 3
   },
   "file_extension": ".py",
   "mimetype": "text/x-python",
   "name": "python",
   "nbconvert_exporter": "python",
   "pygments_lexer": "ipython3",
   "version": "3.10.6"
  }
 },
 "nbformat": 4,
 "nbformat_minor": 5
}
