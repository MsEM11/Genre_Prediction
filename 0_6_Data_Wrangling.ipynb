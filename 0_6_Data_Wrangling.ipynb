{
 "cells": [
  {
   "cell_type": "markdown",
   "id": "816ac267",
   "metadata": {},
   "source": [
    "This Notebook is to try to fill in missing values, where possible. "
   ]
  },
  {
   "cell_type": "code",
   "execution_count": 1,
   "id": "0270e70f",
   "metadata": {},
   "outputs": [],
   "source": [
    "import requests\n",
    "import json\n",
    "import csv\n",
    "from bs4 import BeautifulSoup\n",
    "import pandas as pd\n",
    "import numpy as np\n",
    "import random\n",
    "import os\n",
    "import string\n",
    "from time import sleep\n",
    "import selenium\n",
    "from selenium import webdriver\n",
    "from selenium.webdriver.common.by import By\n",
    "from selenium.webdriver.common.keys import Keys\n",
    "from selenium.webdriver import firefox\n",
    "from selenium.webdriver.firefox.options import Options\n",
    "from selenium.webdriver.firefox.service import Service\n",
    "from selenium.common.exceptions import NoSuchElementException\n",
    "from selenium.common.exceptions import WebDriverException\n",
    "from dotenv import load_dotenv\n",
    "load_dotenv();"
   ]
  },
  {
   "cell_type": "code",
   "execution_count": 2,
   "id": "b0d3afeb",
   "metadata": {},
   "outputs": [],
   "source": [
    "books = pd.read_csv('book_data_clean.csv')"
   ]
  },
  {
   "cell_type": "markdown",
   "id": "222a75ae",
   "metadata": {},
   "source": [
    "First, let's drop our duplicate rows."
   ]
  },
  {
   "cell_type": "code",
   "execution_count": 3,
   "id": "422a6c22",
   "metadata": {},
   "outputs": [
    {
     "data": {
      "text/plain": [
       "24971"
      ]
     },
     "execution_count": 3,
     "metadata": {},
     "output_type": "execute_result"
    }
   ],
   "source": [
    "len(books)"
   ]
  },
  {
   "cell_type": "code",
   "execution_count": 4,
   "id": "b7ec6a3e",
   "metadata": {},
   "outputs": [],
   "source": [
    "books = books.drop_duplicates()"
   ]
  },
  {
   "cell_type": "code",
   "execution_count": 5,
   "id": "8391cd17",
   "metadata": {},
   "outputs": [
    {
     "data": {
      "text/plain": [
       "24861"
      ]
     },
     "execution_count": 5,
     "metadata": {},
     "output_type": "execute_result"
    }
   ],
   "source": [
    "len(books)"
   ]
  },
  {
   "cell_type": "code",
   "execution_count": 6,
   "id": "1efd45b4",
   "metadata": {
    "scrolled": true
   },
   "outputs": [
    {
     "data": {
      "text/html": [
       "<div>\n",
       "<style scoped>\n",
       "    .dataframe tbody tr th:only-of-type {\n",
       "        vertical-align: middle;\n",
       "    }\n",
       "\n",
       "    .dataframe tbody tr th {\n",
       "        vertical-align: top;\n",
       "    }\n",
       "\n",
       "    .dataframe thead th {\n",
       "        text-align: right;\n",
       "    }\n",
       "</style>\n",
       "<table border=\"1\" class=\"dataframe\">\n",
       "  <thead>\n",
       "    <tr style=\"text-align: right;\">\n",
       "      <th></th>\n",
       "      <th>title</th>\n",
       "      <th>author</th>\n",
       "      <th>total words</th>\n",
       "      <th>vividness</th>\n",
       "      <th>passive voice</th>\n",
       "      <th>all adverbs</th>\n",
       "      <th>ly-adverbs</th>\n",
       "      <th>non-ly-adverbs</th>\n",
       "      <th>genre</th>\n",
       "      <th>year</th>\n",
       "    </tr>\n",
       "  </thead>\n",
       "  <tbody>\n",
       "    <tr>\n",
       "      <th>0</th>\n",
       "      <td>The Vanished Birds</td>\n",
       "      <td>Simon Jimenez</td>\n",
       "      <td>124205.0</td>\n",
       "      <td>55.18</td>\n",
       "      <td>6.37</td>\n",
       "      <td>1.95</td>\n",
       "      <td>0.36</td>\n",
       "      <td>1.58</td>\n",
       "      <td>['Science Fiction', 'Fiction', 'Fantasy', 'Que...</td>\n",
       "      <td>2020.0</td>\n",
       "    </tr>\n",
       "    <tr>\n",
       "      <th>1</th>\n",
       "      <td>The Price of Honor</td>\n",
       "      <td>Jonathan P. Brazee</td>\n",
       "      <td>77253.0</td>\n",
       "      <td>35.35</td>\n",
       "      <td>8.71</td>\n",
       "      <td>2.63</td>\n",
       "      <td>0.71</td>\n",
       "      <td>1.92</td>\n",
       "      <td>['Science Fiction']</td>\n",
       "      <td>2017.0</td>\n",
       "    </tr>\n",
       "    <tr>\n",
       "      <th>2</th>\n",
       "      <td>The Mathematical Murder of Innocence</td>\n",
       "      <td>Michael Carter</td>\n",
       "      <td>37688.0</td>\n",
       "      <td>24.08</td>\n",
       "      <td>8.11</td>\n",
       "      <td>4.13</td>\n",
       "      <td>1.56</td>\n",
       "      <td>2.58</td>\n",
       "      <td>[]</td>\n",
       "      <td>2020.0</td>\n",
       "    </tr>\n",
       "    <tr>\n",
       "      <th>3</th>\n",
       "      <td>The Case of the Baker Street Irregulars</td>\n",
       "      <td>Anthony Boucher</td>\n",
       "      <td>80557.0</td>\n",
       "      <td>32.33</td>\n",
       "      <td>8.41</td>\n",
       "      <td>3.72</td>\n",
       "      <td>1.64</td>\n",
       "      <td>2.08</td>\n",
       "      <td>['Mystery', 'Fiction', 'Crime', 'Humor', 'Clas...</td>\n",
       "      <td>1940.0</td>\n",
       "    </tr>\n",
       "    <tr>\n",
       "      <th>4</th>\n",
       "      <td>Zombie Nation</td>\n",
       "      <td>Charlie Dalton</td>\n",
       "      <td>64396.0</td>\n",
       "      <td>51.11</td>\n",
       "      <td>8.22</td>\n",
       "      <td>2.21</td>\n",
       "      <td>0.58</td>\n",
       "      <td>1.63</td>\n",
       "      <td>[]</td>\n",
       "      <td>2020.0</td>\n",
       "    </tr>\n",
       "  </tbody>\n",
       "</table>\n",
       "</div>"
      ],
      "text/plain": [
       "                                     title              author  total words   \n",
       "0                       The Vanished Birds       Simon Jimenez     124205.0  \\\n",
       "1                       The Price of Honor  Jonathan P. Brazee      77253.0   \n",
       "2     The Mathematical Murder of Innocence      Michael Carter      37688.0   \n",
       "3  The Case of the Baker Street Irregulars     Anthony Boucher      80557.0   \n",
       "4                            Zombie Nation      Charlie Dalton      64396.0   \n",
       "\n",
       "   vividness  passive voice  all adverbs  ly-adverbs  non-ly-adverbs   \n",
       "0      55.18           6.37         1.95        0.36            1.58  \\\n",
       "1      35.35           8.71         2.63        0.71            1.92   \n",
       "2      24.08           8.11         4.13        1.56            2.58   \n",
       "3      32.33           8.41         3.72        1.64            2.08   \n",
       "4      51.11           8.22         2.21        0.58            1.63   \n",
       "\n",
       "                                               genre    year  \n",
       "0  ['Science Fiction', 'Fiction', 'Fantasy', 'Que...  2020.0  \n",
       "1                                ['Science Fiction']  2017.0  \n",
       "2                                                 []  2020.0  \n",
       "3  ['Mystery', 'Fiction', 'Crime', 'Humor', 'Clas...  1940.0  \n",
       "4                                                 []  2020.0  "
      ]
     },
     "execution_count": 6,
     "metadata": {},
     "output_type": "execute_result"
    }
   ],
   "source": [
    "books.head()"
   ]
  },
  {
   "cell_type": "markdown",
   "id": "1f333da6",
   "metadata": {},
   "source": [
    "I've noticed that some books are missing Prosecraft data. Let's find why."
   ]
  },
  {
   "cell_type": "code",
   "execution_count": 7,
   "id": "1b3235d1",
   "metadata": {},
   "outputs": [],
   "source": [
    "missing_prosecraft = books[books['vividness'].isna()].copy()"
   ]
  },
  {
   "cell_type": "code",
   "execution_count": 8,
   "id": "577bd94c",
   "metadata": {},
   "outputs": [
    {
     "data": {
      "text/plain": [
       "410"
      ]
     },
     "execution_count": 8,
     "metadata": {},
     "output_type": "execute_result"
    }
   ],
   "source": [
    "len(missing_prosecraft)"
   ]
  },
  {
   "cell_type": "code",
   "execution_count": 9,
   "id": "95f41d27",
   "metadata": {
    "scrolled": true
   },
   "outputs": [
    {
     "data": {
      "text/html": [
       "<div>\n",
       "<style scoped>\n",
       "    .dataframe tbody tr th:only-of-type {\n",
       "        vertical-align: middle;\n",
       "    }\n",
       "\n",
       "    .dataframe tbody tr th {\n",
       "        vertical-align: top;\n",
       "    }\n",
       "\n",
       "    .dataframe thead th {\n",
       "        text-align: right;\n",
       "    }\n",
       "</style>\n",
       "<table border=\"1\" class=\"dataframe\">\n",
       "  <thead>\n",
       "    <tr style=\"text-align: right;\">\n",
       "      <th></th>\n",
       "      <th>title</th>\n",
       "      <th>author</th>\n",
       "      <th>total words</th>\n",
       "      <th>vividness</th>\n",
       "      <th>passive voice</th>\n",
       "      <th>all adverbs</th>\n",
       "      <th>ly-adverbs</th>\n",
       "      <th>non-ly-adverbs</th>\n",
       "      <th>genre</th>\n",
       "      <th>year</th>\n",
       "    </tr>\n",
       "  </thead>\n",
       "  <tbody>\n",
       "    <tr>\n",
       "      <th>176</th>\n",
       "      <td>Infinite Baseball</td>\n",
       "      <td>Alva No'</td>\n",
       "      <td>NaN</td>\n",
       "      <td>NaN</td>\n",
       "      <td>NaN</td>\n",
       "      <td>NaN</td>\n",
       "      <td>NaN</td>\n",
       "      <td>NaN</td>\n",
       "      <td>['Baseball', 'Sports', 'Nonfiction', 'Philosop...</td>\n",
       "      <td>2019.0</td>\n",
       "    </tr>\n",
       "    <tr>\n",
       "      <th>233</th>\n",
       "      <td>The Little Buddhist Monk</td>\n",
       "      <td>César Aira</td>\n",
       "      <td>NaN</td>\n",
       "      <td>NaN</td>\n",
       "      <td>NaN</td>\n",
       "      <td>NaN</td>\n",
       "      <td>NaN</td>\n",
       "      <td>NaN</td>\n",
       "      <td>['Fiction', 'Latin American', 'Contemporary', ...</td>\n",
       "      <td>2017.0</td>\n",
       "    </tr>\n",
       "    <tr>\n",
       "      <th>329</th>\n",
       "      <td>The Fire Engine That Disappeared</td>\n",
       "      <td>Maj Sjöwall &amp; Per Wahlöö</td>\n",
       "      <td>NaN</td>\n",
       "      <td>NaN</td>\n",
       "      <td>NaN</td>\n",
       "      <td>NaN</td>\n",
       "      <td>NaN</td>\n",
       "      <td>NaN</td>\n",
       "      <td>['Mystery', 'Crime', 'Fiction', 'Scandinavian ...</td>\n",
       "      <td>1969.0</td>\n",
       "    </tr>\n",
       "    <tr>\n",
       "      <th>388</th>\n",
       "      <td>How to Turn Into a Bird</td>\n",
       "      <td>María José Ferrada</td>\n",
       "      <td>NaN</td>\n",
       "      <td>NaN</td>\n",
       "      <td>NaN</td>\n",
       "      <td>NaN</td>\n",
       "      <td>NaN</td>\n",
       "      <td>NaN</td>\n",
       "      <td>['Fiction', 'Contemporary', 'Coming Of Age', '...</td>\n",
       "      <td>2022.0</td>\n",
       "    </tr>\n",
       "    <tr>\n",
       "      <th>588</th>\n",
       "      <td>The Silence of the White City</td>\n",
       "      <td>Eva García Sáenz</td>\n",
       "      <td>NaN</td>\n",
       "      <td>NaN</td>\n",
       "      <td>NaN</td>\n",
       "      <td>NaN</td>\n",
       "      <td>NaN</td>\n",
       "      <td>NaN</td>\n",
       "      <td>['Thriller', 'Mystery', 'Crime', 'Fiction', 'S...</td>\n",
       "      <td>2016.0</td>\n",
       "    </tr>\n",
       "  </tbody>\n",
       "</table>\n",
       "</div>"
      ],
      "text/plain": [
       "                                title                    author  total words   \n",
       "176                 Infinite Baseball                  Alva No'          NaN  \\\n",
       "233          The Little Buddhist Monk               César Aira          NaN   \n",
       "329  The Fire Engine That Disappeared  Maj Sjöwall & Per Wahlöö          NaN   \n",
       "388           How to Turn Into a Bird      María José Ferrada          NaN   \n",
       "588     The Silence of the White City        Eva García Sáenz          NaN   \n",
       "\n",
       "     vividness  passive voice  all adverbs  ly-adverbs  non-ly-adverbs   \n",
       "176        NaN            NaN          NaN         NaN             NaN  \\\n",
       "233        NaN            NaN          NaN         NaN             NaN   \n",
       "329        NaN            NaN          NaN         NaN             NaN   \n",
       "388        NaN            NaN          NaN         NaN             NaN   \n",
       "588        NaN            NaN          NaN         NaN             NaN   \n",
       "\n",
       "                                                 genre    year  \n",
       "176  ['Baseball', 'Sports', 'Nonfiction', 'Philosop...  2019.0  \n",
       "233  ['Fiction', 'Latin American', 'Contemporary', ...  2017.0  \n",
       "329  ['Mystery', 'Crime', 'Fiction', 'Scandinavian ...  1969.0  \n",
       "388  ['Fiction', 'Contemporary', 'Coming Of Age', '...  2022.0  \n",
       "588  ['Thriller', 'Mystery', 'Crime', 'Fiction', 'S...  2016.0  "
      ]
     },
     "execution_count": 9,
     "metadata": {},
     "output_type": "execute_result"
    }
   ],
   "source": [
    "missing_prosecraft.head()"
   ]
  },
  {
   "cell_type": "markdown",
   "id": "2b5b3d08",
   "metadata": {},
   "source": [
    "What these seem to have in common is that they contain special characters. When I check the URL of the books on Prosecraft, the accents do not appear. That's likely where the error occurred. First, I find all the characters that appear in titles"
   ]
  },
  {
   "cell_type": "code",
   "execution_count": 10,
   "id": "b683ef98",
   "metadata": {},
   "outputs": [],
   "source": [
    "alphanum = set('abcdefghijklmnopqrstuvwxyzABCDEFGHIJKLMNOPQRSTUVWXYZ1234567890')"
   ]
  },
  {
   "cell_type": "code",
   "execution_count": 11,
   "id": "26e3e8ef",
   "metadata": {},
   "outputs": [
    {
     "name": "stdout",
     "output_type": "stream",
     "text": [
      "{'í', '’', '̈', '̂', \"'\", '–', 'ô', 'ö', '/', 'Ø', 'ç', '%', 'ä', 'ō', '̇', 'ž', 'ë', 'Æ', ')', '!', 'ó', '́', 'ð', ';', '̀', 'è', 'ū', '?', 'ü', '‘', '.', ' ', 'Ž', '-', '+', ':', 'ø', '̊', 'é', ']', '̃', ',', '(', 'â', '°', 'à', '̧', '$', 'á', 'ñ', '[', '̌', '&', 'ł', '#', 'ï', '*'}\n"
     ]
    }
   ],
   "source": [
    "print(set(missing_prosecraft.title.sum()+missing_prosecraft.author.sum()).difference(alphanum))"
   ]
  },
  {
   "cell_type": "code",
   "execution_count": 12,
   "id": "7debd8ca",
   "metadata": {},
   "outputs": [],
   "source": [
    "replacements = {'à':'a','é':'e','â':'a','ç':'c','ñ':'n','Ž':'Z',\n",
    "                'ž':'z','è':'e','ö':'o','á':'a','ó':'o','ū':'u',\n",
    "                'í':'i','ô':'o','Ø':'O','ł':'l','ä':'a','ï':'i',\n",
    "                'ë':'e','ü':'u','ō':'o'}"
   ]
  },
  {
   "cell_type": "code",
   "execution_count": 13,
   "id": "f8841434",
   "metadata": {
    "scrolled": false
   },
   "outputs": [],
   "source": [
    "missing_prosecraft['author_clean'] = missing_prosecraft['author']"
   ]
  },
  {
   "cell_type": "code",
   "execution_count": 14,
   "id": "045751f7",
   "metadata": {},
   "outputs": [],
   "source": [
    "for before, after in replacements.items():\n",
    "    missing_prosecraft.author_clean = missing_prosecraft.author_clean.str.replace(before,after)"
   ]
  },
  {
   "cell_type": "code",
   "execution_count": 15,
   "id": "570e7e42",
   "metadata": {
    "scrolled": true
   },
   "outputs": [
    {
     "data": {
      "text/html": [
       "<div>\n",
       "<style scoped>\n",
       "    .dataframe tbody tr th:only-of-type {\n",
       "        vertical-align: middle;\n",
       "    }\n",
       "\n",
       "    .dataframe tbody tr th {\n",
       "        vertical-align: top;\n",
       "    }\n",
       "\n",
       "    .dataframe thead th {\n",
       "        text-align: right;\n",
       "    }\n",
       "</style>\n",
       "<table border=\"1\" class=\"dataframe\">\n",
       "  <thead>\n",
       "    <tr style=\"text-align: right;\">\n",
       "      <th></th>\n",
       "      <th>author</th>\n",
       "      <th>author_clean</th>\n",
       "    </tr>\n",
       "  </thead>\n",
       "  <tbody>\n",
       "    <tr>\n",
       "      <th>176</th>\n",
       "      <td>Alva No'</td>\n",
       "      <td>Alva No'</td>\n",
       "    </tr>\n",
       "    <tr>\n",
       "      <th>233</th>\n",
       "      <td>César Aira</td>\n",
       "      <td>César Aira</td>\n",
       "    </tr>\n",
       "    <tr>\n",
       "      <th>329</th>\n",
       "      <td>Maj Sjöwall &amp; Per Wahlöö</td>\n",
       "      <td>Maj Sjowall &amp; Per Wahloo</td>\n",
       "    </tr>\n",
       "    <tr>\n",
       "      <th>388</th>\n",
       "      <td>María José Ferrada</td>\n",
       "      <td>María José Ferrada</td>\n",
       "    </tr>\n",
       "    <tr>\n",
       "      <th>588</th>\n",
       "      <td>Eva García Sáenz</td>\n",
       "      <td>Eva García Sáenz</td>\n",
       "    </tr>\n",
       "    <tr>\n",
       "      <th>24739</th>\n",
       "      <td>Ragnar Jónasson</td>\n",
       "      <td>Ragnar Jónasson</td>\n",
       "    </tr>\n",
       "    <tr>\n",
       "      <th>24745</th>\n",
       "      <td>María Amparo Ruiz de Burton</td>\n",
       "      <td>María Amparo Ruiz de Burton</td>\n",
       "    </tr>\n",
       "    <tr>\n",
       "      <th>24783</th>\n",
       "      <td>M. L. Longworth</td>\n",
       "      <td>M. L. Longworth</td>\n",
       "    </tr>\n",
       "    <tr>\n",
       "      <th>24955</th>\n",
       "      <td>Tor Fleck</td>\n",
       "      <td>Tor Fleck</td>\n",
       "    </tr>\n",
       "    <tr>\n",
       "      <th>24970</th>\n",
       "      <td>Joe Schrieber</td>\n",
       "      <td>Joe Schrieber</td>\n",
       "    </tr>\n",
       "  </tbody>\n",
       "</table>\n",
       "</div>"
      ],
      "text/plain": [
       "                             author                  author_clean\n",
       "176                        Alva No'                      Alva No'\n",
       "233                     César Aira                   César Aira\n",
       "329        Maj Sjöwall & Per Wahlöö      Maj Sjowall & Per Wahloo\n",
       "388            María José Ferrada          María José Ferrada\n",
       "588              Eva García Sáenz            Eva García Sáenz\n",
       "24739              Ragnar Jónasson              Ragnar Jónasson\n",
       "24745  María Amparo Ruiz de Burton  María Amparo Ruiz de Burton\n",
       "24783               M. L. Longworth               M. L. Longworth\n",
       "24955                     Tor Fleck                     Tor Fleck\n",
       "24970                 Joe Schrieber                 Joe Schrieber"
      ]
     },
     "execution_count": 15,
     "metadata": {},
     "output_type": "execute_result"
    }
   ],
   "source": [
    "pd.concat([missing_prosecraft[['author','author_clean']].head(),(missing_prosecraft[['author','author_clean']].tail())])"
   ]
  },
  {
   "cell_type": "markdown",
   "id": "dc0f3c75",
   "metadata": {},
   "source": [
    "Hmm... not all of the accents are gone. Let's investigate why!"
   ]
  },
  {
   "cell_type": "code",
   "execution_count": 16,
   "id": "60c36978",
   "metadata": {},
   "outputs": [
    {
     "name": "stdout",
     "output_type": "stream",
     "text": [
      "{'’', '̈', '̂', \"'\", '̇', 'Æ', ')', '́', 'ð', '̀', ' ', '.', '-', 'ø', '̊', '̃', '(', ',', '̧', '̌', '&'}\n"
     ]
    }
   ],
   "source": [
    "print(set(missing_prosecraft.author_clean.sum()).difference(alphanum))"
   ]
  },
  {
   "cell_type": "code",
   "execution_count": 17,
   "id": "052e7a1a",
   "metadata": {},
   "outputs": [
    {
     "data": {
      "text/plain": [
       "'César Aira'"
      ]
     },
     "execution_count": 17,
     "metadata": {},
     "output_type": "execute_result"
    }
   ],
   "source": [
    "missing_prosecraft.iloc[1].author.replace('é','e')"
   ]
  },
  {
   "cell_type": "markdown",
   "id": "104448e6",
   "metadata": {},
   "source": [
    "Strange! It's almost as if it's a different character entirely. So I tried copy/pasting the accented e directly from the previous line's output, and..."
   ]
  },
  {
   "cell_type": "code",
   "execution_count": 18,
   "id": "6c6f3684",
   "metadata": {},
   "outputs": [
    {
     "data": {
      "text/plain": [
       "'Cesar Aira'"
      ]
     },
     "execution_count": 18,
     "metadata": {},
     "output_type": "execute_result"
    }
   ],
   "source": [
    "missing_prosecraft.iloc[1].author.replace('é','e')"
   ]
  },
  {
   "cell_type": "markdown",
   "id": "e1a161d5",
   "metadata": {},
   "source": [
    "Well, here's your problem!"
   ]
  },
  {
   "cell_type": "code",
   "execution_count": 19,
   "id": "1823b5d1",
   "metadata": {},
   "outputs": [
    {
     "data": {
      "text/plain": [
       "False"
      ]
     },
     "execution_count": 19,
     "metadata": {},
     "output_type": "execute_result"
    }
   ],
   "source": [
    "'é' == 'é'"
   ]
  },
  {
   "cell_type": "markdown",
   "id": "a4a4bfb6",
   "metadata": {},
   "source": [
    "Let's try running this again with the accented letters that haven't changed replaced with the correct versions."
   ]
  },
  {
   "cell_type": "code",
   "execution_count": 32,
   "id": "67b3202d",
   "metadata": {},
   "outputs": [],
   "source": [
    "corrected_replacements = {'á':'a','é':'e','ó':'o','ë':'e'}"
   ]
  },
  {
   "cell_type": "code",
   "execution_count": 21,
   "id": "9e8ac6e6",
   "metadata": {},
   "outputs": [],
   "source": [
    "for before, after in corrected_replacements.items():\n",
    "    missing_prosecraft.author_clean = missing_prosecraft.author_clean.str.replace(before,after)"
   ]
  },
  {
   "cell_type": "code",
   "execution_count": 22,
   "id": "b06b9349",
   "metadata": {},
   "outputs": [
    {
     "data": {
      "text/html": [
       "<div>\n",
       "<style scoped>\n",
       "    .dataframe tbody tr th:only-of-type {\n",
       "        vertical-align: middle;\n",
       "    }\n",
       "\n",
       "    .dataframe tbody tr th {\n",
       "        vertical-align: top;\n",
       "    }\n",
       "\n",
       "    .dataframe thead th {\n",
       "        text-align: right;\n",
       "    }\n",
       "</style>\n",
       "<table border=\"1\" class=\"dataframe\">\n",
       "  <thead>\n",
       "    <tr style=\"text-align: right;\">\n",
       "      <th></th>\n",
       "      <th>author</th>\n",
       "      <th>author_clean</th>\n",
       "    </tr>\n",
       "  </thead>\n",
       "  <tbody>\n",
       "    <tr>\n",
       "      <th>176</th>\n",
       "      <td>Alva No'</td>\n",
       "      <td>Alva No'</td>\n",
       "    </tr>\n",
       "    <tr>\n",
       "      <th>233</th>\n",
       "      <td>César Aira</td>\n",
       "      <td>Cesar Aira</td>\n",
       "    </tr>\n",
       "    <tr>\n",
       "      <th>329</th>\n",
       "      <td>Maj Sjöwall &amp; Per Wahlöö</td>\n",
       "      <td>Maj Sjowall &amp; Per Wahloo</td>\n",
       "    </tr>\n",
       "    <tr>\n",
       "      <th>388</th>\n",
       "      <td>María José Ferrada</td>\n",
       "      <td>María Jose Ferrada</td>\n",
       "    </tr>\n",
       "    <tr>\n",
       "      <th>588</th>\n",
       "      <td>Eva García Sáenz</td>\n",
       "      <td>Eva García Saenz</td>\n",
       "    </tr>\n",
       "    <tr>\n",
       "      <th>24739</th>\n",
       "      <td>Ragnar Jónasson</td>\n",
       "      <td>Ragnar Jonasson</td>\n",
       "    </tr>\n",
       "    <tr>\n",
       "      <th>24745</th>\n",
       "      <td>María Amparo Ruiz de Burton</td>\n",
       "      <td>María Amparo Ruiz de Burton</td>\n",
       "    </tr>\n",
       "    <tr>\n",
       "      <th>24783</th>\n",
       "      <td>M. L. Longworth</td>\n",
       "      <td>M. L. Longworth</td>\n",
       "    </tr>\n",
       "    <tr>\n",
       "      <th>24955</th>\n",
       "      <td>Tor Fleck</td>\n",
       "      <td>Tor Fleck</td>\n",
       "    </tr>\n",
       "    <tr>\n",
       "      <th>24970</th>\n",
       "      <td>Joe Schrieber</td>\n",
       "      <td>Joe Schrieber</td>\n",
       "    </tr>\n",
       "  </tbody>\n",
       "</table>\n",
       "</div>"
      ],
      "text/plain": [
       "                             author                  author_clean\n",
       "176                        Alva No'                      Alva No'\n",
       "233                     César Aira                    Cesar Aira\n",
       "329        Maj Sjöwall & Per Wahlöö      Maj Sjowall & Per Wahloo\n",
       "388            María José Ferrada           María Jose Ferrada\n",
       "588              Eva García Sáenz             Eva García Saenz\n",
       "24739              Ragnar Jónasson               Ragnar Jonasson\n",
       "24745  María Amparo Ruiz de Burton  María Amparo Ruiz de Burton\n",
       "24783               M. L. Longworth               M. L. Longworth\n",
       "24955                     Tor Fleck                     Tor Fleck\n",
       "24970                 Joe Schrieber                 Joe Schrieber"
      ]
     },
     "execution_count": 22,
     "metadata": {},
     "output_type": "execute_result"
    }
   ],
   "source": [
    "pd.concat([missing_prosecraft[['author','author_clean']].head(),(missing_prosecraft[['author','author_clean']].tail())])"
   ]
  },
  {
   "cell_type": "markdown",
   "id": "171e8051",
   "metadata": {},
   "source": [
    "Now let's run it for the titles!"
   ]
  },
  {
   "cell_type": "code",
   "execution_count": 23,
   "id": "fcb0ade6",
   "metadata": {},
   "outputs": [],
   "source": [
    "missing_prosecraft['title_clean'] = missing_prosecraft['title']"
   ]
  },
  {
   "cell_type": "code",
   "execution_count": 33,
   "id": "705bef12",
   "metadata": {},
   "outputs": [],
   "source": [
    "replacements.update(corrected_replacements)"
   ]
  },
  {
   "cell_type": "code",
   "execution_count": 34,
   "id": "b9500bf3",
   "metadata": {},
   "outputs": [],
   "source": [
    "for before, after in (replacements).items():\n",
    "    missing_prosecraft.title_clean = missing_prosecraft.title_clean.str.replace(before,after)"
   ]
  },
  {
   "cell_type": "code",
   "execution_count": 35,
   "id": "e66ba70e",
   "metadata": {},
   "outputs": [
    {
     "data": {
      "text/html": [
       "<div>\n",
       "<style scoped>\n",
       "    .dataframe tbody tr th:only-of-type {\n",
       "        vertical-align: middle;\n",
       "    }\n",
       "\n",
       "    .dataframe tbody tr th {\n",
       "        vertical-align: top;\n",
       "    }\n",
       "\n",
       "    .dataframe thead th {\n",
       "        text-align: right;\n",
       "    }\n",
       "</style>\n",
       "<table border=\"1\" class=\"dataframe\">\n",
       "  <thead>\n",
       "    <tr style=\"text-align: right;\">\n",
       "      <th></th>\n",
       "      <th>title</th>\n",
       "      <th>title_clean</th>\n",
       "    </tr>\n",
       "  </thead>\n",
       "  <tbody>\n",
       "    <tr>\n",
       "      <th>176</th>\n",
       "      <td>Infinite Baseball</td>\n",
       "      <td>Infinite Baseball</td>\n",
       "    </tr>\n",
       "    <tr>\n",
       "      <th>233</th>\n",
       "      <td>The Little Buddhist Monk</td>\n",
       "      <td>The Little Buddhist Monk</td>\n",
       "    </tr>\n",
       "    <tr>\n",
       "      <th>329</th>\n",
       "      <td>The Fire Engine That Disappeared</td>\n",
       "      <td>The Fire Engine That Disappeared</td>\n",
       "    </tr>\n",
       "    <tr>\n",
       "      <th>388</th>\n",
       "      <td>How to Turn Into a Bird</td>\n",
       "      <td>How to Turn Into a Bird</td>\n",
       "    </tr>\n",
       "    <tr>\n",
       "      <th>588</th>\n",
       "      <td>The Silence of the White City</td>\n",
       "      <td>The Silence of the White City</td>\n",
       "    </tr>\n",
       "    <tr>\n",
       "      <th>24739</th>\n",
       "      <td>The Mist</td>\n",
       "      <td>The Mist</td>\n",
       "    </tr>\n",
       "    <tr>\n",
       "      <th>24745</th>\n",
       "      <td>The Squatter and the Don</td>\n",
       "      <td>The Squatter and the Don</td>\n",
       "    </tr>\n",
       "    <tr>\n",
       "      <th>24783</th>\n",
       "      <td>A Noël Killing</td>\n",
       "      <td>A Noel Killing</td>\n",
       "    </tr>\n",
       "    <tr>\n",
       "      <th>24955</th>\n",
       "      <td>Agency ‘O’</td>\n",
       "      <td>Agency ‘O’</td>\n",
       "    </tr>\n",
       "    <tr>\n",
       "      <th>24970</th>\n",
       "      <td>Star Wars - The Mandalorian: Junior Novel</td>\n",
       "      <td>Star Wars - The Mandalorian: Junior Novel</td>\n",
       "    </tr>\n",
       "  </tbody>\n",
       "</table>\n",
       "</div>"
      ],
      "text/plain": [
       "                                           title   \n",
       "176                            Infinite Baseball  \\\n",
       "233                     The Little Buddhist Monk   \n",
       "329             The Fire Engine That Disappeared   \n",
       "388                      How to Turn Into a Bird   \n",
       "588                The Silence of the White City   \n",
       "24739                                   The Mist   \n",
       "24745                   The Squatter and the Don   \n",
       "24783                            A Noël Killing   \n",
       "24955                                 Agency ‘O’   \n",
       "24970  Star Wars - The Mandalorian: Junior Novel   \n",
       "\n",
       "                                     title_clean  \n",
       "176                            Infinite Baseball  \n",
       "233                     The Little Buddhist Monk  \n",
       "329             The Fire Engine That Disappeared  \n",
       "388                      How to Turn Into a Bird  \n",
       "588                The Silence of the White City  \n",
       "24739                                   The Mist  \n",
       "24745                   The Squatter and the Don  \n",
       "24783                             A Noel Killing  \n",
       "24955                                 Agency ‘O’  \n",
       "24970  Star Wars - The Mandalorian: Junior Novel  "
      ]
     },
     "execution_count": 35,
     "metadata": {},
     "output_type": "execute_result"
    }
   ],
   "source": [
    "pd.concat([missing_prosecraft[['title','title_clean']].head(),(missing_prosecraft[['title','title_clean']].tail())])"
   ]
  },
  {
   "cell_type": "markdown",
   "id": "ff3d7bda",
   "metadata": {},
   "source": [
    "We still have a number of special characters left that are probably giving us trouble. "
   ]
  },
  {
   "cell_type": "code",
   "execution_count": 41,
   "id": "ecdaa6f4",
   "metadata": {},
   "outputs": [
    {
     "name": "stdout",
     "output_type": "stream",
     "text": [
      "{'’', '̈', '̂', \"'\", '–', '/', '%', '̇', 'Æ', ')', '!', '́', 'ð', ';', '̀', '?', '‘', '.', ' ', '-', '+', ':', 'ø', '̊', ']', '̃', ',', '(', '°', '̧', '$', '[', '̌', '&', '#', '*'}\n"
     ]
    }
   ],
   "source": [
    "specials = set(missing_prosecraft.title_clean.sum()+missing_prosecraft.author_clean.sum()).difference(alphanum)\n",
    "print(special)"
   ]
  },
  {
   "cell_type": "code",
   "execution_count": 48,
   "id": "48791c68",
   "metadata": {},
   "outputs": [],
   "source": [
    "special_df = pd.DataFrame()"
   ]
  },
  {
   "cell_type": "code",
   "execution_count": 72,
   "id": "f9d54e0f",
   "metadata": {},
   "outputs": [],
   "source": [
    "#Creates a dataframe with only titles/authors whose cleaned version has special characters\n",
    "for special in specials:\n",
    "    special_df = pd.concat([special_df,missing_prosecraft[(missing_prosecraft['title_clean'].str.contains('\\\\'+special)) | \n",
    "                             (missing_prosecraft['author_clean'].str.contains('\\\\'+special))]])"
   ]
  },
  {
   "cell_type": "code",
   "execution_count": 73,
   "id": "93642992",
   "metadata": {},
   "outputs": [
    {
     "data": {
      "text/html": [
       "<div>\n",
       "<style scoped>\n",
       "    .dataframe tbody tr th:only-of-type {\n",
       "        vertical-align: middle;\n",
       "    }\n",
       "\n",
       "    .dataframe tbody tr th {\n",
       "        vertical-align: top;\n",
       "    }\n",
       "\n",
       "    .dataframe thead th {\n",
       "        text-align: right;\n",
       "    }\n",
       "</style>\n",
       "<table border=\"1\" class=\"dataframe\">\n",
       "  <thead>\n",
       "    <tr style=\"text-align: right;\">\n",
       "      <th></th>\n",
       "      <th>title</th>\n",
       "      <th>author</th>\n",
       "      <th>total words</th>\n",
       "      <th>vividness</th>\n",
       "      <th>passive voice</th>\n",
       "      <th>all adverbs</th>\n",
       "      <th>ly-adverbs</th>\n",
       "      <th>non-ly-adverbs</th>\n",
       "      <th>genre</th>\n",
       "      <th>year</th>\n",
       "      <th>author_clean</th>\n",
       "      <th>title_clean</th>\n",
       "    </tr>\n",
       "  </thead>\n",
       "  <tbody>\n",
       "    <tr>\n",
       "      <th>891</th>\n",
       "      <td>The Year’s Best Fantasy, Volume 1</td>\n",
       "      <td>Various Authors (ed, Paula Guran)</td>\n",
       "      <td>NaN</td>\n",
       "      <td>NaN</td>\n",
       "      <td>NaN</td>\n",
       "      <td>NaN</td>\n",
       "      <td>NaN</td>\n",
       "      <td>NaN</td>\n",
       "      <td>[]</td>\n",
       "      <td>NaN</td>\n",
       "      <td>Various Authors (ed, Paula Guran)</td>\n",
       "      <td>The Year’s Best Fantasy, Volume 1</td>\n",
       "    </tr>\n",
       "    <tr>\n",
       "      <th>1233</th>\n",
       "      <td>The Gravediggers’ Bread</td>\n",
       "      <td>Frédéric Dard</td>\n",
       "      <td>NaN</td>\n",
       "      <td>NaN</td>\n",
       "      <td>NaN</td>\n",
       "      <td>NaN</td>\n",
       "      <td>NaN</td>\n",
       "      <td>NaN</td>\n",
       "      <td>[]</td>\n",
       "      <td>NaN</td>\n",
       "      <td>Frederic Dard</td>\n",
       "      <td>The Gravediggers’ Bread</td>\n",
       "    </tr>\n",
       "    <tr>\n",
       "      <th>3336</th>\n",
       "      <td>Surely You’re Joking, Mr. Feynman!</td>\n",
       "      <td>Richard P. Feynman</td>\n",
       "      <td>NaN</td>\n",
       "      <td>NaN</td>\n",
       "      <td>NaN</td>\n",
       "      <td>NaN</td>\n",
       "      <td>NaN</td>\n",
       "      <td>NaN</td>\n",
       "      <td>['Science', 'Nonfiction', 'Biography', 'Physic...</td>\n",
       "      <td>1985.0</td>\n",
       "      <td>Richard P. Feynman</td>\n",
       "      <td>Surely You’re Joking, Mr. Feynman!</td>\n",
       "    </tr>\n",
       "    <tr>\n",
       "      <th>3438</th>\n",
       "      <td>Star Wars - Galaxy’s Edge: Black Spire</td>\n",
       "      <td>Delilah S. Dawson</td>\n",
       "      <td>NaN</td>\n",
       "      <td>NaN</td>\n",
       "      <td>NaN</td>\n",
       "      <td>NaN</td>\n",
       "      <td>NaN</td>\n",
       "      <td>NaN</td>\n",
       "      <td>['Star Wars', 'Science Fiction', 'Fiction', 'A...</td>\n",
       "      <td>2019.0</td>\n",
       "      <td>Delilah S. Dawson</td>\n",
       "      <td>Star Wars - Galaxy’s Edge: Black Spire</td>\n",
       "    </tr>\n",
       "    <tr>\n",
       "      <th>3596</th>\n",
       "      <td>Goosebumps: Don’t go to Sleep!</td>\n",
       "      <td>R. L. Stine</td>\n",
       "      <td>NaN</td>\n",
       "      <td>NaN</td>\n",
       "      <td>NaN</td>\n",
       "      <td>NaN</td>\n",
       "      <td>NaN</td>\n",
       "      <td>NaN</td>\n",
       "      <td>[]</td>\n",
       "      <td>NaN</td>\n",
       "      <td>R. L. Stine</td>\n",
       "      <td>Goosebumps: Don’t go to Sleep!</td>\n",
       "    </tr>\n",
       "    <tr>\n",
       "      <th>...</th>\n",
       "      <td>...</td>\n",
       "      <td>...</td>\n",
       "      <td>...</td>\n",
       "      <td>...</td>\n",
       "      <td>...</td>\n",
       "      <td>...</td>\n",
       "      <td>...</td>\n",
       "      <td>...</td>\n",
       "      <td>...</td>\n",
       "      <td>...</td>\n",
       "      <td>...</td>\n",
       "      <td>...</td>\n",
       "    </tr>\n",
       "    <tr>\n",
       "      <th>24667</th>\n",
       "      <td>Other Terrors</td>\n",
       "      <td>Various Authors (ed, Vince A. Liaguno &amp; Rena M...</td>\n",
       "      <td>NaN</td>\n",
       "      <td>NaN</td>\n",
       "      <td>NaN</td>\n",
       "      <td>NaN</td>\n",
       "      <td>NaN</td>\n",
       "      <td>NaN</td>\n",
       "      <td>['Horror', 'Short Stories', 'Anthologies', 'Fi...</td>\n",
       "      <td>2022.0</td>\n",
       "      <td>Various Authors (ed, Vince A. Liaguno &amp; Rena M...</td>\n",
       "      <td>Other Terrors</td>\n",
       "    </tr>\n",
       "    <tr>\n",
       "      <th>5383</th>\n",
       "      <td>#MurderTrending</td>\n",
       "      <td>Gretchen McNeil</td>\n",
       "      <td>NaN</td>\n",
       "      <td>NaN</td>\n",
       "      <td>NaN</td>\n",
       "      <td>NaN</td>\n",
       "      <td>NaN</td>\n",
       "      <td>NaN</td>\n",
       "      <td>['Young Adult', 'Mystery', 'Horror', 'Thriller...</td>\n",
       "      <td>2018.0</td>\n",
       "      <td>Gretchen McNeil</td>\n",
       "      <td>#MurderTrending</td>\n",
       "    </tr>\n",
       "    <tr>\n",
       "      <th>6026</th>\n",
       "      <td>Nova Project #1</td>\n",
       "      <td>Emma Trevayne</td>\n",
       "      <td>NaN</td>\n",
       "      <td>NaN</td>\n",
       "      <td>NaN</td>\n",
       "      <td>NaN</td>\n",
       "      <td>NaN</td>\n",
       "      <td>NaN</td>\n",
       "      <td>['Young Adult', 'Science Fiction', 'Dystopia',...</td>\n",
       "      <td>2016.0</td>\n",
       "      <td>Emma Trevayne</td>\n",
       "      <td>Nova Project #1</td>\n",
       "    </tr>\n",
       "    <tr>\n",
       "      <th>15172</th>\n",
       "      <td>Juror #3</td>\n",
       "      <td>James Patterson &amp; Nancy Allen</td>\n",
       "      <td>NaN</td>\n",
       "      <td>NaN</td>\n",
       "      <td>NaN</td>\n",
       "      <td>NaN</td>\n",
       "      <td>NaN</td>\n",
       "      <td>NaN</td>\n",
       "      <td>['Mystery', 'Fiction', 'Thriller', 'Mystery Th...</td>\n",
       "      <td>2018.0</td>\n",
       "      <td>James Patterson &amp; Nancy Allen</td>\n",
       "      <td>Juror #3</td>\n",
       "    </tr>\n",
       "    <tr>\n",
       "      <th>17079</th>\n",
       "      <td>The Girl Who Could Move Sh*t With Her Mind</td>\n",
       "      <td>Jackson Ford</td>\n",
       "      <td>NaN</td>\n",
       "      <td>NaN</td>\n",
       "      <td>NaN</td>\n",
       "      <td>NaN</td>\n",
       "      <td>NaN</td>\n",
       "      <td>NaN</td>\n",
       "      <td>['Science Fiction', 'Fantasy', 'Mystery', 'Fic...</td>\n",
       "      <td>2019.0</td>\n",
       "      <td>Jackson Ford</td>\n",
       "      <td>The Girl Who Could Move Sh*t With Her Mind</td>\n",
       "    </tr>\n",
       "  </tbody>\n",
       "</table>\n",
       "<p>956 rows × 12 columns</p>\n",
       "</div>"
      ],
      "text/plain": [
       "                                            title   \n",
       "891             The Year’s Best Fantasy, Volume 1  \\\n",
       "1233                      The Gravediggers’ Bread   \n",
       "3336           Surely You’re Joking, Mr. Feynman!   \n",
       "3438       Star Wars - Galaxy’s Edge: Black Spire   \n",
       "3596               Goosebumps: Don’t go to Sleep!   \n",
       "...                                           ...   \n",
       "24667                               Other Terrors   \n",
       "5383                              #MurderTrending   \n",
       "6026                              Nova Project #1   \n",
       "15172                                    Juror #3   \n",
       "17079  The Girl Who Could Move Sh*t With Her Mind   \n",
       "\n",
       "                                                  author  total words   \n",
       "891                    Various Authors (ed, Paula Guran)          NaN  \\\n",
       "1233                                     Frédéric Dard          NaN   \n",
       "3336                                  Richard P. Feynman          NaN   \n",
       "3438                                   Delilah S. Dawson          NaN   \n",
       "3596                                         R. L. Stine          NaN   \n",
       "...                                                  ...          ...   \n",
       "24667  Various Authors (ed, Vince A. Liaguno & Rena M...          NaN   \n",
       "5383                                     Gretchen McNeil          NaN   \n",
       "6026                                       Emma Trevayne          NaN   \n",
       "15172                      James Patterson & Nancy Allen          NaN   \n",
       "17079                                       Jackson Ford          NaN   \n",
       "\n",
       "       vividness  passive voice  all adverbs  ly-adverbs  non-ly-adverbs   \n",
       "891          NaN            NaN          NaN         NaN             NaN  \\\n",
       "1233         NaN            NaN          NaN         NaN             NaN   \n",
       "3336         NaN            NaN          NaN         NaN             NaN   \n",
       "3438         NaN            NaN          NaN         NaN             NaN   \n",
       "3596         NaN            NaN          NaN         NaN             NaN   \n",
       "...          ...            ...          ...         ...             ...   \n",
       "24667        NaN            NaN          NaN         NaN             NaN   \n",
       "5383         NaN            NaN          NaN         NaN             NaN   \n",
       "6026         NaN            NaN          NaN         NaN             NaN   \n",
       "15172        NaN            NaN          NaN         NaN             NaN   \n",
       "17079        NaN            NaN          NaN         NaN             NaN   \n",
       "\n",
       "                                                   genre    year   \n",
       "891                                                   []     NaN  \\\n",
       "1233                                                  []     NaN   \n",
       "3336   ['Science', 'Nonfiction', 'Biography', 'Physic...  1985.0   \n",
       "3438   ['Star Wars', 'Science Fiction', 'Fiction', 'A...  2019.0   \n",
       "3596                                                  []     NaN   \n",
       "...                                                  ...     ...   \n",
       "24667  ['Horror', 'Short Stories', 'Anthologies', 'Fi...  2022.0   \n",
       "5383   ['Young Adult', 'Mystery', 'Horror', 'Thriller...  2018.0   \n",
       "6026   ['Young Adult', 'Science Fiction', 'Dystopia',...  2016.0   \n",
       "15172  ['Mystery', 'Fiction', 'Thriller', 'Mystery Th...  2018.0   \n",
       "17079  ['Science Fiction', 'Fantasy', 'Mystery', 'Fic...  2019.0   \n",
       "\n",
       "                                            author_clean   \n",
       "891                    Various Authors (ed, Paula Guran)  \\\n",
       "1233                                       Frederic Dard   \n",
       "3336                                  Richard P. Feynman   \n",
       "3438                                   Delilah S. Dawson   \n",
       "3596                                         R. L. Stine   \n",
       "...                                                  ...   \n",
       "24667  Various Authors (ed, Vince A. Liaguno & Rena M...   \n",
       "5383                                     Gretchen McNeil   \n",
       "6026                                       Emma Trevayne   \n",
       "15172                      James Patterson & Nancy Allen   \n",
       "17079                                       Jackson Ford   \n",
       "\n",
       "                                      title_clean  \n",
       "891             The Year’s Best Fantasy, Volume 1  \n",
       "1233                      The Gravediggers’ Bread  \n",
       "3336           Surely You’re Joking, Mr. Feynman!  \n",
       "3438       Star Wars - Galaxy’s Edge: Black Spire  \n",
       "3596               Goosebumps: Don’t go to Sleep!  \n",
       "...                                           ...  \n",
       "24667                               Other Terrors  \n",
       "5383                              #MurderTrending  \n",
       "6026                              Nova Project #1  \n",
       "15172                                    Juror #3  \n",
       "17079  The Girl Who Could Move Sh*t With Her Mind  \n",
       "\n",
       "[956 rows x 12 columns]"
      ]
     },
     "execution_count": 73,
     "metadata": {},
     "output_type": "execute_result"
    }
   ],
   "source": [
    "special_df"
   ]
  },
  {
   "cell_type": "code",
   "execution_count": 71,
   "id": "4a0975fa",
   "metadata": {},
   "outputs": [
    {
     "data": {
      "text/plain": [
       "pandas.core.frame.DataFrame"
      ]
     },
     "execution_count": 71,
     "metadata": {},
     "output_type": "execute_result"
    }
   ],
   "source": [
    "type(special_df)"
   ]
  },
  {
   "cell_type": "code",
   "execution_count": 75,
   "id": "647ed8b3",
   "metadata": {},
   "outputs": [],
   "source": [
    "more_replacements = {'#':'','*':'-',',':'','(':'',')':'','&':'and','.':''}"
   ]
  },
  {
   "cell_type": "code",
   "execution_count": 76,
   "id": "85d8f69c",
   "metadata": {},
   "outputs": [],
   "source": [
    "for before, after in (replacements).items():\n",
    "    missing_prosecraft.title_clean = missing_prosecraft.title_clean.str.replace(before,after)\n",
    "    missing_prosecraft.author_clean = missing_prosecraft.author_clean.str.replace(before,after)"
   ]
  },
  {
   "cell_type": "code",
   "execution_count": 77,
   "id": "8307c066",
   "metadata": {},
   "outputs": [
    {
     "name": "stdout",
     "output_type": "stream",
     "text": [
      "*\n"
     ]
    }
   ],
   "source": [
    "specials = set(missing_prosecraft.title_clean.sum()+missing_prosecraft.author_clean.sum()).difference(alphanum)\n",
    "print(special)"
   ]
  },
  {
   "cell_type": "code",
   "execution_count": 78,
   "id": "9049997e",
   "metadata": {},
   "outputs": [
    {
     "name": "stdout",
     "output_type": "stream",
     "text": [
      "<class 'str'>\n"
     ]
    }
   ],
   "source": [
    "print(type(special))"
   ]
  },
  {
   "cell_type": "code",
   "execution_count": 80,
   "id": "0ce08851",
   "metadata": {},
   "outputs": [
    {
     "data": {
      "text/plain": [
       "True"
      ]
     },
     "execution_count": 80,
     "metadata": {},
     "output_type": "execute_result"
    }
   ],
   "source": []
  },
  {
   "cell_type": "code",
   "execution_count": null,
   "id": "fff58cc0",
   "metadata": {},
   "outputs": [],
   "source": []
  }
 ],
 "metadata": {
  "kernelspec": {
   "display_name": "Python 3 (ipykernel)",
   "language": "python",
   "name": "python3"
  },
  "language_info": {
   "codemirror_mode": {
    "name": "ipython",
    "version": 3
   },
   "file_extension": ".py",
   "mimetype": "text/x-python",
   "name": "python",
   "nbconvert_exporter": "python",
   "pygments_lexer": "ipython3",
   "version": "3.10.10"
  }
 },
 "nbformat": 4,
 "nbformat_minor": 5
}
