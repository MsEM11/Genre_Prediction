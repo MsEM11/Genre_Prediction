{
 "cells": [
  {
   "cell_type": "markdown",
   "id": "874d9030",
   "metadata": {},
   "source": [
    "## Getting the book list\n",
    "My first goal was to obtain a list of books from prosecraft.io. To see what I had to work with, I chose the 50th percentile and checked what the HTML looked like."
   ]
  },
  {
   "cell_type": "code",
   "execution_count": 1,
   "id": "125927a2",
   "metadata": {},
   "outputs": [],
   "source": [
    "import requests\n",
    "import json\n",
    "from bs4 import BeautifulSoup"
   ]
  },
  {
   "cell_type": "code",
   "execution_count": 2,
   "id": "a3282449",
   "metadata": {},
   "outputs": [],
   "source": [
    "URL = \"http://prosecraft.io/analysis/word-count/percentile/\"\n",
    "page = requests.get(URL)"
   ]
  },
  {
   "cell_type": "code",
   "execution_count": 3,
   "id": "f8898181",
   "metadata": {},
   "outputs": [
    {
     "data": {
      "text/plain": [
       "'<html>\\n<head>\\n  <meta charset=\"UTF-8\">\\n  <title>Prosecraft: Percentiles of Word Count</title>\\n  <script>\\n    var directory = [{\"a\":\"Simon Jimenez\",\"t\":\"The Vanished Birds\",\"w\":197,\"e\":\"jpg\",\"v\":124205.0},{\"a\":\"Jonathan P. Brazee\",\"t\":\"The Price of Honor\",\"w\":200,\"e\":\"jpg\",\"v\":77253.0},{\"a\":\"Michael Carter\",\"t\":\"The Mathematical Murder of Innocence\",\"w\":190,\"e\":\"jpg\",\"v\":37688.0},{\"a\":\"Anthony Boucher\",\"t\":\"The Case of the Baker Street Irregulars\",\"w\":197,\"e\":\"jpg\",\"v\":80557.0},{\"a\":\"Charlie Dalton\",\"t\":\"Zombie Nation\",\"w\":188,\"e\":\"jpg\",\"v\":64396.0},{\"a\":\"C. C. Harrington\",\"t\":\"Wildoak\",\"w\":197,\"e\":\"jpg\",\"v\":55602.0},{\"a\":\"T. M. Logan\",\"t\":\"The Holiday\",\"w\":195,\"e\":\"jpg\",\"v\":101767.0},{\"a\":\"Howard Sounes\",\"t\":\"Fab: An Intimate Life of Paul McCartney\",\"w\":225,\"e\":\"jpg\",\"v\":225785.0},{\"a\":\"Nora Roberts\",\"t\":\"Honest illusions\",\"w\":197,\"e\":\"jpg\",\"v\":163279.0},{\"a\":\"P. D. Cacek\",\"t\":\"Second Chances\",\"w\":194,\"e\":\"jpg\",\"v\":91571.0},{\"a\":\"Robertson Davies\",\"t\":\"Fifth Business\",\"w\":196,\"e\":\"jpg\"'"
      ]
     },
     "execution_count": 3,
     "metadata": {},
     "output_type": "execute_result"
    }
   ],
   "source": [
    "page.text[:1000]"
   ]
  },
  {
   "cell_type": "code",
   "execution_count": 4,
   "id": "ca429695",
   "metadata": {},
   "outputs": [],
   "source": [
    "soup = BeautifulSoup(page.content, \"html.parser\")"
   ]
  },
  {
   "cell_type": "markdown",
   "id": "1e0a989f",
   "metadata": {},
   "source": [
    "I noticed that the list of books was all contained in one variable called directory, found under the first script tag. Next, I needed to access it.\n",
    "\n",
    "Examination showed that the starting and ending points of the list of dictionaries, so I extracted the relevant string and turned it into a JSON. "
   ]
  },
  {
   "cell_type": "code",
   "execution_count": 5,
   "id": "f2b7374c",
   "metadata": {},
   "outputs": [
    {
     "data": {
      "text/plain": [
       "'\\n    var directory = [{\"a\":\"Simon Jimenez\",\"t\":\"The Vanished Birds\",\"w\":197,\"e\":\"jpg\",\"v\":124205.0},{\"a\":\"Jonathan P. Brazee\",\"t\":\"The Price of Honor\",\"w\":200,\"e\":\"jpg\",\"v\":77253.0},{\"a\":\"Michael Carter\",\"t\":\"The Mathematical Murder of Innocence\",\"w\":190,\"e\":\"jpg\",\"v\":37688.0},{\"a\":\"Anthony Boucher\",\"t\":\"The Case of the Baker Street Irregulars\",\"w\":197,\"e\":\"jpg\",\"v\":80557.0},{\"a\":\"Charlie Dalton\",\"t\":\"Zombie Nation\",\"w\":188,\"e\":\"jpg\",\"v\":64396.0},{\"a\":\"C. C. Harrington\",\"t\":\"Wildoak\",\"w\":197,\"e\":\"jpg\",\"v\":55602.0},{\"a\":\"T. M. Logan\",\"t\":\"The Holiday\",\"w\":195,\"e\":\"jpg\",\"v\":101767.0},{\"a\":\"Howard Sounes\",\"t\":\"Fab: An Intimate Life of Paul McCartney\",\"w\":225,\"e\":\"jpg\",\"v\":225785.0},{\"a\":\"Nora Roberts\",\"t\":\"Honest illusions\",\"w\":197,\"e\":\"jpg\",\"v\":163279.0},{\"a\":\"P. D. Cacek\",\"t\":\"Second Chances\",\"w\":194,\"e\":\"jpg\",\"v\":91571.0},{\"a\":\"Robertson Davies\",\"t\":\"Fifth Business\",\"w\":196,\"e\":\"jpg\",\"v\":103691.0},{\"a\":\"Ciji Ware\",\"t\":\"Spy Above the Clouds\",\"w\":196,\"e\":\"jpg\",\"v\":161061.0},{\"a\":\"Jill Le'"
      ]
     },
     "execution_count": 5,
     "metadata": {},
     "output_type": "execute_result"
    }
   ],
   "source": [
    "script = soup.find_all(\"script\")[0]\n",
    "script.text[:1000]"
   ]
  },
  {
   "cell_type": "code",
   "execution_count": 6,
   "id": "1dd15ff1",
   "metadata": {},
   "outputs": [
    {
     "data": {
      "text/plain": [
       "' [{\"a\":\"Simon Jimenez\",\"t\":\"The Vanished Birds\",\"w\":197,\"e\":\"jpg\",\"v\":124205.0},{\"a\":\"Jonathan P. Brazee\",\"t\":\"The Price of Honor\",\"w\":200,\"e\":\"jpg\",\"v\":77253.0},{\"a\":\"Michael Carter\",\"t\":\"The Mathematical Murder of Innocence\",\"w\":190,\"e\":\"jpg\",\"v\":37688.0},{\"a\":\"Anthony Boucher\",\"t\":\"The Case of the Baker Street Irregulars\",\"w\":197,\"e\":\"jpg\",\"v\":80557.0},{\"a\":\"Charlie Dalton\",\"t\":\"Zombie Nation\",\"w\":188,\"e\":\"jpg\",\"v\":64396.0},{\"a\":\"C. C. Harrington\",\"t\":\"Wildoak\",\"w\":197,\"e\":\"jpg\",\"v\":55602.0},{\"a\":\"T. M. Logan\",\"t\":\"The Holiday\",\"w\":195,\"e\":\"jpg\",\"v\":101767.0},{\"a\":\"Howard Sounes\",\"t\":\"Fab: An Intimate Life of Paul McCartney\",\"w\":225,\"e\":\"jpg\",\"v\":225785.0},{\"a\":\"Nora Roberts\",\"t\":\"Honest illusions\",\"w\":197,\"e\":\"jpg\",\"v\":163279.0},{\"a\":\"P. D. Cacek\",\"t\":\"Second Chances\",\"w\":194,\"e\":\"jpg\",\"v\":91571.0},{\"a\":\"Robertson Davies\",\"t\":\"Fifth Business\",\"w\":196,\"e\":\"jpg\",\"v\":103691.0},{\"a\":\"Ciji Ware\",\"t\":\"Spy Above the Clouds\",\"w\":196,\"e\":\"jpg\",\"v\":161061.0},{\"a\":\"Jill Lepore\",\"t\":\"If Then\",'"
      ]
     },
     "execution_count": 6,
     "metadata": {},
     "output_type": "execute_result"
    }
   ],
   "source": [
    "books = script.text.split('=')[1].split('];')[0] + ']'\n",
    "books[:1000]"
   ]
  },
  {
   "cell_type": "code",
   "execution_count": 7,
   "id": "7814f033",
   "metadata": {},
   "outputs": [],
   "source": [
    "book_data = json.loads(books)"
   ]
  },
  {
   "cell_type": "code",
   "execution_count": 8,
   "id": "ac038869",
   "metadata": {},
   "outputs": [
    {
     "data": {
      "text/plain": [
       "[{'a': 'Simon Jimenez',\n",
       "  't': 'The Vanished Birds',\n",
       "  'w': 197,\n",
       "  'e': 'jpg',\n",
       "  'v': 124205.0},\n",
       " {'a': 'Jonathan P. Brazee',\n",
       "  't': 'The Price of Honor',\n",
       "  'w': 200,\n",
       "  'e': 'jpg',\n",
       "  'v': 77253.0},\n",
       " {'a': 'Michael Carter',\n",
       "  't': 'The Mathematical Murder of Innocence',\n",
       "  'w': 190,\n",
       "  'e': 'jpg',\n",
       "  'v': 37688.0},\n",
       " {'a': 'Anthony Boucher',\n",
       "  't': 'The Case of the Baker Street Irregulars',\n",
       "  'w': 197,\n",
       "  'e': 'jpg',\n",
       "  'v': 80557.0},\n",
       " {'a': 'Charlie Dalton',\n",
       "  't': 'Zombie Nation',\n",
       "  'w': 188,\n",
       "  'e': 'jpg',\n",
       "  'v': 64396.0}]"
      ]
     },
     "execution_count": 8,
     "metadata": {},
     "output_type": "execute_result"
    }
   ],
   "source": [
    "book_data[:5]"
   ]
  },
  {
   "cell_type": "markdown",
   "id": "6a6059df",
   "metadata": {},
   "source": [
    "To test whether had worked, I selected an arbitary book. Success! "
   ]
  },
  {
   "cell_type": "code",
   "execution_count": 9,
   "id": "a94e6274",
   "metadata": {},
   "outputs": [
    {
     "data": {
      "text/plain": [
       "{'a': 'Stephen King',\n",
       " 't': 'Just After Sunset',\n",
       " 'w': 199,\n",
       " 'e': 'jpg',\n",
       " 'v': 132036.0}"
      ]
     },
     "execution_count": 9,
     "metadata": {},
     "output_type": "execute_result"
    }
   ],
   "source": [
    "book_data[50]"
   ]
  },
  {
   "cell_type": "markdown",
   "id": "38e725a5",
   "metadata": {},
   "source": [
    "I also confirmed that all 24,997 books contained in Prosecraft's database were represented.\n",
    "\n",
    "Update 3/25: More books have since been added! "
   ]
  },
  {
   "cell_type": "code",
   "execution_count": 10,
   "id": "bd579b8c",
   "metadata": {},
   "outputs": [
    {
     "data": {
      "text/plain": [
       "25090"
      ]
     },
     "execution_count": 10,
     "metadata": {},
     "output_type": "execute_result"
    }
   ],
   "source": [
    "len(book_data)"
   ]
  },
  {
   "cell_type": "markdown",
   "id": "96cf7ce9",
   "metadata": {},
   "source": [
    "Finally, I save the list for later use."
   ]
  },
  {
   "cell_type": "code",
   "execution_count": 11,
   "id": "a4a7b621",
   "metadata": {},
   "outputs": [],
   "source": [
    "with open(\"book_list.json\", \"w\") as outfile:\n",
    "    json.dump(book_data, outfile)"
   ]
  },
  {
   "cell_type": "code",
   "execution_count": null,
   "id": "2560029e",
   "metadata": {},
   "outputs": [],
   "source": []
  }
 ],
 "metadata": {
  "kernelspec": {
   "display_name": "Python 3 (ipykernel)",
   "language": "python",
   "name": "python3"
  },
  "language_info": {
   "codemirror_mode": {
    "name": "ipython",
    "version": 3
   },
   "file_extension": ".py",
   "mimetype": "text/x-python",
   "name": "python",
   "nbconvert_exporter": "python",
   "pygments_lexer": "ipython3",
   "version": "3.10.11"
  }
 },
 "nbformat": 4,
 "nbformat_minor": 5
}
