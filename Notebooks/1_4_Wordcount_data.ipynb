{
 "cells": [
  {
   "cell_type": "code",
   "execution_count": 1,
   "id": "3e0cfc7f",
   "metadata": {},
   "outputs": [],
   "source": [
    "import os\n",
    "import json\n",
    "import pandas as pd\n",
    "from collections import defaultdict\n",
    "from rapidfuzz import fuzz\n",
    "from tqdm.notebook import tqdm\n",
    "tqdm.pandas()"
   ]
  },
  {
   "cell_type": "code",
   "execution_count": 2,
   "id": "46b7598a",
   "metadata": {},
   "outputs": [],
   "source": [
    "df = pd.read_csv('../CSVs/8_filtered_genres.csv',index_col=0).drop('index',axis=1)"
   ]
  },
  {
   "cell_type": "code",
   "execution_count": 3,
   "id": "0066b863",
   "metadata": {
    "scrolled": true
   },
   "outputs": [
    {
     "data": {
      "text/html": [
       "<div>\n",
       "<style scoped>\n",
       "    .dataframe tbody tr th:only-of-type {\n",
       "        vertical-align: middle;\n",
       "    }\n",
       "\n",
       "    .dataframe tbody tr th {\n",
       "        vertical-align: top;\n",
       "    }\n",
       "\n",
       "    .dataframe thead th {\n",
       "        text-align: right;\n",
       "    }\n",
       "</style>\n",
       "<table border=\"1\" class=\"dataframe\">\n",
       "  <thead>\n",
       "    <tr style=\"text-align: right;\">\n",
       "      <th></th>\n",
       "      <th>title</th>\n",
       "      <th>author</th>\n",
       "      <th>total words</th>\n",
       "      <th>vividness</th>\n",
       "      <th>passive voice</th>\n",
       "      <th>all adverbs</th>\n",
       "      <th>ly-adverbs</th>\n",
       "      <th>non-ly-adverbs</th>\n",
       "      <th>year</th>\n",
       "      <th>genres</th>\n",
       "      <th>num final genres</th>\n",
       "    </tr>\n",
       "  </thead>\n",
       "  <tbody>\n",
       "    <tr>\n",
       "      <th>0</th>\n",
       "      <td>The Vanished Birds</td>\n",
       "      <td>Simon Jimenez</td>\n",
       "      <td>124205.0</td>\n",
       "      <td>55.18</td>\n",
       "      <td>6.37</td>\n",
       "      <td>1.95</td>\n",
       "      <td>0.36</td>\n",
       "      <td>1.58</td>\n",
       "      <td>2020.0</td>\n",
       "      <td>['Science Fiction', 'Fantasy', 'Adult']</td>\n",
       "      <td>3</td>\n",
       "    </tr>\n",
       "    <tr>\n",
       "      <th>1</th>\n",
       "      <td>The Price of Honor</td>\n",
       "      <td>Jonathan P. Brazee</td>\n",
       "      <td>77253.0</td>\n",
       "      <td>35.35</td>\n",
       "      <td>8.71</td>\n",
       "      <td>2.63</td>\n",
       "      <td>0.71</td>\n",
       "      <td>1.92</td>\n",
       "      <td>2017.0</td>\n",
       "      <td>['Science Fiction']</td>\n",
       "      <td>1</td>\n",
       "    </tr>\n",
       "    <tr>\n",
       "      <th>2</th>\n",
       "      <td>The Case of the Baker Street Irregulars</td>\n",
       "      <td>Anthony Boucher</td>\n",
       "      <td>80557.0</td>\n",
       "      <td>32.33</td>\n",
       "      <td>8.41</td>\n",
       "      <td>3.72</td>\n",
       "      <td>1.64</td>\n",
       "      <td>2.08</td>\n",
       "      <td>1940.0</td>\n",
       "      <td>['Mystery', 'Crime', 'Classics']</td>\n",
       "      <td>3</td>\n",
       "    </tr>\n",
       "    <tr>\n",
       "      <th>3</th>\n",
       "      <td>Wildoak</td>\n",
       "      <td>C. C. Harrington</td>\n",
       "      <td>55602.0</td>\n",
       "      <td>74.34</td>\n",
       "      <td>6.92</td>\n",
       "      <td>3.04</td>\n",
       "      <td>1.16</td>\n",
       "      <td>1.87</td>\n",
       "      <td>2022.0</td>\n",
       "      <td>['Historical Fiction', 'Young Adult']</td>\n",
       "      <td>2</td>\n",
       "    </tr>\n",
       "    <tr>\n",
       "      <th>4</th>\n",
       "      <td>The Holiday</td>\n",
       "      <td>T. M. Logan</td>\n",
       "      <td>101767.0</td>\n",
       "      <td>50.30</td>\n",
       "      <td>8.02</td>\n",
       "      <td>3.06</td>\n",
       "      <td>1.12</td>\n",
       "      <td>1.93</td>\n",
       "      <td>2019.0</td>\n",
       "      <td>['Thriller', 'Mystery', 'Crime', 'Suspense']</td>\n",
       "      <td>4</td>\n",
       "    </tr>\n",
       "  </tbody>\n",
       "</table>\n",
       "</div>"
      ],
      "text/plain": [
       "                                     title              author  total words  \\\n",
       "0                       The Vanished Birds       Simon Jimenez     124205.0   \n",
       "1                       The Price of Honor  Jonathan P. Brazee      77253.0   \n",
       "2  The Case of the Baker Street Irregulars     Anthony Boucher      80557.0   \n",
       "3                                  Wildoak    C. C. Harrington      55602.0   \n",
       "4                              The Holiday         T. M. Logan     101767.0   \n",
       "\n",
       "   vividness  passive voice  all adverbs  ly-adverbs  non-ly-adverbs    year  \\\n",
       "0      55.18           6.37         1.95        0.36            1.58  2020.0   \n",
       "1      35.35           8.71         2.63        0.71            1.92  2017.0   \n",
       "2      32.33           8.41         3.72        1.64            2.08  1940.0   \n",
       "3      74.34           6.92         3.04        1.16            1.87  2022.0   \n",
       "4      50.30           8.02         3.06        1.12            1.93  2019.0   \n",
       "\n",
       "                                         genres  num final genres  \n",
       "0       ['Science Fiction', 'Fantasy', 'Adult']                 3  \n",
       "1                           ['Science Fiction']                 1  \n",
       "2              ['Mystery', 'Crime', 'Classics']                 3  \n",
       "3         ['Historical Fiction', 'Young Adult']                 2  \n",
       "4  ['Thriller', 'Mystery', 'Crime', 'Suspense']                 4  "
      ]
     },
     "execution_count": 3,
     "metadata": {},
     "output_type": "execute_result"
    }
   ],
   "source": [
    "df.head()"
   ]
  },
  {
   "cell_type": "code",
   "execution_count": 4,
   "id": "36c4a1dd",
   "metadata": {},
   "outputs": [],
   "source": [
    "def get_word_counts_from_json(author, title):\n",
    "    file_path = f'../word-counts/{author}/{title}/word-counts.json'\n",
    "    word_counts = read_json(file_path)\n",
    "    return word_counts"
   ]
  },
  {
   "cell_type": "code",
   "execution_count": 5,
   "id": "6f9da84f",
   "metadata": {},
   "outputs": [],
   "source": [
    "def read_json(file_path):\n",
    "    with open(file_path, 'r', encoding='utf-8') as f:\n",
    "        data = json.load(f)\n",
    "    return data"
   ]
  },
  {
   "cell_type": "markdown",
   "id": "8dd37bc7",
   "metadata": {},
   "source": [
    "The formatting of the directory is as follows: Within the 'word-counts' folder, there are about 15,000 folders representing authors. In the folder of each author, there is a subfolder for each of their books. And in each book folder, there is one file: A JSON containing the frequency of each word that appears in the book. "
   ]
  },
  {
   "cell_type": "code",
   "execution_count": 6,
   "id": "ce117bdf",
   "metadata": {},
   "outputs": [],
   "source": [
    "def process_directory_structure(root_dir):\n",
    "    authors = set()\n",
    "    books = defaultdict(set)\n",
    "    df = pd.DataFrame()\n",
    "\n",
    "\n",
    "    for author in os.listdir(root_dir):\n",
    "        if os.path.isdir(f'{root_dir}/{author}'):\n",
    "            authors.add(author)\n",
    "            author_dir = os.path.join(root_dir, author)\n",
    "\n",
    "            for book in os.listdir(author_dir):\n",
    "                book_dir = os.path.join(author_dir, book)\n",
    "                books[author].add(book)\n",
    "\n",
    "    return books"
   ]
  },
  {
   "cell_type": "code",
   "execution_count": 7,
   "id": "80dee3e5",
   "metadata": {},
   "outputs": [],
   "source": [
    "root_dir = '../word-counts/'\n",
    "books = process_directory_structure(root_dir)"
   ]
  },
  {
   "cell_type": "code",
   "execution_count": 8,
   "id": "7ccf3b2d",
   "metadata": {},
   "outputs": [],
   "source": [
    "def add_data_to_dataframe(df, author, book, word_counts):\n",
    "    word_counts['Author'] = author\n",
    "    word_counts['Book'] = book\n",
    "    df = pd.concat(word_counts, ignore_index=True)\n",
    "    return df"
   ]
  },
  {
   "cell_type": "code",
   "execution_count": 9,
   "id": "74a4d429",
   "metadata": {},
   "outputs": [],
   "source": [
    "def clean(name):\n",
    "    to_remove = [':',',','’','?','/']\n",
    "    for char in to_remove:\n",
    "        name = name.replace(char, '')\n",
    "    name = name.lower().replace(' ','-').replace('&','and').replace('.-','-').replace('.','-').strip('-')\n",
    "    return name"
   ]
  },
  {
   "cell_type": "code",
   "execution_count": 10,
   "id": "b82364e9",
   "metadata": {},
   "outputs": [],
   "source": [
    "def get_wordcounts(orig_title, orig_author, correct_books, threshold=80):\n",
    "    # Reformat title and author's name to match folder names\n",
    "    title = clean(orig_title)\n",
    "    author = clean(orig_author)\n",
    "    correct_books_copy = correct_books.copy()\n",
    "    \n",
    "    \n",
    "    # Check if the author's name is in the list of folders at the author level\n",
    "    if author in correct_books_copy.keys():\n",
    "        # If found, check the author's folder for the title folder. \n",
    "        if title in correct_books[author]:\n",
    "            return get_word_counts_from_json(author,title)\n",
    "        else: \n",
    "            # Check for title names that are close to the cleaned title name\n",
    "            for correct_title in correct_books[author]:\n",
    "                if fuzz.ratio(title, correct_title) > threshold:\n",
    "                    return get_wordcounts(correct_title, author, correct_books, threshold)\n",
    "        return -1\n",
    "    else: \n",
    "        # If the exact author's name wasn't found, check for extremely similar authors' names. \n",
    "        for correct_author in correct_books_copy.keys():\n",
    "            if fuzz.ratio(author, correct_author) > 95:\n",
    "                return get_wordcounts(title, correct_author, correct_books, threshold)\n",
    "        # If that doesn't work, check for moderately similar authors' names. \n",
    "        for correct_author in correct_books_copy.keys():\n",
    "            if fuzz.ratio(author, correct_author) > threshold:\n",
    "                return get_wordcounts(title, correct_author, correct_books, threshold)\n",
    "        return -1"
   ]
  },
  {
   "cell_type": "code",
   "execution_count": 11,
   "id": "e5c283bf",
   "metadata": {},
   "outputs": [],
   "source": [
    "books = process_directory_structure(root_dir)"
   ]
  },
  {
   "cell_type": "code",
   "execution_count": 12,
   "id": "9d4c1ef0",
   "metadata": {},
   "outputs": [],
   "source": [
    "# for i in tqdm(range(len(df))):\n",
    "#     returned =  get_wordcounts(df.iloc[i]['title'],df.iloc[i]['author'],books,80)\n",
    "#     if returned == -1:\n",
    "#         print(f\"Did not work for {df.iloc[i]['title']}, by {df.iloc[i]['author']}\")"
   ]
  },
  {
   "cell_type": "markdown",
   "id": "dfbc40da",
   "metadata": {},
   "source": [
    "The only book I wasn't able to find was a book whose title in the dataframe includes a subtitle, and whose matching folder does not! An easy fix. "
   ]
  },
  {
   "cell_type": "code",
   "execution_count": 13,
   "id": "c113dc01",
   "metadata": {},
   "outputs": [
    {
     "data": {
      "text/html": [
       "<div>\n",
       "<style scoped>\n",
       "    .dataframe tbody tr th:only-of-type {\n",
       "        vertical-align: middle;\n",
       "    }\n",
       "\n",
       "    .dataframe tbody tr th {\n",
       "        vertical-align: top;\n",
       "    }\n",
       "\n",
       "    .dataframe thead th {\n",
       "        text-align: right;\n",
       "    }\n",
       "</style>\n",
       "<table border=\"1\" class=\"dataframe\">\n",
       "  <thead>\n",
       "    <tr style=\"text-align: right;\">\n",
       "      <th></th>\n",
       "      <th>title</th>\n",
       "      <th>author</th>\n",
       "      <th>total words</th>\n",
       "      <th>vividness</th>\n",
       "      <th>passive voice</th>\n",
       "      <th>all adverbs</th>\n",
       "      <th>ly-adverbs</th>\n",
       "      <th>non-ly-adverbs</th>\n",
       "      <th>year</th>\n",
       "      <th>genres</th>\n",
       "      <th>num final genres</th>\n",
       "    </tr>\n",
       "  </thead>\n",
       "  <tbody>\n",
       "    <tr>\n",
       "      <th>18673</th>\n",
       "      <td>Queer Intentions: A (Personal) journey through...</td>\n",
       "      <td>Amelia Abraham</td>\n",
       "      <td>86726.0</td>\n",
       "      <td>29.31</td>\n",
       "      <td>8.8</td>\n",
       "      <td>3.12</td>\n",
       "      <td>1.13</td>\n",
       "      <td>1.98</td>\n",
       "      <td>2019.0</td>\n",
       "      <td>['Memoir']</td>\n",
       "      <td>1</td>\n",
       "    </tr>\n",
       "  </tbody>\n",
       "</table>\n",
       "</div>"
      ],
      "text/plain": [
       "                                                   title          author  \\\n",
       "18673  Queer Intentions: A (Personal) journey through...  Amelia Abraham   \n",
       "\n",
       "       total words  vividness  passive voice  all adverbs  ly-adverbs  \\\n",
       "18673      86726.0      29.31            8.8         3.12        1.13   \n",
       "\n",
       "       non-ly-adverbs    year      genres  num final genres  \n",
       "18673            1.98  2019.0  ['Memoir']                 1  "
      ]
     },
     "execution_count": 13,
     "metadata": {},
     "output_type": "execute_result"
    }
   ],
   "source": [
    "df.loc[df['author'] == 'Amelia Abraham']"
   ]
  },
  {
   "cell_type": "code",
   "execution_count": 14,
   "id": "dafcb669",
   "metadata": {},
   "outputs": [],
   "source": [
    "df.loc[df['author'] == 'Amelia Abraham', 'title'] = \"Queer Intentions\""
   ]
  },
  {
   "cell_type": "code",
   "execution_count": 15,
   "id": "a4958565",
   "metadata": {},
   "outputs": [
    {
     "data": {
      "text/html": [
       "<div>\n",
       "<style scoped>\n",
       "    .dataframe tbody tr th:only-of-type {\n",
       "        vertical-align: middle;\n",
       "    }\n",
       "\n",
       "    .dataframe tbody tr th {\n",
       "        vertical-align: top;\n",
       "    }\n",
       "\n",
       "    .dataframe thead th {\n",
       "        text-align: right;\n",
       "    }\n",
       "</style>\n",
       "<table border=\"1\" class=\"dataframe\">\n",
       "  <thead>\n",
       "    <tr style=\"text-align: right;\">\n",
       "      <th></th>\n",
       "      <th>title</th>\n",
       "      <th>author</th>\n",
       "      <th>total words</th>\n",
       "      <th>vividness</th>\n",
       "      <th>passive voice</th>\n",
       "      <th>all adverbs</th>\n",
       "      <th>ly-adverbs</th>\n",
       "      <th>non-ly-adverbs</th>\n",
       "      <th>year</th>\n",
       "      <th>genres</th>\n",
       "      <th>num final genres</th>\n",
       "    </tr>\n",
       "  </thead>\n",
       "  <tbody>\n",
       "    <tr>\n",
       "      <th>18673</th>\n",
       "      <td>Queer Intentions</td>\n",
       "      <td>Amelia Abraham</td>\n",
       "      <td>86726.0</td>\n",
       "      <td>29.31</td>\n",
       "      <td>8.8</td>\n",
       "      <td>3.12</td>\n",
       "      <td>1.13</td>\n",
       "      <td>1.98</td>\n",
       "      <td>2019.0</td>\n",
       "      <td>['Memoir']</td>\n",
       "      <td>1</td>\n",
       "    </tr>\n",
       "  </tbody>\n",
       "</table>\n",
       "</div>"
      ],
      "text/plain": [
       "                  title          author  total words  vividness  \\\n",
       "18673  Queer Intentions  Amelia Abraham      86726.0      29.31   \n",
       "\n",
       "       passive voice  all adverbs  ly-adverbs  non-ly-adverbs    year  \\\n",
       "18673            8.8         3.12        1.13            1.98  2019.0   \n",
       "\n",
       "           genres  num final genres  \n",
       "18673  ['Memoir']                 1  "
      ]
     },
     "execution_count": 15,
     "metadata": {},
     "output_type": "execute_result"
    }
   ],
   "source": [
    "df.loc[df['author'] == 'Amelia Abraham']"
   ]
  },
  {
   "cell_type": "code",
   "execution_count": 16,
   "id": "b13cdd4a",
   "metadata": {},
   "outputs": [],
   "source": [
    "# Some of the columns have names that could be words in books. Better make each column name two words.\n",
    "df.columns = ['book title', 'book author', 'total words', 'vividness score', 'passive voice',\n",
    "       'all adverbs', 'ly-adverbs', 'non-ly-adverbs', 'publication year', 'book genres',\n",
    "       'num genres']"
   ]
  },
  {
   "cell_type": "code",
   "execution_count": 17,
   "id": "85ea1d6e",
   "metadata": {},
   "outputs": [
    {
     "data": {
      "text/html": [
       "<div>\n",
       "<style scoped>\n",
       "    .dataframe tbody tr th:only-of-type {\n",
       "        vertical-align: middle;\n",
       "    }\n",
       "\n",
       "    .dataframe tbody tr th {\n",
       "        vertical-align: top;\n",
       "    }\n",
       "\n",
       "    .dataframe thead th {\n",
       "        text-align: right;\n",
       "    }\n",
       "</style>\n",
       "<table border=\"1\" class=\"dataframe\">\n",
       "  <thead>\n",
       "    <tr style=\"text-align: right;\">\n",
       "      <th></th>\n",
       "      <th>book title</th>\n",
       "      <th>book author</th>\n",
       "      <th>total words</th>\n",
       "      <th>vividness score</th>\n",
       "      <th>passive voice</th>\n",
       "      <th>all adverbs</th>\n",
       "      <th>ly-adverbs</th>\n",
       "      <th>non-ly-adverbs</th>\n",
       "      <th>publication year</th>\n",
       "      <th>book genres</th>\n",
       "      <th>num genres</th>\n",
       "    </tr>\n",
       "  </thead>\n",
       "  <tbody>\n",
       "    <tr>\n",
       "      <th>0</th>\n",
       "      <td>The Vanished Birds</td>\n",
       "      <td>Simon Jimenez</td>\n",
       "      <td>124205.0</td>\n",
       "      <td>55.18</td>\n",
       "      <td>6.37</td>\n",
       "      <td>1.95</td>\n",
       "      <td>0.36</td>\n",
       "      <td>1.58</td>\n",
       "      <td>2020.0</td>\n",
       "      <td>['Science Fiction', 'Fantasy', 'Adult']</td>\n",
       "      <td>3</td>\n",
       "    </tr>\n",
       "    <tr>\n",
       "      <th>1</th>\n",
       "      <td>The Price of Honor</td>\n",
       "      <td>Jonathan P. Brazee</td>\n",
       "      <td>77253.0</td>\n",
       "      <td>35.35</td>\n",
       "      <td>8.71</td>\n",
       "      <td>2.63</td>\n",
       "      <td>0.71</td>\n",
       "      <td>1.92</td>\n",
       "      <td>2017.0</td>\n",
       "      <td>['Science Fiction']</td>\n",
       "      <td>1</td>\n",
       "    </tr>\n",
       "    <tr>\n",
       "      <th>2</th>\n",
       "      <td>The Case of the Baker Street Irregulars</td>\n",
       "      <td>Anthony Boucher</td>\n",
       "      <td>80557.0</td>\n",
       "      <td>32.33</td>\n",
       "      <td>8.41</td>\n",
       "      <td>3.72</td>\n",
       "      <td>1.64</td>\n",
       "      <td>2.08</td>\n",
       "      <td>1940.0</td>\n",
       "      <td>['Mystery', 'Crime', 'Classics']</td>\n",
       "      <td>3</td>\n",
       "    </tr>\n",
       "    <tr>\n",
       "      <th>3</th>\n",
       "      <td>Wildoak</td>\n",
       "      <td>C. C. Harrington</td>\n",
       "      <td>55602.0</td>\n",
       "      <td>74.34</td>\n",
       "      <td>6.92</td>\n",
       "      <td>3.04</td>\n",
       "      <td>1.16</td>\n",
       "      <td>1.87</td>\n",
       "      <td>2022.0</td>\n",
       "      <td>['Historical Fiction', 'Young Adult']</td>\n",
       "      <td>2</td>\n",
       "    </tr>\n",
       "    <tr>\n",
       "      <th>4</th>\n",
       "      <td>The Holiday</td>\n",
       "      <td>T. M. Logan</td>\n",
       "      <td>101767.0</td>\n",
       "      <td>50.30</td>\n",
       "      <td>8.02</td>\n",
       "      <td>3.06</td>\n",
       "      <td>1.12</td>\n",
       "      <td>1.93</td>\n",
       "      <td>2019.0</td>\n",
       "      <td>['Thriller', 'Mystery', 'Crime', 'Suspense']</td>\n",
       "      <td>4</td>\n",
       "    </tr>\n",
       "  </tbody>\n",
       "</table>\n",
       "</div>"
      ],
      "text/plain": [
       "                                book title         book author  total words  \\\n",
       "0                       The Vanished Birds       Simon Jimenez     124205.0   \n",
       "1                       The Price of Honor  Jonathan P. Brazee      77253.0   \n",
       "2  The Case of the Baker Street Irregulars     Anthony Boucher      80557.0   \n",
       "3                                  Wildoak    C. C. Harrington      55602.0   \n",
       "4                              The Holiday         T. M. Logan     101767.0   \n",
       "\n",
       "   vividness score  passive voice  all adverbs  ly-adverbs  non-ly-adverbs  \\\n",
       "0            55.18           6.37         1.95        0.36            1.58   \n",
       "1            35.35           8.71         2.63        0.71            1.92   \n",
       "2            32.33           8.41         3.72        1.64            2.08   \n",
       "3            74.34           6.92         3.04        1.16            1.87   \n",
       "4            50.30           8.02         3.06        1.12            1.93   \n",
       "\n",
       "   publication year                                   book genres  num genres  \n",
       "0            2020.0       ['Science Fiction', 'Fantasy', 'Adult']           3  \n",
       "1            2017.0                           ['Science Fiction']           1  \n",
       "2            1940.0              ['Mystery', 'Crime', 'Classics']           3  \n",
       "3            2022.0         ['Historical Fiction', 'Young Adult']           2  \n",
       "4            2019.0  ['Thriller', 'Mystery', 'Crime', 'Suspense']           4  "
      ]
     },
     "execution_count": 17,
     "metadata": {},
     "output_type": "execute_result"
    }
   ],
   "source": [
    "df.head()"
   ]
  },
  {
   "cell_type": "code",
   "execution_count": 18,
   "id": "f9f249e6",
   "metadata": {},
   "outputs": [],
   "source": [
    "test_df = df.head()"
   ]
  },
  {
   "cell_type": "code",
   "execution_count": 19,
   "id": "b3469e4a",
   "metadata": {},
   "outputs": [],
   "source": [
    "test_df = test_df.join(test_df.apply(lambda x:  pd.Series(get_wordcounts(x['book title'], x['book author'],books)),axis=1))"
   ]
  },
  {
   "cell_type": "code",
   "execution_count": 20,
   "id": "06440a92",
   "metadata": {},
   "outputs": [
    {
     "data": {
      "text/html": [
       "<div>\n",
       "<style scoped>\n",
       "    .dataframe tbody tr th:only-of-type {\n",
       "        vertical-align: middle;\n",
       "    }\n",
       "\n",
       "    .dataframe tbody tr th {\n",
       "        vertical-align: top;\n",
       "    }\n",
       "\n",
       "    .dataframe thead th {\n",
       "        text-align: right;\n",
       "    }\n",
       "</style>\n",
       "<table border=\"1\" class=\"dataframe\">\n",
       "  <thead>\n",
       "    <tr style=\"text-align: right;\">\n",
       "      <th></th>\n",
       "      <th>book title</th>\n",
       "      <th>book author</th>\n",
       "      <th>total words</th>\n",
       "      <th>vividness score</th>\n",
       "      <th>passive voice</th>\n",
       "      <th>all adverbs</th>\n",
       "      <th>ly-adverbs</th>\n",
       "      <th>non-ly-adverbs</th>\n",
       "      <th>publication year</th>\n",
       "      <th>book genres</th>\n",
       "      <th>...</th>\n",
       "      <th>zone</th>\n",
       "      <th>zoned</th>\n",
       "      <th>zoo</th>\n",
       "      <th>zoom</th>\n",
       "      <th>zoomed</th>\n",
       "      <th>zooming</th>\n",
       "      <th>zucar</th>\n",
       "      <th>émigré</th>\n",
       "      <th>émigrés</th>\n",
       "      <th>über</th>\n",
       "    </tr>\n",
       "  </thead>\n",
       "  <tbody>\n",
       "    <tr>\n",
       "      <th>0</th>\n",
       "      <td>The Vanished Birds</td>\n",
       "      <td>Simon Jimenez</td>\n",
       "      <td>124205.0</td>\n",
       "      <td>55.18</td>\n",
       "      <td>6.37</td>\n",
       "      <td>1.95</td>\n",
       "      <td>0.36</td>\n",
       "      <td>1.58</td>\n",
       "      <td>2020.0</td>\n",
       "      <td>['Science Fiction', 'Fantasy', 'Adult']</td>\n",
       "      <td>...</td>\n",
       "      <td>1.0</td>\n",
       "      <td>1.0</td>\n",
       "      <td>NaN</td>\n",
       "      <td>NaN</td>\n",
       "      <td>NaN</td>\n",
       "      <td>NaN</td>\n",
       "      <td>1.0</td>\n",
       "      <td>NaN</td>\n",
       "      <td>NaN</td>\n",
       "      <td>NaN</td>\n",
       "    </tr>\n",
       "    <tr>\n",
       "      <th>1</th>\n",
       "      <td>The Price of Honor</td>\n",
       "      <td>Jonathan P. Brazee</td>\n",
       "      <td>77253.0</td>\n",
       "      <td>35.35</td>\n",
       "      <td>8.71</td>\n",
       "      <td>2.63</td>\n",
       "      <td>0.71</td>\n",
       "      <td>1.92</td>\n",
       "      <td>2017.0</td>\n",
       "      <td>['Science Fiction']</td>\n",
       "      <td>...</td>\n",
       "      <td>3.0</td>\n",
       "      <td>NaN</td>\n",
       "      <td>NaN</td>\n",
       "      <td>2.0</td>\n",
       "      <td>6.0</td>\n",
       "      <td>NaN</td>\n",
       "      <td>NaN</td>\n",
       "      <td>NaN</td>\n",
       "      <td>NaN</td>\n",
       "      <td>NaN</td>\n",
       "    </tr>\n",
       "    <tr>\n",
       "      <th>2</th>\n",
       "      <td>The Case of the Baker Street Irregulars</td>\n",
       "      <td>Anthony Boucher</td>\n",
       "      <td>80557.0</td>\n",
       "      <td>32.33</td>\n",
       "      <td>8.41</td>\n",
       "      <td>3.72</td>\n",
       "      <td>1.64</td>\n",
       "      <td>2.08</td>\n",
       "      <td>1940.0</td>\n",
       "      <td>['Mystery', 'Crime', 'Classics']</td>\n",
       "      <td>...</td>\n",
       "      <td>NaN</td>\n",
       "      <td>NaN</td>\n",
       "      <td>NaN</td>\n",
       "      <td>NaN</td>\n",
       "      <td>NaN</td>\n",
       "      <td>NaN</td>\n",
       "      <td>NaN</td>\n",
       "      <td>7.0</td>\n",
       "      <td>1.0</td>\n",
       "      <td>1.0</td>\n",
       "    </tr>\n",
       "    <tr>\n",
       "      <th>3</th>\n",
       "      <td>Wildoak</td>\n",
       "      <td>C. C. Harrington</td>\n",
       "      <td>55602.0</td>\n",
       "      <td>74.34</td>\n",
       "      <td>6.92</td>\n",
       "      <td>3.04</td>\n",
       "      <td>1.16</td>\n",
       "      <td>1.87</td>\n",
       "      <td>2022.0</td>\n",
       "      <td>['Historical Fiction', 'Young Adult']</td>\n",
       "      <td>...</td>\n",
       "      <td>NaN</td>\n",
       "      <td>NaN</td>\n",
       "      <td>5.0</td>\n",
       "      <td>NaN</td>\n",
       "      <td>NaN</td>\n",
       "      <td>NaN</td>\n",
       "      <td>NaN</td>\n",
       "      <td>NaN</td>\n",
       "      <td>NaN</td>\n",
       "      <td>NaN</td>\n",
       "    </tr>\n",
       "    <tr>\n",
       "      <th>4</th>\n",
       "      <td>The Holiday</td>\n",
       "      <td>T. M. Logan</td>\n",
       "      <td>101767.0</td>\n",
       "      <td>50.30</td>\n",
       "      <td>8.02</td>\n",
       "      <td>3.06</td>\n",
       "      <td>1.12</td>\n",
       "      <td>1.93</td>\n",
       "      <td>2019.0</td>\n",
       "      <td>['Thriller', 'Mystery', 'Crime', 'Suspense']</td>\n",
       "      <td>...</td>\n",
       "      <td>1.0</td>\n",
       "      <td>NaN</td>\n",
       "      <td>NaN</td>\n",
       "      <td>2.0</td>\n",
       "      <td>7.0</td>\n",
       "      <td>4.0</td>\n",
       "      <td>NaN</td>\n",
       "      <td>NaN</td>\n",
       "      <td>NaN</td>\n",
       "      <td>NaN</td>\n",
       "    </tr>\n",
       "  </tbody>\n",
       "</table>\n",
       "<p>5 rows × 21785 columns</p>\n",
       "</div>"
      ],
      "text/plain": [
       "                                book title         book author  total words  \\\n",
       "0                       The Vanished Birds       Simon Jimenez     124205.0   \n",
       "1                       The Price of Honor  Jonathan P. Brazee      77253.0   \n",
       "2  The Case of the Baker Street Irregulars     Anthony Boucher      80557.0   \n",
       "3                                  Wildoak    C. C. Harrington      55602.0   \n",
       "4                              The Holiday         T. M. Logan     101767.0   \n",
       "\n",
       "   vividness score  passive voice  all adverbs  ly-adverbs  non-ly-adverbs  \\\n",
       "0            55.18           6.37         1.95        0.36            1.58   \n",
       "1            35.35           8.71         2.63        0.71            1.92   \n",
       "2            32.33           8.41         3.72        1.64            2.08   \n",
       "3            74.34           6.92         3.04        1.16            1.87   \n",
       "4            50.30           8.02         3.06        1.12            1.93   \n",
       "\n",
       "   publication year                                   book genres  ...  zone  \\\n",
       "0            2020.0       ['Science Fiction', 'Fantasy', 'Adult']  ...   1.0   \n",
       "1            2017.0                           ['Science Fiction']  ...   3.0   \n",
       "2            1940.0              ['Mystery', 'Crime', 'Classics']  ...   NaN   \n",
       "3            2022.0         ['Historical Fiction', 'Young Adult']  ...   NaN   \n",
       "4            2019.0  ['Thriller', 'Mystery', 'Crime', 'Suspense']  ...   1.0   \n",
       "\n",
       "   zoned  zoo  zoom  zoomed  zooming  zucar  émigré  émigrés  über  \n",
       "0    1.0  NaN   NaN     NaN      NaN    1.0     NaN      NaN   NaN  \n",
       "1    NaN  NaN   2.0     6.0      NaN    NaN     NaN      NaN   NaN  \n",
       "2    NaN  NaN   NaN     NaN      NaN    NaN     7.0      1.0   1.0  \n",
       "3    NaN  5.0   NaN     NaN      NaN    NaN     NaN      NaN   NaN  \n",
       "4    NaN  NaN   2.0     7.0      4.0    NaN     NaN      NaN   NaN  \n",
       "\n",
       "[5 rows x 21785 columns]"
      ]
     },
     "execution_count": 20,
     "metadata": {},
     "output_type": "execute_result"
    }
   ],
   "source": [
    "test_df"
   ]
  },
  {
   "cell_type": "code",
   "execution_count": 21,
   "id": "dc84c60c",
   "metadata": {},
   "outputs": [
    {
     "data": {
      "text/plain": [
       "20490"
      ]
     },
     "execution_count": 21,
     "metadata": {},
     "output_type": "execute_result"
    }
   ],
   "source": [
    "len(df)"
   ]
  },
  {
   "cell_type": "code",
   "execution_count": 22,
   "id": "e6f1aae4",
   "metadata": {},
   "outputs": [],
   "source": [
    "df_chunks = []\n",
    "for i in range(20):\n",
    "    df_chunks.append(df.iloc[1000*i:1000*(i+1)])"
   ]
  },
  {
   "cell_type": "code",
   "execution_count": 23,
   "id": "4db725fe",
   "metadata": {},
   "outputs": [],
   "source": [
    "df_chunks.append(df.iloc[20000:len(df)])"
   ]
  },
  {
   "cell_type": "code",
   "execution_count": 24,
   "id": "bde6ef09",
   "metadata": {},
   "outputs": [],
   "source": [
    "complete_chunks = []"
   ]
  },
  {
   "cell_type": "code",
   "execution_count": 25,
   "id": "8fa81c37",
   "metadata": {
    "scrolled": true
   },
   "outputs": [
    {
     "data": {
      "application/vnd.jupyter.widget-view+json": {
       "model_id": "c51b9bb72b1943efa7d5769291347277",
       "version_major": 2,
       "version_minor": 0
      },
      "text/plain": [
       "  0%|          | 0/1000 [00:00<?, ?it/s]"
      ]
     },
     "metadata": {},
     "output_type": "display_data"
    },
    {
     "data": {
      "application/vnd.jupyter.widget-view+json": {
       "model_id": "2280c00d3724440c870fa1fe1111fc95",
       "version_major": 2,
       "version_minor": 0
      },
      "text/plain": [
       "  0%|          | 0/1000 [00:00<?, ?it/s]"
      ]
     },
     "metadata": {},
     "output_type": "display_data"
    },
    {
     "data": {
      "application/vnd.jupyter.widget-view+json": {
       "model_id": "67f860ae0c364aebb77925cc5c9a495c",
       "version_major": 2,
       "version_minor": 0
      },
      "text/plain": [
       "  0%|          | 0/1000 [00:00<?, ?it/s]"
      ]
     },
     "metadata": {},
     "output_type": "display_data"
    },
    {
     "data": {
      "application/vnd.jupyter.widget-view+json": {
       "model_id": "ae096219bd7643d3a145aa4fc15cd3e8",
       "version_major": 2,
       "version_minor": 0
      },
      "text/plain": [
       "  0%|          | 0/1000 [00:00<?, ?it/s]"
      ]
     },
     "metadata": {},
     "output_type": "display_data"
    },
    {
     "data": {
      "application/vnd.jupyter.widget-view+json": {
       "model_id": "a0d8fecd502f49919f6f74b4418effc6",
       "version_major": 2,
       "version_minor": 0
      },
      "text/plain": [
       "  0%|          | 0/1000 [00:00<?, ?it/s]"
      ]
     },
     "metadata": {},
     "output_type": "display_data"
    },
    {
     "data": {
      "application/vnd.jupyter.widget-view+json": {
       "model_id": "d03e23e24f0c4dab93204182c0571718",
       "version_major": 2,
       "version_minor": 0
      },
      "text/plain": [
       "  0%|          | 0/1000 [00:00<?, ?it/s]"
      ]
     },
     "metadata": {},
     "output_type": "display_data"
    },
    {
     "data": {
      "application/vnd.jupyter.widget-view+json": {
       "model_id": "b846eb25a85f44868f3dde012dfeb5ec",
       "version_major": 2,
       "version_minor": 0
      },
      "text/plain": [
       "  0%|          | 0/1000 [00:00<?, ?it/s]"
      ]
     },
     "metadata": {},
     "output_type": "display_data"
    },
    {
     "data": {
      "application/vnd.jupyter.widget-view+json": {
       "model_id": "083cd1a673b54376978cddd703d075c7",
       "version_major": 2,
       "version_minor": 0
      },
      "text/plain": [
       "  0%|          | 0/1000 [00:00<?, ?it/s]"
      ]
     },
     "metadata": {},
     "output_type": "display_data"
    },
    {
     "data": {
      "application/vnd.jupyter.widget-view+json": {
       "model_id": "df9048a6b3854288997f346ad73c656c",
       "version_major": 2,
       "version_minor": 0
      },
      "text/plain": [
       "  0%|          | 0/1000 [00:00<?, ?it/s]"
      ]
     },
     "metadata": {},
     "output_type": "display_data"
    },
    {
     "data": {
      "application/vnd.jupyter.widget-view+json": {
       "model_id": "943bbe4611d744e5b40b237e84d3ff20",
       "version_major": 2,
       "version_minor": 0
      },
      "text/plain": [
       "  0%|          | 0/1000 [00:00<?, ?it/s]"
      ]
     },
     "metadata": {},
     "output_type": "display_data"
    },
    {
     "data": {
      "application/vnd.jupyter.widget-view+json": {
       "model_id": "742fa8a6c2fc4d29be36a8b18661b1da",
       "version_major": 2,
       "version_minor": 0
      },
      "text/plain": [
       "  0%|          | 0/1000 [00:00<?, ?it/s]"
      ]
     },
     "metadata": {},
     "output_type": "display_data"
    },
    {
     "data": {
      "application/vnd.jupyter.widget-view+json": {
       "model_id": "8fcf6f11cae649c38b84f92f0fb5a18d",
       "version_major": 2,
       "version_minor": 0
      },
      "text/plain": [
       "  0%|          | 0/1000 [00:00<?, ?it/s]"
      ]
     },
     "metadata": {},
     "output_type": "display_data"
    },
    {
     "data": {
      "application/vnd.jupyter.widget-view+json": {
       "model_id": "fc0ecd446b774ef9a58bda3ac20d63ad",
       "version_major": 2,
       "version_minor": 0
      },
      "text/plain": [
       "  0%|          | 0/1000 [00:00<?, ?it/s]"
      ]
     },
     "metadata": {},
     "output_type": "display_data"
    },
    {
     "data": {
      "application/vnd.jupyter.widget-view+json": {
       "model_id": "38989b9477f14c7aa5654b848640b144",
       "version_major": 2,
       "version_minor": 0
      },
      "text/plain": [
       "  0%|          | 0/1000 [00:00<?, ?it/s]"
      ]
     },
     "metadata": {},
     "output_type": "display_data"
    },
    {
     "data": {
      "application/vnd.jupyter.widget-view+json": {
       "model_id": "647b8fba624d4223a6e188174c9aa00c",
       "version_major": 2,
       "version_minor": 0
      },
      "text/plain": [
       "  0%|          | 0/1000 [00:00<?, ?it/s]"
      ]
     },
     "metadata": {},
     "output_type": "display_data"
    },
    {
     "data": {
      "application/vnd.jupyter.widget-view+json": {
       "model_id": "2256a9cd45f94d60bc087eb8a7bd44b3",
       "version_major": 2,
       "version_minor": 0
      },
      "text/plain": [
       "  0%|          | 0/1000 [00:00<?, ?it/s]"
      ]
     },
     "metadata": {},
     "output_type": "display_data"
    },
    {
     "data": {
      "application/vnd.jupyter.widget-view+json": {
       "model_id": "8842a35e314746d8ba47e7ed6eb3989f",
       "version_major": 2,
       "version_minor": 0
      },
      "text/plain": [
       "  0%|          | 0/1000 [00:00<?, ?it/s]"
      ]
     },
     "metadata": {},
     "output_type": "display_data"
    },
    {
     "data": {
      "application/vnd.jupyter.widget-view+json": {
       "model_id": "8af371fbf5e84df5bbb6b2de45a425d4",
       "version_major": 2,
       "version_minor": 0
      },
      "text/plain": [
       "  0%|          | 0/1000 [00:00<?, ?it/s]"
      ]
     },
     "metadata": {},
     "output_type": "display_data"
    },
    {
     "data": {
      "application/vnd.jupyter.widget-view+json": {
       "model_id": "1c686144bb274a4e82ff410351be3fdb",
       "version_major": 2,
       "version_minor": 0
      },
      "text/plain": [
       "  0%|          | 0/1000 [00:00<?, ?it/s]"
      ]
     },
     "metadata": {},
     "output_type": "display_data"
    },
    {
     "data": {
      "application/vnd.jupyter.widget-view+json": {
       "model_id": "2b1b59b16a3041a09245658c28b01bfa",
       "version_major": 2,
       "version_minor": 0
      },
      "text/plain": [
       "  0%|          | 0/1000 [00:00<?, ?it/s]"
      ]
     },
     "metadata": {},
     "output_type": "display_data"
    },
    {
     "data": {
      "application/vnd.jupyter.widget-view+json": {
       "model_id": "cbcea9bb40d545459d453e83ca4f605c",
       "version_major": 2,
       "version_minor": 0
      },
      "text/plain": [
       "  0%|          | 0/490 [00:00<?, ?it/s]"
      ]
     },
     "metadata": {},
     "output_type": "display_data"
    }
   ],
   "source": [
    "for chunk in df_chunks[len(complete_chunks):len(df_chunks)]:\n",
    "    complete_chunks.append(chunk.join(chunk.progress_apply(lambda x: pd.Series(get_wordcounts(x['book title'], x['book author'], books)), axis=1)))"
   ]
  },
  {
   "cell_type": "code",
   "execution_count": 26,
   "id": "6b8b9a75",
   "metadata": {},
   "outputs": [
    {
     "name": "stdout",
     "output_type": "stream",
     "text": [
      "(1000, 394352)\n",
      "(1000, 389858)\n",
      "(1000, 404815)\n",
      "(1000, 363286)\n",
      "(1000, 376105)\n",
      "(1000, 372208)\n",
      "(1000, 362448)\n",
      "(1000, 365104)\n",
      "(1000, 380801)\n",
      "(1000, 377421)\n",
      "(1000, 374421)\n",
      "(1000, 379593)\n",
      "(1000, 386220)\n",
      "(1000, 361970)\n",
      "(1000, 366176)\n",
      "(1000, 380285)\n",
      "(1000, 381545)\n",
      "(1000, 383617)\n",
      "(1000, 389048)\n",
      "(1000, 322558)\n",
      "(490, 214767)\n"
     ]
    }
   ],
   "source": [
    "for chunk in complete_chunks: \n",
    "    print(chunk.shape)"
   ]
  },
  {
   "cell_type": "code",
   "execution_count": 28,
   "id": "b33a83e6",
   "metadata": {},
   "outputs": [
    {
     "ename": "MemoryError",
     "evalue": "Unable to allocate 20.5 MiB for an array with shape (2683940,) and data type int64",
     "output_type": "error",
     "traceback": [
      "\u001b[1;31m---------------------------------------------------------------------------\u001b[0m",
      "\u001b[1;31mMemoryError\u001b[0m                               Traceback (most recent call last)",
      "Cell \u001b[1;32mIn[28], line 1\u001b[0m\n\u001b[1;32m----> 1\u001b[0m complete_df \u001b[38;5;241m=\u001b[39m \u001b[43mpd\u001b[49m\u001b[38;5;241;43m.\u001b[39;49m\u001b[43mconcat\u001b[49m\u001b[43m(\u001b[49m\u001b[43mcomplete_chunks\u001b[49m\u001b[43m)\u001b[49m\n",
      "File \u001b[1;32m~\\miniconda3\\envs\\Genres\\lib\\site-packages\\pandas\\util\\_decorators.py:331\u001b[0m, in \u001b[0;36mdeprecate_nonkeyword_arguments.<locals>.decorate.<locals>.wrapper\u001b[1;34m(*args, **kwargs)\u001b[0m\n\u001b[0;32m    325\u001b[0m \u001b[38;5;28;01mif\u001b[39;00m \u001b[38;5;28mlen\u001b[39m(args) \u001b[38;5;241m>\u001b[39m num_allow_args:\n\u001b[0;32m    326\u001b[0m     warnings\u001b[38;5;241m.\u001b[39mwarn(\n\u001b[0;32m    327\u001b[0m         msg\u001b[38;5;241m.\u001b[39mformat(arguments\u001b[38;5;241m=\u001b[39m_format_argument_list(allow_args)),\n\u001b[0;32m    328\u001b[0m         \u001b[38;5;167;01mFutureWarning\u001b[39;00m,\n\u001b[0;32m    329\u001b[0m         stacklevel\u001b[38;5;241m=\u001b[39mfind_stack_level(),\n\u001b[0;32m    330\u001b[0m     )\n\u001b[1;32m--> 331\u001b[0m \u001b[38;5;28;01mreturn\u001b[39;00m func(\u001b[38;5;241m*\u001b[39margs, \u001b[38;5;241m*\u001b[39m\u001b[38;5;241m*\u001b[39mkwargs)\n",
      "File \u001b[1;32m~\\miniconda3\\envs\\Genres\\lib\\site-packages\\pandas\\core\\reshape\\concat.py:381\u001b[0m, in \u001b[0;36mconcat\u001b[1;34m(objs, axis, join, ignore_index, keys, levels, names, verify_integrity, sort, copy)\u001b[0m\n\u001b[0;32m    159\u001b[0m \u001b[38;5;250m\u001b[39m\u001b[38;5;124;03m\"\"\"\u001b[39;00m\n\u001b[0;32m    160\u001b[0m \u001b[38;5;124;03mConcatenate pandas objects along a particular axis.\u001b[39;00m\n\u001b[0;32m    161\u001b[0m \n\u001b[1;32m   (...)\u001b[0m\n\u001b[0;32m    366\u001b[0m \u001b[38;5;124;03m1   3   4\u001b[39;00m\n\u001b[0;32m    367\u001b[0m \u001b[38;5;124;03m\"\"\"\u001b[39;00m\n\u001b[0;32m    368\u001b[0m op \u001b[38;5;241m=\u001b[39m _Concatenator(\n\u001b[0;32m    369\u001b[0m     objs,\n\u001b[0;32m    370\u001b[0m     axis\u001b[38;5;241m=\u001b[39maxis,\n\u001b[1;32m   (...)\u001b[0m\n\u001b[0;32m    378\u001b[0m     sort\u001b[38;5;241m=\u001b[39msort,\n\u001b[0;32m    379\u001b[0m )\n\u001b[1;32m--> 381\u001b[0m \u001b[38;5;28;01mreturn\u001b[39;00m \u001b[43mop\u001b[49m\u001b[38;5;241;43m.\u001b[39;49m\u001b[43mget_result\u001b[49m\u001b[43m(\u001b[49m\u001b[43m)\u001b[49m\n",
      "File \u001b[1;32m~\\miniconda3\\envs\\Genres\\lib\\site-packages\\pandas\\core\\reshape\\concat.py:612\u001b[0m, in \u001b[0;36m_Concatenator.get_result\u001b[1;34m(self)\u001b[0m\n\u001b[0;32m    610\u001b[0m         obj_labels \u001b[38;5;241m=\u001b[39m obj\u001b[38;5;241m.\u001b[39maxes[\u001b[38;5;241m1\u001b[39m \u001b[38;5;241m-\u001b[39m ax]\n\u001b[0;32m    611\u001b[0m         \u001b[38;5;28;01mif\u001b[39;00m \u001b[38;5;129;01mnot\u001b[39;00m new_labels\u001b[38;5;241m.\u001b[39mequals(obj_labels):\n\u001b[1;32m--> 612\u001b[0m             indexers[ax] \u001b[38;5;241m=\u001b[39m \u001b[43mobj_labels\u001b[49m\u001b[38;5;241;43m.\u001b[39;49m\u001b[43mget_indexer\u001b[49m\u001b[43m(\u001b[49m\u001b[43mnew_labels\u001b[49m\u001b[43m)\u001b[49m\n\u001b[0;32m    614\u001b[0m     mgrs_indexers\u001b[38;5;241m.\u001b[39mappend((obj\u001b[38;5;241m.\u001b[39m_mgr, indexers))\n\u001b[0;32m    616\u001b[0m new_data \u001b[38;5;241m=\u001b[39m concatenate_managers(\n\u001b[0;32m    617\u001b[0m     mgrs_indexers, \u001b[38;5;28mself\u001b[39m\u001b[38;5;241m.\u001b[39mnew_axes, concat_axis\u001b[38;5;241m=\u001b[39m\u001b[38;5;28mself\u001b[39m\u001b[38;5;241m.\u001b[39mbm_axis, copy\u001b[38;5;241m=\u001b[39m\u001b[38;5;28mself\u001b[39m\u001b[38;5;241m.\u001b[39mcopy\n\u001b[0;32m    618\u001b[0m )\n",
      "File \u001b[1;32m~\\miniconda3\\envs\\Genres\\lib\\site-packages\\pandas\\core\\indexes\\base.py:3973\u001b[0m, in \u001b[0;36mIndex.get_indexer\u001b[1;34m(self, target, method, limit, tolerance)\u001b[0m\n\u001b[0;32m   3968\u001b[0m     target \u001b[38;5;241m=\u001b[39m target\u001b[38;5;241m.\u001b[39mastype(dtype, copy\u001b[38;5;241m=\u001b[39m\u001b[38;5;28;01mFalse\u001b[39;00m)\n\u001b[0;32m   3969\u001b[0m     \u001b[38;5;28;01mreturn\u001b[39;00m this\u001b[38;5;241m.\u001b[39m_get_indexer(\n\u001b[0;32m   3970\u001b[0m         target, method\u001b[38;5;241m=\u001b[39mmethod, limit\u001b[38;5;241m=\u001b[39mlimit, tolerance\u001b[38;5;241m=\u001b[39mtolerance\n\u001b[0;32m   3971\u001b[0m     )\n\u001b[1;32m-> 3973\u001b[0m \u001b[38;5;28;01mreturn\u001b[39;00m \u001b[38;5;28;43mself\u001b[39;49m\u001b[38;5;241;43m.\u001b[39;49m\u001b[43m_get_indexer\u001b[49m\u001b[43m(\u001b[49m\u001b[43mtarget\u001b[49m\u001b[43m,\u001b[49m\u001b[43m \u001b[49m\u001b[43mmethod\u001b[49m\u001b[43m,\u001b[49m\u001b[43m \u001b[49m\u001b[43mlimit\u001b[49m\u001b[43m,\u001b[49m\u001b[43m \u001b[49m\u001b[43mtolerance\u001b[49m\u001b[43m)\u001b[49m\n",
      "File \u001b[1;32m~\\miniconda3\\envs\\Genres\\lib\\site-packages\\pandas\\core\\indexes\\base.py:4000\u001b[0m, in \u001b[0;36mIndex._get_indexer\u001b[1;34m(self, target, method, limit, tolerance)\u001b[0m\n\u001b[0;32m   3997\u001b[0m     \u001b[38;5;28;01melse\u001b[39;00m:\n\u001b[0;32m   3998\u001b[0m         tgt_values \u001b[38;5;241m=\u001b[39m target\u001b[38;5;241m.\u001b[39m_get_engine_target()\n\u001b[1;32m-> 4000\u001b[0m     indexer \u001b[38;5;241m=\u001b[39m \u001b[38;5;28;43mself\u001b[39;49m\u001b[38;5;241;43m.\u001b[39;49m\u001b[43m_engine\u001b[49m\u001b[38;5;241;43m.\u001b[39;49m\u001b[43mget_indexer\u001b[49m\u001b[43m(\u001b[49m\u001b[43mtgt_values\u001b[49m\u001b[43m)\u001b[49m\n\u001b[0;32m   4002\u001b[0m \u001b[38;5;28;01mreturn\u001b[39;00m ensure_platform_int(indexer)\n",
      "File \u001b[1;32m~\\miniconda3\\envs\\Genres\\lib\\site-packages\\pandas\\_libs\\index.pyx:308\u001b[0m, in \u001b[0;36mpandas._libs.index.IndexEngine.get_indexer\u001b[1;34m()\u001b[0m\n",
      "File \u001b[1;32mpandas\\_libs\\hashtable_class_helper.pxi:5790\u001b[0m, in \u001b[0;36mpandas._libs.hashtable.PyObjectHashTable.lookup\u001b[1;34m()\u001b[0m\n",
      "\u001b[1;31mMemoryError\u001b[0m: Unable to allocate 20.5 MiB for an array with shape (2683940,) and data type int64"
     ]
    }
   ],
   "source": [
    "complete_df = pd.concat(complete_chunks)"
   ]
  },
  {
   "cell_type": "code",
   "execution_count": null,
   "id": "01c0fdc7",
   "metadata": {},
   "outputs": [],
   "source": [
    "for i, chunk in enumerate(complete_chunks[1:]):\n",
    "    chunk.to_csv(f'../CSVs/wordcount{i}.csv')"
   ]
  },
  {
   "cell_type": "code",
   "execution_count": null,
   "id": "3ef031ba",
   "metadata": {},
   "outputs": [],
   "source": []
  }
 ],
 "metadata": {
  "kernelspec": {
   "display_name": "Python 3 (ipykernel)",
   "language": "python",
   "name": "python3"
  },
  "language_info": {
   "codemirror_mode": {
    "name": "ipython",
    "version": 3
   },
   "file_extension": ".py",
   "mimetype": "text/x-python",
   "name": "python",
   "nbconvert_exporter": "python",
   "pygments_lexer": "ipython3",
   "version": "3.10.11"
  }
 },
 "nbformat": 4,
 "nbformat_minor": 5
}
