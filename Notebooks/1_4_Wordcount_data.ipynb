{
 "cells": [
  {
   "cell_type": "code",
   "execution_count": 1,
   "id": "3e0cfc7f",
   "metadata": {},
   "outputs": [],
   "source": [
    "import os\n",
    "import json\n",
    "import pandas as pd\n",
    "from collections import defaultdict\n",
    "from rapidfuzz import fuzz\n",
    "from tqdm.auto import tqdm"
   ]
  },
  {
   "cell_type": "code",
   "execution_count": 2,
   "id": "46b7598a",
   "metadata": {},
   "outputs": [],
   "source": [
    "df = pd.read_csv('../CSVs/8_filtered_genres.csv',index_col=0).drop('index',axis=1)"
   ]
  },
  {
   "cell_type": "code",
   "execution_count": 3,
   "id": "0066b863",
   "metadata": {
    "scrolled": true
   },
   "outputs": [
    {
     "data": {
      "text/html": [
       "<div>\n",
       "<style scoped>\n",
       "    .dataframe tbody tr th:only-of-type {\n",
       "        vertical-align: middle;\n",
       "    }\n",
       "\n",
       "    .dataframe tbody tr th {\n",
       "        vertical-align: top;\n",
       "    }\n",
       "\n",
       "    .dataframe thead th {\n",
       "        text-align: right;\n",
       "    }\n",
       "</style>\n",
       "<table border=\"1\" class=\"dataframe\">\n",
       "  <thead>\n",
       "    <tr style=\"text-align: right;\">\n",
       "      <th></th>\n",
       "      <th>title</th>\n",
       "      <th>author</th>\n",
       "      <th>total words</th>\n",
       "      <th>vividness</th>\n",
       "      <th>passive voice</th>\n",
       "      <th>all adverbs</th>\n",
       "      <th>ly-adverbs</th>\n",
       "      <th>non-ly-adverbs</th>\n",
       "      <th>year</th>\n",
       "      <th>genres</th>\n",
       "      <th>num final genres</th>\n",
       "    </tr>\n",
       "  </thead>\n",
       "  <tbody>\n",
       "    <tr>\n",
       "      <th>0</th>\n",
       "      <td>The Vanished Birds</td>\n",
       "      <td>Simon Jimenez</td>\n",
       "      <td>124205.0</td>\n",
       "      <td>55.18</td>\n",
       "      <td>6.37</td>\n",
       "      <td>1.95</td>\n",
       "      <td>0.36</td>\n",
       "      <td>1.58</td>\n",
       "      <td>2020.0</td>\n",
       "      <td>['Science Fiction', 'Fantasy', 'Adult']</td>\n",
       "      <td>3</td>\n",
       "    </tr>\n",
       "    <tr>\n",
       "      <th>1</th>\n",
       "      <td>The Price of Honor</td>\n",
       "      <td>Jonathan P. Brazee</td>\n",
       "      <td>77253.0</td>\n",
       "      <td>35.35</td>\n",
       "      <td>8.71</td>\n",
       "      <td>2.63</td>\n",
       "      <td>0.71</td>\n",
       "      <td>1.92</td>\n",
       "      <td>2017.0</td>\n",
       "      <td>['Science Fiction']</td>\n",
       "      <td>1</td>\n",
       "    </tr>\n",
       "    <tr>\n",
       "      <th>2</th>\n",
       "      <td>The Case of the Baker Street Irregulars</td>\n",
       "      <td>Anthony Boucher</td>\n",
       "      <td>80557.0</td>\n",
       "      <td>32.33</td>\n",
       "      <td>8.41</td>\n",
       "      <td>3.72</td>\n",
       "      <td>1.64</td>\n",
       "      <td>2.08</td>\n",
       "      <td>1940.0</td>\n",
       "      <td>['Mystery', 'Crime', 'Classics']</td>\n",
       "      <td>3</td>\n",
       "    </tr>\n",
       "    <tr>\n",
       "      <th>3</th>\n",
       "      <td>Wildoak</td>\n",
       "      <td>C. C. Harrington</td>\n",
       "      <td>55602.0</td>\n",
       "      <td>74.34</td>\n",
       "      <td>6.92</td>\n",
       "      <td>3.04</td>\n",
       "      <td>1.16</td>\n",
       "      <td>1.87</td>\n",
       "      <td>2022.0</td>\n",
       "      <td>['Historical Fiction', 'Young Adult']</td>\n",
       "      <td>2</td>\n",
       "    </tr>\n",
       "    <tr>\n",
       "      <th>4</th>\n",
       "      <td>The Holiday</td>\n",
       "      <td>T. M. Logan</td>\n",
       "      <td>101767.0</td>\n",
       "      <td>50.30</td>\n",
       "      <td>8.02</td>\n",
       "      <td>3.06</td>\n",
       "      <td>1.12</td>\n",
       "      <td>1.93</td>\n",
       "      <td>2019.0</td>\n",
       "      <td>['Thriller', 'Mystery', 'Crime', 'Suspense']</td>\n",
       "      <td>4</td>\n",
       "    </tr>\n",
       "  </tbody>\n",
       "</table>\n",
       "</div>"
      ],
      "text/plain": [
       "                                     title              author  total words  \\\n",
       "0                       The Vanished Birds       Simon Jimenez     124205.0   \n",
       "1                       The Price of Honor  Jonathan P. Brazee      77253.0   \n",
       "2  The Case of the Baker Street Irregulars     Anthony Boucher      80557.0   \n",
       "3                                  Wildoak    C. C. Harrington      55602.0   \n",
       "4                              The Holiday         T. M. Logan     101767.0   \n",
       "\n",
       "   vividness  passive voice  all adverbs  ly-adverbs  non-ly-adverbs    year  \\\n",
       "0      55.18           6.37         1.95        0.36            1.58  2020.0   \n",
       "1      35.35           8.71         2.63        0.71            1.92  2017.0   \n",
       "2      32.33           8.41         3.72        1.64            2.08  1940.0   \n",
       "3      74.34           6.92         3.04        1.16            1.87  2022.0   \n",
       "4      50.30           8.02         3.06        1.12            1.93  2019.0   \n",
       "\n",
       "                                         genres  num final genres  \n",
       "0       ['Science Fiction', 'Fantasy', 'Adult']                 3  \n",
       "1                           ['Science Fiction']                 1  \n",
       "2              ['Mystery', 'Crime', 'Classics']                 3  \n",
       "3         ['Historical Fiction', 'Young Adult']                 2  \n",
       "4  ['Thriller', 'Mystery', 'Crime', 'Suspense']                 4  "
      ]
     },
     "execution_count": 3,
     "metadata": {},
     "output_type": "execute_result"
    }
   ],
   "source": [
    "df.head()"
   ]
  },
  {
   "cell_type": "code",
   "execution_count": 4,
   "id": "36c4a1dd",
   "metadata": {},
   "outputs": [],
   "source": [
    "def get_word_counts_from_json(author, title):\n",
    "    file_path = f'../word-counts/{author}/{title}/word-counts.json'\n",
    "    word_counts = read_json(file_path)\n",
    "    return word_counts"
   ]
  },
  {
   "cell_type": "code",
   "execution_count": 5,
   "id": "6f9da84f",
   "metadata": {},
   "outputs": [],
   "source": [
    "def read_json(file_path):\n",
    "    with open(file_path, 'r', encoding='utf-8') as f:\n",
    "        data = json.load(f)\n",
    "    return data"
   ]
  },
  {
   "cell_type": "markdown",
   "id": "f1a133d7",
   "metadata": {},
   "source": [
    "The formatting of the directory is as follows: Within the 'word-counts' folder, there are about 15,000 folders representing authors. In the folder of each author, there is a subfolder for each of their books. And in each book folder, there is one file: A JSON containing the frequency of each word that appears in the book. "
   ]
  },
  {
   "cell_type": "code",
   "execution_count": 6,
   "id": "ce117bdf",
   "metadata": {},
   "outputs": [],
   "source": [
    "def process_directory_structure(root_dir\n",
    "    authors = set()\n",
    "    books = defaultdict(set)\n",
    "    df = pd.DataFrame()\n",
    "\n",
    "\n",
    "    for author in os.listdir(root_dir):\n",
    "        if os.path.isdir(f'{root_dir}/{author}'):\n",
    "            authors.add(author)\n",
    "            author_dir = os.path.join(root_dir, author)\n",
    "\n",
    "            for book in os.listdir(author_dir):\n",
    "                book_dir = os.path.join(author_dir, book)\n",
    "                books[author].add(book)\n",
    "\n",
    "    return books"
   ]
  },
  {
   "cell_type": "code",
   "execution_count": 7,
   "id": "80dee3e5",
   "metadata": {},
   "outputs": [],
   "source": [
    "root_dir = '../word-counts/'\n",
    "books = process_directory_structure(root_dir)"
   ]
  },
  {
   "cell_type": "code",
   "execution_count": 11,
   "id": "7ccf3b2d",
   "metadata": {},
   "outputs": [],
   "source": [
    "def add_data_to_dataframe(df, author, book, word_counts):\n",
    "    word_counts['Author'] = author\n",
    "    word_counts['Book'] = book\n",
    "    df = pd.concat(word_counts, ignore_index=True)\n",
    "    return df"
   ]
  },
  {
   "cell_type": "code",
   "execution_count": 27,
   "id": "74a4d429",
   "metadata": {},
   "outputs": [],
   "source": [
    "def clean(name):\n",
    "    to_remove = [':',',','’','?','/']\n",
    "    for char in to_remove:\n",
    "        name = name.replace(char, '')\n",
    "    name = name.lower().replace(' ','-').replace('&','and').replace('.-','-').replace('.','-').strip('-')\n",
    "    return name"
   ]
  },
  {
   "cell_type": "code",
   "execution_count": 28,
   "id": "b82364e9",
   "metadata": {},
   "outputs": [],
   "source": [
    "def get_wordcounts(orig_title, orig_author, correct_books, threshold=90):\n",
    "    # Reformat title and author's name to match folder names\n",
    "    title = clean(orig_title)\n",
    "    author = clean(orig_author)\n",
    "    correct_books_copy = correct_books.copy()\n",
    "    \n",
    "    \n",
    "    # Check if the author's name is in the list of folders at the author level\n",
    "    if author in correct_books_copy.keys():\n",
    "        # If found, check the author's folder for the title folder. \n",
    "        if title in correct_books[author]:\n",
    "            return get_word_counts_from_json(author,title)\n",
    "        else: \n",
    "            # Check for title names that are close to the cleaned title name\n",
    "            for correct_title in correct_books[author]:\n",
    "                if fuzz.ratio(title, correct_title) > threshold:\n",
    "                    return get_wordcounts(correct_title, author, correct_books, threshold)\n",
    "        return -1\n",
    "    else: \n",
    "        # If the exact author's name wasn't found, check for extremely similar authors' names. \n",
    "        for correct_author in correct_books_copy.keys():\n",
    "            if fuzz.ratio(author, correct_author) > 95:\n",
    "                return get_wordcounts(title, correct_author, correct_books, threshold)\n",
    "        # If that doesn't work, check for moderately similar authors' names. \n",
    "        for correct_author in correct_books_copy.keys():\n",
    "            if fuzz.ratio(author, correct_author) > threshold:\n",
    "                return get_wordcounts(title, correct_author, correct_books, threshold)\n",
    "        return -1"
   ]
  },
  {
   "cell_type": "code",
   "execution_count": 14,
   "id": "e5c283bf",
   "metadata": {},
   "outputs": [],
   "source": [
    "books = process_directory_structure(root_dir)"
   ]
  },
  {
   "cell_type": "code",
   "execution_count": 29,
   "id": "c79ed327",
   "metadata": {},
   "outputs": [
    {
     "data": {
      "application/vnd.jupyter.widget-view+json": {
       "model_id": "ef59c400144a473092fb00c60a42707b",
       "version_major": 2,
       "version_minor": 0
      },
      "text/plain": [
       "  0%|          | 0/20490 [00:00<?, ?it/s]"
      ]
     },
     "metadata": {},
     "output_type": "display_data"
    },
    {
     "name": "stdout",
     "output_type": "stream",
     "text": [
      "Did not work for Queer Intentions: A (Personal) journey through LGBTQ+ culture, by Amelia Abraham\n"
     ]
    }
   ],
   "source": [
    "for i in tqdm(range(len(df))):\n",
    "    returned =  get_wordcounts(df.iloc[i]['title'],df.iloc[i]['author'],books,80)\n",
    "    if returned == -1:\n",
    "        print(f\"Did not work for {df.iloc[i]['title']}, by {df.iloc[i]['author']}\")"
   ]
  },
  {
   "cell_type": "markdown",
   "id": "32efd2e1",
   "metadata": {},
   "source": [
    "The only book I wasn't able to find was a book whose title in the dataframe includes a subtitle, and whose matching folder does not! An easy fix. "
   ]
  },
  {
   "cell_type": "code",
   "execution_count": 34,
   "id": "2586c87b",
   "metadata": {},
   "outputs": [],
   "source": [
    "df.loc[df['author'] == 'Amelia Abraham', 'title'] = \"Queer Intentions\""
   ]
  },
  {
   "cell_type": "code",
   "execution_count": 35,
   "id": "eddc6223",
   "metadata": {},
   "outputs": [
    {
     "data": {
      "text/html": [
       "<div>\n",
       "<style scoped>\n",
       "    .dataframe tbody tr th:only-of-type {\n",
       "        vertical-align: middle;\n",
       "    }\n",
       "\n",
       "    .dataframe tbody tr th {\n",
       "        vertical-align: top;\n",
       "    }\n",
       "\n",
       "    .dataframe thead th {\n",
       "        text-align: right;\n",
       "    }\n",
       "</style>\n",
       "<table border=\"1\" class=\"dataframe\">\n",
       "  <thead>\n",
       "    <tr style=\"text-align: right;\">\n",
       "      <th></th>\n",
       "      <th>title</th>\n",
       "      <th>author</th>\n",
       "      <th>total words</th>\n",
       "      <th>vividness</th>\n",
       "      <th>passive voice</th>\n",
       "      <th>all adverbs</th>\n",
       "      <th>ly-adverbs</th>\n",
       "      <th>non-ly-adverbs</th>\n",
       "      <th>year</th>\n",
       "      <th>genres</th>\n",
       "      <th>num final genres</th>\n",
       "    </tr>\n",
       "  </thead>\n",
       "  <tbody>\n",
       "    <tr>\n",
       "      <th>18673</th>\n",
       "      <td>Queer Intentions</td>\n",
       "      <td>Amelia Abraham</td>\n",
       "      <td>86726.0</td>\n",
       "      <td>29.31</td>\n",
       "      <td>8.8</td>\n",
       "      <td>3.12</td>\n",
       "      <td>1.13</td>\n",
       "      <td>1.98</td>\n",
       "      <td>2019.0</td>\n",
       "      <td>['Memoir']</td>\n",
       "      <td>1</td>\n",
       "    </tr>\n",
       "  </tbody>\n",
       "</table>\n",
       "</div>"
      ],
      "text/plain": [
       "                  title          author  total words  vividness  \\\n",
       "18673  Queer Intentions  Amelia Abraham      86726.0      29.31   \n",
       "\n",
       "       passive voice  all adverbs  ly-adverbs  non-ly-adverbs    year  \\\n",
       "18673            8.8         3.12        1.13            1.98  2019.0   \n",
       "\n",
       "           genres  num final genres  \n",
       "18673  ['Memoir']                 1  "
      ]
     },
     "execution_count": 35,
     "metadata": {},
     "output_type": "execute_result"
    }
   ],
   "source": [
    "df.loc[df['author'] == 'Amelia Abraham']"
   ]
  },
  {
   "cell_type": "code",
   "execution_count": null,
   "id": "7a4f39ce",
   "metadata": {},
   "outputs": [],
   "source": []
  }
 ],
 "metadata": {
  "kernelspec": {
   "display_name": "Python 3 (ipykernel)",
   "language": "python",
   "name": "python3"
  },
  "language_info": {
   "codemirror_mode": {
    "name": "ipython",
    "version": 3
   },
   "file_extension": ".py",
   "mimetype": "text/x-python",
   "name": "python",
   "nbconvert_exporter": "python",
   "pygments_lexer": "ipython3",
   "version": "3.10.11"
  }
 },
 "nbformat": 4,
 "nbformat_minor": 5
}
