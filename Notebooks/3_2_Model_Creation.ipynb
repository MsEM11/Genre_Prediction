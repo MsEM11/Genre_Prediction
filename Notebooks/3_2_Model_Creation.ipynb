{
  "nbformat": 4,
  "nbformat_minor": 0,
  "metadata": {
    "colab": {
      "provenance": [],
      "machine_shape": "hm",
      "toc_visible": true
    },
    "kernelspec": {
      "name": "python3",
      "display_name": "Python 3"
    },
    "language_info": {
      "name": "python"
    }
  },
  "cells": [
    {
      "cell_type": "code",
      "source": [
        "from google.colab import drive\n",
        "drive.mount('/content/drive')"
      ],
      "metadata": {
        "colab": {
          "base_uri": "https://localhost:8080/"
        },
        "id": "S6NIsyHT9upz",
        "outputId": "75c814ba-f16a-44a3-bcab-8dcee3981dca"
      },
      "execution_count": null,
      "outputs": [
        {
          "output_type": "stream",
          "name": "stdout",
          "text": [
            "Mounted at /content/drive\n"
          ]
        }
      ]
    },
    {
      "cell_type": "code",
      "source": [],
      "metadata": {
        "id": "JsBtmCYUNNK7"
      },
      "execution_count": null,
      "outputs": []
    },
    {
      "cell_type": "code",
      "execution_count": null,
      "metadata": {
        "id": "VdkCwZED7lTY"
      },
      "outputs": [],
      "source": [
        "import pandas as pd\n",
        "import numpy as np\n",
        "import matplotlib.pyplot as plt\n",
        "import seaborn as sns\n",
        "from tqdm import tqdm"
      ]
    },
    {
      "cell_type": "code",
      "source": [
        "# load data\n",
        "X_train = np.load('/content/drive/My Drive/CSVs/X_train_transformed.npy')\n",
        "y_train = pd.read_parquet('/content/drive/My Drive/CSVs/y_train.parquet')\n",
        "y_train = y_train.values\n",
        "X_test = np.load('/content/drive/My Drive/CSVs/X_test_transformed.npy')\n",
        "y_test = pd.read_parquet('/content/drive/My Drive/CSVs/y_test.parquet')\n",
        "y_test = y_test.values\n"
      ],
      "metadata": {
        "id": "MzGTWtGn9Jfx"
      },
      "execution_count": null,
      "outputs": []
    },
    {
      "cell_type": "code",
      "source": [
        "type(X_train)\n"
      ],
      "metadata": {
        "colab": {
          "base_uri": "https://localhost:8080/"
        },
        "id": "gaspRVdn9oxt",
        "outputId": "8d58e6a0-15cc-44ba-f4c1-db7cf0781b4e"
      },
      "execution_count": null,
      "outputs": [
        {
          "output_type": "execute_result",
          "data": {
            "text/plain": [
              "numpy.ndarray"
            ]
          },
          "metadata": {},
          "execution_count": 4
        }
      ]
    },
    {
      "cell_type": "code",
      "source": [
        "type(y_train)"
      ],
      "metadata": {
        "colab": {
          "base_uri": "https://localhost:8080/"
        },
        "id": "5Yh1qG5e-HsQ",
        "outputId": "387d5880-11da-4f72-f8ec-9b4af174a9dc"
      },
      "execution_count": null,
      "outputs": [
        {
          "output_type": "execute_result",
          "data": {
            "text/plain": [
              "numpy.ndarray"
            ]
          },
          "metadata": {},
          "execution_count": 5
        }
      ]
    },
    {
      "cell_type": "code",
      "source": [
        "y_train"
      ],
      "metadata": {
        "colab": {
          "base_uri": "https://localhost:8080/"
        },
        "id": "1GjU0hr2-OrW",
        "outputId": "1f95dd10-9333-4c8f-ee07-f6fdfbc365cb"
      },
      "execution_count": null,
      "outputs": [
        {
          "output_type": "execute_result",
          "data": {
            "text/plain": [
              "array([[0, 0, 0, ..., 0, 0, 0],\n",
              "       [1, 1, 0, ..., 0, 0, 0],\n",
              "       [0, 0, 0, ..., 1, 0, 1],\n",
              "       ...,\n",
              "       [0, 0, 0, ..., 0, 0, 0],\n",
              "       [0, 0, 1, ..., 0, 0, 0],\n",
              "       [1, 1, 0, ..., 0, 0, 0]])"
            ]
          },
          "metadata": {},
          "execution_count": 6
        }
      ]
    },
    {
      "cell_type": "code",
      "source": [
        "from sklearn.ensemble import RandomForestClassifier\n",
        "from sklearn.metrics import accuracy_score, hamming_loss, f1_score, classification_report"
      ],
      "metadata": {
        "id": "PL3MotSO-UB0"
      },
      "execution_count": null,
      "outputs": []
    },
    {
      "cell_type": "code",
      "source": [
        "# Create a default Random Forest classifier for each genre\n",
        "classifiers = [RandomForestClassifier(random_state=42) for _ in range(y_train.shape[1])]"
      ],
      "metadata": {
        "id": "3kc2H3EF-ont"
      },
      "execution_count": null,
      "outputs": []
    },
    {
      "cell_type": "code",
      "source": [
        "# Fit each model\n",
        "for i, clf in enumerate(tqdm(classifiers)):\n",
        "    clf.fit(X_train, y_train[:, i])"
      ],
      "metadata": {
        "colab": {
          "base_uri": "https://localhost:8080/"
        },
        "id": "9FbITkEx-w32",
        "outputId": "0e71086e-fbdf-4e64-c068-9c48b83cf750"
      },
      "execution_count": null,
      "outputs": [
        {
          "output_type": "stream",
          "name": "stderr",
          "text": [
            "100%|██████████| 18/18 [01:46<00:00,  5.94s/it]\n"
          ]
        }
      ]
    },
    {
      "cell_type": "code",
      "source": [
        "import joblib"
      ],
      "metadata": {
        "id": "z86COb-LF7OQ"
      },
      "execution_count": null,
      "outputs": []
    },
    {
      "cell_type": "code",
      "source": [
        "# Save models\n",
        "for i, clf in enumerate(classifiers):\n",
        "    joblib.dump(clf, f'/content/drive/My Drive/Models/rf_classifier_label_{i}.pkl')"
      ],
      "metadata": {
        "id": "E4rFrwomc2AA"
      },
      "execution_count": null,
      "outputs": []
    },
    {
      "cell_type": "code",
      "source": [
        "y_pred = np.array([clf.predict(X_test) for clf in classifiers]).T"
      ],
      "metadata": {
        "id": "7BLI3gKIc7rG"
      },
      "execution_count": null,
      "outputs": []
    },
    {
      "cell_type": "code",
      "source": [
        "y_pred"
      ],
      "metadata": {
        "colab": {
          "base_uri": "https://localhost:8080/"
        },
        "id": "K5ZGIE8j_MJw",
        "outputId": "7832e6b6-5db7-4c53-c317-28590924729a"
      },
      "execution_count": null,
      "outputs": [
        {
          "output_type": "execute_result",
          "data": {
            "text/plain": [
              "array([[1, 1, 0, ..., 0, 0, 0],\n",
              "       [1, 1, 0, ..., 0, 0, 0],\n",
              "       [1, 0, 0, ..., 0, 0, 0],\n",
              "       ...,\n",
              "       [0, 0, 0, ..., 0, 0, 0],\n",
              "       [0, 0, 0, ..., 0, 0, 0],\n",
              "       [1, 0, 0, ..., 0, 0, 0]])"
            ]
          },
          "metadata": {},
          "execution_count": 12
        }
      ]
    },
    {
      "cell_type": "code",
      "source": [
        "# Evaluate combined model\n",
        "hamming_loss_score = hamming_loss(y_test, y_pred)\n",
        "f1_score_micro = f1_score(y_test, y_pred, average='micro')\n",
        "f1_score_macro = f1_score(y_test, y_pred, average='macro')\n",
        "\n",
        "print(f'Hamming Loss: {hamming_loss_score:.4f}')\n",
        "print(f'F1 Score (Micro): {f1_score_micro:.4f}')\n",
        "print(f'F1 Score (Macro): {f1_score_macro:.4f}')"
      ],
      "metadata": {
        "colab": {
          "base_uri": "https://localhost:8080/"
        },
        "id": "kvCpnF_pAPwN",
        "outputId": "dffe007a-3cb2-45fb-ae9c-634150703503"
      },
      "execution_count": null,
      "outputs": [
        {
          "output_type": "stream",
          "name": "stdout",
          "text": [
            "Hamming Loss: 0.0953\n",
            "F1 Score (Micro): 0.5814\n",
            "F1 Score (Macro): 0.4745\n"
          ]
        }
      ]
    },
    {
      "cell_type": "code",
      "source": [
        "# Load data with genre names\n",
        "y_test_full = pd.read_parquet('/content/drive/My Drive/CSVs/y_test.parquet')\n"
      ],
      "metadata": {
        "id": "jp0GeWWcb_Eu"
      },
      "execution_count": null,
      "outputs": []
    },
    {
      "cell_type": "code",
      "source": [
        "print(classification_report(y_test, y_pred, target_names=y_test_full.columns ))"
      ],
      "metadata": {
        "colab": {
          "base_uri": "https://localhost:8080/"
        },
        "id": "__X8d8CFpBTS",
        "outputId": "23900127-7557-406e-ae89-fcdd5cb3d018"
      },
      "execution_count": null,
      "outputs": [
        {
          "output_type": "stream",
          "name": "stdout",
          "text": [
            "                  precision    recall  f1-score   support\n",
            "\n",
            "         Mystery       0.78      0.74      0.76      1585\n",
            "        Thriller       0.75      0.68      0.71      1323\n",
            "         Fantasy       0.82      0.65      0.73      1181\n",
            " Science Fiction       0.74      0.40      0.52       726\n",
            "           Crime       0.69      0.39      0.50       729\n",
            "    Contemporary       0.76      0.32      0.45       702\n",
            "         Romance       0.80      0.36      0.50       642\n",
            "        Suspense       0.74      0.20      0.31       610\n",
            "     Young Adult       0.83      0.26      0.40       502\n",
            "      Historical       0.80      0.34      0.47       599\n",
            "          Horror       0.87      0.04      0.08       298\n",
            "       Adventure       0.93      0.15      0.26       255\n",
            "      Paranormal       0.82      0.05      0.10       273\n",
            "         History       0.92      0.73      0.82       250\n",
            "Literary Fiction       0.79      0.07      0.13       267\n",
            "       Biography       0.76      0.40      0.53       210\n",
            "        Classics       0.85      0.67      0.75       176\n",
            "          Memoir       0.78      0.40      0.53       192\n",
            "\n",
            "       micro avg       0.78      0.46      0.58     10520\n",
            "       macro avg       0.80      0.38      0.47     10520\n",
            "    weighted avg       0.78      0.46      0.55     10520\n",
            "     samples avg       0.65      0.49      0.52     10520\n",
            "\n"
          ]
        },
        {
          "output_type": "stream",
          "name": "stderr",
          "text": [
            "/usr/local/lib/python3.10/dist-packages/sklearn/metrics/_classification.py:1344: UndefinedMetricWarning: Precision and F-score are ill-defined and being set to 0.0 in samples with no predicted labels. Use `zero_division` parameter to control this behavior.\n",
            "  _warn_prf(average, modifier, msg_start, len(result))\n"
          ]
        }
      ]
    },
    {
      "cell_type": "code",
      "source": [],
      "metadata": {
        "id": "ULCMpjdGpIVH"
      },
      "execution_count": null,
      "outputs": []
    }
  ]
}