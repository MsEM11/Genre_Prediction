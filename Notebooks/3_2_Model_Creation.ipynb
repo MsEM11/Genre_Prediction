{
  "nbformat": 4,
  "nbformat_minor": 0,
  "metadata": {
    "colab": {
      "provenance": [],
      "machine_shape": "hm"
    },
    "kernelspec": {
      "name": "python3",
      "display_name": "Python 3"
    },
    "language_info": {
      "name": "python"
    }
  },
  "cells": [
    {
      "cell_type": "code",
      "source": [
        "from google.colab import drive\n",
        "drive.mount('/content/drive')"
      ],
      "metadata": {
        "colab": {
          "base_uri": "https://localhost:8080/"
        },
        "id": "S6NIsyHT9upz",
        "outputId": "c74c912d-a124-4901-d10e-50e0b50b4a19"
      },
      "execution_count": 1,
      "outputs": [
        {
          "output_type": "stream",
          "name": "stdout",
          "text": [
            "Mounted at /content/drive\n"
          ]
        }
      ]
    },
    {
      "cell_type": "code",
      "execution_count": 2,
      "metadata": {
        "id": "VdkCwZED7lTY"
      },
      "outputs": [],
      "source": [
        "import pandas as pd\n",
        "import numpy as np\n",
        "import matplotlib.pyplot as plt\n",
        "import seaborn as sns\n",
        "from tqdm import tqdm"
      ]
    },
    {
      "cell_type": "code",
      "source": [
        "X_train = np.load('/content/drive/My Drive/CSVs/X_train_transformed.npy')\n",
        "y_train = pd.read_parquet('/content/drive/My Drive/CSVs/y_train.parquet')\n",
        "y_train = y_train.values\n",
        "X_test = np.load('/content/drive/My Drive/CSVs/X_test_transformed.npy')\n",
        "y_test = pd.read_parquet('/content/drive/My Drive/CSVs/y_test.parquet')\n",
        "y_test = y_test.values\n"
      ],
      "metadata": {
        "id": "MzGTWtGn9Jfx"
      },
      "execution_count": 7,
      "outputs": []
    },
    {
      "cell_type": "code",
      "source": [
        "type(X_train)\n"
      ],
      "metadata": {
        "colab": {
          "base_uri": "https://localhost:8080/"
        },
        "id": "gaspRVdn9oxt",
        "outputId": "7961d3bd-45b2-49fd-a250-9bae221871fb"
      },
      "execution_count": 8,
      "outputs": [
        {
          "output_type": "execute_result",
          "data": {
            "text/plain": [
              "numpy.ndarray"
            ]
          },
          "metadata": {},
          "execution_count": 8
        }
      ]
    },
    {
      "cell_type": "code",
      "source": [
        "type(y_train)"
      ],
      "metadata": {
        "colab": {
          "base_uri": "https://localhost:8080/"
        },
        "id": "5Yh1qG5e-HsQ",
        "outputId": "6a9f82cc-a968-408f-df09-1d2dda18ff02"
      },
      "execution_count": 9,
      "outputs": [
        {
          "output_type": "execute_result",
          "data": {
            "text/plain": [
              "numpy.ndarray"
            ]
          },
          "metadata": {},
          "execution_count": 9
        }
      ]
    },
    {
      "cell_type": "code",
      "source": [
        "y_train"
      ],
      "metadata": {
        "colab": {
          "base_uri": "https://localhost:8080/"
        },
        "id": "1GjU0hr2-OrW",
        "outputId": "5e3193ba-ce18-4a6b-ef9a-e79bb027bb59"
      },
      "execution_count": 10,
      "outputs": [
        {
          "output_type": "execute_result",
          "data": {
            "text/plain": [
              "array([[0, 0, 0, ..., 0, 0, 0],\n",
              "       [1, 1, 0, ..., 0, 0, 0],\n",
              "       [0, 0, 0, ..., 1, 0, 1],\n",
              "       ...,\n",
              "       [0, 0, 0, ..., 0, 0, 0],\n",
              "       [0, 0, 1, ..., 0, 0, 0],\n",
              "       [1, 1, 0, ..., 0, 0, 0]])"
            ]
          },
          "metadata": {},
          "execution_count": 10
        }
      ]
    },
    {
      "cell_type": "code",
      "source": [
        "from sklearn.ensemble import RandomForestClassifier\n",
        "from sklearn.metrics import accuracy_score, hamming_loss, f1_score, classification_report"
      ],
      "metadata": {
        "id": "PL3MotSO-UB0"
      },
      "execution_count": 20,
      "outputs": []
    },
    {
      "cell_type": "code",
      "source": [
        "classifiers = [RandomForestClassifier(random_state=42) for _ in range(y_train.shape[1])]"
      ],
      "metadata": {
        "id": "3kc2H3EF-ont"
      },
      "execution_count": 12,
      "outputs": []
    },
    {
      "cell_type": "code",
      "source": [
        "for i, clf in enumerate(tqdm(classifiers)):\n",
        "    clf.fit(X_train, y_train[:, i])"
      ],
      "metadata": {
        "colab": {
          "base_uri": "https://localhost:8080/"
        },
        "id": "9FbITkEx-w32",
        "outputId": "f020f0d8-4dc3-418c-9bcc-e46e58d6187e"
      },
      "execution_count": 13,
      "outputs": [
        {
          "output_type": "stream",
          "name": "stderr",
          "text": [
            "100%|██████████| 18/18 [01:44<00:00,  5.81s/it]\n"
          ]
        }
      ]
    },
    {
      "cell_type": "code",
      "source": [
        "import joblib"
      ],
      "metadata": {
        "id": "z86COb-LF7OQ"
      },
      "execution_count": 21,
      "outputs": []
    },
    {
      "cell_type": "code",
      "source": [
        "for i, clf in enumerate(classifiers):\n",
        "    joblib.dump(clf, f'/content/drive/My Drive/Models/rf_classifier_label_{i}.pkl')"
      ],
      "metadata": {
        "id": "E4rFrwomc2AA"
      },
      "execution_count": 23,
      "outputs": []
    },
    {
      "cell_type": "code",
      "source": [
        "y_pred = np.array([clf.predict(X_test) for clf in classifiers]).T"
      ],
      "metadata": {
        "id": "7BLI3gKIc7rG"
      },
      "execution_count": 14,
      "outputs": []
    },
    {
      "cell_type": "code",
      "source": [
        "y_pred"
      ],
      "metadata": {
        "colab": {
          "base_uri": "https://localhost:8080/"
        },
        "id": "K5ZGIE8j_MJw",
        "outputId": "6a8c8ab2-5d62-4630-80da-692d16f881c1"
      },
      "execution_count": 15,
      "outputs": [
        {
          "output_type": "execute_result",
          "data": {
            "text/plain": [
              "array([[1, 0, 0, ..., 0, 0, 0],\n",
              "       [1, 1, 0, ..., 0, 0, 0],\n",
              "       [1, 1, 0, ..., 0, 0, 0],\n",
              "       ...,\n",
              "       [0, 0, 0, ..., 0, 0, 0],\n",
              "       [0, 0, 0, ..., 0, 0, 0],\n",
              "       [1, 0, 0, ..., 0, 0, 0]])"
            ]
          },
          "metadata": {},
          "execution_count": 15
        }
      ]
    },
    {
      "cell_type": "code",
      "source": [],
      "metadata": {
        "colab": {
          "base_uri": "https://localhost:8080/"
        },
        "id": "qutw1RgT_ofF",
        "outputId": "45fbd9fd-537b-413b-8794-28560bc42402"
      },
      "execution_count": 18,
      "outputs": [
        {
          "output_type": "stream",
          "name": "stdout",
          "text": [
            "(1585, 1491)\n",
            "(1323, 1155)\n",
            "(1181, 925)\n",
            "(726, 388)\n",
            "(729, 501)\n",
            "(702, 309)\n",
            "(642, 321)\n",
            "(610, 408)\n",
            "(502, 212)\n",
            "(599, 269)\n",
            "(298, 55)\n",
            "(255, 68)\n",
            "(273, 27)\n",
            "(250, 199)\n",
            "(267, 17)\n",
            "(210, 117)\n",
            "(176, 138)\n",
            "(192, 88)\n"
          ]
        }
      ]
    },
    {
      "cell_type": "code",
      "source": [
        "# Evaluate model\n",
        "hamming_loss_score = hamming_loss(y_test, y_pred)\n",
        "f1_score_micro = f1_score(y_test, y_pred, average='micro')\n",
        "f1_score_macro = f1_score(y_test, y_pred, average='macro')\n",
        "\n",
        "print(f'Hamming Loss: {hamming_loss_score:.4f}')\n",
        "print(f'F1 Score (Micro): {f1_score_micro:.4f}')\n",
        "print(f'F1 Score (Macro): {f1_score_macro:.4f}')"
      ],
      "metadata": {
        "colab": {
          "base_uri": "https://localhost:8080/"
        },
        "id": "kvCpnF_pAPwN",
        "outputId": "423ffa32-9538-4ccb-dec7-9cbb82fd07ec"
      },
      "execution_count": 19,
      "outputs": [
        {
          "output_type": "stream",
          "name": "stdout",
          "text": [
            "Hamming Loss: 0.0844\n",
            "F1 Score (Micro): 0.6388\n",
            "F1 Score (Macro): 0.5378\n"
          ]
        }
      ]
    },
    {
      "cell_type": "code",
      "source": [
        "print(classification_report(y_test, y_pred))\n"
      ],
      "metadata": {
        "colab": {
          "base_uri": "https://localhost:8080/"
        },
        "id": "5tq3mNLfAiH0",
        "outputId": "ea760ccf-60b8-4e26-ab43-9e8e034273ec"
      },
      "execution_count": 22,
      "outputs": [
        {
          "output_type": "stream",
          "name": "stdout",
          "text": [
            "              precision    recall  f1-score   support\n",
            "\n",
            "           0       0.85      0.79      0.82      1585\n",
            "           1       0.82      0.72      0.77      1323\n",
            "           2       0.84      0.66      0.74      1181\n",
            "           3       0.78      0.42      0.55       726\n",
            "           4       0.74      0.51      0.60       729\n",
            "           5       0.78      0.34      0.48       702\n",
            "           6       0.83      0.41      0.55       642\n",
            "           7       0.78      0.52      0.62       610\n",
            "           8       0.84      0.36      0.50       502\n",
            "           9       0.84      0.38      0.52       599\n",
            "          10       0.75      0.14      0.23       298\n",
            "          11       0.90      0.24      0.38       255\n",
            "          12       0.85      0.08      0.15       273\n",
            "          13       0.91      0.72      0.81       250\n",
            "          14       0.82      0.05      0.10       267\n",
            "          15       0.85      0.48      0.61       210\n",
            "          16       0.84      0.66      0.74       176\n",
            "          17       0.83      0.38      0.52       192\n",
            "\n",
            "   micro avg       0.82      0.52      0.64     10520\n",
            "   macro avg       0.82      0.44      0.54     10520\n",
            "weighted avg       0.82      0.52      0.61     10520\n",
            " samples avg       0.64      0.50      0.54     10520\n",
            "\n"
          ]
        },
        {
          "output_type": "stream",
          "name": "stderr",
          "text": [
            "/usr/local/lib/python3.10/dist-packages/sklearn/metrics/_classification.py:1344: UndefinedMetricWarning: Precision and F-score are ill-defined and being set to 0.0 in samples with no predicted labels. Use `zero_division` parameter to control this behavior.\n",
            "  _warn_prf(average, modifier, msg_start, len(result))\n"
          ]
        }
      ]
    },
    {
      "cell_type": "code",
      "source": [],
      "metadata": {
        "id": "jp0GeWWcb_Eu"
      },
      "execution_count": null,
      "outputs": []
    }
  ]
}