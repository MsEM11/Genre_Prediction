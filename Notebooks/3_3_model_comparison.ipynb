{
  "cells": [
    {
      "cell_type": "code",
      "execution_count": null,
      "metadata": {
        "colab": {
          "base_uri": "https://localhost:8080/"
        },
        "id": "S6NIsyHT9upz",
        "outputId": "db1ec831-c894-48a8-945a-eb15ccafb1e8"
      },
      "outputs": [
        {
          "output_type": "stream",
          "name": "stdout",
          "text": [
            "Mounted at /content/drive\n"
          ]
        }
      ],
      "source": [
        "from google.colab import drive\n",
        "drive.mount('/content/drive')"
      ]
    },
    {
      "cell_type": "code",
      "execution_count": null,
      "metadata": {
        "id": "iM4jJBefLC26"
      },
      "outputs": [],
      "source": [
        "import pandas as pd\n",
        "import numpy as np\n",
        "import matplotlib.pyplot as plt\n",
        "import seaborn as sns\n",
        "from tqdm import tqdm\n",
        "import joblib"
      ]
    },
    {
      "cell_type": "code",
      "execution_count": null,
      "metadata": {
        "id": "5LVDh2tmNRtG"
      },
      "outputs": [],
      "source": [
        "# load data\n",
        "X_train = np.load('/content/drive/My Drive/CSVs/X_train_transformed.npy')\n",
        "y_train = pd.read_parquet('/content/drive/My Drive/CSVs/y_train.parquet')\n",
        "X_test = np.load('/content/drive/My Drive/CSVs/X_test_transformed.npy')\n",
        "y_test = pd.read_parquet('/content/drive/My Drive/CSVs/y_test.parquet')\n",
        "y_train = y_train.values\n",
        "y_test = y_test.values"
      ]
    },
    {
      "cell_type": "code",
      "execution_count": null,
      "metadata": {
        "id": "QiwOsXxJLF_D"
      },
      "outputs": [],
      "source": [
        "from sklearn.model_selection import RandomizedSearchCV\n",
        "from sklearn.ensemble import RandomForestClassifier"
      ]
    },
    {
      "cell_type": "code",
      "execution_count": null,
      "metadata": {
        "id": "l4Rfu6LhLl0o"
      },
      "outputs": [],
      "source": [
        "rf = RandomForestClassifier(random_state=42)\n"
      ]
    },
    {
      "cell_type": "code",
      "execution_count": null,
      "metadata": {
        "id": "HfcDByfgLv4M"
      },
      "outputs": [],
      "source": [
        "# Set up the sample space\n",
        "param_dist = {\n",
        "    'n_estimators': [50, 100, 150, 200],\n",
        "    'max_depth': [None, 10, 20, 30, 40],\n",
        "    'min_samples_split': [2, 5, 10],\n",
        "    'min_samples_leaf': [1, 2, 4],\n",
        "    'bootstrap': [True, False]}"
      ]
    },
    {
      "cell_type": "code",
      "execution_count": null,
      "metadata": {
        "id": "bSy3VTODLrh8"
      },
      "outputs": [],
      "source": [
        "random_search = RandomizedSearchCV(estimator = rf, param_distributions = param_dist, n_iter = 10, cv = 5, verbose=2, random_state=42, n_jobs = 2)\n"
      ]
    },
    {
      "cell_type": "code",
      "execution_count": null,
      "metadata": {
        "id": "SbbdlXTpNH7U"
      },
      "outputs": [],
      "source": [
        "best_rf_classifiers = []"
      ]
    },
    {
      "cell_type": "code",
      "execution_count": null,
      "metadata": {
        "colab": {
          "background_save": true,
          "base_uri": "https://localhost:8080/"
        },
        "id": "Y4I8iDp-N5IB",
        "outputId": "aeaa613e-ab29-4765-a303-a4098468aded"
      },
      "outputs": [
        {
          "name": "stderr",
          "output_type": "stream",
          "text": [
            "\r  0%|          | 0/18 [00:00<?, ?it/s]"
          ]
        },
        {
          "name": "stdout",
          "output_type": "stream",
          "text": [
            "Fitting 5 folds for each of 10 candidates, totalling 50 fits\n"
          ]
        },
        {
          "name": "stderr",
          "output_type": "stream",
          "text": [
            "\r  6%|▌         | 1/18 [02:33<43:35, 153.84s/it]"
          ]
        },
        {
          "name": "stdout",
          "output_type": "stream",
          "text": [
            "Fitting 5 folds for each of 10 candidates, totalling 50 fits\n"
          ]
        },
        {
          "name": "stderr",
          "output_type": "stream",
          "text": [
            "\r 11%|█         | 2/18 [05:04<40:28, 151.75s/it]"
          ]
        },
        {
          "name": "stdout",
          "output_type": "stream",
          "text": [
            "Fitting 5 folds for each of 10 candidates, totalling 50 fits\n"
          ]
        },
        {
          "name": "stderr",
          "output_type": "stream",
          "text": [
            "\r 17%|█▋        | 3/18 [07:33<37:39, 150.61s/it]"
          ]
        },
        {
          "name": "stdout",
          "output_type": "stream",
          "text": [
            "Fitting 5 folds for each of 10 candidates, totalling 50 fits\n"
          ]
        },
        {
          "name": "stderr",
          "output_type": "stream",
          "text": [
            "\r 22%|██▏       | 4/18 [10:05<35:18, 151.32s/it]"
          ]
        },
        {
          "name": "stdout",
          "output_type": "stream",
          "text": [
            "Fitting 5 folds for each of 10 candidates, totalling 50 fits\n"
          ]
        },
        {
          "name": "stderr",
          "output_type": "stream",
          "text": [
            "\r 28%|██▊       | 5/18 [12:28<32:07, 148.28s/it]"
          ]
        },
        {
          "name": "stdout",
          "output_type": "stream",
          "text": [
            "Fitting 5 folds for each of 10 candidates, totalling 50 fits\n"
          ]
        },
        {
          "name": "stderr",
          "output_type": "stream",
          "text": [
            "\r 33%|███▎      | 6/18 [14:52<29:19, 146.62s/it]"
          ]
        },
        {
          "name": "stdout",
          "output_type": "stream",
          "text": [
            "Fitting 5 folds for each of 10 candidates, totalling 50 fits\n"
          ]
        },
        {
          "name": "stderr",
          "output_type": "stream",
          "text": [
            "\r 39%|███▉      | 7/18 [17:21<27:01, 147.41s/it]"
          ]
        },
        {
          "name": "stdout",
          "output_type": "stream",
          "text": [
            "Fitting 5 folds for each of 10 candidates, totalling 50 fits\n"
          ]
        },
        {
          "name": "stderr",
          "output_type": "stream",
          "text": [
            "\r 44%|████▍     | 8/18 [19:40<24:08, 144.89s/it]"
          ]
        },
        {
          "name": "stdout",
          "output_type": "stream",
          "text": [
            "Fitting 5 folds for each of 10 candidates, totalling 50 fits\n"
          ]
        },
        {
          "name": "stderr",
          "output_type": "stream",
          "text": [
            "\r 50%|█████     | 9/18 [22:04<21:41, 144.61s/it]"
          ]
        },
        {
          "name": "stdout",
          "output_type": "stream",
          "text": [
            "Fitting 5 folds for each of 10 candidates, totalling 50 fits\n"
          ]
        },
        {
          "name": "stderr",
          "output_type": "stream",
          "text": [
            "\r 56%|█████▌    | 10/18 [24:31<19:22, 145.26s/it]"
          ]
        },
        {
          "name": "stdout",
          "output_type": "stream",
          "text": [
            "Fitting 5 folds for each of 10 candidates, totalling 50 fits\n"
          ]
        },
        {
          "name": "stderr",
          "output_type": "stream",
          "text": [
            "\r 61%|██████    | 11/18 [27:00<17:04, 146.31s/it]"
          ]
        },
        {
          "name": "stdout",
          "output_type": "stream",
          "text": [
            "Fitting 5 folds for each of 10 candidates, totalling 50 fits\n"
          ]
        },
        {
          "name": "stderr",
          "output_type": "stream",
          "text": [
            "\r 67%|██████▋   | 12/18 [29:19<14:26, 144.34s/it]"
          ]
        },
        {
          "name": "stdout",
          "output_type": "stream",
          "text": [
            "Fitting 5 folds for each of 10 candidates, totalling 50 fits\n"
          ]
        },
        {
          "name": "stderr",
          "output_type": "stream",
          "text": [
            "\r 72%|███████▏  | 13/18 [31:37<11:52, 142.42s/it]"
          ]
        },
        {
          "name": "stdout",
          "output_type": "stream",
          "text": [
            "Fitting 5 folds for each of 10 candidates, totalling 50 fits\n"
          ]
        },
        {
          "name": "stderr",
          "output_type": "stream",
          "text": [
            "\r 78%|███████▊  | 14/18 [33:46<09:13, 138.28s/it]"
          ]
        },
        {
          "name": "stdout",
          "output_type": "stream",
          "text": [
            "Fitting 5 folds for each of 10 candidates, totalling 50 fits\n"
          ]
        },
        {
          "name": "stderr",
          "output_type": "stream",
          "text": [
            "\r 83%|████████▎ | 15/18 [35:58<06:48, 136.23s/it]"
          ]
        },
        {
          "name": "stdout",
          "output_type": "stream",
          "text": [
            "Fitting 5 folds for each of 10 candidates, totalling 50 fits\n"
          ]
        },
        {
          "name": "stderr",
          "output_type": "stream",
          "text": [
            "\r 89%|████████▉ | 16/18 [37:49<04:17, 128.78s/it]"
          ]
        },
        {
          "name": "stdout",
          "output_type": "stream",
          "text": [
            "Fitting 5 folds for each of 10 candidates, totalling 50 fits\n"
          ]
        },
        {
          "name": "stderr",
          "output_type": "stream",
          "text": [
            "\r 94%|█████████▍| 17/18 [40:08<02:11, 131.91s/it]"
          ]
        },
        {
          "name": "stdout",
          "output_type": "stream",
          "text": [
            "Fitting 5 folds for each of 10 candidates, totalling 50 fits\n"
          ]
        },
        {
          "name": "stderr",
          "output_type": "stream",
          "text": [
            "100%|██████████| 18/18 [42:02<00:00, 140.12s/it]\n"
          ]
        }
      ],
      "source": [
        "# Conduct a random search to tune hyperparameters for each genre\n",
        "for i in tqdm(range(18)):\n",
        "    random_search.fit(X_train, y_train[:,i])\n",
        "    best_rf_classifiers.append(random_search.best_estimator_)\n"
      ]
    },
    {
      "cell_type": "code",
      "execution_count": null,
      "metadata": {
        "colab": {
          "background_save": true
        },
        "id": "z7-qJ4eNN_zw",
        "outputId": "66572ae3-daa3-4e23-e153-7c01194cbcef"
      },
      "outputs": [
        {
          "data": {
            "text/plain": [
              "[RandomForestClassifier(bootstrap=False, max_depth=30, min_samples_leaf=2,\n",
              "                        n_estimators=150, random_state=42),\n",
              " RandomForestClassifier(bootstrap=False, max_depth=30, min_samples_leaf=2,\n",
              "                        n_estimators=150, random_state=42),\n",
              " RandomForestClassifier(bootstrap=False, max_depth=30, min_samples_leaf=2,\n",
              "                        n_estimators=150, random_state=42),\n",
              " RandomForestClassifier(bootstrap=False, max_depth=30, min_samples_leaf=2,\n",
              "                        n_estimators=150, random_state=42),\n",
              " RandomForestClassifier(bootstrap=False, max_depth=30, min_samples_leaf=2,\n",
              "                        n_estimators=150, random_state=42),\n",
              " RandomForestClassifier(bootstrap=False, max_depth=30, min_samples_leaf=2,\n",
              "                        n_estimators=150, random_state=42),\n",
              " RandomForestClassifier(bootstrap=False, max_depth=30, min_samples_leaf=2,\n",
              "                        n_estimators=150, random_state=42),\n",
              " RandomForestClassifier(bootstrap=False, max_depth=30, min_samples_leaf=2,\n",
              "                        n_estimators=150, random_state=42),\n",
              " RandomForestClassifier(bootstrap=False, max_depth=30, min_samples_leaf=2,\n",
              "                        n_estimators=150, random_state=42),\n",
              " RandomForestClassifier(bootstrap=False, max_depth=30, min_samples_leaf=2,\n",
              "                        n_estimators=150, random_state=42),\n",
              " RandomForestClassifier(bootstrap=False, max_depth=30, min_samples_leaf=2,\n",
              "                        n_estimators=150, random_state=42),\n",
              " RandomForestClassifier(bootstrap=False, max_depth=30, min_samples_leaf=2,\n",
              "                        n_estimators=150, random_state=42),\n",
              " RandomForestClassifier(bootstrap=False, max_depth=30, min_samples_leaf=2,\n",
              "                        n_estimators=150, random_state=42),\n",
              " RandomForestClassifier(min_samples_leaf=2, n_estimators=200, random_state=42),\n",
              " RandomForestClassifier(bootstrap=False, max_depth=30, min_samples_leaf=2,\n",
              "                        n_estimators=150, random_state=42),\n",
              " RandomForestClassifier(bootstrap=False, max_depth=20, min_samples_leaf=2,\n",
              "                        min_samples_split=10, n_estimators=50, random_state=42),\n",
              " RandomForestClassifier(bootstrap=False, max_depth=30, min_samples_leaf=2,\n",
              "                        n_estimators=150, random_state=42),\n",
              " RandomForestClassifier(bootstrap=False, max_depth=30, min_samples_leaf=2,\n",
              "                        n_estimators=150, random_state=42)]"
            ]
          },
          "execution_count": 10,
          "metadata": {},
          "output_type": "execute_result"
        }
      ],
      "source": [
        "# Check best parameters for each genre\n",
        "best_rf_classifiers\n"
      ]
    },
    {
      "cell_type": "code",
      "execution_count": null,
      "metadata": {
        "colab": {
          "base_uri": "https://localhost:8080/"
        },
        "id": "V2g-NoGKOz78",
        "outputId": "44286df2-72f6-49ea-c21e-e31646c7b987"
      },
      "outputs": [
        {
          "output_type": "stream",
          "name": "stderr",
          "text": [
            "100%|██████████| 18/18 [04:00<00:00, 13.39s/it]\n"
          ]
        }
      ],
      "source": [
        "# Use best classifiers to fit a model\n",
        "for i, clf in enumerate(tqdm(best_rf_classifiers)):\n",
        "    clf.fit(X_train, y_train[:, i])"
      ]
    },
    {
      "cell_type": "code",
      "execution_count": null,
      "metadata": {
        "id": "D1okbNcRc1H9"
      },
      "outputs": [],
      "source": [
        "# Save tuned models\n",
        "for i, clf in enumerate(best_rf_classifiers):\n",
        "    joblib.dump(clf, f'/content/drive/My Drive/Models/tuned_rf_classifier_label_{i}.pkl')"
      ]
    },
    {
      "cell_type": "code",
      "source": [
        "# Recover models upon rerunning the notebook\n",
        "best_rf_classifiers = []\n",
        "for i in range(18):\n",
        "  best_rf_classifiers.append(joblib.load(f'/content/drive/My Drive/Models/tuned_rf_classifier_label_{i}.pkl'))"
      ],
      "metadata": {
        "id": "AXK5ABGq1Sn3"
      },
      "execution_count": null,
      "outputs": []
    },
    {
      "cell_type": "code",
      "execution_count": null,
      "metadata": {
        "colab": {
          "background_save": true
        },
        "id": "Vu1BptsmZ3Th"
      },
      "outputs": [],
      "source": [
        "y_pred = np.array([clf.predict(X_test) for clf in best_rf_classifiers]).T"
      ]
    },
    {
      "cell_type": "code",
      "execution_count": null,
      "metadata": {
        "id": "j_8D4U_scH1B"
      },
      "outputs": [],
      "source": [
        "from sklearn.metrics import accuracy_score, hamming_loss, f1_score, classification_report"
      ]
    },
    {
      "cell_type": "code",
      "execution_count": null,
      "metadata": {
        "colab": {
          "background_save": true
        },
        "id": "VLxcGIqgcAso",
        "outputId": "2ccab84c-3eba-4432-ec39-06753894c245"
      },
      "outputs": [
        {
          "name": "stdout",
          "output_type": "stream",
          "text": [
            "Hamming Loss: 0.0943\n",
            "F1 Score (Micro): 0.5942\n",
            "F1 Score (Macro): 0.4975\n"
          ]
        }
      ],
      "source": [
        "# Evaluate model\n",
        "hamming_loss_score = hamming_loss(y_test, y_pred)\n",
        "f1_score_micro = f1_score(y_test, y_pred, average='micro')\n",
        "f1_score_macro = f1_score(y_test, y_pred, average='macro')\n",
        "\n",
        "print(f'Hamming Loss: {hamming_loss_score:.4f}')\n",
        "print(f'F1 Score (Micro): {f1_score_micro:.4f}')\n",
        "print(f'F1 Score (Macro): {f1_score_macro:.4f}')"
      ]
    },
    {
      "cell_type": "code",
      "execution_count": null,
      "metadata": {
        "id": "oU8ff9fkcjjA"
      },
      "outputs": [],
      "source": [
        "y_train_labeled = pd.read_parquet('/content/drive/My Drive/CSVs/y_train.parquet')"
      ]
    },
    {
      "cell_type": "code",
      "execution_count": null,
      "metadata": {
        "colab": {
          "base_uri": "https://localhost:8080/"
        },
        "id": "klwfx51IcYN3",
        "outputId": "36032eb4-d101-4055-9ebd-b3fe48472c1e"
      },
      "outputs": [
        {
          "output_type": "stream",
          "name": "stdout",
          "text": [
            "                  precision    recall  f1-score   support\n",
            "\n",
            "         Mystery       0.77      0.74      0.76      1585\n",
            "        Thriller       0.74      0.70      0.72      1323\n",
            "         Fantasy       0.82      0.66      0.73      1181\n",
            " Science Fiction       0.74      0.42      0.54       726\n",
            "           Crime       0.68      0.42      0.52       729\n",
            "    Contemporary       0.72      0.35      0.47       702\n",
            "         Romance       0.76      0.38      0.51       642\n",
            "        Suspense       0.77      0.23      0.35       610\n",
            "     Young Adult       0.80      0.30      0.43       502\n",
            "      Historical       0.79      0.38      0.51       599\n",
            "          Horror       0.84      0.07      0.13       298\n",
            "       Adventure       0.89      0.21      0.34       255\n",
            "      Paranormal       0.81      0.08      0.14       273\n",
            "         History       0.91      0.73      0.81       250\n",
            "Literary Fiction       0.75      0.08      0.14       267\n",
            "       Biography       0.77      0.43      0.55       210\n",
            "        Classics       0.83      0.68      0.75       176\n",
            "          Memoir       0.76      0.43      0.55       192\n",
            "\n",
            "       micro avg       0.77      0.48      0.59     10520\n",
            "       macro avg       0.79      0.40      0.50     10520\n",
            "    weighted avg       0.77      0.48      0.56     10520\n",
            "     samples avg       0.65      0.50      0.54     10520\n",
            "\n"
          ]
        },
        {
          "output_type": "stream",
          "name": "stderr",
          "text": [
            "/usr/local/lib/python3.10/dist-packages/sklearn/metrics/_classification.py:1344: UndefinedMetricWarning: Precision and F-score are ill-defined and being set to 0.0 in samples with no predicted labels. Use `zero_division` parameter to control this behavior.\n",
            "  _warn_prf(average, modifier, msg_start, len(result))\n"
          ]
        }
      ],
      "source": [
        "print(classification_report(y_test, y_pred,target_names = y_train_labeled.columns))\n"
      ]
    },
    {
      "cell_type": "code",
      "execution_count": null,
      "metadata": {
        "id": "OHxZrJjlcxid"
      },
      "outputs": [],
      "source": [
        "# Try a random search with twice as many iterations, just in case.\n",
        "random_search_more = RandomizedSearchCV(estimator = rf, param_distributions = param_dist, n_iter = 20, cv = 5, verbose=2, random_state=42, n_jobs = 3,scoring='f1')\n"
      ]
    },
    {
      "cell_type": "code",
      "execution_count": null,
      "metadata": {
        "id": "1MtsIk8meP1X"
      },
      "outputs": [],
      "source": [
        "better_rf_classifiers = []"
      ]
    },
    {
      "cell_type": "code",
      "execution_count": null,
      "metadata": {
        "colab": {
          "base_uri": "https://localhost:8080/"
        },
        "id": "YLKr9wgLeCNI",
        "outputId": "8ae829b3-f456-4b01-da2f-ef393fd56232"
      },
      "outputs": [
        {
          "output_type": "stream",
          "name": "stderr",
          "text": [
            "\r  0%|          | 0/18 [00:00<?, ?it/s]"
          ]
        },
        {
          "output_type": "stream",
          "name": "stdout",
          "text": [
            "Fitting 5 folds for each of 20 candidates, totalling 100 fits\n"
          ]
        },
        {
          "output_type": "stream",
          "name": "stderr",
          "text": [
            "\r  6%|▌         | 1/18 [04:44<1:20:34, 284.39s/it]"
          ]
        },
        {
          "output_type": "stream",
          "name": "stdout",
          "text": [
            "Fitting 5 folds for each of 20 candidates, totalling 100 fits\n"
          ]
        },
        {
          "output_type": "stream",
          "name": "stderr",
          "text": [
            "\r 11%|█         | 2/18 [09:18<1:14:14, 278.43s/it]"
          ]
        },
        {
          "output_type": "stream",
          "name": "stdout",
          "text": [
            "Fitting 5 folds for each of 20 candidates, totalling 100 fits\n"
          ]
        },
        {
          "output_type": "stream",
          "name": "stderr",
          "text": [
            "\r 17%|█▋        | 3/18 [13:47<1:08:27, 273.86s/it]"
          ]
        },
        {
          "output_type": "stream",
          "name": "stdout",
          "text": [
            "Fitting 5 folds for each of 20 candidates, totalling 100 fits\n"
          ]
        },
        {
          "output_type": "stream",
          "name": "stderr",
          "text": [
            "\r 22%|██▏       | 4/18 [18:15<1:03:24, 271.73s/it]"
          ]
        },
        {
          "output_type": "stream",
          "name": "stdout",
          "text": [
            "Fitting 5 folds for each of 20 candidates, totalling 100 fits\n"
          ]
        },
        {
          "output_type": "stream",
          "name": "stderr",
          "text": [
            "\r 28%|██▊       | 5/18 [22:28<57:23, 264.89s/it]  "
          ]
        },
        {
          "output_type": "stream",
          "name": "stdout",
          "text": [
            "Fitting 5 folds for each of 20 candidates, totalling 100 fits\n"
          ]
        },
        {
          "output_type": "stream",
          "name": "stderr",
          "text": [
            "\r 33%|███▎      | 6/18 [26:47<52:36, 263.01s/it]"
          ]
        },
        {
          "output_type": "stream",
          "name": "stdout",
          "text": [
            "Fitting 5 folds for each of 20 candidates, totalling 100 fits\n"
          ]
        },
        {
          "output_type": "stream",
          "name": "stderr",
          "text": [
            "\r 39%|███▉      | 7/18 [31:19<48:44, 265.85s/it]"
          ]
        },
        {
          "output_type": "stream",
          "name": "stdout",
          "text": [
            "Fitting 5 folds for each of 20 candidates, totalling 100 fits\n"
          ]
        },
        {
          "output_type": "stream",
          "name": "stderr",
          "text": [
            "\r 44%|████▍     | 8/18 [35:17<42:51, 257.10s/it]"
          ]
        },
        {
          "output_type": "stream",
          "name": "stdout",
          "text": [
            "Fitting 5 folds for each of 20 candidates, totalling 100 fits\n"
          ]
        },
        {
          "output_type": "stream",
          "name": "stderr",
          "text": [
            "\r 50%|█████     | 9/18 [39:24<38:03, 253.76s/it]"
          ]
        },
        {
          "output_type": "stream",
          "name": "stdout",
          "text": [
            "Fitting 5 folds for each of 20 candidates, totalling 100 fits\n"
          ]
        },
        {
          "output_type": "stream",
          "name": "stderr",
          "text": [
            "\r 56%|█████▌    | 10/18 [43:45<34:10, 256.25s/it]"
          ]
        },
        {
          "output_type": "stream",
          "name": "stdout",
          "text": [
            "Fitting 5 folds for each of 20 candidates, totalling 100 fits\n"
          ]
        },
        {
          "output_type": "stream",
          "name": "stderr",
          "text": [
            "\r 61%|██████    | 11/18 [48:13<30:17, 259.63s/it]"
          ]
        },
        {
          "output_type": "stream",
          "name": "stdout",
          "text": [
            "Fitting 5 folds for each of 20 candidates, totalling 100 fits\n"
          ]
        },
        {
          "output_type": "stream",
          "name": "stderr",
          "text": [
            "\r 67%|██████▋   | 12/18 [52:11<25:19, 253.22s/it]"
          ]
        },
        {
          "output_type": "stream",
          "name": "stdout",
          "text": [
            "Fitting 5 folds for each of 20 candidates, totalling 100 fits\n"
          ]
        },
        {
          "output_type": "stream",
          "name": "stderr",
          "text": [
            "\r 72%|███████▏  | 13/18 [56:20<20:59, 251.85s/it]"
          ]
        },
        {
          "output_type": "stream",
          "name": "stdout",
          "text": [
            "Fitting 5 folds for each of 20 candidates, totalling 100 fits\n"
          ]
        },
        {
          "output_type": "stream",
          "name": "stderr",
          "text": [
            "\r 78%|███████▊  | 14/18 [1:00:13<16:24, 246.14s/it]"
          ]
        },
        {
          "output_type": "stream",
          "name": "stdout",
          "text": [
            "Fitting 5 folds for each of 20 candidates, totalling 100 fits\n"
          ]
        },
        {
          "output_type": "stream",
          "name": "stderr",
          "text": [
            "\r 83%|████████▎ | 15/18 [1:03:54<11:56, 238.68s/it]"
          ]
        },
        {
          "output_type": "stream",
          "name": "stdout",
          "text": [
            "Fitting 5 folds for each of 20 candidates, totalling 100 fits\n"
          ]
        },
        {
          "output_type": "stream",
          "name": "stderr",
          "text": [
            "\r 89%|████████▉ | 16/18 [1:07:20<07:37, 228.88s/it]"
          ]
        },
        {
          "output_type": "stream",
          "name": "stdout",
          "text": [
            "Fitting 5 folds for each of 20 candidates, totalling 100 fits\n"
          ]
        },
        {
          "output_type": "stream",
          "name": "stderr",
          "text": [
            "\r 94%|█████████▍| 17/18 [1:11:25<03:53, 233.44s/it]"
          ]
        },
        {
          "output_type": "stream",
          "name": "stdout",
          "text": [
            "Fitting 5 folds for each of 20 candidates, totalling 100 fits\n"
          ]
        },
        {
          "output_type": "stream",
          "name": "stderr",
          "text": [
            "100%|██████████| 18/18 [1:14:34<00:00, 248.57s/it]\n"
          ]
        }
      ],
      "source": [
        "for i in tqdm(range(18)):\n",
        "    random_search_more.fit(X_train, y_train[:,i])\n",
        "    better_rf_classifiers.append(random_search_more.best_estimator_)\n"
      ]
    },
    {
      "cell_type": "code",
      "source": [
        "for i, clf in enumerate(tqdm(better_rf_classifiers)):\n",
        "  clf.fit(X_train, y_train[:,i])"
      ],
      "metadata": {
        "colab": {
          "base_uri": "https://localhost:8080/"
        },
        "id": "_byGlX0m4nNT",
        "outputId": "a3350106-dbc2-4004-c7ea-268b437e284a"
      },
      "execution_count": null,
      "outputs": [
        {
          "output_type": "stream",
          "name": "stderr",
          "text": [
            "100%|██████████| 18/18 [03:58<00:00, 13.26s/it]\n"
          ]
        }
      ]
    },
    {
      "cell_type": "code",
      "execution_count": null,
      "metadata": {
        "id": "s3bZ7S8eunU6"
      },
      "outputs": [],
      "source": [
        "y_pred = np.array([clf.predict(X_test) for clf in better_rf_classifiers]).T"
      ]
    },
    {
      "cell_type": "code",
      "execution_count": null,
      "metadata": {
        "colab": {
          "base_uri": "https://localhost:8080/"
        },
        "id": "846OG08AeVaJ",
        "outputId": "613cb495-78ef-4026-c0e5-72f93e768749"
      },
      "outputs": [
        {
          "output_type": "stream",
          "name": "stdout",
          "text": [
            "Hamming Loss: 0.0944\n",
            "F1 Score (Micro): 0.5941\n",
            "F1 Score (Macro): 0.4971\n"
          ]
        }
      ],
      "source": [
        "hamming_loss_score = hamming_loss(y_test, y_pred)\n",
        "f1_score_micro = f1_score(y_test, y_pred, average='micro')\n",
        "f1_score_macro = f1_score(y_test, y_pred, average='macro')\n",
        "\n",
        "print(f'Hamming Loss: {hamming_loss_score:.4f}')\n",
        "print(f'F1 Score (Micro): {f1_score_micro:.4f}')\n",
        "print(f'F1 Score (Macro): {f1_score_macro:.4f}')"
      ]
    },
    {
      "cell_type": "code",
      "execution_count": null,
      "metadata": {
        "colab": {
          "base_uri": "https://localhost:8080/"
        },
        "id": "gk5S8mhrurX5",
        "outputId": "3a2d21ac-5b3f-45d6-8337-308f38f1871f"
      },
      "outputs": [
        {
          "output_type": "stream",
          "name": "stdout",
          "text": [
            "                  precision    recall  f1-score   support\n",
            "\n",
            "         Mystery       0.77      0.74      0.76      1585\n",
            "        Thriller       0.74      0.69      0.72      1323\n",
            "         Fantasy       0.82      0.66      0.73      1181\n",
            " Science Fiction       0.74      0.42      0.54       726\n",
            "           Crime       0.68      0.42      0.52       729\n",
            "    Contemporary       0.72      0.35      0.47       702\n",
            "         Romance       0.77      0.38      0.51       642\n",
            "        Suspense       0.76      0.23      0.35       610\n",
            "     Young Adult       0.80      0.30      0.43       502\n",
            "      Historical       0.79      0.38      0.51       599\n",
            "          Horror       0.84      0.07      0.13       298\n",
            "       Adventure       0.90      0.20      0.33       255\n",
            "      Paranormal       0.84      0.08      0.14       273\n",
            "         History       0.92      0.74      0.82       250\n",
            "Literary Fiction       0.78      0.07      0.12       267\n",
            "       Biography       0.74      0.45      0.56       210\n",
            "        Classics       0.83      0.68      0.75       176\n",
            "          Memoir       0.74      0.44      0.55       192\n",
            "\n",
            "       micro avg       0.77      0.48      0.59     10520\n",
            "       macro avg       0.79      0.41      0.50     10520\n",
            "    weighted avg       0.77      0.48      0.56     10520\n",
            "     samples avg       0.65      0.51      0.54     10520\n",
            "\n"
          ]
        },
        {
          "output_type": "stream",
          "name": "stderr",
          "text": [
            "/usr/local/lib/python3.10/dist-packages/sklearn/metrics/_classification.py:1344: UndefinedMetricWarning: Precision and F-score are ill-defined and being set to 0.0 in samples with no predicted labels. Use `zero_division` parameter to control this behavior.\n",
            "  _warn_prf(average, modifier, msg_start, len(result))\n"
          ]
        }
      ],
      "source": [
        "# This actually ended up doing almost exactly the same.\n",
        "print(classification_report(y_test, y_pred,target_names = y_train_labeled.columns))\n"
      ]
    },
    {
      "cell_type": "markdown",
      "source": [
        "Let's try an XG_Boost model"
      ],
      "metadata": {
        "id": "LNrriiAO0ik6"
      }
    },
    {
      "cell_type": "code",
      "execution_count": null,
      "metadata": {
        "id": "QZkmc0cwv5gI"
      },
      "outputs": [],
      "source": [
        "# Set up the sample space\n",
        "xgb_param_dist = {\n",
        "    'n_estimators': [100, 200, 300],\n",
        "    'learning_rate': [0.01, 0.1, 0.2],\n",
        "    'max_depth': [3, 4, 5, 6],\n",
        "    'min_child_weight': [1, 2, 3],\n",
        "    'gamma': [0, 0.1, 0.2],\n",
        "    'subsample': [0.6, 0.7, 0.8],\n",
        "    'colsample_bytree': [0.6, 0.7, 0.8],\n",
        "    'lambda': [0, 1, 2],\n",
        "    'alpha': [0, 1, 2],\n",
        "    'scale_pos_weight': [1, 2, 3],\n",
        "    'eval_metric': ['logloss', 'auc'],\n",
        "    'tree_method': ['auto', 'exact', 'approx', 'hist'],\n",
        "    'grow_policy': ['depthwise', 'lossguide'],\n",
        "}"
      ]
    },
    {
      "cell_type": "code",
      "execution_count": null,
      "metadata": {
        "id": "OR_nYFOBv5l9"
      },
      "outputs": [],
      "source": [
        "from xgboost import XGBClassifier\n"
      ]
    },
    {
      "cell_type": "code",
      "execution_count": null,
      "metadata": {
        "id": "gd8FyHmTw1n1"
      },
      "outputs": [],
      "source": [
        "xgb = XGBClassifier(random_state=42)\n"
      ]
    },
    {
      "cell_type": "code",
      "execution_count": null,
      "metadata": {
        "id": "rQzC0JQZw-R8"
      },
      "outputs": [],
      "source": [
        "xgb_search = RandomizedSearchCV(estimator = xgb, param_distributions = xgb_param_dist, n_iter = 50, cv = 5, verbose=2, random_state=42, n_jobs = -1,scoring='f1')"
      ]
    },
    {
      "cell_type": "code",
      "execution_count": null,
      "metadata": {
        "id": "4U748O_qxWhr"
      },
      "outputs": [],
      "source": [
        "best_xgb_classifiers = []"
      ]
    },
    {
      "cell_type": "code",
      "execution_count": null,
      "metadata": {
        "colab": {
          "base_uri": "https://localhost:8080/"
        },
        "id": "6upnQ2sjxJTm",
        "outputId": "a237c0c6-2c5d-4db9-aad2-baee3fc78b30"
      },
      "outputs": [
        {
          "output_type": "stream",
          "name": "stderr",
          "text": [
            "\r  0%|          | 0/18 [00:00<?, ?it/s]"
          ]
        },
        {
          "output_type": "stream",
          "name": "stdout",
          "text": [
            "Fitting 5 folds for each of 50 candidates, totalling 250 fits\n"
          ]
        },
        {
          "output_type": "stream",
          "name": "stderr",
          "text": [
            "\r  6%|▌         | 1/18 [02:36<44:15, 156.18s/it]"
          ]
        },
        {
          "output_type": "stream",
          "name": "stdout",
          "text": [
            "Fitting 5 folds for each of 50 candidates, totalling 250 fits\n"
          ]
        },
        {
          "output_type": "stream",
          "name": "stderr",
          "text": [
            "\r 11%|█         | 2/18 [05:11<41:26, 155.40s/it]"
          ]
        },
        {
          "output_type": "stream",
          "name": "stdout",
          "text": [
            "Fitting 5 folds for each of 50 candidates, totalling 250 fits\n"
          ]
        },
        {
          "output_type": "stream",
          "name": "stderr",
          "text": [
            "\r 17%|█▋        | 3/18 [07:49<39:14, 156.99s/it]"
          ]
        },
        {
          "output_type": "stream",
          "name": "stdout",
          "text": [
            "Fitting 5 folds for each of 50 candidates, totalling 250 fits\n"
          ]
        },
        {
          "output_type": "stream",
          "name": "stderr",
          "text": [
            "\r 22%|██▏       | 4/18 [10:22<36:15, 155.39s/it]"
          ]
        },
        {
          "output_type": "stream",
          "name": "stdout",
          "text": [
            "Fitting 5 folds for each of 50 candidates, totalling 250 fits\n"
          ]
        },
        {
          "output_type": "stream",
          "name": "stderr",
          "text": [
            "\r 28%|██▊       | 5/18 [12:54<33:23, 154.11s/it]"
          ]
        },
        {
          "output_type": "stream",
          "name": "stdout",
          "text": [
            "Fitting 5 folds for each of 50 candidates, totalling 250 fits\n"
          ]
        },
        {
          "output_type": "stream",
          "name": "stderr",
          "text": [
            "\r 33%|███▎      | 6/18 [15:26<30:41, 153.44s/it]"
          ]
        },
        {
          "output_type": "stream",
          "name": "stdout",
          "text": [
            "Fitting 5 folds for each of 50 candidates, totalling 250 fits\n"
          ]
        },
        {
          "output_type": "stream",
          "name": "stderr",
          "text": [
            "\r 39%|███▉      | 7/18 [17:57<27:58, 152.60s/it]"
          ]
        },
        {
          "output_type": "stream",
          "name": "stdout",
          "text": [
            "Fitting 5 folds for each of 50 candidates, totalling 250 fits\n"
          ]
        },
        {
          "output_type": "stream",
          "name": "stderr",
          "text": [
            "\r 44%|████▍     | 8/18 [20:31<25:29, 152.90s/it]"
          ]
        },
        {
          "output_type": "stream",
          "name": "stdout",
          "text": [
            "Fitting 5 folds for each of 50 candidates, totalling 250 fits\n"
          ]
        },
        {
          "output_type": "stream",
          "name": "stderr",
          "text": [
            "\r 50%|█████     | 9/18 [23:01<22:48, 152.10s/it]"
          ]
        },
        {
          "output_type": "stream",
          "name": "stdout",
          "text": [
            "Fitting 5 folds for each of 50 candidates, totalling 250 fits\n"
          ]
        },
        {
          "output_type": "stream",
          "name": "stderr",
          "text": [
            "\r 56%|█████▌    | 10/18 [25:35<20:20, 152.58s/it]"
          ]
        },
        {
          "output_type": "stream",
          "name": "stdout",
          "text": [
            "Fitting 5 folds for each of 50 candidates, totalling 250 fits\n"
          ]
        },
        {
          "output_type": "stream",
          "name": "stderr",
          "text": [
            "\r 61%|██████    | 11/18 [28:05<17:43, 151.96s/it]"
          ]
        },
        {
          "output_type": "stream",
          "name": "stdout",
          "text": [
            "Fitting 5 folds for each of 50 candidates, totalling 250 fits\n"
          ]
        },
        {
          "output_type": "stream",
          "name": "stderr",
          "text": [
            "\r 67%|██████▋   | 12/18 [30:39<15:14, 152.39s/it]"
          ]
        },
        {
          "output_type": "stream",
          "name": "stdout",
          "text": [
            "Fitting 5 folds for each of 50 candidates, totalling 250 fits\n"
          ]
        },
        {
          "output_type": "stream",
          "name": "stderr",
          "text": [
            "\r 72%|███████▏  | 13/18 [33:08<12:36, 151.40s/it]"
          ]
        },
        {
          "output_type": "stream",
          "name": "stdout",
          "text": [
            "Fitting 5 folds for each of 50 candidates, totalling 250 fits\n"
          ]
        },
        {
          "output_type": "stream",
          "name": "stderr",
          "text": [
            "\r 78%|███████▊  | 14/18 [35:26<09:50, 147.52s/it]"
          ]
        },
        {
          "output_type": "stream",
          "name": "stdout",
          "text": [
            "Fitting 5 folds for each of 50 candidates, totalling 250 fits\n"
          ]
        },
        {
          "output_type": "stream",
          "name": "stderr",
          "text": [
            "\r 83%|████████▎ | 15/18 [37:55<07:23, 147.71s/it]"
          ]
        },
        {
          "output_type": "stream",
          "name": "stdout",
          "text": [
            "Fitting 5 folds for each of 50 candidates, totalling 250 fits\n"
          ]
        },
        {
          "output_type": "stream",
          "name": "stderr",
          "text": [
            "\r 89%|████████▉ | 16/18 [40:18<04:52, 146.48s/it]"
          ]
        },
        {
          "output_type": "stream",
          "name": "stdout",
          "text": [
            "Fitting 5 folds for each of 50 candidates, totalling 250 fits\n"
          ]
        },
        {
          "output_type": "stream",
          "name": "stderr",
          "text": [
            "\r 94%|█████████▍| 17/18 [42:40<02:25, 145.00s/it]"
          ]
        },
        {
          "output_type": "stream",
          "name": "stdout",
          "text": [
            "Fitting 5 folds for each of 50 candidates, totalling 250 fits\n"
          ]
        },
        {
          "output_type": "stream",
          "name": "stderr",
          "text": [
            "100%|██████████| 18/18 [45:02<00:00, 150.13s/it]\n"
          ]
        }
      ],
      "source": [
        "# Find best xgb model for each label\n",
        "for i in tqdm(range(18)):\n",
        "    xgb_search.fit(X_train, y_train[:,i])\n",
        "    best_xgb_classifiers.append(xgb_search.best_estimator_)"
      ]
    },
    {
      "cell_type": "code",
      "execution_count": null,
      "metadata": {
        "id": "Rqq1_mA9To39"
      },
      "outputs": [],
      "source": [
        "# Save classifier\n",
        "for i, clf in enumerate(best_xgb_classifiers):\n",
        "    joblib.dump(clf, f'/content/drive/My Drive/Models/tuned_xgb_classifier_label_{i}.pkl')"
      ]
    },
    {
      "cell_type": "code",
      "source": [
        "# Recover classifiers upon rerunning notebook\n",
        "best_xgb_classifiers = []\n",
        "for i in range(18):\n",
        "  best_xgb_classifiers.append(joblib.load(f'/content/drive/My Drive/Models/tuned_xgb_classifier_label_{i}.pkl'))"
      ],
      "metadata": {
        "id": "3nrXVmhX29DP"
      },
      "execution_count": null,
      "outputs": []
    },
    {
      "cell_type": "code",
      "execution_count": null,
      "metadata": {
        "id": "mr-iNvmbxdvk"
      },
      "outputs": [],
      "source": [
        "y_pred = np.array([clf.predict(X_test) for clf in best_xgb_classifiers]).T\n"
      ]
    },
    {
      "cell_type": "code",
      "execution_count": null,
      "metadata": {
        "colab": {
          "base_uri": "https://localhost:8080/"
        },
        "id": "-m6T3nmhTcXK",
        "outputId": "9330b9b1-6afd-4110-a69f-ae6c7bfc99ce"
      },
      "outputs": [
        {
          "output_type": "stream",
          "name": "stdout",
          "text": [
            "Hamming Loss: 0.1064\n",
            "F1 Score (Micro): 0.6523\n",
            "F1 Score (Macro): 0.6047\n"
          ]
        }
      ],
      "source": [
        "# Evaluate xgb predictions\n",
        "hamming_loss_score = hamming_loss(y_test, y_pred)\n",
        "f1_score_micro = f1_score(y_test, y_pred, average='micro')\n",
        "f1_score_macro = f1_score(y_test, y_pred, average='macro')\n",
        "\n",
        "print(f'Hamming Loss: {hamming_loss_score:.4f}')\n",
        "print(f'F1 Score (Micro): {f1_score_micro:.4f}')\n",
        "print(f'F1 Score (Macro): {f1_score_macro:.4f}')"
      ]
    },
    {
      "cell_type": "code",
      "execution_count": null,
      "metadata": {
        "colab": {
          "base_uri": "https://localhost:8080/"
        },
        "id": "EP562gnvTcvx",
        "outputId": "33a2cd4b-149e-45b2-cc43-268acddfd577"
      },
      "outputs": [
        {
          "output_type": "stream",
          "name": "stdout",
          "text": [
            "                  precision    recall  f1-score   support\n",
            "\n",
            "         Mystery       0.70      0.88      0.78      1585\n",
            "        Thriller       0.66      0.85      0.74      1323\n",
            "         Fantasy       0.72      0.76      0.74      1181\n",
            " Science Fiction       0.56      0.68      0.61       726\n",
            "           Crime       0.52      0.73      0.61       729\n",
            "    Contemporary       0.56      0.65      0.60       702\n",
            "         Romance       0.59      0.66      0.62       642\n",
            "        Suspense       0.48      0.66      0.56       610\n",
            "     Young Adult       0.61      0.55      0.58       502\n",
            "      Historical       0.56      0.61      0.58       599\n",
            "          Horror       0.36      0.32      0.34       298\n",
            "       Adventure       0.46      0.36      0.40       255\n",
            "      Paranormal       0.45      0.27      0.34       273\n",
            "         History       0.84      0.81      0.83       250\n",
            "Literary Fiction       0.48      0.40      0.43       267\n",
            "       Biography       0.60      0.68      0.64       210\n",
            "        Classics       0.77      0.80      0.78       176\n",
            "          Memoir       0.71      0.68      0.70       192\n",
            "\n",
            "       micro avg       0.61      0.70      0.65     10520\n",
            "       macro avg       0.59      0.63      0.60     10520\n",
            "    weighted avg       0.61      0.70      0.65     10520\n",
            "     samples avg       0.62      0.71      0.63     10520\n",
            "\n"
          ]
        },
        {
          "output_type": "stream",
          "name": "stderr",
          "text": [
            "/usr/local/lib/python3.10/dist-packages/sklearn/metrics/_classification.py:1344: UndefinedMetricWarning: Precision and F-score are ill-defined and being set to 0.0 in samples with no predicted labels. Use `zero_division` parameter to control this behavior.\n",
            "  _warn_prf(average, modifier, msg_start, len(result))\n"
          ]
        }
      ],
      "source": [
        "print(classification_report(y_test, y_pred,target_names = y_train_labeled.columns))\n"
      ]
    },
    {
      "cell_type": "code",
      "source": [
        "X_test_labels = pd.read_parquet('/content/drive/My Drive/CSVs/X_test.parquet')\n",
        "\n"
      ],
      "metadata": {
        "id": "8BzomHsFab0C"
      },
      "execution_count": null,
      "outputs": []
    },
    {
      "cell_type": "code",
      "source": [
        "# Find feature names\n",
        "X_test_labels.drop([ 'level_0','book title', 'book author', 'book genres', 'num genres'],axis=1,inplace=True)\n",
        "X_test_labels.columns\n",
        "\n"
      ],
      "metadata": {
        "colab": {
          "base_uri": "https://localhost:8080/"
        },
        "id": "GNiM8cYRarJz",
        "outputId": "4064fc12-2120-4218-9113-1c87e8ab212a"
      },
      "execution_count": null,
      "outputs": [
        {
          "output_type": "execute_result",
          "data": {
            "text/plain": [
              "Index(['total words', 'vividness score', 'passive voice', 'all adverbs',\n",
              "       'ly-adverbs', 'non-ly-adverbs', 'publication year', '0', '00', '000',\n",
              "       ...\n",
              "       'raven-black', 'shirt-sleeves', 'shit-ton', 'ther', 'tightbeam',\n",
              "       'timepieces', 'vendettas', 'volatiles', 'warbands', 'whimsically'],\n",
              "      dtype='object', length=66194)"
            ]
          },
          "metadata": {},
          "execution_count": 39
        }
      ]
    },
    {
      "cell_type": "code",
      "source": [
        "# Include all 10 features from the Sparse PCA\n",
        "clf_labels = list(X_test_labels.columns[:7])\n",
        "for i in range(10):\n",
        "  clf_labels.append(f'pca_feature_{i}')"
      ],
      "metadata": {
        "id": "h-RTehxZbBPF"
      },
      "execution_count": null,
      "outputs": []
    },
    {
      "cell_type": "code",
      "source": [
        "# Create dictionary of feature importance\n",
        "xgb_features = {}\n",
        "for i, clf in enumerate(best_xgb_classifiers):\n",
        "  xgb_features[y_train_labeled.columns[i]] = list(zip(clf_labels, clf.feature_importances_))\n",
        "\n",
        "\n"
      ],
      "metadata": {
        "id": "Jbcev-nKbdnf"
      },
      "execution_count": null,
      "outputs": []
    },
    {
      "cell_type": "code",
      "execution_count": null,
      "metadata": {
        "id": "q8flgQMaTgRN"
      },
      "outputs": [],
      "source": [
        "# Sort features by importance to each genre\n",
        "for key in xgb_features.keys():\n",
        "  xgb_features[key] = sorted(xgb_features[key], key=lambda x: x[1], reverse=True)"
      ]
    },
    {
      "cell_type": "code",
      "source": [
        "# View top 4 features for each genre\n",
        "for key in xgb_features.keys():\n",
        "  print(key)\n",
        "  print(xgb_features[key][:4])"
      ],
      "metadata": {
        "colab": {
          "base_uri": "https://localhost:8080/"
        },
        "id": "nZrDYTDNcyki",
        "outputId": "2aea4620-e7e7-49bd-8a5b-08a3d8faf531"
      },
      "execution_count": null,
      "outputs": [
        {
          "output_type": "stream",
          "name": "stdout",
          "text": [
            "Mystery\n",
            "[('pca_feature_7', 0.18848614), ('pca_feature_4', 0.08687109), ('pca_feature_9', 0.067120425), ('passive voice', 0.06335263)]\n",
            "Thriller\n",
            "[('pca_feature_7', 0.23364581), ('total words', 0.076511696), ('pca_feature_9', 0.061683957), ('passive voice', 0.060265798)]\n",
            "Fantasy\n",
            "[('pca_feature_5', 0.15867022), ('pca_feature_7', 0.14312406), ('pca_feature_0', 0.06924042), ('pca_feature_9', 0.068620086)]\n",
            "Science Fiction\n",
            "[('pca_feature_4', 0.15463465), ('pca_feature_9', 0.09518076), ('pca_feature_5', 0.08730194), ('pca_feature_7', 0.07835112)]\n",
            "Crime\n",
            "[('pca_feature_7', 0.22122678), ('pca_feature_5', 0.0793049), ('pca_feature_9', 0.072958335), ('pca_feature_4', 0.071404755)]\n",
            "Contemporary\n",
            "[('pca_feature_4', 0.13903148), ('pca_feature_9', 0.12173863), ('pca_feature_5', 0.07401706), ('pca_feature_7', 0.06909184)]\n",
            "Romance\n",
            "[('pca_feature_0', 0.13201624), ('pca_feature_5', 0.0956254), ('pca_feature_7', 0.08982267), ('pca_feature_9', 0.07264135)]\n",
            "Suspense\n",
            "[('pca_feature_7', 0.22614163), ('pca_feature_2', 0.0686221), ('pca_feature_5', 0.0673945), ('passive voice', 0.06521782)]\n",
            "Young Adult\n",
            "[('pca_feature_1', 0.12597728), ('pca_feature_7', 0.10181032), ('pca_feature_0', 0.07624546), ('publication year', 0.06545301)]\n",
            "Historical\n",
            "[('pca_feature_8', 0.14057377), ('pca_feature_2', 0.07800321), ('pca_feature_4', 0.072932884), ('pca_feature_9', 0.067630686)]\n",
            "Horror\n",
            "[('vividness score', 0.10345722), ('pca_feature_5', 0.0822695), ('pca_feature_7', 0.07384063), ('pca_feature_8', 0.07317282)]\n",
            "Adventure\n",
            "[('publication year', 0.09813037), ('pca_feature_9', 0.0961876), ('pca_feature_5', 0.09410361), ('pca_feature_4', 0.08462539)]\n",
            "Paranormal\n",
            "[('pca_feature_6', 0.08296298), ('pca_feature_0', 0.080348246), ('pca_feature_1', 0.07211368), ('pca_feature_9', 0.07071273)]\n",
            "History\n",
            "[('pca_feature_1', 0.27153328), ('pca_feature_0', 0.19291916), ('passive voice', 0.08775021), ('pca_feature_2', 0.07425259)]\n",
            "Literary Fiction\n",
            "[('pca_feature_9', 0.14510006), ('pca_feature_4', 0.116104186), ('pca_feature_2', 0.07704909), ('pca_feature_6', 0.06447063)]\n",
            "Biography\n",
            "[('pca_feature_6', 0.14759843), ('pca_feature_1', 0.13024609), ('pca_feature_0', 0.11296756), ('pca_feature_9', 0.10285659)]\n",
            "Classics\n",
            "[('publication year', 0.44954738), ('pca_feature_4', 0.073879555), ('pca_feature_8', 0.058502108), ('pca_feature_2', 0.0474983)]\n",
            "Memoir\n",
            "[('pca_feature_6', 0.15627065), ('pca_feature_1', 0.111206524), ('pca_feature_0', 0.10376542), ('pca_feature_9', 0.097573355)]\n"
          ]
        }
      ]
    },
    {
      "cell_type": "code",
      "source": [
        "# Display significant non-pca features\n",
        "for key in xgb_features.keys():\n",
        "  print(key)\n",
        "  print([pair for pair in xgb_features[key] if 'pca_feature' not in pair[0] and pair[1] > 0.04])"
      ],
      "metadata": {
        "colab": {
          "base_uri": "https://localhost:8080/"
        },
        "id": "LD1kxC8IfPmL",
        "outputId": "1eb7e3c1-04a5-44d3-f394-c0ce5f86d650"
      },
      "execution_count": null,
      "outputs": [
        {
          "output_type": "stream",
          "name": "stdout",
          "text": [
            "Mystery\n",
            "[('passive voice', 0.06335263), ('total words', 0.0588639), ('publication year', 0.04775864)]\n",
            "Thriller\n",
            "[('total words', 0.076511696), ('passive voice', 0.060265798), ('publication year', 0.04578491), ('vividness score', 0.042795822)]\n",
            "Fantasy\n",
            "[('total words', 0.04780043), ('vividness score', 0.04647772), ('publication year', 0.041930426), ('passive voice', 0.040479884)]\n",
            "Science Fiction\n",
            "[('publication year', 0.055750623), ('total words', 0.047980454), ('passive voice', 0.04487671), ('vividness score', 0.040183436)]\n",
            "Crime\n",
            "[('passive voice', 0.060581055), ('total words', 0.051159676), ('publication year', 0.049579803), ('vividness score', 0.04702891)]\n",
            "Contemporary\n",
            "[('publication year', 0.06122225), ('total words', 0.04342679), ('vividness score', 0.042195603)]\n",
            "Romance\n",
            "[('publication year', 0.056198068), ('passive voice', 0.055783037), ('total words', 0.04696046)]\n",
            "Suspense\n",
            "[('passive voice', 0.06521782), ('total words', 0.057953335), ('publication year', 0.05448545), ('vividness score', 0.043752737)]\n",
            "Young Adult\n",
            "[('publication year', 0.06545301), ('all adverbs', 0.046407454), ('total words', 0.045641176), ('ly-adverbs', 0.044853427), ('vividness score', 0.041519795), ('non-ly-adverbs', 0.040719006)]\n",
            "Historical\n",
            "[('ly-adverbs', 0.06318945), ('publication year', 0.053784423), ('total words', 0.047739986), ('non-ly-adverbs', 0.045485716), ('passive voice', 0.045481894), ('vividness score', 0.045013253)]\n",
            "Horror\n",
            "[('vividness score', 0.10345722), ('total words', 0.06946534), ('all adverbs', 0.04877443), ('publication year', 0.048620872), ('ly-adverbs', 0.046781387), ('passive voice', 0.04318523), ('non-ly-adverbs', 0.040416062)]\n",
            "Adventure\n",
            "[('publication year', 0.09813037), ('vividness score', 0.057258178), ('all adverbs', 0.045893595), ('total words', 0.044856623), ('non-ly-adverbs', 0.04328305), ('ly-adverbs', 0.041949138)]\n",
            "Paranormal\n",
            "[('total words', 0.060090076), ('publication year', 0.053297505), ('passive voice', 0.052792255), ('ly-adverbs', 0.050611813), ('vividness score', 0.04594212), ('non-ly-adverbs', 0.042572893), ('all adverbs', 0.04090159)]\n",
            "History\n",
            "[('passive voice', 0.08775021), ('total words', 0.043522127)]\n",
            "Literary Fiction\n",
            "[('publication year', 0.051555958), ('passive voice', 0.051463515), ('total words', 0.048846748), ('ly-adverbs', 0.04761077), ('vividness score', 0.04260263)]\n",
            "Biography\n",
            "[('passive voice', 0.06781909)]\n",
            "Classics\n",
            "[('publication year', 0.44954738)]\n",
            "Memoir\n",
            "[('passive voice', 0.065252416), ('total words', 0.04097143)]\n"
          ]
        }
      ]
    },
    {
      "cell_type": "code",
      "execution_count": null,
      "metadata": {
        "id": "fNnckl4X1Eg3"
      },
      "outputs": [],
      "source": [
        "# Create dictionary of random forest features\n",
        "rf_features = {}\n",
        "for i, clf in enumerate(best_rf_classifiers):\n",
        "  rf_features[y_train_labeled.columns[i]] = list(zip(clf_labels, clf.feature_importances_))\n",
        "\n"
      ]
    },
    {
      "cell_type": "code",
      "source": [
        "# Sort features for each genre by importance\n",
        "for key in rf_features.keys():\n",
        "  rf_features[key] = sorted(rf_features[key], key=lambda x: x[1], reverse=True)\n"
      ],
      "metadata": {
        "id": "PhtGBndqdwIh"
      },
      "execution_count": null,
      "outputs": []
    },
    {
      "cell_type": "code",
      "source": [
        "# View 4 most importance features for each genre\n",
        "for key in rf_features.keys():\n",
        "  print(key)\n",
        "  print(rf_features[key][:4])\n"
      ],
      "metadata": {
        "colab": {
          "base_uri": "https://localhost:8080/"
        },
        "id": "OTts5KsteN5o",
        "outputId": "9c2d77e8-1ac8-4603-b044-a1c602182691"
      },
      "execution_count": null,
      "outputs": [
        {
          "output_type": "stream",
          "name": "stdout",
          "text": [
            "Mystery\n",
            "[('pca_feature_7', 0.2252672562628819), ('pca_feature_9', 0.0740765412054647), ('pca_feature_4', 0.06861775491574379), ('pca_feature_5', 0.06480080811547818)]\n",
            "Thriller\n",
            "[('pca_feature_7', 0.27467305753462573), ('pca_feature_9', 0.06340381564611969), ('pca_feature_2', 0.0621583366380735), ('passive voice', 0.05554134281722892)]\n",
            "Fantasy\n",
            "[('pca_feature_7', 0.16352102654867606), ('pca_feature_5', 0.140665249121287), ('pca_feature_6', 0.08727037216413368), ('pca_feature_9', 0.06746429772665036)]\n",
            "Science Fiction\n",
            "[('pca_feature_4', 0.1283620578911938), ('pca_feature_9', 0.10328627478880027), ('pca_feature_7', 0.08378203636599886), ('pca_feature_5', 0.07707449603980471)]\n",
            "Crime\n",
            "[('pca_feature_7', 0.20065229886575736), ('pca_feature_9', 0.07274523395062774), ('pca_feature_4', 0.06887366228273432), ('pca_feature_5', 0.0641496165754133)]\n",
            "Contemporary\n",
            "[('pca_feature_9', 0.12282304936872032), ('pca_feature_4', 0.10569257037355202), ('pca_feature_5', 0.07862165033687975), ('pca_feature_8', 0.06380737259293293)]\n",
            "Romance\n",
            "[('pca_feature_0', 0.1147674727291358), ('pca_feature_5', 0.10723454034559382), ('pca_feature_7', 0.09046986771871429), ('pca_feature_6', 0.07287081197269875)]\n",
            "Suspense\n",
            "[('pca_feature_7', 0.17409158371802852), ('pca_feature_2', 0.06329098226332319), ('pca_feature_5', 0.061635330135643256), ('pca_feature_0', 0.06036525485287477)]\n",
            "Young Adult\n",
            "[('pca_feature_1', 0.1047370935898073), ('pca_feature_7', 0.0979701607469505), ('pca_feature_0', 0.07308690784777452), ('pca_feature_8', 0.061730569963334696)]\n",
            "Historical\n",
            "[('pca_feature_8', 0.1438621376214947), ('pca_feature_2', 0.08445432792417999), ('pca_feature_9', 0.07376998932560888), ('pca_feature_4', 0.06922853667052073)]\n",
            "Horror\n",
            "[('pca_feature_5', 0.08616394773123259), ('pca_feature_7', 0.07491207716281467), ('vividness score', 0.06809887190916138), ('pca_feature_1', 0.06460249536045112)]\n",
            "Adventure\n",
            "[('publication year', 0.0811854459435617), ('pca_feature_4', 0.08106254029433964), ('pca_feature_5', 0.07863781037547621), ('pca_feature_9', 0.07461495953307082)]\n",
            "Paranormal\n",
            "[('pca_feature_6', 0.07783752625837274), ('pca_feature_7', 0.07262734421116931), ('pca_feature_0', 0.0703563707884877), ('pca_feature_9', 0.0651936963849487)]\n",
            "History\n",
            "[('pca_feature_1', 0.2767650935647927), ('pca_feature_0', 0.13805401181084642), ('passive voice', 0.10132572439510397), ('vividness score', 0.0836029549977687)]\n",
            "Literary Fiction\n",
            "[('pca_feature_9', 0.11479063456320096), ('pca_feature_4', 0.09609779897762212), ('pca_feature_2', 0.06415850820099651), ('pca_feature_6', 0.06233613937619109)]\n",
            "Biography\n",
            "[('pca_feature_9', 0.14580524102591205), ('pca_feature_1', 0.12020572511867071), ('pca_feature_6', 0.11432974440422379), ('pca_feature_0', 0.09744612362367032)]\n",
            "Classics\n",
            "[('publication year', 0.4817617281118526), ('pca_feature_4', 0.06757796812654623), ('pca_feature_0', 0.043423082913537185), ('pca_feature_8', 0.04130618399016687)]\n",
            "Memoir\n",
            "[('pca_feature_9', 0.11884313288855916), ('pca_feature_6', 0.11499758628162607), ('pca_feature_1', 0.10323330874873748), ('pca_feature_8', 0.08893802970201077)]\n"
          ]
        }
      ]
    },
    {
      "cell_type": "code",
      "source": [
        "# View significant non-PCA features for each genre\n",
        "for key in rf_features.keys():\n",
        "  print(key)\n",
        "  print([pair for pair in rf_features[key] if 'pca_feature' not in pair[0] and pair[1] > 0.04])\n"
      ],
      "metadata": {
        "colab": {
          "base_uri": "https://localhost:8080/"
        },
        "id": "jwddrqGSeQ0c",
        "outputId": "6b5e4194-6cd0-4afb-b4dd-379f89e9d2de"
      },
      "execution_count": null,
      "outputs": [
        {
          "output_type": "stream",
          "name": "stdout",
          "text": [
            "Mystery\n",
            "[('passive voice', 0.06242602816378059), ('total words', 0.05269244731088281), ('vividness score', 0.04010153286083108)]\n",
            "Thriller\n",
            "[('passive voice', 0.05554134281722892), ('total words', 0.05098745243895519), ('vividness score', 0.04179879139448148)]\n",
            "Fantasy\n",
            "[('vividness score', 0.046517993467687674), ('total words', 0.043335977327791514)]\n",
            "Science Fiction\n",
            "[('total words', 0.04884242066806887), ('publication year', 0.0447790176360953), ('passive voice', 0.04394901315666022), ('vividness score', 0.04106312387915402)]\n",
            "Crime\n",
            "[('passive voice', 0.05963816219514937), ('vividness score', 0.05038681086303353), ('total words', 0.049447266484862556)]\n",
            "Contemporary\n",
            "[('total words', 0.04894787385245639), ('vividness score', 0.04620504259312333), ('passive voice', 0.044824170378826744), ('publication year', 0.04122134055432999), ('ly-adverbs', 0.04062077391247297)]\n",
            "Romance\n",
            "[('total words', 0.048591349400430354), ('passive voice', 0.04832629963712024), ('vividness score', 0.043161030645143116), ('ly-adverbs', 0.04017160337391513)]\n",
            "Suspense\n",
            "[('passive voice', 0.05848322747507808), ('total words', 0.05337373868324251), ('vividness score', 0.04993104013934389), ('non-ly-adverbs', 0.04240178879237973), ('ly-adverbs', 0.04188089624800921), ('all adverbs', 0.04052188206935514)]\n",
            "Young Adult\n",
            "[('publication year', 0.05639660410654252), ('total words', 0.05243452285319554), ('vividness score', 0.04577230167044656), ('ly-adverbs', 0.044634813424858505), ('all adverbs', 0.041858165681909226), ('passive voice', 0.040842951220575234)]\n",
            "Historical\n",
            "[('total words', 0.054389540580761), ('ly-adverbs', 0.052899724386856854), ('passive voice', 0.04449999906047104), ('publication year', 0.0443049205629258), ('vividness score', 0.04306491267709), ('non-ly-adverbs', 0.042302433696382334)]\n",
            "Horror\n",
            "[('vividness score', 0.06809887190916138), ('total words', 0.06287875329369855), ('passive voice', 0.055020205767016536), ('ly-adverbs', 0.04710109050486292), ('all adverbs', 0.04662745757118633), ('non-ly-adverbs', 0.04374590260321043), ('publication year', 0.04107203864864976)]\n",
            "Adventure\n",
            "[('publication year', 0.0811854459435617), ('vividness score', 0.055100059721772655), ('total words', 0.049799674898988094), ('passive voice', 0.04934610856888701), ('all adverbs', 0.04537891443500133), ('ly-adverbs', 0.0443825679589326), ('non-ly-adverbs', 0.044089963208653694)]\n",
            "Paranormal\n",
            "[('total words', 0.05830682827768102), ('passive voice', 0.05705367705118557), ('vividness score', 0.050840841297250416), ('ly-adverbs', 0.049840155538963885), ('all adverbs', 0.04693733124441698), ('non-ly-adverbs', 0.04528347924562985), ('publication year', 0.04094345007917249)]\n",
            "History\n",
            "[('passive voice', 0.10132572439510397), ('vividness score', 0.0836029549977687)]\n",
            "Literary Fiction\n",
            "[('vividness score', 0.057822217489645195), ('passive voice', 0.05615395103691413), ('total words', 0.05156860238620032), ('ly-adverbs', 0.048197717307340335), ('publication year', 0.04741205353793945), ('non-ly-adverbs', 0.04422404567243279)]\n",
            "Biography\n",
            "[('passive voice', 0.06011825878195242), ('total words', 0.043577632520244644), ('vividness score', 0.04015108938184574)]\n",
            "Classics\n",
            "[('publication year', 0.4817617281118526)]\n",
            "Memoir\n",
            "[('passive voice', 0.05606672859789306), ('total words', 0.053545439469590964), ('vividness score', 0.04407717650813523)]\n"
          ]
        }
      ]
    },
    {
      "cell_type": "code",
      "source": [
        "rf_significant = {}\n",
        "for key in rf_features.keys():\n",
        "  rf_significant[key] = [pair[0] for pair in rf_features[key] if 'pca_feature' not in pair[0] and pair[1] > 0.04]"
      ],
      "metadata": {
        "id": "qqhg5Wh609f_"
      },
      "execution_count": null,
      "outputs": []
    },
    {
      "cell_type": "code",
      "source": [
        "xgb_significant = {}\n",
        "for key in xgb_features.keys():\n",
        "  xgb_significant[key] = [pair[0] for pair in xgb_features[key] if 'pca_feature' not in pair[0] and pair[1] > 0.04]"
      ],
      "metadata": {
        "id": "V5AtfJIEOaHS"
      },
      "execution_count": null,
      "outputs": []
    },
    {
      "cell_type": "code",
      "source": [
        "# Compare significant features between models\n",
        "for key in rf_significant.keys():\n",
        "  print(key)\n",
        "  print(\"Random forest significant features: \", rf_significant[key])\n",
        "  print(\"XGB significant features: \", xgb_significant[key])\n",
        "  print()\n",
        "\n"
      ],
      "metadata": {
        "colab": {
          "base_uri": "https://localhost:8080/"
        },
        "id": "sZ5ukvVlObmD",
        "outputId": "96b0fc74-4fc0-4d91-8e1f-bf447dabf2f3"
      },
      "execution_count": null,
      "outputs": [
        {
          "output_type": "stream",
          "name": "stdout",
          "text": [
            "Mystery\n",
            "Random forest significant features:  ['passive voice', 'total words', 'vividness score']\n",
            "XGB significant features:  ['passive voice', 'total words', 'publication year']\n",
            "\n",
            "Thriller\n",
            "Random forest significant features:  ['passive voice', 'total words', 'vividness score']\n",
            "XGB significant features:  ['total words', 'passive voice', 'publication year', 'vividness score']\n",
            "\n",
            "Fantasy\n",
            "Random forest significant features:  ['vividness score', 'total words']\n",
            "XGB significant features:  ['total words', 'vividness score', 'publication year', 'passive voice']\n",
            "\n",
            "Science Fiction\n",
            "Random forest significant features:  ['total words', 'publication year', 'passive voice', 'vividness score']\n",
            "XGB significant features:  ['publication year', 'total words', 'passive voice', 'vividness score']\n",
            "\n",
            "Crime\n",
            "Random forest significant features:  ['passive voice', 'vividness score', 'total words']\n",
            "XGB significant features:  ['passive voice', 'total words', 'publication year', 'vividness score']\n",
            "\n",
            "Contemporary\n",
            "Random forest significant features:  ['total words', 'vividness score', 'passive voice', 'publication year', 'ly-adverbs']\n",
            "XGB significant features:  ['publication year', 'total words', 'vividness score']\n",
            "\n",
            "Romance\n",
            "Random forest significant features:  ['total words', 'passive voice', 'vividness score', 'ly-adverbs']\n",
            "XGB significant features:  ['publication year', 'passive voice', 'total words']\n",
            "\n",
            "Suspense\n",
            "Random forest significant features:  ['passive voice', 'total words', 'vividness score', 'non-ly-adverbs', 'ly-adverbs', 'all adverbs']\n",
            "XGB significant features:  ['passive voice', 'total words', 'publication year', 'vividness score']\n",
            "\n",
            "Young Adult\n",
            "Random forest significant features:  ['publication year', 'total words', 'vividness score', 'ly-adverbs', 'all adverbs', 'passive voice']\n",
            "XGB significant features:  ['publication year', 'all adverbs', 'total words', 'ly-adverbs', 'vividness score', 'non-ly-adverbs']\n",
            "\n",
            "Historical\n",
            "Random forest significant features:  ['total words', 'ly-adverbs', 'passive voice', 'publication year', 'vividness score', 'non-ly-adverbs']\n",
            "XGB significant features:  ['ly-adverbs', 'publication year', 'total words', 'non-ly-adverbs', 'passive voice', 'vividness score']\n",
            "\n",
            "Horror\n",
            "Random forest significant features:  ['vividness score', 'total words', 'passive voice', 'ly-adverbs', 'all adverbs', 'non-ly-adverbs', 'publication year']\n",
            "XGB significant features:  ['vividness score', 'total words', 'all adverbs', 'publication year', 'ly-adverbs', 'passive voice', 'non-ly-adverbs']\n",
            "\n",
            "Adventure\n",
            "Random forest significant features:  ['publication year', 'vividness score', 'total words', 'passive voice', 'all adverbs', 'ly-adverbs', 'non-ly-adverbs']\n",
            "XGB significant features:  ['publication year', 'vividness score', 'all adverbs', 'total words', 'non-ly-adverbs', 'ly-adverbs']\n",
            "\n",
            "Paranormal\n",
            "Random forest significant features:  ['total words', 'passive voice', 'vividness score', 'ly-adverbs', 'all adverbs', 'non-ly-adverbs', 'publication year']\n",
            "XGB significant features:  ['total words', 'publication year', 'passive voice', 'ly-adverbs', 'vividness score', 'non-ly-adverbs', 'all adverbs']\n",
            "\n",
            "History\n",
            "Random forest significant features:  ['passive voice', 'vividness score']\n",
            "XGB significant features:  ['passive voice', 'total words']\n",
            "\n",
            "Literary Fiction\n",
            "Random forest significant features:  ['vividness score', 'passive voice', 'total words', 'ly-adverbs', 'publication year', 'non-ly-adverbs']\n",
            "XGB significant features:  ['publication year', 'passive voice', 'total words', 'ly-adverbs', 'vividness score']\n",
            "\n",
            "Biography\n",
            "Random forest significant features:  ['passive voice', 'total words', 'vividness score']\n",
            "XGB significant features:  ['passive voice']\n",
            "\n",
            "Classics\n",
            "Random forest significant features:  ['publication year']\n",
            "XGB significant features:  ['publication year']\n",
            "\n",
            "Memoir\n",
            "Random forest significant features:  ['passive voice', 'total words', 'vividness score']\n",
            "XGB significant features:  ['passive voice', 'total words']\n",
            "\n"
          ]
        }
      ]
    },
    {
      "cell_type": "code",
      "source": [
        "X_train_original = pd.read_parquet('/content/drive/My Drive/CSVs/X_train.parquet')\n"
      ],
      "metadata": {
        "id": "FFpcNtlLQ_mb"
      },
      "execution_count": null,
      "outputs": []
    },
    {
      "cell_type": "code",
      "source": [
        "[X_train_original.columns[1:12]]"
      ],
      "metadata": {
        "colab": {
          "base_uri": "https://localhost:8080/"
        },
        "id": "oOCcm49jRotS",
        "outputId": "bd8327af-5ea3-48a9-e563-446197efb5c2"
      },
      "execution_count": null,
      "outputs": [
        {
          "output_type": "execute_result",
          "data": {
            "text/plain": [
              "[Index(['book title', 'book author', 'total words', 'vividness score',\n",
              "        'passive voice', 'all adverbs', 'ly-adverbs', 'non-ly-adverbs',\n",
              "        'publication year', 'book genres', 'num genres'],\n",
              "       dtype='object')]"
            ]
          },
          "metadata": {},
          "execution_count": 65
        }
      ]
    },
    {
      "cell_type": "code",
      "source": [
        "X_train_original = X_train_original[X_train_original.columns[1:12]]"
      ],
      "metadata": {
        "id": "ulKX1k44RVu6"
      },
      "execution_count": null,
      "outputs": []
    },
    {
      "cell_type": "code",
      "source": [
        "averages = {}\n",
        "stds = {}\n",
        "for feature in X_train_original.columns[2:-2]:\n",
        "  averages[feature] = X_train_original[feature].mean()\n",
        "  stds[feature] = X_train_original[feature].std()\n",
        "\n"
      ],
      "metadata": {
        "id": "j8gHLWsqUCof"
      },
      "execution_count": null,
      "outputs": []
    },
    {
      "cell_type": "code",
      "source": [
        "# Check the xbg model's significant features for each genre, to see how far from average they are.\n",
        "for genre in xgb_significant.keys():\n",
        "  genre_df = X_train_original[X_train_original.apply(lambda x: genre in x['book genres'], axis=1)].head()\n",
        "  for feature in xgb_significant[genre]:\n",
        "    mean = genre_df[feature].mean()\n",
        "    print(f\"Average {feature} for {genre}: {round(mean,2)} vs \\\n",
        "{round(averages[feature],2)} for all books (z = {(round((mean-averages[feature])/stds[feature],2))})\")\n",
        "  print()\n",
        "\n",
        "\n"
      ],
      "metadata": {
        "colab": {
          "base_uri": "https://localhost:8080/"
        },
        "id": "zUy0D8M5Oz04",
        "outputId": "9d66a157-6005-40a9-c833-3b5735343b7d"
      },
      "execution_count": null,
      "outputs": [
        {
          "output_type": "stream",
          "name": "stdout",
          "text": [
            "Average passive voice for Mystery: 8.07 vs 8.03 for all books (z = 0.03)\n",
            "Average total words for Mystery: 84896.4 vs 92713.29 for all books (z = -0.18)\n",
            "Average publication year for Mystery: 2008.6 vs 2010.13 for all books (z = -0.04)\n",
            "\n",
            "Average total words for Thriller: 70799.0 vs 92713.29 for all books (z = -0.5)\n",
            "Average passive voice for Thriller: 8.07 vs 8.03 for all books (z = 0.03)\n",
            "Average publication year for Thriller: 2002.6 vs 2010.13 for all books (z = -0.19)\n",
            "Average vividness score for Thriller: 55.11 vs 47.7 for all books (z = 0.61)\n",
            "\n",
            "Average total words for Fantasy: 135011.6 vs 92713.29 for all books (z = 0.96)\n",
            "Average vividness score for Fantasy: 58.22 vs 47.7 for all books (z = 0.87)\n",
            "Average publication year for Fantasy: 2014.8 vs 2010.13 for all books (z = 0.12)\n",
            "Average passive voice for Fantasy: 7.17 vs 8.03 for all books (z = -0.68)\n",
            "\n",
            "Average publication year for Science Fiction: 2018.2 vs 2010.13 for all books (z = 0.2)\n",
            "Average total words for Science Fiction: 111997.0 vs 92713.29 for all books (z = 0.44)\n",
            "Average passive voice for Science Fiction: 7.62 vs 8.03 for all books (z = -0.33)\n",
            "Average vividness score for Science Fiction: 49.52 vs 47.7 for all books (z = 0.15)\n",
            "\n",
            "Average passive voice for Crime: 7.79 vs 8.03 for all books (z = -0.19)\n",
            "Average total words for Crime: 105295.4 vs 92713.29 for all books (z = 0.29)\n",
            "Average publication year for Crime: 2014.6 vs 2010.13 for all books (z = 0.11)\n",
            "Average vividness score for Crime: 42.82 vs 47.7 for all books (z = -0.41)\n",
            "\n",
            "Average publication year for Contemporary: 2017.4 vs 2010.13 for all books (z = 0.18)\n",
            "Average total words for Contemporary: 83393.4 vs 92713.29 for all books (z = -0.21)\n",
            "Average vividness score for Contemporary: 44.74 vs 47.7 for all books (z = -0.25)\n",
            "\n",
            "Average publication year for Romance: 2010.8 vs 2010.13 for all books (z = 0.02)\n",
            "Average passive voice for Romance: 7.92 vs 8.03 for all books (z = -0.09)\n",
            "Average total words for Romance: 141401.8 vs 92713.29 for all books (z = 1.11)\n",
            "\n",
            "Average passive voice for Suspense: 8.39 vs 8.03 for all books (z = 0.28)\n",
            "Average total words for Suspense: 90195.2 vs 92713.29 for all books (z = -0.06)\n",
            "Average publication year for Suspense: 2009.2 vs 2010.13 for all books (z = -0.02)\n",
            "Average vividness score for Suspense: 52.04 vs 47.7 for all books (z = 0.36)\n",
            "\n",
            "Average publication year for Young Adult: 2005.0 vs 2010.13 for all books (z = -0.13)\n",
            "Average all adverbs for Young Adult: 2.85 vs 2.94 for all books (z = -0.16)\n",
            "Average total words for Young Adult: 54388.0 vs 92713.29 for all books (z = -0.87)\n",
            "Average ly-adverbs for Young Adult: 1.06 vs 1.02 for all books (z = 0.13)\n",
            "Average vividness score for Young Adult: 54.77 vs 47.7 for all books (z = 0.59)\n",
            "Average non-ly-adverbs for Young Adult: 1.8 vs 1.93 for all books (z = -0.39)\n",
            "\n",
            "Average ly-adverbs for Historical: 1.12 vs 1.02 for all books (z = 0.32)\n",
            "Average publication year for Historical: 2009.0 vs 2010.13 for all books (z = -0.03)\n",
            "Average total words for Historical: 161549.6 vs 92713.29 for all books (z = 1.57)\n",
            "Average non-ly-adverbs for Historical: 1.98 vs 1.93 for all books (z = 0.18)\n",
            "Average passive voice for Historical: 7.58 vs 8.03 for all books (z = -0.35)\n",
            "Average vividness score for Historical: 53.36 vs 47.7 for all books (z = 0.47)\n",
            "\n",
            "Average vividness score for Horror: 53.97 vs 47.7 for all books (z = 0.52)\n",
            "Average total words for Horror: 106966.4 vs 92713.29 for all books (z = 0.33)\n",
            "Average all adverbs for Horror: 2.74 vs 2.94 for all books (z = -0.38)\n",
            "Average publication year for Horror: 2014.8 vs 2010.13 for all books (z = 0.12)\n",
            "Average ly-adverbs for Horror: 0.99 vs 1.02 for all books (z = -0.08)\n",
            "Average passive voice for Horror: 7.49 vs 8.03 for all books (z = -0.42)\n",
            "Average non-ly-adverbs for Horror: 1.75 vs 1.93 for all books (z = -0.55)\n",
            "\n",
            "Average publication year for Adventure: 2002.6 vs 2010.13 for all books (z = -0.19)\n",
            "Average vividness score for Adventure: 51.93 vs 47.7 for all books (z = 0.35)\n",
            "Average all adverbs for Adventure: 3.16 vs 2.94 for all books (z = 0.41)\n",
            "Average total words for Adventure: 163686.8 vs 92713.29 for all books (z = 1.62)\n",
            "Average non-ly-adverbs for Adventure: 1.99 vs 1.93 for all books (z = 0.2)\n",
            "Average ly-adverbs for Adventure: 1.17 vs 1.02 for all books (z = 0.45)\n",
            "\n",
            "Average total words for Paranormal: 72868.8 vs 92713.29 for all books (z = -0.45)\n",
            "Average publication year for Paranormal: 2016.8 vs 2010.13 for all books (z = 0.17)\n",
            "Average passive voice for Paranormal: 8.48 vs 8.03 for all books (z = 0.35)\n",
            "Average ly-adverbs for Paranormal: 0.94 vs 1.02 for all books (z = -0.22)\n",
            "Average vividness score for Paranormal: 44.53 vs 47.7 for all books (z = -0.26)\n",
            "Average non-ly-adverbs for Paranormal: 1.82 vs 1.93 for all books (z = -0.33)\n",
            "Average all adverbs for Paranormal: 2.76 vs 2.94 for all books (z = -0.34)\n",
            "\n",
            "Average passive voice for History: 6.06 vs 8.03 for all books (z = -1.56)\n",
            "Average total words for History: 93294.4 vs 92713.29 for all books (z = 0.01)\n",
            "\n",
            "Average publication year for Literary Fiction: 2013.6 vs 2010.13 for all books (z = 0.09)\n",
            "Average passive voice for Literary Fiction: 7.93 vs 8.03 for all books (z = -0.08)\n",
            "Average total words for Literary Fiction: 94835.4 vs 92713.29 for all books (z = 0.05)\n",
            "Average ly-adverbs for Literary Fiction: 0.93 vs 1.02 for all books (z = -0.25)\n",
            "Average vividness score for Literary Fiction: 51.44 vs 47.7 for all books (z = 0.31)\n",
            "\n",
            "Average passive voice for Biography: 7.2 vs 8.03 for all books (z = -0.66)\n",
            "\n",
            "Average publication year for Classics: 1955.6 vs 2010.13 for all books (z = -1.38)\n",
            "\n",
            "Average passive voice for Memoir: 7.41 vs 8.03 for all books (z = -0.49)\n",
            "Average total words for Memoir: 90795.0 vs 92713.29 for all books (z = -0.04)\n",
            "\n"
          ]
        }
      ]
    },
    {
      "cell_type": "code",
      "source": [],
      "metadata": {
        "id": "0F2NHzWuSoZg"
      },
      "execution_count": null,
      "outputs": []
    }
  ],
  "metadata": {
    "colab": {
      "machine_shape": "hm",
      "provenance": []
    },
    "kernelspec": {
      "display_name": "Python 3",
      "name": "python3"
    },
    "language_info": {
      "name": "python"
    }
  },
  "nbformat": 4,
  "nbformat_minor": 0
}