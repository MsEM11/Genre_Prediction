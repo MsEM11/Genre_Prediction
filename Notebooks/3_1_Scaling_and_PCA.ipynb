{
  "nbformat": 4,
  "nbformat_minor": 0,
  "metadata": {
    "colab": {
      "provenance": [],
      "machine_shape": "hm",
      "gpuType": "A100"
    },
    "kernelspec": {
      "name": "python3",
      "display_name": "Python 3"
    },
    "language_info": {
      "name": "python"
    }
  },
  "cells": [
    {
      "cell_type": "code",
      "execution_count": null,
      "metadata": {
        "colab": {
          "base_uri": "https://localhost:8080/"
        },
        "id": "bOCJ6Ox8TZFL",
        "outputId": "85ee29b7-29d3-4db0-82ec-53fe7153b6f0"
      },
      "outputs": [
        {
          "output_type": "stream",
          "name": "stdout",
          "text": [
            "Mounted at /content/drive\n"
          ]
        }
      ],
      "source": [
        "from google.colab import drive\n",
        "drive.mount('/content/drive')"
      ]
    },
    {
      "cell_type": "code",
      "source": [
        "import pandas as pd\n",
        "import numpy as np\n",
        "import matplotlib.pyplot as plt"
      ],
      "metadata": {
        "id": "qymmXXRwT4k3"
      },
      "execution_count": null,
      "outputs": []
    },
    {
      "cell_type": "code",
      "source": [
        "\n",
        "# Read in the split data\n",
        "X_train = pd.read_parquet('/content/drive/My Drive/CSVs/X_train.parquet')\n",
        "X_test = pd.read_parquet('/content/drive/My Drive/CSVs/X_test.parquet')\n",
        "y_train = pd.read_parquet('/content/drive/My Drive/CSVs/y_train.parquet')\n",
        "y_test = pd.read_parquet('/content/drive/My Drive/CSVs/y_test.parquet')\n",
        "\n"
      ],
      "metadata": {
        "id": "bSgsOjzjT7lN"
      },
      "execution_count": null,
      "outputs": []
    },
    {
      "cell_type": "code",
      "source": [
        "# Turn y into a numpy array\n",
        "y_train = y_train.values\n",
        "type(y_train)"
      ],
      "metadata": {
        "id": "ZsU7dgs4VpYW",
        "colab": {
          "base_uri": "https://localhost:8080/"
        },
        "outputId": "f88f6570-e978-4a86-bddd-454bb8166f5e"
      },
      "execution_count": null,
      "outputs": [
        {
          "output_type": "execute_result",
          "data": {
            "text/plain": [
              "numpy.ndarray"
            ]
          },
          "metadata": {},
          "execution_count": 5
        }
      ]
    },
    {
      "cell_type": "code",
      "source": [
        "# Check current columns\n",
        "X_train.columns[:10]"
      ],
      "metadata": {
        "colab": {
          "base_uri": "https://localhost:8080/"
        },
        "id": "Gr4ybfL6X1r0",
        "outputId": "6050e18e-0c6d-49b9-f7fd-a84147c3984d"
      },
      "execution_count": null,
      "outputs": [
        {
          "output_type": "execute_result",
          "data": {
            "text/plain": [
              "Index(['level_0', 'book title', 'book author', 'total words',\n",
              "       'vividness score', 'passive voice', 'all adverbs', 'ly-adverbs',\n",
              "       'non-ly-adverbs', 'publication year'],\n",
              "      dtype='object')"
            ]
          },
          "metadata": {},
          "execution_count": 6
        }
      ]
    },
    {
      "cell_type": "code",
      "source": [
        "# Drop non-predictive features\n",
        "X_train = X_train.drop(columns=['level_0', 'book title', 'book author','book genres', 'num genres'],axis=1)\n",
        "X_test = X_test.drop(columns=['level_0', 'book title', 'book author','book genres', 'num genres'],axis=1)"
      ],
      "metadata": {
        "id": "CeLvaKrhX7Km"
      },
      "execution_count": null,
      "outputs": []
    },
    {
      "cell_type": "code",
      "source": [
        "# Get rid of null elements\n",
        "X_train = X_train.fillna(0)\n",
        "X_test = X_test.fillna(0)\n"
      ],
      "metadata": {
        "id": "evszDXXZYham"
      },
      "execution_count": null,
      "outputs": []
    },
    {
      "cell_type": "code",
      "source": [
        "from sklearn.preprocessing import StandardScaler, MinMaxScaler\n",
        "from sklearn.decomposition import PCA"
      ],
      "metadata": {
        "id": "_jdnC_1fUL8B"
      },
      "execution_count": null,
      "outputs": []
    },
    {
      "cell_type": "code",
      "source": [
        "# Split the columns based on the scaler used--minmax for wordcounts, standard for the others\n",
        "std_columns = X_train.columns[:7]\n",
        "minmax_columns = X_train.columns[7:]\n"
      ],
      "metadata": {
        "id": "_Q2bSQLmUgy-"
      },
      "execution_count": null,
      "outputs": []
    },
    {
      "cell_type": "code",
      "source": [
        "std_columns"
      ],
      "metadata": {
        "colab": {
          "base_uri": "https://localhost:8080/"
        },
        "id": "3e98lIdg3g2U",
        "outputId": "ff11fd3b-c981-4f32-f448-47fc7eb2f05d"
      },
      "execution_count": null,
      "outputs": [
        {
          "output_type": "execute_result",
          "data": {
            "text/plain": [
              "Index(['total words', 'vividness score', 'passive voice', 'all adverbs',\n",
              "       'ly-adverbs', 'non-ly-adverbs', 'publication year'],\n",
              "      dtype='object')"
            ]
          },
          "metadata": {},
          "execution_count": 25
        }
      ]
    },
    {
      "cell_type": "code",
      "source": [
        "std_scaler = StandardScaler()\n",
        "minmax_scaler = MinMaxScaler()"
      ],
      "metadata": {
        "id": "QGTc7W54b9AS"
      },
      "execution_count": null,
      "outputs": []
    },
    {
      "cell_type": "code",
      "source": [
        "X_train_std = std_scaler.fit_transform(X_train[std_columns])\n",
        "X_train_minmax = minmax_scaler.fit_transform(X_train[minmax_columns])\n",
        "X_test_std = std_scaler.transform(X_test[std_columns])\n",
        "X_test_minmax = minmax_scaler.transform(X_test[minmax_columns])\n"
      ],
      "metadata": {
        "id": "S6poitJkbmRa"
      },
      "execution_count": null,
      "outputs": []
    },
    {
      "cell_type": "code",
      "source": [
        "pca = PCA(n_components=10)\n",
        "pca.fit(X_train_minmax)"
      ],
      "metadata": {
        "colab": {
          "base_uri": "https://localhost:8080/",
          "height": 75
        },
        "id": "faNls4G2D8rT",
        "outputId": "142f345c-dbc0-4ca7-a32f-61825925d701"
      },
      "execution_count": null,
      "outputs": [
        {
          "output_type": "execute_result",
          "data": {
            "text/plain": [
              "PCA(n_components=10)"
            ],
            "text/html": [
              "<style>#sk-container-id-1 {color: black;background-color: white;}#sk-container-id-1 pre{padding: 0;}#sk-container-id-1 div.sk-toggleable {background-color: white;}#sk-container-id-1 label.sk-toggleable__label {cursor: pointer;display: block;width: 100%;margin-bottom: 0;padding: 0.3em;box-sizing: border-box;text-align: center;}#sk-container-id-1 label.sk-toggleable__label-arrow:before {content: \"▸\";float: left;margin-right: 0.25em;color: #696969;}#sk-container-id-1 label.sk-toggleable__label-arrow:hover:before {color: black;}#sk-container-id-1 div.sk-estimator:hover label.sk-toggleable__label-arrow:before {color: black;}#sk-container-id-1 div.sk-toggleable__content {max-height: 0;max-width: 0;overflow: hidden;text-align: left;background-color: #f0f8ff;}#sk-container-id-1 div.sk-toggleable__content pre {margin: 0.2em;color: black;border-radius: 0.25em;background-color: #f0f8ff;}#sk-container-id-1 input.sk-toggleable__control:checked~div.sk-toggleable__content {max-height: 200px;max-width: 100%;overflow: auto;}#sk-container-id-1 input.sk-toggleable__control:checked~label.sk-toggleable__label-arrow:before {content: \"▾\";}#sk-container-id-1 div.sk-estimator input.sk-toggleable__control:checked~label.sk-toggleable__label {background-color: #d4ebff;}#sk-container-id-1 div.sk-label input.sk-toggleable__control:checked~label.sk-toggleable__label {background-color: #d4ebff;}#sk-container-id-1 input.sk-hidden--visually {border: 0;clip: rect(1px 1px 1px 1px);clip: rect(1px, 1px, 1px, 1px);height: 1px;margin: -1px;overflow: hidden;padding: 0;position: absolute;width: 1px;}#sk-container-id-1 div.sk-estimator {font-family: monospace;background-color: #f0f8ff;border: 1px dotted black;border-radius: 0.25em;box-sizing: border-box;margin-bottom: 0.5em;}#sk-container-id-1 div.sk-estimator:hover {background-color: #d4ebff;}#sk-container-id-1 div.sk-parallel-item::after {content: \"\";width: 100%;border-bottom: 1px solid gray;flex-grow: 1;}#sk-container-id-1 div.sk-label:hover label.sk-toggleable__label {background-color: #d4ebff;}#sk-container-id-1 div.sk-serial::before {content: \"\";position: absolute;border-left: 1px solid gray;box-sizing: border-box;top: 0;bottom: 0;left: 50%;z-index: 0;}#sk-container-id-1 div.sk-serial {display: flex;flex-direction: column;align-items: center;background-color: white;padding-right: 0.2em;padding-left: 0.2em;position: relative;}#sk-container-id-1 div.sk-item {position: relative;z-index: 1;}#sk-container-id-1 div.sk-parallel {display: flex;align-items: stretch;justify-content: center;background-color: white;position: relative;}#sk-container-id-1 div.sk-item::before, #sk-container-id-1 div.sk-parallel-item::before {content: \"\";position: absolute;border-left: 1px solid gray;box-sizing: border-box;top: 0;bottom: 0;left: 50%;z-index: -1;}#sk-container-id-1 div.sk-parallel-item {display: flex;flex-direction: column;z-index: 1;position: relative;background-color: white;}#sk-container-id-1 div.sk-parallel-item:first-child::after {align-self: flex-end;width: 50%;}#sk-container-id-1 div.sk-parallel-item:last-child::after {align-self: flex-start;width: 50%;}#sk-container-id-1 div.sk-parallel-item:only-child::after {width: 0;}#sk-container-id-1 div.sk-dashed-wrapped {border: 1px dashed gray;margin: 0 0.4em 0.5em 0.4em;box-sizing: border-box;padding-bottom: 0.4em;background-color: white;}#sk-container-id-1 div.sk-label label {font-family: monospace;font-weight: bold;display: inline-block;line-height: 1.2em;}#sk-container-id-1 div.sk-label-container {text-align: center;}#sk-container-id-1 div.sk-container {/* jupyter's `normalize.less` sets `[hidden] { display: none; }` but bootstrap.min.css set `[hidden] { display: none !important; }` so we also need the `!important` here to be able to override the default hidden behavior on the sphinx rendered scikit-learn.org. See: https://github.com/scikit-learn/scikit-learn/issues/21755 */display: inline-block !important;position: relative;}#sk-container-id-1 div.sk-text-repr-fallback {display: none;}</style><div id=\"sk-container-id-1\" class=\"sk-top-container\"><div class=\"sk-text-repr-fallback\"><pre>PCA(n_components=10)</pre><b>In a Jupyter environment, please rerun this cell to show the HTML representation or trust the notebook. <br />On GitHub, the HTML representation is unable to render, please try loading this page with nbviewer.org.</b></div><div class=\"sk-container\" hidden><div class=\"sk-item\"><div class=\"sk-estimator sk-toggleable\"><input class=\"sk-toggleable__control sk-hidden--visually\" id=\"sk-estimator-id-1\" type=\"checkbox\" checked><label for=\"sk-estimator-id-1\" class=\"sk-toggleable__label sk-toggleable__label-arrow\">PCA</label><div class=\"sk-toggleable__content\"><pre>PCA(n_components=10)</pre></div></div></div></div></div>"
            ]
          },
          "metadata": {},
          "execution_count": 16
        }
      ]
    },
    {
      "cell_type": "code",
      "source": [
        "PC_values = np.arange(pca.n_components_) + 1\n",
        "plt.plot(PC_values, pca.explained_variance_ratio_, 'o-', linewidth=2, color='blue')\n",
        "plt.title('Scree Plot')\n",
        "plt.xlabel('Principal Component')\n",
        "plt.ylabel('Variance Explained')\n",
        "plt.show()\n"
      ],
      "metadata": {
        "colab": {
          "base_uri": "https://localhost:8080/",
          "height": 472
        },
        "id": "eZ2w2mqKE5gu",
        "outputId": "067ee864-2210-4b75-f068-088a752d8785"
      },
      "execution_count": null,
      "outputs": [
        {
          "output_type": "display_data",
          "data": {
            "text/plain": [
              "<Figure size 640x480 with 1 Axes>"
            ],
            "image/png": "[encoded data removed]"
          },
          "metadata": {}
        }
      ]
    },
    {
      "cell_type": "code",
      "source": [
        "np.cumsum(pca.explained_variance_ratio_)\n"
      ],
      "metadata": {
        "colab": {
          "base_uri": "https://localhost:8080/"
        },
        "id": "Nw4XkLMDFmW7",
        "outputId": "d0e818e0-a9bd-4bb1-8019-ec07d99a6702"
      },
      "execution_count": null,
      "outputs": [
        {
          "output_type": "execute_result",
          "data": {
            "text/plain": [
              "array([0.06113005, 0.08278823, 0.09838111, 0.11030746, 0.11960903,\n",
              "       0.12639803, 0.13199383, 0.13675054, 0.14099021, 0.14444828])"
            ]
          },
          "metadata": {},
          "execution_count": 18
        }
      ]
    },
    {
      "cell_type": "markdown",
      "source": [
        "The results of PCA show no components explaining more than 6% of the variance, which is not encouraging."
      ],
      "metadata": {
        "id": "GMK2mmUNFhrw"
      }
    },
    {
      "cell_type": "code",
      "source": [
        "pca = PCA(n_components=100)\n",
        "pca.fit(X_train_minmax)"
      ],
      "metadata": {
        "colab": {
          "base_uri": "https://localhost:8080/",
          "height": 75
        },
        "id": "EY0ElwosFLGR",
        "outputId": "9d634b1e-3e4b-4bfe-c95e-7af9b7f2914e"
      },
      "execution_count": null,
      "outputs": [
        {
          "output_type": "execute_result",
          "data": {
            "text/plain": [
              "PCA(n_components=100)"
            ],
            "text/html": [
              "<style>#sk-container-id-2 {color: black;background-color: white;}#sk-container-id-2 pre{padding: 0;}#sk-container-id-2 div.sk-toggleable {background-color: white;}#sk-container-id-2 label.sk-toggleable__label {cursor: pointer;display: block;width: 100%;margin-bottom: 0;padding: 0.3em;box-sizing: border-box;text-align: center;}#sk-container-id-2 label.sk-toggleable__label-arrow:before {content: \"▸\";float: left;margin-right: 0.25em;color: #696969;}#sk-container-id-2 label.sk-toggleable__label-arrow:hover:before {color: black;}#sk-container-id-2 div.sk-estimator:hover label.sk-toggleable__label-arrow:before {color: black;}#sk-container-id-2 div.sk-toggleable__content {max-height: 0;max-width: 0;overflow: hidden;text-align: left;background-color: #f0f8ff;}#sk-container-id-2 div.sk-toggleable__content pre {margin: 0.2em;color: black;border-radius: 0.25em;background-color: #f0f8ff;}#sk-container-id-2 input.sk-toggleable__control:checked~div.sk-toggleable__content {max-height: 200px;max-width: 100%;overflow: auto;}#sk-container-id-2 input.sk-toggleable__control:checked~label.sk-toggleable__label-arrow:before {content: \"▾\";}#sk-container-id-2 div.sk-estimator input.sk-toggleable__control:checked~label.sk-toggleable__label {background-color: #d4ebff;}#sk-container-id-2 div.sk-label input.sk-toggleable__control:checked~label.sk-toggleable__label {background-color: #d4ebff;}#sk-container-id-2 input.sk-hidden--visually {border: 0;clip: rect(1px 1px 1px 1px);clip: rect(1px, 1px, 1px, 1px);height: 1px;margin: -1px;overflow: hidden;padding: 0;position: absolute;width: 1px;}#sk-container-id-2 div.sk-estimator {font-family: monospace;background-color: #f0f8ff;border: 1px dotted black;border-radius: 0.25em;box-sizing: border-box;margin-bottom: 0.5em;}#sk-container-id-2 div.sk-estimator:hover {background-color: #d4ebff;}#sk-container-id-2 div.sk-parallel-item::after {content: \"\";width: 100%;border-bottom: 1px solid gray;flex-grow: 1;}#sk-container-id-2 div.sk-label:hover label.sk-toggleable__label {background-color: #d4ebff;}#sk-container-id-2 div.sk-serial::before {content: \"\";position: absolute;border-left: 1px solid gray;box-sizing: border-box;top: 0;bottom: 0;left: 50%;z-index: 0;}#sk-container-id-2 div.sk-serial {display: flex;flex-direction: column;align-items: center;background-color: white;padding-right: 0.2em;padding-left: 0.2em;position: relative;}#sk-container-id-2 div.sk-item {position: relative;z-index: 1;}#sk-container-id-2 div.sk-parallel {display: flex;align-items: stretch;justify-content: center;background-color: white;position: relative;}#sk-container-id-2 div.sk-item::before, #sk-container-id-2 div.sk-parallel-item::before {content: \"\";position: absolute;border-left: 1px solid gray;box-sizing: border-box;top: 0;bottom: 0;left: 50%;z-index: -1;}#sk-container-id-2 div.sk-parallel-item {display: flex;flex-direction: column;z-index: 1;position: relative;background-color: white;}#sk-container-id-2 div.sk-parallel-item:first-child::after {align-self: flex-end;width: 50%;}#sk-container-id-2 div.sk-parallel-item:last-child::after {align-self: flex-start;width: 50%;}#sk-container-id-2 div.sk-parallel-item:only-child::after {width: 0;}#sk-container-id-2 div.sk-dashed-wrapped {border: 1px dashed gray;margin: 0 0.4em 0.5em 0.4em;box-sizing: border-box;padding-bottom: 0.4em;background-color: white;}#sk-container-id-2 div.sk-label label {font-family: monospace;font-weight: bold;display: inline-block;line-height: 1.2em;}#sk-container-id-2 div.sk-label-container {text-align: center;}#sk-container-id-2 div.sk-container {/* jupyter's `normalize.less` sets `[hidden] { display: none; }` but bootstrap.min.css set `[hidden] { display: none !important; }` so we also need the `!important` here to be able to override the default hidden behavior on the sphinx rendered scikit-learn.org. See: https://github.com/scikit-learn/scikit-learn/issues/21755 */display: inline-block !important;position: relative;}#sk-container-id-2 div.sk-text-repr-fallback {display: none;}</style><div id=\"sk-container-id-2\" class=\"sk-top-container\"><div class=\"sk-text-repr-fallback\"><pre>PCA(n_components=100)</pre><b>In a Jupyter environment, please rerun this cell to show the HTML representation or trust the notebook. <br />On GitHub, the HTML representation is unable to render, please try loading this page with nbviewer.org.</b></div><div class=\"sk-container\" hidden><div class=\"sk-item\"><div class=\"sk-estimator sk-toggleable\"><input class=\"sk-toggleable__control sk-hidden--visually\" id=\"sk-estimator-id-2\" type=\"checkbox\" checked><label for=\"sk-estimator-id-2\" class=\"sk-toggleable__label sk-toggleable__label-arrow\">PCA</label><div class=\"sk-toggleable__content\"><pre>PCA(n_components=100)</pre></div></div></div></div></div>"
            ]
          },
          "metadata": {},
          "execution_count": 19
        }
      ]
    },
    {
      "cell_type": "code",
      "source": [
        "PC_values = np.arange(pca.n_components_) + 1\n",
        "plt.plot(PC_values, pca.explained_variance_ratio_, 'o-', linewidth=2, color='blue')\n",
        "plt.title('Scree Plot')\n",
        "plt.xlabel('Principal Component')\n",
        "plt.ylabel('Variance Explained')\n",
        "plt.show()\n"
      ],
      "metadata": {
        "colab": {
          "base_uri": "https://localhost:8080/",
          "height": 472
        },
        "id": "TX88NVoXHBpV",
        "outputId": "0b04a796-1771-4670-c1ce-a0b12dee1aec"
      },
      "execution_count": null,
      "outputs": [
        {
          "output_type": "display_data",
          "data": {
            "text/plain": [
              "<Figure size 640x480 with 1 Axes>"
            ],
            "image/png": "[encoded data removed]"
          },
          "metadata": {}
        }
      ]
    },
    {
      "cell_type": "code",
      "source": [
        "np.cumsum(pca.explained_variance_ratio_)\n",
        "\n"
      ],
      "metadata": {
        "colab": {
          "base_uri": "https://localhost:8080/"
        },
        "id": "Cv-Zr8cDHaGq",
        "outputId": "c304d401-513b-414a-abde-b15dc992c6b3"
      },
      "execution_count": null,
      "outputs": [
        {
          "output_type": "execute_result",
          "data": {
            "text/plain": [
              "array([0.06113005, 0.08278823, 0.09838111, 0.11030746, 0.11960903,\n",
              "       0.12639803, 0.13199383, 0.13675054, 0.14099022, 0.14444832,\n",
              "       0.14782921, 0.15105779, 0.15395486, 0.15645836, 0.15888521,\n",
              "       0.16117838, 0.1632568 , 0.16530493, 0.1671675 , 0.16895117,\n",
              "       0.17066201, 0.17234107, 0.17385865, 0.17534309, 0.17678138,\n",
              "       0.17817494, 0.17953294, 0.18084053, 0.18212598, 0.18338329,\n",
              "       0.18461041, 0.18580526, 0.18695906, 0.18809907, 0.18917795,\n",
              "       0.19023568, 0.19126209, 0.19226722, 0.19326321, 0.19423387,\n",
              "       0.19518422, 0.19612324, 0.19703487, 0.19793729, 0.19883112,\n",
              "       0.19970905, 0.20057688, 0.20143176, 0.20226241, 0.20308814,\n",
              "       0.20390277, 0.20470243, 0.20549131, 0.20627822, 0.20706057,\n",
              "       0.20782741, 0.2085834 , 0.2093349 , 0.21007306, 0.21079905,\n",
              "       0.21151932, 0.2122271 , 0.2129314 , 0.21363004, 0.2143166 ,\n",
              "       0.21499373, 0.21566636, 0.2163296 , 0.21698591, 0.21763597,\n",
              "       0.21828155, 0.21891642, 0.21954567, 0.22017223, 0.22079143,\n",
              "       0.2214071 , 0.22201427, 0.22261575, 0.22321144, 0.22380553,\n",
              "       0.22438931, 0.22497026, 0.22554566, 0.22611844, 0.22668482,\n",
              "       0.22724521, 0.22780302, 0.22835447, 0.22889959, 0.22943942,\n",
              "       0.22997477, 0.23050939, 0.23103858, 0.23156328, 0.23208574,\n",
              "       0.23260244, 0.23311536, 0.23362572, 0.23413075, 0.2346285 ])"
            ]
          },
          "metadata": {},
          "execution_count": 29
        }
      ]
    },
    {
      "cell_type": "markdown",
      "source": [
        "Even with 100 components, no more than 24% of the variance is explained. Time to try something different."
      ],
      "metadata": {
        "id": "bS-l86k_0sEr"
      }
    },
    {
      "cell_type": "code",
      "source": [
        "# Check the percentage of nonzero components in the wordcount data\n",
        "np.count_nonzero(X_train_minmax)/X_train_minmax.size\n",
        "\n"
      ],
      "metadata": {
        "colab": {
          "base_uri": "https://localhost:8080/"
        },
        "id": "y8n5Df-8IceU",
        "outputId": "15f8211a-c308-472c-f6af-74d2e256bd00"
      },
      "execution_count": null,
      "outputs": [
        {
          "output_type": "execute_result",
          "data": {
            "text/plain": [
              "0.06057188351144687"
            ]
          },
          "metadata": {},
          "execution_count": 15
        }
      ]
    },
    {
      "cell_type": "markdown",
      "source": [
        "It seems in the wordcount data, about 94% of the cells are 0. Let's try SparsePCA instead."
      ],
      "metadata": {
        "id": "ooYS19d505D8"
      }
    },
    {
      "cell_type": "code",
      "source": [
        "from sklearn.decomposition import SparsePCA"
      ],
      "metadata": {
        "id": "8hsdam4SIonm"
      },
      "execution_count": null,
      "outputs": []
    },
    {
      "cell_type": "code",
      "source": [
        "# Try SparsePCA on the sparse wordcount elements.\n",
        "sparse_PCA = SparsePCA(n_components=10, random_state=42,n_jobs=-1)\n",
        "X_train_pca = sparse_PCA.fit_transform(X_train_minmax)\n",
        "X_test_pca = sparse_PCA.transform(X_test_minmax)"
      ],
      "metadata": {
        "id": "oH299ka5LSpc"
      },
      "execution_count": null,
      "outputs": []
    },
    {
      "cell_type": "code",
      "source": [
        "import joblib"
      ],
      "metadata": {
        "id": "mUjO2r-HMD8c"
      },
      "execution_count": null,
      "outputs": []
    },
    {
      "cell_type": "code",
      "source": [
        "joblib.dump(sparse_PCA, '/content/drive/My Drive/Models/sparse_pca_model.pkl')"
      ],
      "metadata": {
        "colab": {
          "base_uri": "https://localhost:8080/"
        },
        "id": "rljtMeLRg1Uw",
        "outputId": "691308ad-a3d8-49c2-a555-f58777bd9892"
      },
      "execution_count": null,
      "outputs": [
        {
          "output_type": "execute_result",
          "data": {
            "text/plain": [
              "['/content/drive/My Drive/Models/sparse_pca_model.pkl']"
            ]
          },
          "metadata": {},
          "execution_count": 33
        }
      ]
    },
    {
      "cell_type": "code",
      "source": [
        "joblib.dump(X_train_pca, '/content/drive/My Drive/CSVs/X_train_pca.pkl')\n",
        "joblib.dump(X_test_pca, '/content/drive/My Drive/CSVs/X_test_pca.pkl')\n"
      ],
      "metadata": {
        "colab": {
          "base_uri": "https://localhost:8080/"
        },
        "id": "GeQySVFPkiCO",
        "outputId": "0d7ed10c-2af3-49ac-d12d-957ebb17d2fc"
      },
      "execution_count": null,
      "outputs": [
        {
          "output_type": "execute_result",
          "data": {
            "text/plain": [
              "['/content/drive/My Drive/CSVs/X_test_pca.pkl']"
            ]
          },
          "metadata": {},
          "execution_count": 34
        }
      ]
    },
    {
      "cell_type": "code",
      "source": [
        "# Retrieve SparsePCA data\n",
        "sparse_PCA = joblib.load('/content/drive/My Drive/Models/sparse_pca_model.pkl')\n",
        "X_train_pca = joblib.load('/content/drive/My Drive/CSVs/X_train_pca.pkl')\n",
        "X_test_pca = joblib.load('/content/drive/My Drive/CSVs/X_test_pca.pkl')"
      ],
      "metadata": {
        "id": "Kmloyhki3VFp"
      },
      "execution_count": null,
      "outputs": []
    },
    {
      "cell_type": "code",
      "source": [
        "type(sparse_PCA)"
      ],
      "metadata": {
        "colab": {
          "base_uri": "https://localhost:8080/"
        },
        "id": "N0X2d7doxaMM",
        "outputId": "b34f7162-83d9-4aa1-8ffc-31610af77c2f"
      },
      "execution_count": null,
      "outputs": [
        {
          "output_type": "execute_result",
          "data": {
            "text/plain": [
              "sklearn.decomposition._sparse_pca.SparsePCA"
            ]
          },
          "metadata": {},
          "execution_count": 35
        }
      ]
    },
    {
      "cell_type": "code",
      "source": [
        "type(X_train_std)"
      ],
      "metadata": {
        "colab": {
          "base_uri": "https://localhost:8080/"
        },
        "id": "Ze2zfM6f5737",
        "outputId": "5a4c7687-dc6c-4b91-de20-4442f4d11a0d"
      },
      "execution_count": null,
      "outputs": [
        {
          "output_type": "execute_result",
          "data": {
            "text/plain": [
              "numpy.ndarray"
            ]
          },
          "metadata": {},
          "execution_count": 36
        }
      ]
    },
    {
      "cell_type": "code",
      "source": [
        "# Combine the analysis data with the wordcount data\n",
        "X_train_transformed = np.concatenate((X_train_std, X_train_pca), axis=1)\n",
        "X_test_transformed = np.concatenate((X_test_std, X_test_pca), axis=1)\n",
        "np.save('/content/drive/My Drive/CSVs/X_train_transformed.npy',X_train_transformed)\n",
        "np.save('/content/drive/My Drive/CSVs/X_test_transformed.npy',X_test_transformed)"
      ],
      "metadata": {
        "id": "QHWl8CtU59MR"
      },
      "execution_count": null,
      "outputs": []
    },
    {
      "cell_type": "code",
      "source": [
        "# Check the shape of the data\n",
        "X_train_transformed.shape"
      ],
      "metadata": {
        "colab": {
          "base_uri": "https://localhost:8080/"
        },
        "id": "SPKY278X6yvk",
        "outputId": "e5da79ca-376e-471f-f24a-823ab6b805dc"
      },
      "execution_count": null,
      "outputs": [
        {
          "output_type": "execute_result",
          "data": {
            "text/plain": [
              "(16364, 17)"
            ]
          },
          "metadata": {},
          "execution_count": 38
        }
      ]
    },
    {
      "cell_type": "code",
      "source": [
        "X_test_transformed.shape"
      ],
      "metadata": {
        "id": "8vBhC6s25v57",
        "outputId": "0c7830ac-7a35-4e88-cba1-c007a47695f8",
        "colab": {
          "base_uri": "https://localhost:8080/"
        }
      },
      "execution_count": null,
      "outputs": [
        {
          "output_type": "execute_result",
          "data": {
            "text/plain": [
              "(4092, 17)"
            ]
          },
          "metadata": {},
          "execution_count": 39
        }
      ]
    },
    {
      "cell_type": "code",
      "source": [
        "# Check the form of the data\n",
        "X_train_transformed[:5]\n",
        "\n"
      ],
      "metadata": {
        "id": "j6bG_f4Q5yNY",
        "colab": {
          "base_uri": "https://localhost:8080/"
        },
        "outputId": "df8f088b-aa32-4699-c0e9-56e31d291a20"
      },
      "execution_count": null,
      "outputs": [
        {
          "output_type": "execute_result",
          "data": {
            "text/plain": [
              "array([[-5.49190301e-01, -1.90661830e+00, -1.09939318e+00,\n",
              "         7.63850899e-01,  1.10849277e+00,  1.05669509e-01,\n",
              "         7.48382124e-04, -6.66587690e-01,  1.83792804e+00,\n",
              "        -8.83340763e-01, -1.71984635e-01, -3.29705495e-01,\n",
              "        -7.23069536e-01, -6.04095052e-01, -8.32133013e-01,\n",
              "        -1.81709608e-01, -3.80759224e-01],\n",
              "       [-2.60187016e-01,  1.29119488e-02,  1.38112696e+00,\n",
              "         1.66325327e-01, -1.34451156e-01,  4.42914136e-01,\n",
              "         1.42283648e-01,  1.40978094e-01, -5.55958714e-01,\n",
              "         2.10802418e-01, -3.41134600e-01, -3.32092150e-01,\n",
              "        -3.24634169e-01,  9.22704583e-02,  3.74997341e-02,\n",
              "        -2.56170467e-01,  5.40717987e-01],\n",
              "       [ 1.98459367e+00, -1.79785599e+00, -1.22578911e+00,\n",
              "        -2.24244964e+00, -9.92674344e-01, -2.65360471e+00,\n",
              "         6.03421781e-02, -5.92862977e-01,  3.55927880e+00,\n",
              "        -3.36122148e-01, -2.94663837e-01,  1.89878996e+00,\n",
              "        -4.40521238e-01, -2.91344179e-01, -7.38500368e-02,\n",
              "         5.71264461e-01,  1.02085737e+00],\n",
              "       [ 6.69872711e-01, -1.49896720e+00,  4.48956970e-01,\n",
              "        -4.87218267e-01, -4.30390187e-01, -3.54209528e-01,\n",
              "         1.05037525e-01, -5.90082899e-01,  4.50987377e-01,\n",
              "         2.46362420e-01, -1.86641702e-01,  2.28809213e+00,\n",
              "        -4.12422703e-01, -1.91367048e-01,  8.92053717e-02,\n",
              "         2.05215977e-01, -5.09682102e-01],\n",
              "       [-3.85671084e-01,  1.37285596e+00, -9.33498518e-01,\n",
              "        -2.25800830e-01, -3.71202381e-01,  1.36937011e-02,\n",
              "         9.01390761e-02, -1.85721216e-01, -1.84792051e-01,\n",
              "        -8.00497915e-02,  9.43920861e-01,  2.37458654e-01,\n",
              "         3.52789458e-01, -6.42922279e-01, -1.69721336e-01,\n",
              "        -4.32141855e-01, -5.27471162e-01]])"
            ]
          },
          "metadata": {},
          "execution_count": 45
        }
      ]
    }
  ]
}