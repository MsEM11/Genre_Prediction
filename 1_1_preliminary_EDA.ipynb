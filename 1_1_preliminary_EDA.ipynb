{
 "cells": [
  {
   "cell_type": "markdown",
   "id": "fd19946a",
   "metadata": {},
   "source": [
    "With the Data as wrangled as it's likely going to get, it's time to start EDA! "
   ]
  },
  {
   "cell_type": "code",
   "execution_count": 1,
   "id": "436c41d9",
   "metadata": {},
   "outputs": [],
   "source": [
    "import numpy as np\n",
    "import pandas as pd\n",
    "import seaborn as sns\n",
    "import matplotlib.pyplot as plt"
   ]
  },
  {
   "cell_type": "code",
   "execution_count": 2,
   "id": "323ddb1e",
   "metadata": {},
   "outputs": [],
   "source": [
    "df = pd.read_csv('7_final_books.csv')"
   ]
  },
  {
   "cell_type": "code",
   "execution_count": 3,
   "id": "6987e2ed",
   "metadata": {},
   "outputs": [
    {
     "data": {
      "text/html": [
       "<div>\n",
       "<style scoped>\n",
       "    .dataframe tbody tr th:only-of-type {\n",
       "        vertical-align: middle;\n",
       "    }\n",
       "\n",
       "    .dataframe tbody tr th {\n",
       "        vertical-align: top;\n",
       "    }\n",
       "\n",
       "    .dataframe thead th {\n",
       "        text-align: right;\n",
       "    }\n",
       "</style>\n",
       "<table border=\"1\" class=\"dataframe\">\n",
       "  <thead>\n",
       "    <tr style=\"text-align: right;\">\n",
       "      <th></th>\n",
       "      <th>Unnamed: 0</th>\n",
       "      <th>title</th>\n",
       "      <th>author</th>\n",
       "      <th>total words</th>\n",
       "      <th>vividness</th>\n",
       "      <th>passive voice</th>\n",
       "      <th>all adverbs</th>\n",
       "      <th>ly-adverbs</th>\n",
       "      <th>non-ly-adverbs</th>\n",
       "      <th>genre</th>\n",
       "      <th>year</th>\n",
       "    </tr>\n",
       "  </thead>\n",
       "  <tbody>\n",
       "    <tr>\n",
       "      <th>0</th>\n",
       "      <td>0</td>\n",
       "      <td>The Vanished Birds</td>\n",
       "      <td>Simon Jimenez</td>\n",
       "      <td>124205.0</td>\n",
       "      <td>55.18</td>\n",
       "      <td>6.37</td>\n",
       "      <td>1.95</td>\n",
       "      <td>0.36</td>\n",
       "      <td>1.58</td>\n",
       "      <td>['Science Fiction', 'Fiction', 'Fantasy', 'Que...</td>\n",
       "      <td>2020.0</td>\n",
       "    </tr>\n",
       "    <tr>\n",
       "      <th>1</th>\n",
       "      <td>1</td>\n",
       "      <td>The Price of Honor</td>\n",
       "      <td>Jonathan P. Brazee</td>\n",
       "      <td>77253.0</td>\n",
       "      <td>35.35</td>\n",
       "      <td>8.71</td>\n",
       "      <td>2.63</td>\n",
       "      <td>0.71</td>\n",
       "      <td>1.92</td>\n",
       "      <td>['Science Fiction']</td>\n",
       "      <td>2017.0</td>\n",
       "    </tr>\n",
       "    <tr>\n",
       "      <th>2</th>\n",
       "      <td>2</td>\n",
       "      <td>The Case of the Baker Street Irregulars</td>\n",
       "      <td>Anthony Boucher</td>\n",
       "      <td>80557.0</td>\n",
       "      <td>32.33</td>\n",
       "      <td>8.41</td>\n",
       "      <td>3.72</td>\n",
       "      <td>1.64</td>\n",
       "      <td>2.08</td>\n",
       "      <td>['Mystery', 'Fiction', 'Crime', 'Humor', 'Clas...</td>\n",
       "      <td>1940.0</td>\n",
       "    </tr>\n",
       "    <tr>\n",
       "      <th>3</th>\n",
       "      <td>3</td>\n",
       "      <td>Wildoak</td>\n",
       "      <td>C. C. Harrington</td>\n",
       "      <td>55602.0</td>\n",
       "      <td>74.34</td>\n",
       "      <td>6.92</td>\n",
       "      <td>3.04</td>\n",
       "      <td>1.16</td>\n",
       "      <td>1.87</td>\n",
       "      <td>['Middle Grade', 'Historical Fiction', 'Fictio...</td>\n",
       "      <td>2022.0</td>\n",
       "    </tr>\n",
       "    <tr>\n",
       "      <th>4</th>\n",
       "      <td>4</td>\n",
       "      <td>The Holiday</td>\n",
       "      <td>T. M. Logan</td>\n",
       "      <td>101767.0</td>\n",
       "      <td>50.30</td>\n",
       "      <td>8.02</td>\n",
       "      <td>3.06</td>\n",
       "      <td>1.12</td>\n",
       "      <td>1.93</td>\n",
       "      <td>['Thriller', 'Mystery', 'Fiction', 'Mystery Th...</td>\n",
       "      <td>2019.0</td>\n",
       "    </tr>\n",
       "  </tbody>\n",
       "</table>\n",
       "</div>"
      ],
      "text/plain": [
       "   Unnamed: 0                                    title              author   \n",
       "0           0                       The Vanished Birds       Simon Jimenez  \\\n",
       "1           1                       The Price of Honor  Jonathan P. Brazee   \n",
       "2           2  The Case of the Baker Street Irregulars     Anthony Boucher   \n",
       "3           3                                  Wildoak    C. C. Harrington   \n",
       "4           4                              The Holiday         T. M. Logan   \n",
       "\n",
       "   total words  vividness  passive voice  all adverbs  ly-adverbs   \n",
       "0     124205.0      55.18           6.37         1.95        0.36  \\\n",
       "1      77253.0      35.35           8.71         2.63        0.71   \n",
       "2      80557.0      32.33           8.41         3.72        1.64   \n",
       "3      55602.0      74.34           6.92         3.04        1.16   \n",
       "4     101767.0      50.30           8.02         3.06        1.12   \n",
       "\n",
       "   non-ly-adverbs                                              genre    year  \n",
       "0            1.58  ['Science Fiction', 'Fiction', 'Fantasy', 'Que...  2020.0  \n",
       "1            1.92                                ['Science Fiction']  2017.0  \n",
       "2            2.08  ['Mystery', 'Fiction', 'Crime', 'Humor', 'Clas...  1940.0  \n",
       "3            1.87  ['Middle Grade', 'Historical Fiction', 'Fictio...  2022.0  \n",
       "4            1.93  ['Thriller', 'Mystery', 'Fiction', 'Mystery Th...  2019.0  "
      ]
     },
     "execution_count": 3,
     "metadata": {},
     "output_type": "execute_result"
    }
   ],
   "source": [
    "df.head()"
   ]
  },
  {
   "cell_type": "code",
   "execution_count": 4,
   "id": "993176ed",
   "metadata": {},
   "outputs": [],
   "source": [
    "df = df.drop('Unnamed: 0', axis=1)"
   ]
  },
  {
   "cell_type": "markdown",
   "id": "39838db2",
   "metadata": {},
   "source": [
    "Let's drop the rows missing our target feature, genres. "
   ]
  },
  {
   "cell_type": "code",
   "execution_count": 5,
   "id": "6595c35a",
   "metadata": {},
   "outputs": [],
   "source": [
    "to_drop = df['genre'] == '[]'"
   ]
  },
  {
   "cell_type": "code",
   "execution_count": 6,
   "id": "d25a7ad6",
   "metadata": {},
   "outputs": [
    {
     "name": "stdout",
     "output_type": "stream",
     "text": [
      "Of the 22449 books in the dataframe, 427 are missing genre data and must be dropped.\n"
     ]
    }
   ],
   "source": [
    "print(f\"Of the {len(df)} books in the dataframe, {np.sum(to_drop)} are missing genre data and must be dropped.\")"
   ]
  },
  {
   "cell_type": "code",
   "execution_count": 7,
   "id": "14735b29",
   "metadata": {},
   "outputs": [],
   "source": [
    "df = (df[~to_drop])"
   ]
  },
  {
   "cell_type": "markdown",
   "id": "31f9540f",
   "metadata": {},
   "source": [
    "My first question was how correlated the linguistic data might be. "
   ]
  },
  {
   "cell_type": "code",
   "execution_count": 8,
   "id": "32abe18d",
   "metadata": {},
   "outputs": [],
   "source": [
    "linguistic_data = df.loc[:,'vividness':'non-ly-adverbs']"
   ]
  },
  {
   "cell_type": "code",
   "execution_count": 9,
   "id": "b6a45fa2",
   "metadata": {},
   "outputs": [],
   "source": [
    "corr = linguistic_data.corr()"
   ]
  },
  {
   "cell_type": "code",
   "execution_count": 10,
   "id": "c6193a57",
   "metadata": {},
   "outputs": [
    {
     "data": {
      "image/png": "[encoded data removed]",
      "text/plain": [
       "<Figure size 640x480 with 2 Axes>"
      ]
     },
     "metadata": {},
     "output_type": "display_data"
    }
   ],
   "source": [
    "sns.heatmap(corr);"
   ]
  },
  {
   "cell_type": "markdown",
   "id": "11744dbe",
   "metadata": {},
   "source": [
    "Unsurprisingly, it looks as if \"all adverbs\" is highly correlated with \"ly-adverbs\" and \"non-ly-adverbs.\" This makes sense, since it's just the sum of those two columns. This feature seems redundant and can likely be dropped. \n",
    "\n",
    "Vividness seems moderately negatively correlated with every other feature. The correlation might not be strong enough to drop at the beginning, but we'll keep it in mind. \n",
    "\n",
    "Passive voice seems moderately correlated with non-ly-adverbs. Interesting! "
   ]
  },
  {
   "cell_type": "markdown",
   "id": "4b38bb6f",
   "metadata": {},
   "source": [
    "Out of interest, let's see what happens when we include the other quantitative variables."
   ]
  },
  {
   "cell_type": "code",
   "execution_count": 11,
   "id": "6fe30e20",
   "metadata": {},
   "outputs": [],
   "source": [
    "quantitative_data = df.drop(['title','author','genre'],axis=1)"
   ]
  },
  {
   "cell_type": "code",
   "execution_count": 12,
   "id": "8ed60dcd",
   "metadata": {},
   "outputs": [],
   "source": [
    "corr = quantitative_data.corr()"
   ]
  },
  {
   "cell_type": "code",
   "execution_count": 13,
   "id": "b0c20e42",
   "metadata": {},
   "outputs": [
    {
     "data": {
      "image/png": "[encoded data removed]",
      "text/plain": [
       "<Figure size 640x480 with 2 Axes>"
      ]
     },
     "metadata": {},
     "output_type": "display_data"
    }
   ],
   "source": [
    "sns.heatmap(corr);"
   ]
  },
  {
   "cell_type": "markdown",
   "id": "ea3e7c96",
   "metadata": {},
   "source": [
    "It appears that neight the wordcount nor the year are particularly correlated to any other data. There's perhaps a very small negative correlation between adverbs--particularly non-ly-adverbs, and year. Perhaps these went out of fashion as time went on. But the correlation is likely too small to be significant, and it doesn't seem worth running a test to find out. \n",
    "\n",
    "Let's look at the numerical correlations."
   ]
  },
  {
   "cell_type": "code",
   "execution_count": 14,
   "id": "bf53f937",
   "metadata": {},
   "outputs": [
    {
     "data": {
      "text/html": [
       "<style type=\"text/css\">\n",
       "#T_1b18c_row0_col0, #T_1b18c_row1_col1, #T_1b18c_row2_col2, #T_1b18c_row3_col3, #T_1b18c_row4_col4, #T_1b18c_row5_col5, #T_1b18c_row6_col6 {\n",
       "  background-color: #023858;\n",
       "  color: #f1f1f1;\n",
       "}\n",
       "#T_1b18c_row0_col1 {\n",
       "  background-color: #c0c9e2;\n",
       "  color: #000000;\n",
       "}\n",
       "#T_1b18c_row0_col2 {\n",
       "  background-color: #c4cbe3;\n",
       "  color: #000000;\n",
       "}\n",
       "#T_1b18c_row0_col3 {\n",
       "  background-color: #cdd0e5;\n",
       "  color: #000000;\n",
       "}\n",
       "#T_1b18c_row0_col4 {\n",
       "  background-color: #d2d3e7;\n",
       "  color: #000000;\n",
       "}\n",
       "#T_1b18c_row0_col5 {\n",
       "  background-color: #dad9ea;\n",
       "  color: #000000;\n",
       "}\n",
       "#T_1b18c_row0_col6 {\n",
       "  background-color: #ede7f2;\n",
       "  color: #000000;\n",
       "}\n",
       "#T_1b18c_row1_col0 {\n",
       "  background-color: #fdf5fa;\n",
       "  color: #000000;\n",
       "}\n",
       "#T_1b18c_row1_col2, #T_1b18c_row1_col3, #T_1b18c_row1_col4, #T_1b18c_row1_col5, #T_1b18c_row2_col0, #T_1b18c_row2_col1, #T_1b18c_row5_col0, #T_1b18c_row5_col6 {\n",
       "  background-color: #fff7fb;\n",
       "  color: #000000;\n",
       "}\n",
       "#T_1b18c_row1_col6 {\n",
       "  background-color: #e3e0ee;\n",
       "  color: #000000;\n",
       "}\n",
       "#T_1b18c_row2_col3 {\n",
       "  background-color: #75a9cf;\n",
       "  color: #f1f1f1;\n",
       "}\n",
       "#T_1b18c_row2_col4 {\n",
       "  background-color: #c9cee4;\n",
       "  color: #000000;\n",
       "}\n",
       "#T_1b18c_row2_col5 {\n",
       "  background-color: #4a98c5;\n",
       "  color: #f1f1f1;\n",
       "}\n",
       "#T_1b18c_row2_col6 {\n",
       "  background-color: #e4e1ef;\n",
       "  color: #000000;\n",
       "}\n",
       "#T_1b18c_row3_col0 {\n",
       "  background-color: #fcf4fa;\n",
       "  color: #000000;\n",
       "}\n",
       "#T_1b18c_row3_col1 {\n",
       "  background-color: #f7f0f7;\n",
       "  color: #000000;\n",
       "}\n",
       "#T_1b18c_row3_col2 {\n",
       "  background-color: #67a4cc;\n",
       "  color: #f1f1f1;\n",
       "}\n",
       "#T_1b18c_row3_col4 {\n",
       "  background-color: #045d92;\n",
       "  color: #f1f1f1;\n",
       "}\n",
       "#T_1b18c_row3_col5 {\n",
       "  background-color: #046097;\n",
       "  color: #f1f1f1;\n",
       "}\n",
       "#T_1b18c_row3_col6 {\n",
       "  background-color: #fbf4f9;\n",
       "  color: #000000;\n",
       "}\n",
       "#T_1b18c_row4_col0 {\n",
       "  background-color: #f9f2f8;\n",
       "  color: #000000;\n",
       "}\n",
       "#T_1b18c_row4_col1, #T_1b18c_row5_col1 {\n",
       "  background-color: #f0eaf4;\n",
       "  color: #000000;\n",
       "}\n",
       "#T_1b18c_row4_col2 {\n",
       "  background-color: #b0c2de;\n",
       "  color: #000000;\n",
       "}\n",
       "#T_1b18c_row4_col3 {\n",
       "  background-color: #045b8f;\n",
       "  color: #f1f1f1;\n",
       "}\n",
       "#T_1b18c_row4_col5, #T_1b18c_row5_col4 {\n",
       "  background-color: #88b1d4;\n",
       "  color: #000000;\n",
       "}\n",
       "#T_1b18c_row4_col6 {\n",
       "  background-color: #f3edf5;\n",
       "  color: #000000;\n",
       "}\n",
       "#T_1b18c_row5_col2 {\n",
       "  background-color: #358fc0;\n",
       "  color: #f1f1f1;\n",
       "}\n",
       "#T_1b18c_row5_col3 {\n",
       "  background-color: #045f95;\n",
       "  color: #f1f1f1;\n",
       "}\n",
       "#T_1b18c_row6_col0 {\n",
       "  background-color: #fbf3f9;\n",
       "  color: #000000;\n",
       "}\n",
       "#T_1b18c_row6_col1, #T_1b18c_row6_col2 {\n",
       "  background-color: #b3c3de;\n",
       "  color: #000000;\n",
       "}\n",
       "#T_1b18c_row6_col3 {\n",
       "  background-color: #dfddec;\n",
       "  color: #000000;\n",
       "}\n",
       "#T_1b18c_row6_col4 {\n",
       "  background-color: #dddbec;\n",
       "  color: #000000;\n",
       "}\n",
       "#T_1b18c_row6_col5 {\n",
       "  background-color: #ede8f3;\n",
       "  color: #000000;\n",
       "}\n",
       "</style>\n",
       "<table id=\"T_1b18c\">\n",
       "  <thead>\n",
       "    <tr>\n",
       "      <th class=\"blank level0\" >&nbsp;</th>\n",
       "      <th id=\"T_1b18c_level0_col0\" class=\"col_heading level0 col0\" >total words</th>\n",
       "      <th id=\"T_1b18c_level0_col1\" class=\"col_heading level0 col1\" >vividness</th>\n",
       "      <th id=\"T_1b18c_level0_col2\" class=\"col_heading level0 col2\" >passive voice</th>\n",
       "      <th id=\"T_1b18c_level0_col3\" class=\"col_heading level0 col3\" >all adverbs</th>\n",
       "      <th id=\"T_1b18c_level0_col4\" class=\"col_heading level0 col4\" >ly-adverbs</th>\n",
       "      <th id=\"T_1b18c_level0_col5\" class=\"col_heading level0 col5\" >non-ly-adverbs</th>\n",
       "      <th id=\"T_1b18c_level0_col6\" class=\"col_heading level0 col6\" >year</th>\n",
       "    </tr>\n",
       "  </thead>\n",
       "  <tbody>\n",
       "    <tr>\n",
       "      <th id=\"T_1b18c_level0_row0\" class=\"row_heading level0 row0\" >total words</th>\n",
       "      <td id=\"T_1b18c_row0_col0\" class=\"data row0 col0\" >1.000000</td>\n",
       "      <td id=\"T_1b18c_row0_col1\" class=\"data row0 col1\" >-0.001394</td>\n",
       "      <td id=\"T_1b18c_row0_col2\" class=\"data row0 col2\" >-0.018643</td>\n",
       "      <td id=\"T_1b18c_row0_col3\" class=\"data row0 col3\" >0.004145</td>\n",
       "      <td id=\"T_1b18c_row0_col4\" class=\"data row0 col4\" >0.023499</td>\n",
       "      <td id=\"T_1b18c_row0_col5\" class=\"data row0 col5\" >-0.017973</td>\n",
       "      <td id=\"T_1b18c_row0_col6\" class=\"data row0 col6\" >0.011426</td>\n",
       "    </tr>\n",
       "    <tr>\n",
       "      <th id=\"T_1b18c_level0_row1\" class=\"row_heading level0 row1\" >vividness</th>\n",
       "      <td id=\"T_1b18c_row1_col0\" class=\"data row1 col0\" >-0.001394</td>\n",
       "      <td id=\"T_1b18c_row1_col1\" class=\"data row1 col1\" >1.000000</td>\n",
       "      <td id=\"T_1b18c_row1_col2\" class=\"data row1 col2\" >-0.425165</td>\n",
       "      <td id=\"T_1b18c_row1_col3\" class=\"data row1 col3\" >-0.348603</td>\n",
       "      <td id=\"T_1b18c_row1_col4\" class=\"data row1 col4\" >-0.282485</td>\n",
       "      <td id=\"T_1b18c_row1_col5\" class=\"data row1 col5\" >-0.279284</td>\n",
       "      <td id=\"T_1b18c_row1_col6\" class=\"data row1 col6\" >0.058717</td>\n",
       "    </tr>\n",
       "    <tr>\n",
       "      <th id=\"T_1b18c_level0_row2\" class=\"row_heading level0 row2\" >passive voice</th>\n",
       "      <td id=\"T_1b18c_row2_col0\" class=\"data row2 col0\" >-0.018643</td>\n",
       "      <td id=\"T_1b18c_row2_col1\" class=\"data row2 col1\" >-0.425165</td>\n",
       "      <td id=\"T_1b18c_row2_col2\" class=\"data row2 col2\" >1.000000</td>\n",
       "      <td id=\"T_1b18c_row2_col3\" class=\"data row2 col3\" >0.323722</td>\n",
       "      <td id=\"T_1b18c_row2_col4\" class=\"data row2 col4\" >0.064872</td>\n",
       "      <td id=\"T_1b18c_row2_col5\" class=\"data row2 col5\" >0.468020</td>\n",
       "      <td id=\"T_1b18c_row2_col6\" class=\"data row2 col6\" >0.056973</td>\n",
       "    </tr>\n",
       "    <tr>\n",
       "      <th id=\"T_1b18c_level0_row3\" class=\"row_heading level0 row3\" >all adverbs</th>\n",
       "      <td id=\"T_1b18c_row3_col0\" class=\"data row3 col0\" >0.004145</td>\n",
       "      <td id=\"T_1b18c_row3_col1\" class=\"data row3 col1\" >-0.348603</td>\n",
       "      <td id=\"T_1b18c_row3_col2\" class=\"data row3 col2\" >0.323722</td>\n",
       "      <td id=\"T_1b18c_row3_col3\" class=\"data row3 col3\" >1.000000</td>\n",
       "      <td id=\"T_1b18c_row3_col4\" class=\"data row3 col4\" >0.817468</td>\n",
       "      <td id=\"T_1b18c_row3_col5\" class=\"data row3 col5\" >0.793055</td>\n",
       "      <td id=\"T_1b18c_row3_col6\" class=\"data row3 col6\" >-0.099414</td>\n",
       "    </tr>\n",
       "    <tr>\n",
       "      <th id=\"T_1b18c_level0_row4\" class=\"row_heading level0 row4\" >ly-adverbs</th>\n",
       "      <td id=\"T_1b18c_row4_col0\" class=\"data row4 col0\" >0.023499</td>\n",
       "      <td id=\"T_1b18c_row4_col1\" class=\"data row4 col1\" >-0.282485</td>\n",
       "      <td id=\"T_1b18c_row4_col2\" class=\"data row4 col2\" >0.064872</td>\n",
       "      <td id=\"T_1b18c_row4_col3\" class=\"data row4 col3\" >0.817468</td>\n",
       "      <td id=\"T_1b18c_row4_col4\" class=\"data row4 col4\" >1.000000</td>\n",
       "      <td id=\"T_1b18c_row4_col5\" class=\"data row4 col5\" >0.297553</td>\n",
       "      <td id=\"T_1b18c_row4_col6\" class=\"data row4 col6\" >-0.036549</td>\n",
       "    </tr>\n",
       "    <tr>\n",
       "      <th id=\"T_1b18c_level0_row5\" class=\"row_heading level0 row5\" >non-ly-adverbs</th>\n",
       "      <td id=\"T_1b18c_row5_col0\" class=\"data row5 col0\" >-0.017973</td>\n",
       "      <td id=\"T_1b18c_row5_col1\" class=\"data row5 col1\" >-0.279284</td>\n",
       "      <td id=\"T_1b18c_row5_col2\" class=\"data row5 col2\" >0.468020</td>\n",
       "      <td id=\"T_1b18c_row5_col3\" class=\"data row5 col3\" >0.793055</td>\n",
       "      <td id=\"T_1b18c_row5_col4\" class=\"data row5 col4\" >0.297553</td>\n",
       "      <td id=\"T_1b18c_row5_col5\" class=\"data row5 col5\" >1.000000</td>\n",
       "      <td id=\"T_1b18c_row5_col6\" class=\"data row5 col6\" >-0.126100</td>\n",
       "    </tr>\n",
       "    <tr>\n",
       "      <th id=\"T_1b18c_level0_row6\" class=\"row_heading level0 row6\" >year</th>\n",
       "      <td id=\"T_1b18c_row6_col0\" class=\"data row6 col0\" >0.011426</td>\n",
       "      <td id=\"T_1b18c_row6_col1\" class=\"data row6 col1\" >0.058717</td>\n",
       "      <td id=\"T_1b18c_row6_col2\" class=\"data row6 col2\" >0.056973</td>\n",
       "      <td id=\"T_1b18c_row6_col3\" class=\"data row6 col3\" >-0.099414</td>\n",
       "      <td id=\"T_1b18c_row6_col4\" class=\"data row6 col4\" >-0.036549</td>\n",
       "      <td id=\"T_1b18c_row6_col5\" class=\"data row6 col5\" >-0.126100</td>\n",
       "      <td id=\"T_1b18c_row6_col6\" class=\"data row6 col6\" >1.000000</td>\n",
       "    </tr>\n",
       "  </tbody>\n",
       "</table>\n"
      ],
      "text/plain": [
       "<pandas.io.formats.style.Styler at 0x209e852fc10>"
      ]
     },
     "execution_count": 14,
     "metadata": {},
     "output_type": "execute_result"
    }
   ],
   "source": [
    "corr.style.background_gradient()"
   ]
  },
  {
   "attachments": {},
   "cell_type": "markdown",
   "id": "abf8cb23",
   "metadata": {},
   "source": [
    "As Github will not display CSS styling, here is an image of how it should look. \n",
    "\n",
    "![correlation gradient](correlation_heatmap.png)"
   ]
  },
  {
   "cell_type": "markdown",
   "id": "e7d0fe77",
   "metadata": {},
   "source": [
    "As we saw from the heatmap, the only correlations that look particularly noteworthy are between the different types of adverbs, and perhaps between non-ly-adverbs and passive voice. "
   ]
  },
  {
   "cell_type": "markdown",
   "id": "add63900",
   "metadata": {},
   "source": [
    "Next, let's make a few histograms of the quantitative data."
   ]
  },
  {
   "cell_type": "code",
   "execution_count": 15,
   "id": "532a20d7",
   "metadata": {},
   "outputs": [
    {
     "data": {
      "image/png": "[encoded data removed]",
      "text/plain": [
       "<Figure size 640x480 with 1 Axes>"
      ]
     },
     "metadata": {},
     "output_type": "display_data"
    }
   ],
   "source": [
    "sns.histplot(df['total words'],bins=10)\n",
    "plt.xlabel('total words')\n",
    "plt.ylabel('number of books')\n",
    "plt.title('Total words for all books')\n",
    "plt.show();"
   ]
  },
  {
   "cell_type": "markdown",
   "id": "3bdf88e1",
   "metadata": {},
   "source": [
    "It looks like this has a fairly heavy right skew, but some of the larger wordcounts are hard to see. Let's see if adding more bins improves the situation. "
   ]
  },
  {
   "cell_type": "code",
   "execution_count": 16,
   "id": "9147d278",
   "metadata": {},
   "outputs": [
    {
     "data": {
      "image/png": "[encoded data removed]",
      "text/plain": [
       "<Figure size 640x480 with 1 Axes>"
      ]
     },
     "metadata": {},
     "output_type": "display_data"
    }
   ],
   "source": [
    "sns.histplot(df['total words'],bins=40)\n",
    "plt.xlabel('total words')\n",
    "plt.ylabel('number of books')\n",
    "plt.title('Total words for all books')\n",
    "plt.show();"
   ]
  },
  {
   "cell_type": "markdown",
   "id": "04ba2444",
   "metadata": {},
   "source": [
    "Now that the tallest bin is much shorter, you can see perhaps a bit more of the tail. Definitely a strong right skew, with a center a bit under 100,000 words."
   ]
  },
  {
   "cell_type": "code",
   "execution_count": 17,
   "id": "bb4cbb83",
   "metadata": {},
   "outputs": [
    {
     "data": {
      "text/plain": [
       "count     22022.000000\n",
       "mean      91125.459404\n",
       "std       43522.003334\n",
       "min         984.000000\n",
       "25%       68462.250000\n",
       "50%       87167.500000\n",
       "75%      106140.250000\n",
       "max      612956.000000\n",
       "Name: total words, dtype: float64"
      ]
     },
     "execution_count": 17,
     "metadata": {},
     "output_type": "execute_result"
    }
   ],
   "source": [
    "df['total words'].describe()"
   ]
  },
  {
   "cell_type": "markdown",
   "id": "b7f7dd90",
   "metadata": {},
   "source": [
    "The summary confirms our analysis."
   ]
  },
  {
   "cell_type": "markdown",
   "id": "e66d45ab",
   "metadata": {},
   "source": [
    "Since we're going to have to make a few different histograms, let's make a function."
   ]
  },
  {
   "cell_type": "code",
   "execution_count": 18,
   "id": "8172634a",
   "metadata": {},
   "outputs": [],
   "source": [
    "def histogram(df, column, bins=20):\n",
    "    sns.histplot(df[column],bins=bins)\n",
    "    plt.xlabel(column)\n",
    "    plt.ylabel(\"number of books\")\n",
    "    plt.title(f\"{column.capitalize()} for all books\")\n",
    "    plt.show();"
   ]
  },
  {
   "cell_type": "code",
   "execution_count": 19,
   "id": "9a10c80d",
   "metadata": {},
   "outputs": [
    {
     "data": {
      "image/png": "[encoded data removed]",
      "text/plain": [
       "<Figure size 640x480 with 1 Axes>"
      ]
     },
     "metadata": {},
     "output_type": "display_data"
    }
   ],
   "source": [
    "histogram(df, 'vividness')"
   ]
  },
  {
   "cell_type": "markdown",
   "id": "15e02349",
   "metadata": {},
   "source": [
    "Interestingly, vividness appears to be largely symmetrical, with a center around 50%. "
   ]
  },
  {
   "cell_type": "code",
   "execution_count": 20,
   "id": "9d6fbbd4",
   "metadata": {},
   "outputs": [
    {
     "data": {
      "image/png": "[encoded data removed]",
      "text/plain": [
       "<Figure size 640x480 with 1 Axes>"
      ]
     },
     "metadata": {},
     "output_type": "display_data"
    }
   ],
   "source": [
    "histogram(df, 'passive voice')"
   ]
  },
  {
   "cell_type": "markdown",
   "id": "07716fb4",
   "metadata": {},
   "source": [
    "Passive voice also seems quite symmetrical, with a center around a score of 8."
   ]
  },
  {
   "cell_type": "code",
   "execution_count": 21,
   "id": "5c1e3515",
   "metadata": {},
   "outputs": [
    {
     "data": {
      "image/png": "[encoded data removed]",
      "text/plain": [
       "<Figure size 640x480 with 1 Axes>"
      ]
     },
     "metadata": {},
     "output_type": "display_data"
    }
   ],
   "source": [
    "histogram(df, 'ly-adverbs')"
   ]
  },
  {
   "cell_type": "code",
   "execution_count": 22,
   "id": "005e378b",
   "metadata": {},
   "outputs": [
    {
     "data": {
      "image/png": "[encoded data removed]",
      "text/plain": [
       "<Figure size 640x480 with 1 Axes>"
      ]
     },
     "metadata": {},
     "output_type": "display_data"
    }
   ],
   "source": [
    "histogram(df, 'non-ly-adverbs')"
   ]
  },
  {
   "cell_type": "markdown",
   "id": "7ddf5a1b",
   "metadata": {},
   "source": [
    "ly- and non-ly- adverbs appear to have symmetrical distributions as well, with non-ly having a slightly greater center and spread."
   ]
  },
  {
   "cell_type": "code",
   "execution_count": 23,
   "id": "c93a7215",
   "metadata": {},
   "outputs": [
    {
     "data": {
      "image/png": "[encoded data removed]",
      "text/plain": [
       "<Figure size 640x480 with 1 Axes>"
      ]
     },
     "metadata": {},
     "output_type": "display_data"
    }
   ],
   "source": [
    "histogram(df,'year')"
   ]
  },
  {
   "cell_type": "markdown",
   "id": "40a83758",
   "metadata": {},
   "source": [
    "The years of books in the dataframe seems to have a very significant left skew, with very few very old books, and the rest clustered around 2000, with further details difficult to make out. This might be worth repeating with outliers removed."
   ]
  },
  {
   "cell_type": "code",
   "execution_count": 24,
   "id": "157a2ab5",
   "metadata": {},
   "outputs": [
    {
     "data": {
      "text/plain": [
       "count    21930.000000\n",
       "mean      2010.430415\n",
       "std         36.979651\n",
       "min        180.000000\n",
       "25%       2013.000000\n",
       "50%       2018.000000\n",
       "75%       2020.000000\n",
       "max       2023.000000\n",
       "Name: year, dtype: float64"
      ]
     },
     "execution_count": 24,
     "metadata": {},
     "output_type": "execute_result"
    }
   ],
   "source": [
    "df['year'].describe()"
   ]
  },
  {
   "cell_type": "markdown",
   "id": "15d187be",
   "metadata": {},
   "source": [
    "The IQR appears to be 7 years, so strictly speaking, any book from before 2003 or so is an outlier. However, I don't think it's necessary to restrict ourselves by quite that much. Let's try viewing only books from the 20th century or later."
   ]
  },
  {
   "cell_type": "code",
   "execution_count": 25,
   "id": "19336846",
   "metadata": {},
   "outputs": [],
   "source": [
    "recent_books = df[df['year'] > 1900]"
   ]
  },
  {
   "cell_type": "code",
   "execution_count": 26,
   "id": "3a0fc16e",
   "metadata": {},
   "outputs": [
    {
     "name": "stdout",
     "output_type": "stream",
     "text": [
      "This still leaves 21767 books, or 98.8% of our data.\n"
     ]
    }
   ],
   "source": [
    "print(f\"This still leaves {len(recent_books)} books, or {round(len(recent_books)/len(df) * 100,1)}% of our data.\")"
   ]
  },
  {
   "cell_type": "code",
   "execution_count": 27,
   "id": "96994f7e",
   "metadata": {},
   "outputs": [
    {
     "data": {
      "image/png": "[encoded data removed]",
      "text/plain": [
       "<Figure size 640x480 with 1 Axes>"
      ]
     },
     "metadata": {},
     "output_type": "display_data"
    }
   ],
   "source": [
    "histogram(recent_books, 'year')"
   ]
  },
  {
   "cell_type": "markdown",
   "id": "a7bdf8d7",
   "metadata": {},
   "source": [
    "This is close enough to all the books, and we can still see a heavy right skew. Most of our books can now be seen clustered around the current year at the time of running this analysis--2023."
   ]
  },
  {
   "cell_type": "code",
   "execution_count": 28,
   "id": "f80e7c9f",
   "metadata": {},
   "outputs": [
    {
     "data": {
      "text/plain": [
       "count    21767.000000\n",
       "mean      2012.438002\n",
       "std         15.463577\n",
       "min       1901.000000\n",
       "25%       2013.000000\n",
       "50%       2018.000000\n",
       "75%       2020.000000\n",
       "max       2023.000000\n",
       "Name: year, dtype: float64"
      ]
     },
     "execution_count": 28,
     "metadata": {},
     "output_type": "execute_result"
    }
   ],
   "source": [
    "recent_books['year'].describe()"
   ]
  },
  {
   "cell_type": "code",
   "execution_count": 29,
   "id": "16adb24c",
   "metadata": {},
   "outputs": [],
   "source": [
    "very_recent = recent_books[recent_books['year'] >= 2000]"
   ]
  },
  {
   "cell_type": "code",
   "execution_count": 30,
   "id": "b03a4969",
   "metadata": {},
   "outputs": [
    {
     "data": {
      "image/png": "[encoded data removed]",
      "text/plain": [
       "<Figure size 640x480 with 1 Axes>"
      ]
     },
     "metadata": {},
     "output_type": "display_data"
    }
   ],
   "source": [
    "histogram(very_recent, 'year')"
   ]
  },
  {
   "cell_type": "markdown",
   "id": "f513d5a9",
   "metadata": {},
   "source": [
    "It now becomes clear that most of our books are from around 2020, with a great majority within about 4 years of 2019. "
   ]
  },
  {
   "cell_type": "code",
   "execution_count": 31,
   "id": "187b30a4",
   "metadata": {},
   "outputs": [],
   "source": [
    "post2015 = np.sum(df['year'] >= 2015)"
   ]
  },
  {
   "cell_type": "code",
   "execution_count": 32,
   "id": "3402d79a",
   "metadata": {},
   "outputs": [
    {
     "name": "stdout",
     "output_type": "stream",
     "text": [
      "In fact, 15765 books, or 71.6% of our data, are from 2015 or later.\n"
     ]
    }
   ],
   "source": [
    "print(f\"In fact, {post2015} books, or {round(post2015/len(df)*100, 1)}% of our data, are from 2015 or later.\")"
   ]
  },
  {
   "cell_type": "markdown",
   "id": "9b3f7f00",
   "metadata": {},
   "source": [
    "The \"title\" and \"author\" columns will not be used in the algorithm, and were only relevant for the purposes of collecting and categorizing the data. However, it might be interesting to see which authors appeared the most frequently."
   ]
  },
  {
   "cell_type": "code",
   "execution_count": 33,
   "id": "77137ba6",
   "metadata": {},
   "outputs": [],
   "source": [
    "authors = df['author'].value_counts()"
   ]
  },
  {
   "cell_type": "code",
   "execution_count": 34,
   "id": "72c8ef9b",
   "metadata": {},
   "outputs": [
    {
     "data": {
      "text/plain": [
       "author\n",
       "Franklin W. Dixon      146\n",
       "Carolyn Keene           83\n",
       "Debbie Macomber         80\n",
       "Stephen King            71\n",
       "Danielle Steel          68\n",
       "Dean Koontz             63\n",
       "Nora Roberts            58\n",
       "Piers Anthony           46\n",
       "John Sandford           39\n",
       "John Grisham            39\n",
       "Lorelei James           38\n",
       "R. L. Stine             38\n",
       "Sandra Brown            38\n",
       "Sherrilyn Kenyon        37\n",
       "William Shakespeare     36\n",
       "Tom Clancy              34\n",
       "Ruth Rendell            34\n",
       "Agatha Christie         33\n",
       "Jeffrey Archer          32\n",
       "David Gemmell           32\n",
       "Name: count, dtype: int64"
      ]
     },
     "execution_count": 34,
     "metadata": {},
     "output_type": "execute_result"
    }
   ],
   "source": [
    "authors[:20]"
   ]
  },
  {
   "cell_type": "markdown",
   "id": "c79fff14",
   "metadata": {},
   "source": [
    "It looks like the top 20 authors have more than 30 books on this list, with Franklin W. Dixon, the author of The Hardy Boys, having an incredible 146! That could be very relevant and potentially skew the data."
   ]
  },
  {
   "cell_type": "code",
   "execution_count": 35,
   "id": "5f0c4f5e",
   "metadata": {},
   "outputs": [
    {
     "name": "stdout",
     "output_type": "stream",
     "text": [
      "The average author is represented only 1.79 times in the dataset.\n"
     ]
    }
   ],
   "source": [
    "print(f\"The average author is represented only {round(authors.mean(),2)} times in the dataset.\")"
   ]
  },
  {
   "cell_type": "code",
   "execution_count": 36,
   "id": "7a394287",
   "metadata": {},
   "outputs": [
    {
     "data": {
      "text/html": [
       "<div>\n",
       "<style scoped>\n",
       "    .dataframe tbody tr th:only-of-type {\n",
       "        vertical-align: middle;\n",
       "    }\n",
       "\n",
       "    .dataframe tbody tr th {\n",
       "        vertical-align: top;\n",
       "    }\n",
       "\n",
       "    .dataframe thead th {\n",
       "        text-align: right;\n",
       "    }\n",
       "</style>\n",
       "<table border=\"1\" class=\"dataframe\">\n",
       "  <thead>\n",
       "    <tr style=\"text-align: right;\">\n",
       "      <th></th>\n",
       "      <th>title</th>\n",
       "      <th>author</th>\n",
       "      <th>total words</th>\n",
       "      <th>vividness</th>\n",
       "      <th>passive voice</th>\n",
       "      <th>all adverbs</th>\n",
       "      <th>ly-adverbs</th>\n",
       "      <th>non-ly-adverbs</th>\n",
       "      <th>genre</th>\n",
       "      <th>year</th>\n",
       "    </tr>\n",
       "  </thead>\n",
       "  <tbody>\n",
       "    <tr>\n",
       "      <th>10</th>\n",
       "      <td>The Hardy Boys: The Demon's Den</td>\n",
       "      <td>Franklin W. Dixon</td>\n",
       "      <td>33745.0</td>\n",
       "      <td>48.64</td>\n",
       "      <td>7.80</td>\n",
       "      <td>3.04</td>\n",
       "      <td>1.09</td>\n",
       "      <td>1.95</td>\n",
       "      <td>['Mystery', 'Fiction', 'Childrens', 'Young Adu...</td>\n",
       "      <td>1984.0</td>\n",
       "    </tr>\n",
       "    <tr>\n",
       "      <th>49</th>\n",
       "      <td>The Hardy Boys: Danger On Vampire Trail</td>\n",
       "      <td>Franklin W. Dixon</td>\n",
       "      <td>32114.0</td>\n",
       "      <td>58.99</td>\n",
       "      <td>6.84</td>\n",
       "      <td>2.66</td>\n",
       "      <td>0.99</td>\n",
       "      <td>1.67</td>\n",
       "      <td>['Mystery', 'Fiction', 'Young Adult', 'Childre...</td>\n",
       "      <td>1971.0</td>\n",
       "    </tr>\n",
       "    <tr>\n",
       "      <th>153</th>\n",
       "      <td>The Hardy Boys: Day of the Dinosaur</td>\n",
       "      <td>Franklin W. Dixon</td>\n",
       "      <td>31057.0</td>\n",
       "      <td>45.64</td>\n",
       "      <td>7.31</td>\n",
       "      <td>3.23</td>\n",
       "      <td>1.45</td>\n",
       "      <td>1.78</td>\n",
       "      <td>['Mystery', 'Childrens', 'Classics']</td>\n",
       "      <td>1994.0</td>\n",
       "    </tr>\n",
       "    <tr>\n",
       "      <th>193</th>\n",
       "      <td>The Hardy Boys: The Melted Coins</td>\n",
       "      <td>Franklin W. Dixon</td>\n",
       "      <td>33711.0</td>\n",
       "      <td>46.57</td>\n",
       "      <td>7.22</td>\n",
       "      <td>2.89</td>\n",
       "      <td>1.09</td>\n",
       "      <td>1.79</td>\n",
       "      <td>['Mystery', 'Fiction', 'Young Adult', 'Childre...</td>\n",
       "      <td>1944.0</td>\n",
       "    </tr>\n",
       "    <tr>\n",
       "      <th>252</th>\n",
       "      <td>The Hardy Boys: The Tower Treasure</td>\n",
       "      <td>Franklin W. Dixon</td>\n",
       "      <td>35293.0</td>\n",
       "      <td>40.38</td>\n",
       "      <td>8.30</td>\n",
       "      <td>3.11</td>\n",
       "      <td>1.24</td>\n",
       "      <td>1.88</td>\n",
       "      <td>['Mystery', 'Fiction', 'Young Adult', 'Childre...</td>\n",
       "      <td>1927.0</td>\n",
       "    </tr>\n",
       "    <tr>\n",
       "      <th>540</th>\n",
       "      <td>The Hardy Boys: Wreck and Roll</td>\n",
       "      <td>Franklin W. Dixon</td>\n",
       "      <td>30532.0</td>\n",
       "      <td>53.35</td>\n",
       "      <td>6.53</td>\n",
       "      <td>2.32</td>\n",
       "      <td>0.90</td>\n",
       "      <td>1.42</td>\n",
       "      <td>['Mystery', 'Fiction', 'Detective']</td>\n",
       "      <td>2004.0</td>\n",
       "    </tr>\n",
       "    <tr>\n",
       "      <th>571</th>\n",
       "      <td>The Hardy Boys: The Wailing Siren Mystery</td>\n",
       "      <td>Franklin W. Dixon</td>\n",
       "      <td>32780.0</td>\n",
       "      <td>51.22</td>\n",
       "      <td>7.44</td>\n",
       "      <td>2.72</td>\n",
       "      <td>1.12</td>\n",
       "      <td>1.60</td>\n",
       "      <td>['Mystery', 'Fiction', 'Young Adult', 'Childre...</td>\n",
       "      <td>1951.0</td>\n",
       "    </tr>\n",
       "    <tr>\n",
       "      <th>593</th>\n",
       "      <td>The Hardy Boys: The Mystery of the Spiral B</td>\n",
       "      <td>Franklin W. Dixon</td>\n",
       "      <td>32201.0</td>\n",
       "      <td>52.72</td>\n",
       "      <td>6.24</td>\n",
       "      <td>3.15</td>\n",
       "      <td>1.48</td>\n",
       "      <td>1.67</td>\n",
       "      <td>['Mystery', 'Fiction', 'Young Adult', 'Childre...</td>\n",
       "      <td>1965.0</td>\n",
       "    </tr>\n",
       "    <tr>\n",
       "      <th>652</th>\n",
       "      <td>The Hardy Boys: The Hunt For Four Brothers</td>\n",
       "      <td>Franklin W. Dixon</td>\n",
       "      <td>29095.0</td>\n",
       "      <td>62.07</td>\n",
       "      <td>6.27</td>\n",
       "      <td>1.80</td>\n",
       "      <td>0.62</td>\n",
       "      <td>1.18</td>\n",
       "      <td>['Mystery', 'Childrens', 'Fiction', 'Classics']</td>\n",
       "      <td>1999.0</td>\n",
       "    </tr>\n",
       "    <tr>\n",
       "      <th>663</th>\n",
       "      <td>The Hardy Boys: The Great Airport Mystery</td>\n",
       "      <td>Franklin W. Dixon</td>\n",
       "      <td>32733.0</td>\n",
       "      <td>47.39</td>\n",
       "      <td>6.78</td>\n",
       "      <td>3.06</td>\n",
       "      <td>1.38</td>\n",
       "      <td>1.68</td>\n",
       "      <td>['Mystery', 'Fiction', 'Young Adult', 'Childre...</td>\n",
       "      <td>1930.0</td>\n",
       "    </tr>\n",
       "  </tbody>\n",
       "</table>\n",
       "</div>"
      ],
      "text/plain": [
       "                                           title             author   \n",
       "10               The Hardy Boys: The Demon's Den  Franklin W. Dixon  \\\n",
       "49       The Hardy Boys: Danger On Vampire Trail  Franklin W. Dixon   \n",
       "153          The Hardy Boys: Day of the Dinosaur  Franklin W. Dixon   \n",
       "193             The Hardy Boys: The Melted Coins  Franklin W. Dixon   \n",
       "252           The Hardy Boys: The Tower Treasure  Franklin W. Dixon   \n",
       "540               The Hardy Boys: Wreck and Roll  Franklin W. Dixon   \n",
       "571    The Hardy Boys: The Wailing Siren Mystery  Franklin W. Dixon   \n",
       "593  The Hardy Boys: The Mystery of the Spiral B  Franklin W. Dixon   \n",
       "652   The Hardy Boys: The Hunt For Four Brothers  Franklin W. Dixon   \n",
       "663    The Hardy Boys: The Great Airport Mystery  Franklin W. Dixon   \n",
       "\n",
       "     total words  vividness  passive voice  all adverbs  ly-adverbs   \n",
       "10       33745.0      48.64           7.80         3.04        1.09  \\\n",
       "49       32114.0      58.99           6.84         2.66        0.99   \n",
       "153      31057.0      45.64           7.31         3.23        1.45   \n",
       "193      33711.0      46.57           7.22         2.89        1.09   \n",
       "252      35293.0      40.38           8.30         3.11        1.24   \n",
       "540      30532.0      53.35           6.53         2.32        0.90   \n",
       "571      32780.0      51.22           7.44         2.72        1.12   \n",
       "593      32201.0      52.72           6.24         3.15        1.48   \n",
       "652      29095.0      62.07           6.27         1.80        0.62   \n",
       "663      32733.0      47.39           6.78         3.06        1.38   \n",
       "\n",
       "     non-ly-adverbs                                              genre    year  \n",
       "10             1.95  ['Mystery', 'Fiction', 'Childrens', 'Young Adu...  1984.0  \n",
       "49             1.67  ['Mystery', 'Fiction', 'Young Adult', 'Childre...  1971.0  \n",
       "153            1.78               ['Mystery', 'Childrens', 'Classics']  1994.0  \n",
       "193            1.79  ['Mystery', 'Fiction', 'Young Adult', 'Childre...  1944.0  \n",
       "252            1.88  ['Mystery', 'Fiction', 'Young Adult', 'Childre...  1927.0  \n",
       "540            1.42                ['Mystery', 'Fiction', 'Detective']  2004.0  \n",
       "571            1.60  ['Mystery', 'Fiction', 'Young Adult', 'Childre...  1951.0  \n",
       "593            1.67  ['Mystery', 'Fiction', 'Young Adult', 'Childre...  1965.0  \n",
       "652            1.18    ['Mystery', 'Childrens', 'Fiction', 'Classics']  1999.0  \n",
       "663            1.68  ['Mystery', 'Fiction', 'Young Adult', 'Childre...  1930.0  "
      ]
     },
     "execution_count": 36,
     "metadata": {},
     "output_type": "execute_result"
    }
   ],
   "source": [
    "df[df['author'] == 'Franklin W. Dixon'].head(10)"
   ]
  },
  {
   "cell_type": "markdown",
   "id": "72e894ff",
   "metadata": {},
   "source": [
    "A quick glance reveals that, as one might expect, the genres on these books are all roughly the same. Some of the linguistic features range a bit more than you'd think, and the range on the years is enough to make one suspicious. Indeed, a bit of research indicates that the series is largely ghostwritten under the same pen name. "
   ]
  },
  {
   "cell_type": "code",
   "execution_count": 37,
   "id": "d4659348",
   "metadata": {},
   "outputs": [
    {
     "data": {
      "text/html": [
       "<div>\n",
       "<style scoped>\n",
       "    .dataframe tbody tr th:only-of-type {\n",
       "        vertical-align: middle;\n",
       "    }\n",
       "\n",
       "    .dataframe tbody tr th {\n",
       "        vertical-align: top;\n",
       "    }\n",
       "\n",
       "    .dataframe thead th {\n",
       "        text-align: right;\n",
       "    }\n",
       "</style>\n",
       "<table border=\"1\" class=\"dataframe\">\n",
       "  <thead>\n",
       "    <tr style=\"text-align: right;\">\n",
       "      <th></th>\n",
       "      <th>title</th>\n",
       "      <th>author</th>\n",
       "      <th>total words</th>\n",
       "      <th>vividness</th>\n",
       "      <th>passive voice</th>\n",
       "      <th>all adverbs</th>\n",
       "      <th>ly-adverbs</th>\n",
       "      <th>non-ly-adverbs</th>\n",
       "      <th>genre</th>\n",
       "      <th>year</th>\n",
       "    </tr>\n",
       "  </thead>\n",
       "  <tbody>\n",
       "    <tr>\n",
       "      <th>184</th>\n",
       "      <td>Nancy Drew: The Witch Tree Symbol</td>\n",
       "      <td>Carolyn Keene</td>\n",
       "      <td>34096.0</td>\n",
       "      <td>42.75</td>\n",
       "      <td>8.07</td>\n",
       "      <td>3.10</td>\n",
       "      <td>1.19</td>\n",
       "      <td>1.90</td>\n",
       "      <td>['Mystery', 'Fiction', 'Young Adult', 'Childre...</td>\n",
       "      <td>1955.0</td>\n",
       "    </tr>\n",
       "    <tr>\n",
       "      <th>230</th>\n",
       "      <td>Nancy Drew: The Whispering Statue</td>\n",
       "      <td>Carolyn Keene</td>\n",
       "      <td>34042.0</td>\n",
       "      <td>39.16</td>\n",
       "      <td>8.43</td>\n",
       "      <td>2.90</td>\n",
       "      <td>1.10</td>\n",
       "      <td>1.80</td>\n",
       "      <td>['Mystery', 'Fiction', 'Young Adult', 'Childre...</td>\n",
       "      <td>1937.0</td>\n",
       "    </tr>\n",
       "    <tr>\n",
       "      <th>1333</th>\n",
       "      <td>Nancy Drew: Trouble In Tahiti</td>\n",
       "      <td>Carolyn Keene</td>\n",
       "      <td>29789.0</td>\n",
       "      <td>61.35</td>\n",
       "      <td>6.66</td>\n",
       "      <td>2.93</td>\n",
       "      <td>1.25</td>\n",
       "      <td>1.68</td>\n",
       "      <td>['Mystery', 'Young Adult', 'Childrens', 'Ficti...</td>\n",
       "      <td>1987.0</td>\n",
       "    </tr>\n",
       "    <tr>\n",
       "      <th>1671</th>\n",
       "      <td>Nancy Drew: The Clue of the Whistling Bagpipes</td>\n",
       "      <td>Carolyn Keene</td>\n",
       "      <td>34986.0</td>\n",
       "      <td>46.19</td>\n",
       "      <td>7.99</td>\n",
       "      <td>3.14</td>\n",
       "      <td>1.25</td>\n",
       "      <td>1.89</td>\n",
       "      <td>['Mystery', 'Fiction', 'Young Adult', 'Childre...</td>\n",
       "      <td>1964.0</td>\n",
       "    </tr>\n",
       "    <tr>\n",
       "      <th>1803</th>\n",
       "      <td>Nancy Drew: Last Dance</td>\n",
       "      <td>Carolyn Keene</td>\n",
       "      <td>28693.0</td>\n",
       "      <td>40.23</td>\n",
       "      <td>8.40</td>\n",
       "      <td>2.90</td>\n",
       "      <td>1.26</td>\n",
       "      <td>1.64</td>\n",
       "      <td>['Mystery', 'Young Adult', 'Childrens', 'Middl...</td>\n",
       "      <td>1989.0</td>\n",
       "    </tr>\n",
       "    <tr>\n",
       "      <th>2542</th>\n",
       "      <td>Nancy Drew: The Clue in the Diary</td>\n",
       "      <td>Carolyn Keene</td>\n",
       "      <td>32355.0</td>\n",
       "      <td>35.10</td>\n",
       "      <td>8.88</td>\n",
       "      <td>3.61</td>\n",
       "      <td>1.70</td>\n",
       "      <td>1.91</td>\n",
       "      <td>['Mystery', 'Fiction', 'Young Adult', 'Childre...</td>\n",
       "      <td>1932.0</td>\n",
       "    </tr>\n",
       "    <tr>\n",
       "      <th>2941</th>\n",
       "      <td>Nancy Drew: Sisters In Crime</td>\n",
       "      <td>Carolyn Keene</td>\n",
       "      <td>29187.0</td>\n",
       "      <td>37.02</td>\n",
       "      <td>8.05</td>\n",
       "      <td>3.35</td>\n",
       "      <td>1.21</td>\n",
       "      <td>2.14</td>\n",
       "      <td>['Mystery', 'Young Adult', 'Fiction', 'Childre...</td>\n",
       "      <td>1988.0</td>\n",
       "    </tr>\n",
       "    <tr>\n",
       "      <th>3115</th>\n",
       "      <td>Nancy Drew: Wings of Fear</td>\n",
       "      <td>Carolyn Keene</td>\n",
       "      <td>27832.0</td>\n",
       "      <td>37.65</td>\n",
       "      <td>8.69</td>\n",
       "      <td>3.44</td>\n",
       "      <td>1.47</td>\n",
       "      <td>1.97</td>\n",
       "      <td>['Mystery', 'Young Adult', 'Fiction', 'Childre...</td>\n",
       "      <td>1987.0</td>\n",
       "    </tr>\n",
       "    <tr>\n",
       "      <th>3134</th>\n",
       "      <td>Nancy Drew: The Double Jinx Mystery</td>\n",
       "      <td>Carolyn Keene</td>\n",
       "      <td>34744.0</td>\n",
       "      <td>40.54</td>\n",
       "      <td>8.41</td>\n",
       "      <td>3.21</td>\n",
       "      <td>1.20</td>\n",
       "      <td>2.00</td>\n",
       "      <td>['Mystery', 'Fiction', 'Young Adult', 'Childre...</td>\n",
       "      <td>1973.0</td>\n",
       "    </tr>\n",
       "    <tr>\n",
       "      <th>3280</th>\n",
       "      <td>Nancy Drew: Betrayed By Love</td>\n",
       "      <td>Carolyn Keene</td>\n",
       "      <td>28666.0</td>\n",
       "      <td>39.98</td>\n",
       "      <td>9.06</td>\n",
       "      <td>3.73</td>\n",
       "      <td>1.35</td>\n",
       "      <td>2.37</td>\n",
       "      <td>['Mystery', 'Young Adult', 'Childrens', 'Ficti...</td>\n",
       "      <td>1996.0</td>\n",
       "    </tr>\n",
       "  </tbody>\n",
       "</table>\n",
       "</div>"
      ],
      "text/plain": [
       "                                               title         author   \n",
       "184                Nancy Drew: The Witch Tree Symbol  Carolyn Keene  \\\n",
       "230                Nancy Drew: The Whispering Statue  Carolyn Keene   \n",
       "1333                   Nancy Drew: Trouble In Tahiti  Carolyn Keene   \n",
       "1671  Nancy Drew: The Clue of the Whistling Bagpipes  Carolyn Keene   \n",
       "1803                          Nancy Drew: Last Dance  Carolyn Keene   \n",
       "2542               Nancy Drew: The Clue in the Diary  Carolyn Keene   \n",
       "2941                    Nancy Drew: Sisters In Crime  Carolyn Keene   \n",
       "3115                       Nancy Drew: Wings of Fear  Carolyn Keene   \n",
       "3134             Nancy Drew: The Double Jinx Mystery  Carolyn Keene   \n",
       "3280                    Nancy Drew: Betrayed By Love  Carolyn Keene   \n",
       "\n",
       "      total words  vividness  passive voice  all adverbs  ly-adverbs   \n",
       "184       34096.0      42.75           8.07         3.10        1.19  \\\n",
       "230       34042.0      39.16           8.43         2.90        1.10   \n",
       "1333      29789.0      61.35           6.66         2.93        1.25   \n",
       "1671      34986.0      46.19           7.99         3.14        1.25   \n",
       "1803      28693.0      40.23           8.40         2.90        1.26   \n",
       "2542      32355.0      35.10           8.88         3.61        1.70   \n",
       "2941      29187.0      37.02           8.05         3.35        1.21   \n",
       "3115      27832.0      37.65           8.69         3.44        1.47   \n",
       "3134      34744.0      40.54           8.41         3.21        1.20   \n",
       "3280      28666.0      39.98           9.06         3.73        1.35   \n",
       "\n",
       "      non-ly-adverbs                                              genre   \n",
       "184             1.90  ['Mystery', 'Fiction', 'Young Adult', 'Childre...  \\\n",
       "230             1.80  ['Mystery', 'Fiction', 'Young Adult', 'Childre...   \n",
       "1333            1.68  ['Mystery', 'Young Adult', 'Childrens', 'Ficti...   \n",
       "1671            1.89  ['Mystery', 'Fiction', 'Young Adult', 'Childre...   \n",
       "1803            1.64  ['Mystery', 'Young Adult', 'Childrens', 'Middl...   \n",
       "2542            1.91  ['Mystery', 'Fiction', 'Young Adult', 'Childre...   \n",
       "2941            2.14  ['Mystery', 'Young Adult', 'Fiction', 'Childre...   \n",
       "3115            1.97  ['Mystery', 'Young Adult', 'Fiction', 'Childre...   \n",
       "3134            2.00  ['Mystery', 'Fiction', 'Young Adult', 'Childre...   \n",
       "3280            2.37  ['Mystery', 'Young Adult', 'Childrens', 'Ficti...   \n",
       "\n",
       "        year  \n",
       "184   1955.0  \n",
       "230   1937.0  \n",
       "1333  1987.0  \n",
       "1671  1964.0  \n",
       "1803  1989.0  \n",
       "2542  1932.0  \n",
       "2941  1988.0  \n",
       "3115  1987.0  \n",
       "3134  1973.0  \n",
       "3280  1996.0  "
      ]
     },
     "execution_count": 37,
     "metadata": {},
     "output_type": "execute_result"
    }
   ],
   "source": [
    "df[df['author'] == 'Carolyn Keene'].head(10)"
   ]
  },
  {
   "cell_type": "markdown",
   "id": "e835e1ec",
   "metadata": {},
   "source": [
    "It looks like the second most frequent author, Carolyn Keene, has a very similar situation! The name belongs to another series of ghostwriters writing the Nancy Drew series, yet another long-running series of children's mystery fiction. "
   ]
  },
  {
   "cell_type": "code",
   "execution_count": 38,
   "id": "d238d03e",
   "metadata": {},
   "outputs": [
    {
     "name": "stdout",
     "output_type": "stream",
     "text": [
      "Together, these two children's mystery series account for 1.0% of our books!\n"
     ]
    }
   ],
   "source": [
    "print(f\"Together, these two children's mystery series account for \\\n",
    "{round((authors['Franklin W. Dixon']+authors['Carolyn Keene'])/len(df)*100,1)}% of our books!\")"
   ]
  },
  {
   "cell_type": "markdown",
   "id": "2be59827",
   "metadata": {},
   "source": [
    "That seems like it could really skew our algorithm. "
   ]
  },
  {
   "cell_type": "code",
   "execution_count": 39,
   "id": "c21757cf",
   "metadata": {},
   "outputs": [
    {
     "data": {
      "text/html": [
       "<div>\n",
       "<style scoped>\n",
       "    .dataframe tbody tr th:only-of-type {\n",
       "        vertical-align: middle;\n",
       "    }\n",
       "\n",
       "    .dataframe tbody tr th {\n",
       "        vertical-align: top;\n",
       "    }\n",
       "\n",
       "    .dataframe thead th {\n",
       "        text-align: right;\n",
       "    }\n",
       "</style>\n",
       "<table border=\"1\" class=\"dataframe\">\n",
       "  <thead>\n",
       "    <tr style=\"text-align: right;\">\n",
       "      <th></th>\n",
       "      <th>title</th>\n",
       "      <th>author</th>\n",
       "      <th>total words</th>\n",
       "      <th>vividness</th>\n",
       "      <th>passive voice</th>\n",
       "      <th>all adverbs</th>\n",
       "      <th>ly-adverbs</th>\n",
       "      <th>non-ly-adverbs</th>\n",
       "      <th>genre</th>\n",
       "      <th>year</th>\n",
       "    </tr>\n",
       "  </thead>\n",
       "  <tbody>\n",
       "    <tr>\n",
       "      <th>56</th>\n",
       "      <td>A Mrs. Miracle Christmas</td>\n",
       "      <td>Debbie Macomber</td>\n",
       "      <td>46408.0</td>\n",
       "      <td>38.01</td>\n",
       "      <td>9.49</td>\n",
       "      <td>3.03</td>\n",
       "      <td>1.16</td>\n",
       "      <td>1.86</td>\n",
       "      <td>['Christmas', 'Fiction', 'Romance', 'Holiday',...</td>\n",
       "      <td>2019.0</td>\n",
       "    </tr>\n",
       "    <tr>\n",
       "      <th>268</th>\n",
       "      <td>Thursdays at Eight</td>\n",
       "      <td>Debbie Macomber</td>\n",
       "      <td>88264.0</td>\n",
       "      <td>29.95</td>\n",
       "      <td>10.03</td>\n",
       "      <td>3.44</td>\n",
       "      <td>1.34</td>\n",
       "      <td>2.10</td>\n",
       "      <td>['Romance', 'Fiction', 'Chick Lit', 'Adult', '...</td>\n",
       "      <td>2001.0</td>\n",
       "    </tr>\n",
       "    <tr>\n",
       "      <th>597</th>\n",
       "      <td>Navy Woman</td>\n",
       "      <td>Debbie Macomber</td>\n",
       "      <td>61281.0</td>\n",
       "      <td>35.70</td>\n",
       "      <td>9.75</td>\n",
       "      <td>3.75</td>\n",
       "      <td>1.57</td>\n",
       "      <td>2.18</td>\n",
       "      <td>['Romance', 'Fiction', 'Military Fiction', 'Co...</td>\n",
       "      <td>1991.0</td>\n",
       "    </tr>\n",
       "    <tr>\n",
       "      <th>1214</th>\n",
       "      <td>Ready for Romance</td>\n",
       "      <td>Debbie Macomber</td>\n",
       "      <td>43846.0</td>\n",
       "      <td>34.08</td>\n",
       "      <td>9.72</td>\n",
       "      <td>3.43</td>\n",
       "      <td>1.36</td>\n",
       "      <td>2.07</td>\n",
       "      <td>['Romance', 'Fiction', 'Contemporary Romance',...</td>\n",
       "      <td>1999.0</td>\n",
       "    </tr>\n",
       "    <tr>\n",
       "      <th>1848</th>\n",
       "      <td>Alaskan Holiday</td>\n",
       "      <td>Debbie Macomber</td>\n",
       "      <td>47321.0</td>\n",
       "      <td>36.32</td>\n",
       "      <td>9.96</td>\n",
       "      <td>2.77</td>\n",
       "      <td>0.96</td>\n",
       "      <td>1.81</td>\n",
       "      <td>['Romance', 'Christmas', 'Fiction', 'Holiday',...</td>\n",
       "      <td>2018.0</td>\n",
       "    </tr>\n",
       "  </tbody>\n",
       "</table>\n",
       "</div>"
      ],
      "text/plain": [
       "                         title           author  total words  vividness   \n",
       "56    A Mrs. Miracle Christmas  Debbie Macomber      46408.0      38.01  \\\n",
       "268         Thursdays at Eight  Debbie Macomber      88264.0      29.95   \n",
       "597                 Navy Woman  Debbie Macomber      61281.0      35.70   \n",
       "1214         Ready for Romance  Debbie Macomber      43846.0      34.08   \n",
       "1848           Alaskan Holiday  Debbie Macomber      47321.0      36.32   \n",
       "\n",
       "      passive voice  all adverbs  ly-adverbs  non-ly-adverbs   \n",
       "56             9.49         3.03        1.16            1.86  \\\n",
       "268           10.03         3.44        1.34            2.10   \n",
       "597            9.75         3.75        1.57            2.18   \n",
       "1214           9.72         3.43        1.36            2.07   \n",
       "1848           9.96         2.77        0.96            1.81   \n",
       "\n",
       "                                                  genre    year  \n",
       "56    ['Christmas', 'Fiction', 'Romance', 'Holiday',...  2019.0  \n",
       "268   ['Romance', 'Fiction', 'Chick Lit', 'Adult', '...  2001.0  \n",
       "597   ['Romance', 'Fiction', 'Military Fiction', 'Co...  1991.0  \n",
       "1214  ['Romance', 'Fiction', 'Contemporary Romance',...  1999.0  \n",
       "1848  ['Romance', 'Christmas', 'Fiction', 'Holiday',...  2018.0  "
      ]
     },
     "execution_count": 39,
     "metadata": {},
     "output_type": "execute_result"
    }
   ],
   "source": [
    "df[df['author'] == 'Debbie Macomber'].head()"
   ]
  },
  {
   "cell_type": "markdown",
   "id": "b82286c7",
   "metadata": {},
   "source": [
    "Debbie Macomber, at least, is an actual author, rather than a collective of authors writing over a timespan of more than a century. The other authors with more than 40 books appear to be individual people, too."
   ]
  },
  {
   "cell_type": "code",
   "execution_count": null,
   "id": "6660e271",
   "metadata": {},
   "outputs": [],
   "source": []
  }
 ],
 "metadata": {
  "kernelspec": {
   "display_name": "Python 3 (ipykernel)",
   "language": "python",
   "name": "python3"
  },
  "language_info": {
   "codemirror_mode": {
    "name": "ipython",
    "version": 3
   },
   "file_extension": ".py",
   "mimetype": "text/x-python",
   "name": "python",
   "nbconvert_exporter": "python",
   "pygments_lexer": "ipython3",
   "version": "3.10.10"
  }
 },
 "nbformat": 4,
 "nbformat_minor": 5
}
