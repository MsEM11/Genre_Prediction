{
 "cells": [
  {
   "cell_type": "markdown",
   "id": "6dabac19",
   "metadata": {},
   "source": [
    "This Notebook contains my quest to get genres out of Goodreads.\n",
    "First, we set up the webscraping."
   ]
  },
  {
   "cell_type": "code",
   "execution_count": 1,
   "id": "255a97b9",
   "metadata": {},
   "outputs": [],
   "source": [
    "from dotenv import load_dotenv\n",
    "load_dotenv()\n",
    "import os\n",
    "from time import sleep\n",
    "import selenium\n",
    "from selenium import webdriver\n",
    "from selenium.webdriver.common.by import By\n",
    "from selenium.webdriver.common.keys import Keys\n",
    "from selenium.webdriver import firefox\n",
    "from selenium.webdriver.firefox.options import Options\n",
    "from selenium.webdriver.firefox.service import Service"
   ]
  },
  {
   "cell_type": "code",
   "execution_count": 2,
   "id": "0e034f06",
   "metadata": {},
   "outputs": [],
   "source": [
    "#Fill in my Goodreads username and password from the .env\n",
    "user_name = os.environ.get('USER')\n",
    "password = os.environ.get('PASSWORD')\n",
    "\n",
    "#This is just the URL I get when I go to goodreads and select log in by email.\n",
    "login_url = os.environ.get('URL')"
   ]
  },
  {
   "cell_type": "code",
   "execution_count": 3,
   "id": "479b90ec",
   "metadata": {},
   "outputs": [],
   "source": [
    "#Here I start up a headless Firefox browser through Selenium\n",
    "s = Service(\"geckodriver.exe\")\n",
    "opts=Options()\n",
    "opts.add_argument('-headless')\n",
    "browser = webdriver.Firefox(service=s)\n",
    "browser.get(login_url)"
   ]
  },
  {
   "cell_type": "code",
   "execution_count": 4,
   "id": "0be62e73",
   "metadata": {},
   "outputs": [],
   "source": [
    "# Here I log into goodreads\n",
    "log_email = browser.find_element(By.ID, value=\"ap_email\")\n",
    "log_pwd = browser.find_element(By.ID, value=\"ap_password\")\n",
    "log_email.send_keys(user_name)\n",
    "log_pwd.send_keys(password)\n",
    "log_pwd.submit()\n",
    "sleep(5)"
   ]
  },
  {
   "cell_type": "markdown",
   "id": "0af3a2ad",
   "metadata": {},
   "source": [
    "This is where things get shaky. I'm able to make this work for individual titles, but as soon as I put it into the function, the itemqueue ends up an empty list. Sometimes even when it's not in a function, it's an empty list. I haven't quite been able to figure out what triggers it to actually work. "
   ]
  },
  {
   "cell_type": "code",
   "execution_count": 5,
   "id": "2b01997a",
   "metadata": {},
   "outputs": [],
   "source": [
    "title = \"The Thief\"\n",
    "browser.get('http://www.goodreads.com/search?q=&qid=')\n",
    "search_book = browser.find_element(By.ID, value='search_query_main')\n",
    "search_book.send_keys(title)\n",
    "search_book.submit()\n",
    "sleep(5)"
   ]
  },
  {
   "cell_type": "markdown",
   "id": "8885e705",
   "metadata": {},
   "source": [
    "This has a bit more than I need (I got it from a tutorial) but when I try to take anything out, I start getting an empty list. So I removed the star ratings and called it good."
   ]
  },
  {
   "cell_type": "code",
   "execution_count": 6,
   "id": "475164dd",
   "metadata": {},
   "outputs": [],
   "source": [
    "itemqueue = browser.find_elements(By.XPATH, value=\"//table/tbody/tr[contains(@itemtype, 'http://schema.org/Book')]\")\n",
    "img = browser.find_elements(By.CLASS_NAME, value=\"bookCover\")\n",
    "book_list = list()\n",
    "for i in range(len(itemqueue)):\n",
    "    book_list.append(itemqueue[i].text.split('\\n'))\n",
    "    book_list_ap = list()\n",
    "for i in range(0, len(book_list)):\n",
    "     book_list_ap.append((book_list[i][0],book_list[i][1],img[i].get_property(\"src\")))"
   ]
  },
  {
   "cell_type": "markdown",
   "id": "682bcee3",
   "metadata": {},
   "source": [
    "Here's what that \"book_list_ap\" variable looks like. Oddly, the cover jpg is the most useful part, since it contains the book's ID, which you need to get the URL of the book's page.\n",
    "\n",
    "Here you can see a number of books with \"The Thief\" in the name."
   ]
  },
  {
   "cell_type": "code",
   "execution_count": 7,
   "id": "7ea28eca",
   "metadata": {},
   "outputs": [
    {
     "data": {
      "text/plain": [
       "[('The Lightning Thief (Percy Jackson and the Olympians, #1)',\n",
       "  'by Rick Riordan (Goodreads Author)',\n",
       "  'https://i.gr-assets.com/images/S/compressed.photo.goodreads.com/books/1400602609i/28187._SY75_.jpg'),\n",
       " ('The Book Thief',\n",
       "  'by Markus Zusak (Goodreads Author)',\n",
       "  'https://i.gr-assets.com/images/S/compressed.photo.goodreads.com/books/1522157426i/19063._SY75_.jpg'),\n",
       " (\"The Thief (The Queen's Thief, #1)\",\n",
       "  'by Megan Whalen Turner (Goodreads Author)',\n",
       "  'https://i.gr-assets.com/images/S/compressed.photo.goodreads.com/books/1427740839i/448873._SY75_.jpg'),\n",
       " ('The Kiss Thief',\n",
       "  'by L.J. Shen (Goodreads Author)',\n",
       "  'https://i.gr-assets.com/images/S/compressed.photo.goodreads.com/books/1544101164i/41450662._SY75_.jpg')]"
      ]
     },
     "execution_count": 7,
     "metadata": {},
     "output_type": "execute_result"
    }
   ],
   "source": [
    "book_list_ap[:4]"
   ]
  },
  {
   "cell_type": "markdown",
   "id": "88d33e8c",
   "metadata": {},
   "source": [
    "And here, I narrow it down to the only book written by the correct author and extract the URL from the JPG."
   ]
  },
  {
   "cell_type": "code",
   "execution_count": 8,
   "id": "dda39f6e",
   "metadata": {},
   "outputs": [
    {
     "data": {
      "text/plain": [
       "'https://www.goodreads.com/book/show/448873'"
      ]
     },
     "execution_count": 8,
     "metadata": {},
     "output_type": "execute_result"
    }
   ],
   "source": [
    "for book in book_list_ap:\n",
    "    if \"by Megan Whalen Turner\" in book[1]:\n",
    "        book_id = book[2].split('/')[-1].split('.')[0]\n",
    "        break\n",
    "book_url = f'https://www.goodreads.com/book/show/{book_id}'\n",
    "book_url"
   ]
  },
  {
   "cell_type": "code",
   "execution_count": 9,
   "id": "af813a2c",
   "metadata": {},
   "outputs": [],
   "source": [
    "browser.get(book_url)"
   ]
  },
  {
   "cell_type": "code",
   "execution_count": 10,
   "id": "5082e513",
   "metadata": {},
   "outputs": [],
   "source": [
    "genres = browser.find_elements(By.XPATH, value=\"//span[contains(@class, 'BookPageMetadataSection__genreButton')]\")"
   ]
  },
  {
   "cell_type": "code",
   "execution_count": 11,
   "id": "4c7f3242",
   "metadata": {},
   "outputs": [
    {
     "name": "stdout",
     "output_type": "stream",
     "text": [
      "Fantasy\n",
      "Young Adult\n",
      "Fiction\n",
      "Adventure\n",
      "Historical Fiction\n",
      "Young Adult Fantasy\n",
      "High Fantasy\n"
     ]
    }
   ],
   "source": [
    "for genre in genres:\n",
    "    print(genre.text)"
   ]
  },
  {
   "cell_type": "markdown",
   "id": "efd94e81",
   "metadata": {},
   "source": [
    "Success! I have found the genres for one book. All I need is a way to automate this for books from the sample."
   ]
  },
  {
   "cell_type": "code",
   "execution_count": 13,
   "id": "3470af82",
   "metadata": {},
   "outputs": [],
   "source": [
    "def get_genres(title, author):\n",
    "    browser.get('http://www.goodreads.com/search?q=&qid=')\n",
    "    search_book = browser.find_element(By.ID, value='search_query_main')\n",
    "    search_book.send_keys(title)\n",
    "    search_book.submit()\n",
    "    sleep(5)\n",
    "    itemqueue = browser.find_elements(By.XPATH, value=\"//table/tbody/tr[contains(@itemtype, 'http://schema.org/Book')]\")\n",
    "    img = browser.find_elements(By.CLASS_NAME, value=\"bookCover\")\n",
    "    book_list = list()\n",
    "    for i in range(len(itemqueue)):\n",
    "        book_list.append(itemqueue[i].text.split('\\n'))\n",
    "        book_list_ap = list()\n",
    "    for i in range(0, len(book_list)):\n",
    "         book_list_ap.append((book_list[i][0],book_list[i][1],img[i].get_property(\"src\")))\n",
    "    for book in book_list_ap:\n",
    "        if f'by {author}' in book[1]:\n",
    "            book_id = book[2].split('/')[-1].split('.')[0]\n",
    "            break\n",
    "    book_url = f'https://www.goodreads.com/book/show/{book_id}'\n",
    "    browser.get(book_url)\n",
    "    genres = browser.find_elements(By.XPATH, value=\"//span[contains(@class, 'BookPageMetadataSection__genreButton')]\")\n",
    "    return [genre.text for genre in genres]"
   ]
  },
  {
   "cell_type": "code",
   "execution_count": 14,
   "id": "36e64e87",
   "metadata": {
    "scrolled": true
   },
   "outputs": [
    {
     "data": {
      "text/plain": [
       "['Fantasy',\n",
       " 'Young Adult',\n",
       " 'Fiction',\n",
       " 'Adventure',\n",
       " 'Historical Fiction',\n",
       " 'Young Adult Fantasy',\n",
       " 'High Fantasy']"
      ]
     },
     "execution_count": 14,
     "metadata": {},
     "output_type": "execute_result"
    }
   ],
   "source": [
    "get_genres(\"The Thief\", \"Megan Whalen Turner\")"
   ]
  },
  {
   "cell_type": "code",
   "execution_count": 15,
   "id": "64c716b0",
   "metadata": {},
   "outputs": [],
   "source": [
    "browser.quit()"
   ]
  },
  {
   "cell_type": "code",
   "execution_count": null,
   "id": "c833f418",
   "metadata": {},
   "outputs": [],
   "source": []
  }
 ],
 "metadata": {
  "kernelspec": {
   "display_name": "Python 3 (ipykernel)",
   "language": "python",
   "name": "python3"
  },
  "language_info": {
   "codemirror_mode": {
    "name": "ipython",
    "version": 3
   },
   "file_extension": ".py",
   "mimetype": "text/x-python",
   "name": "python",
   "nbconvert_exporter": "python",
   "pygments_lexer": "ipython3",
   "version": "3.10.6"
  }
 },
 "nbformat": 4,
 "nbformat_minor": 5
}
