{
 "cells": [
  {
   "cell_type": "code",
   "execution_count": 1,
   "id": "224a7810",
   "metadata": {},
   "outputs": [],
   "source": [
    "from dotenv import load_dotenv\n",
    "load_dotenv()\n",
    "import os\n",
    "import selenium\n",
    "from selenium import webdriver\n",
    "from selenium.webdriver.common.by import By\n",
    "from selenium.webdriver.common.keys import Keys\n",
    "from selenium.webdriver import firefox\n",
    "from selenium.webdriver.firefox.options import Options\n",
    "from selenium.webdriver.firefox.service import Service"
   ]
  },
  {
   "cell_type": "code",
   "execution_count": 2,
   "id": "1ee41c07",
   "metadata": {},
   "outputs": [],
   "source": [
    "user_name = os.environ.get('USER')\n",
    "password = os.environ.get('PASSWORD')\n",
    "login_url = os.environ.get('URL')"
   ]
  },
  {
   "cell_type": "code",
   "execution_count": 25,
   "id": "e019a6f1",
   "metadata": {},
   "outputs": [],
   "source": [
    "s = Service(\"geckodriver.exe\")\n",
    "opts=Options()\n",
    "opts.add_argument('-headless')\n",
    "browser = webdriver.Firefox(service=s)\n",
    "browser.get(login_url)"
   ]
  },
  {
   "cell_type": "code",
   "execution_count": 26,
   "id": "a53eef9a",
   "metadata": {},
   "outputs": [],
   "source": [
    "log_email = browser.find_element(By.ID, value=\"ap_email\")\n",
    "log_pwd = browser.find_element(By.ID, value=\"ap_password\")\n",
    "log_email.send_keys(user_name)\n",
    "log_pwd.send_keys(password)\n",
    "log_pwd.submit()"
   ]
  },
  {
   "cell_type": "code",
   "execution_count": 27,
   "id": "d2bb27f1",
   "metadata": {},
   "outputs": [],
   "source": [
    "browser.get('http://www.goodreads.com/search?q=&qid=')\n",
    "search_book = browser.find_element(By.ID, value='search_query_main')\n",
    "search_book.send_keys(\"1984\")\n",
    "search_book.submit()"
   ]
  },
  {
   "cell_type": "code",
   "execution_count": 28,
   "id": "283deb3c",
   "metadata": {},
   "outputs": [],
   "source": [
    "itemqueue = browser.find_elements(By.XPATH, value=\"//table/tbody/tr[contains(@itemtype, 'http://schema.org/Book')]\")\n",
    "img = browser.find_elements(By.CLASS_NAME, value=\"bookCover\")\n",
    "book_list = list()\n",
    "for i in range(len(itemqueue)):\n",
    "    book_list.append(itemqueue[i].text.split('\\n'))\n",
    "    book_list_ap = list()\n",
    "for i in range(0, len(book_list)):\n",
    "    book_list_ap.append((book_list[i][0],book_list[i][1],book_list[i][2],img[i].get_property(\"src\")))"
   ]
  },
  {
   "cell_type": "code",
   "execution_count": 29,
   "id": "717cf069",
   "metadata": {},
   "outputs": [
    {
     "data": {
      "text/plain": [
       "[<selenium.webdriver.remote.webelement.WebElement (session=\"01a9cfa6-0674-4174-bf71-bc04881aa7be\", element=\"bdfcc445-d7a9-438e-a2a7-3b5239229e02\")>,\n",
       " <selenium.webdriver.remote.webelement.WebElement (session=\"01a9cfa6-0674-4174-bf71-bc04881aa7be\", element=\"70c1a3f1-0149-4c0c-adbb-f2be028dce56\")>,\n",
       " <selenium.webdriver.remote.webelement.WebElement (session=\"01a9cfa6-0674-4174-bf71-bc04881aa7be\", element=\"00512ab0-a4d1-4ba1-a5a2-d91291ad94e6\")>,\n",
       " <selenium.webdriver.remote.webelement.WebElement (session=\"01a9cfa6-0674-4174-bf71-bc04881aa7be\", element=\"d72092ce-c87b-4abc-98e0-95eb0b52049f\")>,\n",
       " <selenium.webdriver.remote.webelement.WebElement (session=\"01a9cfa6-0674-4174-bf71-bc04881aa7be\", element=\"996b66f5-7e03-42e8-8090-9e2e9666254a\")>,\n",
       " <selenium.webdriver.remote.webelement.WebElement (session=\"01a9cfa6-0674-4174-bf71-bc04881aa7be\", element=\"64ac1869-ab91-47a4-8923-a5cfe80ed7cf\")>,\n",
       " <selenium.webdriver.remote.webelement.WebElement (session=\"01a9cfa6-0674-4174-bf71-bc04881aa7be\", element=\"5427c78d-dc54-4874-b3d2-4fbbb63d7412\")>,\n",
       " <selenium.webdriver.remote.webelement.WebElement (session=\"01a9cfa6-0674-4174-bf71-bc04881aa7be\", element=\"67663a5c-201e-4487-a189-4b4244c2f743\")>,\n",
       " <selenium.webdriver.remote.webelement.WebElement (session=\"01a9cfa6-0674-4174-bf71-bc04881aa7be\", element=\"1766361a-f9d9-4cc1-862b-9784d195b0c9\")>,\n",
       " <selenium.webdriver.remote.webelement.WebElement (session=\"01a9cfa6-0674-4174-bf71-bc04881aa7be\", element=\"a693eb18-e6ab-4888-8a7a-5ff2eedff772\")>]"
      ]
     },
     "execution_count": 29,
     "metadata": {},
     "output_type": "execute_result"
    }
   ],
   "source": [
    "itemqueue"
   ]
  },
  {
   "cell_type": "code",
   "execution_count": 8,
   "id": "6ebd65d5",
   "metadata": {},
   "outputs": [],
   "source": [
    "def find_book(title, author):\n",
    "    # Searches the title\n",
    "    browser.get('http://www.goodreads.com/search?q=&qid=')\n",
    "    search_book = browser.find_element(By.ID, value='search_query_main')\n",
    "    search_book.send_keys(title)\n",
    "    search_book.submit()\n",
    "    \n",
    "    # Finds book in the title that's by the author\n",
    "    itemqueue = browser.find_elements(By.XPATH, value=\"//table/tbody/tr[contains(@itemtype, 'http://schema.org/Book')]\")\n",
    "    img = browser.find_elements(By.CLASS_NAME, value=\"bookCover\")\n",
    "    book_list = list()\n",
    "    for i in range(len(itemqueue)):\n",
    "        info = itemqueue[i]\n",
    "        if 'by ' + author in info[1]:\n",
    "            break\n",
    "    return info\n",
    "        \n"
   ]
  },
  {
   "cell_type": "code",
   "execution_count": 24,
   "id": "618301a7",
   "metadata": {},
   "outputs": [],
   "source": [
    "browser.quit()"
   ]
  },
  {
   "cell_type": "code",
   "execution_count": null,
   "id": "d6437519",
   "metadata": {},
   "outputs": [],
   "source": []
  }
 ],
 "metadata": {
  "kernelspec": {
   "display_name": "Python 3 (ipykernel)",
   "language": "python",
   "name": "python3"
  },
  "language_info": {
   "codemirror_mode": {
    "name": "ipython",
    "version": 3
   },
   "file_extension": ".py",
   "mimetype": "text/x-python",
   "name": "python",
   "nbconvert_exporter": "python",
   "pygments_lexer": "ipython3",
   "version": "3.10.6"
  }
 },
 "nbformat": 4,
 "nbformat_minor": 5
}
