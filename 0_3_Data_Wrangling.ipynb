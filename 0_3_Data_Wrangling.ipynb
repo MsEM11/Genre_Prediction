{
 "cells": [
  {
   "cell_type": "markdown",
   "id": "947c85a7",
   "metadata": {},
   "source": [
    "This Notebook contains my quest to get genres out of Goodreads.\n",
    "First, we set up the webscraping."
   ]
  },
  {
   "cell_type": "code",
   "execution_count": 1,
   "id": "e1f7a3e5",
   "metadata": {},
   "outputs": [],
   "source": [
    "from dotenv import load_dotenv\n",
    "load_dotenv()\n",
    "import os\n",
    "import selenium\n",
    "from selenium import webdriver\n",
    "from selenium.webdriver.common.by import By\n",
    "from selenium.webdriver.common.keys import Keys\n",
    "from selenium.webdriver import firefox\n",
    "from selenium.webdriver.firefox.options import Options\n",
    "from selenium.webdriver.firefox.service import Service"
   ]
  },
  {
   "cell_type": "code",
   "execution_count": 2,
   "id": "13048352",
   "metadata": {},
   "outputs": [],
   "source": [
    "#Fill in my Goodreads username and password from the .env\n",
    "user_name = os.environ.get('USER')\n",
    "password = os.environ.get('PASSWORD')\n",
    "\n",
    "#This is just the URL I get when I go to goodreads and select log in by email.\n",
    "login_url = os.environ.get('URL')"
   ]
  },
  {
   "cell_type": "code",
   "execution_count": 3,
   "id": "7e6db37e",
   "metadata": {},
   "outputs": [],
   "source": [
    "#Here I start up a headless Firefox browser through Selenium\n",
    "s = Service(\"geckodriver.exe\")\n",
    "opts=Options()\n",
    "opts.add_argument('-headless')\n",
    "browser = webdriver.Firefox(service=s)\n",
    "browser.get(login_url)"
   ]
  },
  {
   "cell_type": "code",
   "execution_count": 4,
   "id": "d438dde3",
   "metadata": {},
   "outputs": [],
   "source": [
    "# Here I log into goodreads\n",
    "log_email = browser.find_element(By.ID, value=\"ap_email\")\n",
    "log_pwd = browser.find_element(By.ID, value=\"ap_password\")\n",
    "log_email.send_keys(user_name)\n",
    "log_pwd.send_keys(password)\n",
    "log_pwd.submit()"
   ]
  },
  {
   "cell_type": "markdown",
   "id": "a73119c8",
   "metadata": {},
   "source": [
    "This is where things get shaky. I'm able to make this work for individual titles, but as soon as I put it into the function, the itemqueue ends up an empty list. Sometimes even when it's not in a function, it's an empty list. I haven't quite been able to figure out what triggers it to actually work. "
   ]
  },
  {
   "cell_type": "code",
   "execution_count": 7,
   "id": "bc53af76",
   "metadata": {},
   "outputs": [],
   "source": [
    "title = \"The Thief\"\n",
    "browser.get('http://www.goodreads.com/search?q=&qid=')\n",
    "search_book = browser.find_element(By.ID, value='search_query_main')\n",
    "search_book.send_keys(title)\n",
    "search_book.submit()"
   ]
  },
  {
   "cell_type": "code",
   "execution_count": 8,
   "id": "4a6a0b0e",
   "metadata": {},
   "outputs": [],
   "source": [
    "itemqueue = browser.find_elements(By.XPATH, value=\"//table/tbody/tr[contains(@itemtype, 'http://schema.org/Book')]\")\n",
    "img = browser.find_elements(By.CLASS_NAME, value=\"bookCover\")\n",
    "book_list = list()\n",
    "for i in range(len(itemqueue)):\n",
    "    book_list.append(itemqueue[i].text.split('\\n'))\n",
    "    book_list_ap = list()\n",
    "for i in range(0, len(book_list)):\n",
    "     book_list_ap.append((book_list[i][0],book_list[i][1],img[i].get_property(\"src\")))"
   ]
  },
  {
   "cell_type": "code",
   "execution_count": 10,
   "id": "d02cce3c",
   "metadata": {},
   "outputs": [
    {
     "data": {
      "text/plain": [
       "'https://www.goodreads.com/book/show/448873'"
      ]
     },
     "execution_count": 10,
     "metadata": {},
     "output_type": "execute_result"
    }
   ],
   "source": [
    "for book in book_list_ap:\n",
    "    if \"by Megan Whalen Turner\" in book[1]:\n",
    "        book_id = book[2].split('/')[-1].split('.')[0]\n",
    "        break\n",
    "book_url = f'https://www.goodreads.com/book/show/{book_id}'\n",
    "book_url"
   ]
  },
  {
   "cell_type": "code",
   "execution_count": null,
   "id": "504231ba",
   "metadata": {},
   "outputs": [],
   "source": [
    "book_list_ap"
   ]
  },
  {
   "cell_type": "code",
   "execution_count": null,
   "id": "9993ee14",
   "metadata": {},
   "outputs": [],
   "source": [
    "find_book_1(\"1984\")"
   ]
  },
  {
   "cell_type": "code",
   "execution_count": null,
   "id": "b5035e08",
   "metadata": {},
   "outputs": [],
   "source": [
    "find_item_queue()"
   ]
  },
  {
   "cell_type": "code",
   "execution_count": null,
   "id": "0865d9df",
   "metadata": {},
   "outputs": [],
   "source": [
    "def search_for_title(title):\n",
    "    browser.get('http://www.goodreads.com/search?q=&qid=')\n",
    "    search_book = browser.find_element(By.ID, value='search_query_main')\n",
    "    search_book.send_keys(title)\n",
    "    search_book.submit()"
   ]
  },
  {
   "cell_type": "code",
   "execution_count": null,
   "id": "968995e3",
   "metadata": {},
   "outputs": [],
   "source": [
    "def find_book(title, author):\n",
    "    # Finds book in the title that's by the author\n",
    "    itemqueue = browser.find_elements(By.XPATH, value=\"//table/tbody/tr[contains(@itemtype, 'http://schema.org/Book')]\")\n",
    "    img = browser.find_elements(By.CLASS_NAME, value=\"bookCover\")\n",
    "    book_list = list()\n",
    "    for i in range(len(itemqueue)):\n",
    "        info = itemqueue[i].text.split('\\n')\n",
    "        if 'by ' + author in itemqueue[i][1]:\n",
    "            break\n",
    "        for i in range(0, len(book_list)):\n",
    "            book_list_ap.append((book_list[i][0],book_list[i][1],book_list[i][2],img[i].get_property(\"src\")))\n",
    "    return len(itemqueue)"
   ]
  },
  {
   "cell_type": "code",
   "execution_count": null,
   "id": "d014a608",
   "metadata": {},
   "outputs": [],
   "source": [
    "search_for_title(\"1984\")"
   ]
  },
  {
   "cell_type": "code",
   "execution_count": null,
   "id": "b73467d4",
   "metadata": {},
   "outputs": [],
   "source": [
    "find_book(\"1984\", \"George Orwell\")"
   ]
  },
  {
   "cell_type": "code",
   "execution_count": null,
   "id": "cccd7167",
   "metadata": {},
   "outputs": [],
   "source": [
    "len(itemqueue)"
   ]
  },
  {
   "cell_type": "code",
   "execution_count": null,
   "id": "8d21550c",
   "metadata": {},
   "outputs": [],
   "source": [
    "#browser.quit()"
   ]
  },
  {
   "cell_type": "code",
   "execution_count": null,
   "id": "eac59e21",
   "metadata": {},
   "outputs": [],
   "source": []
  }
 ],
 "metadata": {
  "kernelspec": {
   "display_name": "Python 3 (ipykernel)",
   "language": "python",
   "name": "python3"
  },
  "language_info": {
   "codemirror_mode": {
    "name": "ipython",
    "version": 3
   },
   "file_extension": ".py",
   "mimetype": "text/x-python",
   "name": "python",
   "nbconvert_exporter": "python",
   "pygments_lexer": "ipython3",
   "version": "3.10.6"
  }
 },
 "nbformat": 4,
 "nbformat_minor": 5
}
