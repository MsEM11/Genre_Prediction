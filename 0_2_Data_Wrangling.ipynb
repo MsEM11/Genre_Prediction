{
 "cells": [
  {
   "cell_type": "markdown",
   "id": "ef4f022b",
   "metadata": {},
   "source": [
    "## Cleaning the Prosecraft data\n",
    "Next, it was time to get the Prosecraft books from a JSON containing every book to a DataFrame containing a sample. "
   ]
  },
  {
   "cell_type": "code",
   "execution_count": 1,
   "id": "43328983",
   "metadata": {},
   "outputs": [],
   "source": [
    "import requests\n",
    "import json\n",
    "from bs4 import BeautifulSoup\n",
    "import pandas as pd\n",
    "import random"
   ]
  },
  {
   "cell_type": "markdown",
   "id": "e30cbcab",
   "metadata": {},
   "source": [
    "I created a function to take in the title and author of a book and output a dictionary containing each piece of information given by Prosecraft. "
   ]
  },
  {
   "cell_type": "code",
   "execution_count": 2,
   "id": "b6ed81e8",
   "metadata": {},
   "outputs": [],
   "source": [
    "def get_info(title, author):\n",
    "    '''Given a title and author of a book in the list,\n",
    "    returns a dictionary of prosecraft's analysis about the book.'''\n",
    "    \n",
    "    #Get rid of special characters in URL\n",
    "    chars_to_remove = [':', '’', '.', '“', '”']\n",
    "    info = {'title': title, 'author': author}\n",
    "    URL = f\"{author}/{title}/\"\n",
    "    for char in chars_to_remove: \n",
    "        URL = URL.replace(char, '')\n",
    "    URL = URL.replace('&', 'and').replace(' ','-').lower()\n",
    "    URL = \"http://prosecraft.io/library/\" + URL\n",
    "    \n",
    "    #Get data from Prosecraft and turn it into a dict\n",
    "    page = requests.get(URL)\n",
    "    soup = BeautifulSoup(page.content, \"html.parser\")\n",
    "    headings = soup.find_all(\"div\", {\"class\": \"book-info-metric-heading\"})\n",
    "    values = soup.find_all(\"div\", {\"class\": \"book-info-metric-value\"})\n",
    "    for heading, value in zip(headings, values):\n",
    "        info[heading.text] = float(value.text.strip('%').replace(',',''))\n",
    "    return info"
   ]
  },
  {
   "cell_type": "markdown",
   "id": "9d8e7f52",
   "metadata": {},
   "source": [
    "I tested the function with a book from my favorite series. "
   ]
  },
  {
   "cell_type": "code",
   "execution_count": 3,
   "id": "ebe85981",
   "metadata": {},
   "outputs": [
    {
     "data": {
      "text/plain": [
       "{'title': 'Thick as Thieves',\n",
       " 'author': 'Megan Whalen Turner',\n",
       " 'total words': 81228.0,\n",
       " 'vividness': 46.07,\n",
       " 'passive voice': 8.24,\n",
       " 'all adverbs': 2.9,\n",
       " 'ly-adverbs': 1.0,\n",
       " 'non-ly-adverbs': 1.91}"
      ]
     },
     "execution_count": 3,
     "metadata": {},
     "output_type": "execute_result"
    }
   ],
   "source": [
    "get_info(\"Thick as Thieves\", \"Megan Whalen Turner\")"
   ]
  },
  {
   "cell_type": "markdown",
   "id": "dc337cf7",
   "metadata": {},
   "source": [
    "Next, I tried creating a random sample of ten books and turning that sample into a pandas DataFrame. "
   ]
  },
  {
   "cell_type": "code",
   "execution_count": 4,
   "id": "495c7a9c",
   "metadata": {},
   "outputs": [],
   "source": [
    "with open('book_list.json', 'r') as lst:\n",
    "    book_list = json.load(lst)\n"
   ]
  },
  {
   "cell_type": "code",
   "execution_count": 5,
   "id": "10f4a7c3",
   "metadata": {},
   "outputs": [],
   "source": [
    "indices = random.sample(range(0, 24997), 10)\n",
    "books = []\n",
    "for index in indices:\n",
    "    books.append(book_list[index])"
   ]
  },
  {
   "cell_type": "code",
   "execution_count": 6,
   "id": "d4d75b1a",
   "metadata": {
    "scrolled": true
   },
   "outputs": [
    {
     "data": {
      "text/plain": [
       "[{'a': 'Howard Lauther',\n",
       "  't': 'Creating Characters',\n",
       "  'w': 200,\n",
       "  'e': 'jpg',\n",
       "  'v': 73732.0},\n",
       " {'a': 'Robert Coover',\n",
       "  't': 'Huck Out West',\n",
       "  'w': 197,\n",
       "  'e': 'jpg',\n",
       "  'v': 95282.0},\n",
       " {'a': 'Graham Masterton',\n",
       "  't': 'Ghost Virus',\n",
       "  'w': 192,\n",
       "  'e': 'jpg',\n",
       "  'v': 114497.0},\n",
       " {'a': 'Conner Habib',\n",
       "  't': 'Hawk Mountain',\n",
       "  'w': 197,\n",
       "  'e': 'jpg',\n",
       "  'v': 77111.0},\n",
       " {'a': 'Jon Cohen', 't': 'Harry’s Trees', 'w': 199, 'e': 'jpg', 'v': 123948.0},\n",
       " {'a': 'Andrew Maclure',\n",
       "  't': 'First Of The First',\n",
       "  'w': 187,\n",
       "  'e': 'jpg',\n",
       "  'v': 168709.0},\n",
       " {'a': 'Gail Bowen',\n",
       "  't': 'The Unlocking Season',\n",
       "  'w': 206,\n",
       "  'e': 'jpg',\n",
       "  'v': 86649.0},\n",
       " {'a': 'Joyce Carol Oates',\n",
       "  't': 'The Corn Maiden & Other Nightmares',\n",
       "  'w': 201,\n",
       "  'e': 'jpg',\n",
       "  'v': 89549.0},\n",
       " {'a': 'James D. Mortain',\n",
       "  't': 'Dead Ringer',\n",
       "  'w': 187,\n",
       "  'e': 'jpg',\n",
       "  'v': 58803.0},\n",
       " {'a': 'Jesse Watters',\n",
       "  't': 'How I Saved the World',\n",
       "  'w': 198,\n",
       "  'e': 'jpg',\n",
       "  'v': 85594.0}]"
      ]
     },
     "execution_count": 6,
     "metadata": {},
     "output_type": "execute_result"
    }
   ],
   "source": [
    "books"
   ]
  },
  {
   "cell_type": "code",
   "execution_count": 7,
   "id": "827de012",
   "metadata": {},
   "outputs": [],
   "source": [
    "sample = []\n",
    "\n",
    "for book in books:\n",
    "    sample.append(get_info(book['t'], book['a']))\n",
    "    "
   ]
  },
  {
   "cell_type": "code",
   "execution_count": 8,
   "id": "34bb9ba5",
   "metadata": {},
   "outputs": [],
   "source": [
    "df = pd.DataFrame(sample)"
   ]
  },
  {
   "cell_type": "code",
   "execution_count": 9,
   "id": "f36cd413",
   "metadata": {},
   "outputs": [
    {
     "data": {
      "text/html": [
       "<div>\n",
       "<style scoped>\n",
       "    .dataframe tbody tr th:only-of-type {\n",
       "        vertical-align: middle;\n",
       "    }\n",
       "\n",
       "    .dataframe tbody tr th {\n",
       "        vertical-align: top;\n",
       "    }\n",
       "\n",
       "    .dataframe thead th {\n",
       "        text-align: right;\n",
       "    }\n",
       "</style>\n",
       "<table border=\"1\" class=\"dataframe\">\n",
       "  <thead>\n",
       "    <tr style=\"text-align: right;\">\n",
       "      <th></th>\n",
       "      <th>title</th>\n",
       "      <th>author</th>\n",
       "      <th>total words</th>\n",
       "      <th>vividness</th>\n",
       "      <th>passive voice</th>\n",
       "      <th>all adverbs</th>\n",
       "      <th>ly-adverbs</th>\n",
       "      <th>non-ly-adverbs</th>\n",
       "    </tr>\n",
       "  </thead>\n",
       "  <tbody>\n",
       "    <tr>\n",
       "      <th>0</th>\n",
       "      <td>Creating Characters</td>\n",
       "      <td>Howard Lauther</td>\n",
       "      <td>73732.0</td>\n",
       "      <td>32.56</td>\n",
       "      <td>8.50</td>\n",
       "      <td>2.87</td>\n",
       "      <td>1.24</td>\n",
       "      <td>1.63</td>\n",
       "    </tr>\n",
       "    <tr>\n",
       "      <th>1</th>\n",
       "      <td>Huck Out West</td>\n",
       "      <td>Robert Coover</td>\n",
       "      <td>95282.0</td>\n",
       "      <td>53.70</td>\n",
       "      <td>7.44</td>\n",
       "      <td>2.65</td>\n",
       "      <td>0.51</td>\n",
       "      <td>2.14</td>\n",
       "    </tr>\n",
       "    <tr>\n",
       "      <th>2</th>\n",
       "      <td>Ghost Virus</td>\n",
       "      <td>Graham Masterton</td>\n",
       "      <td>114497.0</td>\n",
       "      <td>55.44</td>\n",
       "      <td>9.49</td>\n",
       "      <td>3.16</td>\n",
       "      <td>0.87</td>\n",
       "      <td>2.29</td>\n",
       "    </tr>\n",
       "    <tr>\n",
       "      <th>3</th>\n",
       "      <td>Hawk Mountain</td>\n",
       "      <td>Conner Habib</td>\n",
       "      <td>77111.0</td>\n",
       "      <td>46.65</td>\n",
       "      <td>8.72</td>\n",
       "      <td>3.23</td>\n",
       "      <td>0.75</td>\n",
       "      <td>2.48</td>\n",
       "    </tr>\n",
       "    <tr>\n",
       "      <th>4</th>\n",
       "      <td>Harry’s Trees</td>\n",
       "      <td>Jon Cohen</td>\n",
       "      <td>123948.0</td>\n",
       "      <td>70.12</td>\n",
       "      <td>6.92</td>\n",
       "      <td>2.55</td>\n",
       "      <td>0.90</td>\n",
       "      <td>1.65</td>\n",
       "    </tr>\n",
       "    <tr>\n",
       "      <th>5</th>\n",
       "      <td>First Of The First</td>\n",
       "      <td>Andrew Maclure</td>\n",
       "      <td>168709.0</td>\n",
       "      <td>29.64</td>\n",
       "      <td>10.11</td>\n",
       "      <td>2.73</td>\n",
       "      <td>0.82</td>\n",
       "      <td>1.92</td>\n",
       "    </tr>\n",
       "    <tr>\n",
       "      <th>6</th>\n",
       "      <td>The Unlocking Season</td>\n",
       "      <td>Gail Bowen</td>\n",
       "      <td>86649.0</td>\n",
       "      <td>40.38</td>\n",
       "      <td>9.32</td>\n",
       "      <td>2.47</td>\n",
       "      <td>0.76</td>\n",
       "      <td>1.71</td>\n",
       "    </tr>\n",
       "    <tr>\n",
       "      <th>7</th>\n",
       "      <td>The Corn Maiden &amp; Other Nightmares</td>\n",
       "      <td>Joyce Carol Oates</td>\n",
       "      <td>89549.0</td>\n",
       "      <td>55.88</td>\n",
       "      <td>9.08</td>\n",
       "      <td>3.58</td>\n",
       "      <td>1.42</td>\n",
       "      <td>2.16</td>\n",
       "    </tr>\n",
       "    <tr>\n",
       "      <th>8</th>\n",
       "      <td>Dead Ringer</td>\n",
       "      <td>James D. Mortain</td>\n",
       "      <td>58803.0</td>\n",
       "      <td>38.09</td>\n",
       "      <td>7.71</td>\n",
       "      <td>2.77</td>\n",
       "      <td>1.28</td>\n",
       "      <td>1.48</td>\n",
       "    </tr>\n",
       "    <tr>\n",
       "      <th>9</th>\n",
       "      <td>How I Saved the World</td>\n",
       "      <td>Jesse Watters</td>\n",
       "      <td>85594.0</td>\n",
       "      <td>38.27</td>\n",
       "      <td>7.89</td>\n",
       "      <td>2.86</td>\n",
       "      <td>1.24</td>\n",
       "      <td>1.62</td>\n",
       "    </tr>\n",
       "  </tbody>\n",
       "</table>\n",
       "</div>"
      ],
      "text/plain": [
       "                                title             author  total words  \\\n",
       "0                 Creating Characters     Howard Lauther      73732.0   \n",
       "1                       Huck Out West      Robert Coover      95282.0   \n",
       "2                         Ghost Virus   Graham Masterton     114497.0   \n",
       "3                       Hawk Mountain       Conner Habib      77111.0   \n",
       "4                       Harry’s Trees          Jon Cohen     123948.0   \n",
       "5                  First Of The First     Andrew Maclure     168709.0   \n",
       "6                The Unlocking Season         Gail Bowen      86649.0   \n",
       "7  The Corn Maiden & Other Nightmares  Joyce Carol Oates      89549.0   \n",
       "8                         Dead Ringer   James D. Mortain      58803.0   \n",
       "9               How I Saved the World      Jesse Watters      85594.0   \n",
       "\n",
       "   vividness  passive voice  all adverbs  ly-adverbs  non-ly-adverbs  \n",
       "0      32.56           8.50         2.87        1.24            1.63  \n",
       "1      53.70           7.44         2.65        0.51            2.14  \n",
       "2      55.44           9.49         3.16        0.87            2.29  \n",
       "3      46.65           8.72         3.23        0.75            2.48  \n",
       "4      70.12           6.92         2.55        0.90            1.65  \n",
       "5      29.64          10.11         2.73        0.82            1.92  \n",
       "6      40.38           9.32         2.47        0.76            1.71  \n",
       "7      55.88           9.08         3.58        1.42            2.16  \n",
       "8      38.09           7.71         2.77        1.28            1.48  \n",
       "9      38.27           7.89         2.86        1.24            1.62  "
      ]
     },
     "execution_count": 9,
     "metadata": {},
     "output_type": "execute_result"
    }
   ],
   "source": [
    "df"
   ]
  },
  {
   "cell_type": "markdown",
   "id": "349008d7",
   "metadata": {},
   "source": [
    "On my first try, one title produced a row of null values. It turned out that a ':' in the title did not appear in the URL, so I accounted for that in the get_info function. I ran it a few more times to see if a similar event occurred--it did, with several different special characters. \n",
    "\n",
    "At this point I reworked the get_info function to loop through the characters I wanted to remove rather than chaining .replace() on author and title with each character individually. "
   ]
  }
 ],
 "metadata": {
  "kernelspec": {
   "display_name": "Python 3 (ipykernel)",
   "language": "python",
   "name": "python3"
  },
  "language_info": {
   "codemirror_mode": {
    "name": "ipython",
    "version": 3
   },
   "file_extension": ".py",
   "mimetype": "text/x-python",
   "name": "python",
   "nbconvert_exporter": "python",
   "pygments_lexer": "ipython3",
   "version": "3.10.6"
  }
 },
 "nbformat": 4,
 "nbformat_minor": 5
}
