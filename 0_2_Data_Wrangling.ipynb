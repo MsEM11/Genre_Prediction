{
 "cells": [
  {
   "cell_type": "markdown",
   "id": "b63a5b58",
   "metadata": {},
   "source": [
    "## \n"
   ]
  },
  {
   "cell_type": "code",
   "execution_count": 100,
   "id": "43328983",
   "metadata": {},
   "outputs": [],
   "source": [
    "import requests\n",
    "import json\n",
    "from bs4 import BeautifulSoup\n",
    "import pandas as pd\n",
    "import random"
   ]
  },
  {
   "cell_type": "code",
   "execution_count": 106,
   "id": "b6ed81e8",
   "metadata": {},
   "outputs": [],
   "source": [
    "def get_info(title, author):\n",
    "    '''Given a title and author of a book in the list,\n",
    "    returns a dictionary of prosecraft's analysis about the book.'''\n",
    "    info = {'title': title, 'author': author}\n",
    "    title = title.replace(' ', '-').replace(':','').lower()\n",
    "    author = author.replace(' ', '-').lower()\n",
    "    page = requests.get(f\"http://prosecraft.io/library/{author}/{title}/\")\n",
    "    soup = BeautifulSoup(page.content, \"html.parser\")\n",
    "    headings = soup.find_all(\"div\", {\"class\": \"book-info-metric-heading\"})\n",
    "    values = soup.find_all(\"div\", {\"class\": \"book-info-metric-value\"})\n",
    "    for heading, value in zip(headings, values):\n",
    "        info[heading.text] = float(value.text.strip('%').replace(',',''))\n",
    "    return info"
   ]
  },
  {
   "cell_type": "code",
   "execution_count": 64,
   "id": "ebe85981",
   "metadata": {},
   "outputs": [
    {
     "data": {
      "text/plain": [
       "{'title': 'Thick as Thieves',\n",
       " 'author': 'Megan Whalen Turner',\n",
       " 'total words': 81228.0,\n",
       " 'vividness': 46.07,\n",
       " 'passive voice': 8.24,\n",
       " 'all adverbs': 2.9,\n",
       " 'ly-adverbs': 1.0,\n",
       " 'non-ly-adverbs': 1.91}"
      ]
     },
     "execution_count": 64,
     "metadata": {},
     "output_type": "execute_result"
    }
   ],
   "source": [
    "get_info(\"Thick as Thieves\", \"Megan Whalen Turner\")"
   ]
  },
  {
   "cell_type": "code",
   "execution_count": 60,
   "id": "e709899d",
   "metadata": {},
   "outputs": [],
   "source": [
    "sample_book = Book(\"Thick as Thieves\", \"Megan Whalen Turner\")"
   ]
  },
  {
   "cell_type": "code",
   "execution_count": 61,
   "id": "48fee396",
   "metadata": {},
   "outputs": [
    {
     "data": {
      "text/plain": [
       "1.91"
      ]
     },
     "execution_count": 61,
     "metadata": {},
     "output_type": "execute_result"
    }
   ],
   "source": [
    "sample_book.non_ly_adverbs"
   ]
  },
  {
   "cell_type": "code",
   "execution_count": 72,
   "id": "a1a9a6a7",
   "metadata": {},
   "outputs": [],
   "source": [
    "books_table = pd.DataFrame([get_info(\"Thick as Thieves\", \"Megan Whalen Turner\"),get_info(\"Return of the Thief\", \"Megan Whalen Turner\")])"
   ]
  },
  {
   "cell_type": "code",
   "execution_count": 94,
   "id": "60037769",
   "metadata": {},
   "outputs": [
    {
     "name": "stdout",
     "output_type": "stream",
     "text": [
      "24997\n"
     ]
    }
   ],
   "source": [
    "with open('book_list.json', 'r') as lst:\n",
    "    book_list = json.load(lst)\n"
   ]
  },
  {
   "cell_type": "code",
   "execution_count": 95,
   "id": "469c4a94",
   "metadata": {},
   "outputs": [],
   "source": [
    "indices = random.sample(range(0, 24997), 10)\n",
    "books = []\n",
    "for index in indices:\n",
    "    books.append(book_list[index])"
   ]
  },
  {
   "cell_type": "code",
   "execution_count": 96,
   "id": "4c4320a9",
   "metadata": {
    "scrolled": true
   },
   "outputs": [
    {
     "data": {
      "text/plain": [
       "[{'a': 'Adam Mitzner',\n",
       "  't': 'The Perfect Marriage',\n",
       "  'w': 200,\n",
       "  'e': 'jpg',\n",
       "  'v': 80620.0},\n",
       " {'a': 'Menna van Praag',\n",
       "  't': 'The Sisters Grimm',\n",
       "  'w': 198,\n",
       "  'e': 'jpg',\n",
       "  'v': 127292.0},\n",
       " {'a': 'Dylan Rodriguez',\n",
       "  't': 'White Reconstruction',\n",
       "  'w': 200,\n",
       "  'e': 'jpg',\n",
       "  'v': 69519.0},\n",
       " {'a': 'Lauren Blakely',\n",
       "  't': 'Scoring with Him',\n",
       "  'w': 189,\n",
       "  'e': 'jpg',\n",
       "  'v': 79455.0},\n",
       " {'a': 'Dugald Bruce-Lockhart',\n",
       "  't': 'The Lizard',\n",
       "  'w': 197,\n",
       "  'e': 'jpg',\n",
       "  'v': 78250.0},\n",
       " {'a': 'Jennifer Bacia',\n",
       "  't': 'Never Forget Me',\n",
       "  'w': 196,\n",
       "  'e': 'jpg',\n",
       "  'v': 83058.0},\n",
       " {'a': 'Anthony Riches',\n",
       "  't': 'Empire: Fortress of Spears',\n",
       "  'w': 196,\n",
       "  'e': 'jpg',\n",
       "  'v': 123371.0},\n",
       " {'a': 'Liliiana Saint Clair',\n",
       "  't': 'Trap for a Goose',\n",
       "  'w': 189,\n",
       "  'e': 'jpg',\n",
       "  'v': 45932.0},\n",
       " {'a': 'Metis Beach',\n",
       "  't': 'Claudine Bourbonnais',\n",
       "  'w': 195,\n",
       "  'e': 'jpg',\n",
       "  'v': 130572.0},\n",
       " {'a': 'Roy Peter Clark',\n",
       "  't': 'The Art of X-Ray Reading',\n",
       "  'w': 198,\n",
       "  'e': 'jpg',\n",
       "  'v': 68348.0}]"
      ]
     },
     "execution_count": 96,
     "metadata": {},
     "output_type": "execute_result"
    }
   ],
   "source": [
    "books"
   ]
  },
  {
   "cell_type": "code",
   "execution_count": 108,
   "id": "02f058f1",
   "metadata": {},
   "outputs": [],
   "source": [
    "sample = []\n",
    "\n",
    "for book in books:\n",
    "    sample.append(get_info(book['t'], book['a']))\n",
    "    "
   ]
  },
  {
   "cell_type": "code",
   "execution_count": 109,
   "id": "d2284958",
   "metadata": {},
   "outputs": [],
   "source": [
    "df = pd.DataFrame(sample)"
   ]
  },
  {
   "cell_type": "code",
   "execution_count": 110,
   "id": "97a5e83a",
   "metadata": {},
   "outputs": [
    {
     "data": {
      "text/html": [
       "<div>\n",
       "<style scoped>\n",
       "    .dataframe tbody tr th:only-of-type {\n",
       "        vertical-align: middle;\n",
       "    }\n",
       "\n",
       "    .dataframe tbody tr th {\n",
       "        vertical-align: top;\n",
       "    }\n",
       "\n",
       "    .dataframe thead th {\n",
       "        text-align: right;\n",
       "    }\n",
       "</style>\n",
       "<table border=\"1\" class=\"dataframe\">\n",
       "  <thead>\n",
       "    <tr style=\"text-align: right;\">\n",
       "      <th></th>\n",
       "      <th>title</th>\n",
       "      <th>author</th>\n",
       "      <th>total words</th>\n",
       "      <th>vividness</th>\n",
       "      <th>passive voice</th>\n",
       "      <th>all adverbs</th>\n",
       "      <th>ly-adverbs</th>\n",
       "      <th>non-ly-adverbs</th>\n",
       "    </tr>\n",
       "  </thead>\n",
       "  <tbody>\n",
       "    <tr>\n",
       "      <th>0</th>\n",
       "      <td>The Perfect Marriage</td>\n",
       "      <td>Adam Mitzner</td>\n",
       "      <td>80620.0</td>\n",
       "      <td>24.66</td>\n",
       "      <td>9.95</td>\n",
       "      <td>3.23</td>\n",
       "      <td>1.03</td>\n",
       "      <td>2.20</td>\n",
       "    </tr>\n",
       "    <tr>\n",
       "      <th>1</th>\n",
       "      <td>The Sisters Grimm</td>\n",
       "      <td>Menna van Praag</td>\n",
       "      <td>127292.0</td>\n",
       "      <td>62.51</td>\n",
       "      <td>8.52</td>\n",
       "      <td>3.40</td>\n",
       "      <td>0.91</td>\n",
       "      <td>2.48</td>\n",
       "    </tr>\n",
       "    <tr>\n",
       "      <th>2</th>\n",
       "      <td>White Reconstruction</td>\n",
       "      <td>Dylan Rodriguez</td>\n",
       "      <td>69519.0</td>\n",
       "      <td>29.69</td>\n",
       "      <td>3.57</td>\n",
       "      <td>2.79</td>\n",
       "      <td>1.68</td>\n",
       "      <td>1.11</td>\n",
       "    </tr>\n",
       "    <tr>\n",
       "      <th>3</th>\n",
       "      <td>Scoring with Him</td>\n",
       "      <td>Lauren Blakely</td>\n",
       "      <td>79455.0</td>\n",
       "      <td>49.74</td>\n",
       "      <td>7.69</td>\n",
       "      <td>2.99</td>\n",
       "      <td>0.77</td>\n",
       "      <td>2.22</td>\n",
       "    </tr>\n",
       "    <tr>\n",
       "      <th>4</th>\n",
       "      <td>The Lizard</td>\n",
       "      <td>Dugald Bruce-Lockhart</td>\n",
       "      <td>78250.0</td>\n",
       "      <td>60.19</td>\n",
       "      <td>6.17</td>\n",
       "      <td>2.54</td>\n",
       "      <td>0.76</td>\n",
       "      <td>1.79</td>\n",
       "    </tr>\n",
       "    <tr>\n",
       "      <th>5</th>\n",
       "      <td>Never Forget Me</td>\n",
       "      <td>Jennifer Bacia</td>\n",
       "      <td>83058.0</td>\n",
       "      <td>37.02</td>\n",
       "      <td>8.66</td>\n",
       "      <td>3.29</td>\n",
       "      <td>1.17</td>\n",
       "      <td>2.12</td>\n",
       "    </tr>\n",
       "    <tr>\n",
       "      <th>6</th>\n",
       "      <td>Empire: Fortress of Spears</td>\n",
       "      <td>Anthony Riches</td>\n",
       "      <td>123371.0</td>\n",
       "      <td>47.48</td>\n",
       "      <td>5.90</td>\n",
       "      <td>2.61</td>\n",
       "      <td>1.09</td>\n",
       "      <td>1.52</td>\n",
       "    </tr>\n",
       "    <tr>\n",
       "      <th>7</th>\n",
       "      <td>Trap for a Goose</td>\n",
       "      <td>Liliiana Saint Clair</td>\n",
       "      <td>45932.0</td>\n",
       "      <td>32.85</td>\n",
       "      <td>7.30</td>\n",
       "      <td>4.11</td>\n",
       "      <td>1.80</td>\n",
       "      <td>2.31</td>\n",
       "    </tr>\n",
       "    <tr>\n",
       "      <th>8</th>\n",
       "      <td>Claudine Bourbonnais</td>\n",
       "      <td>Metis Beach</td>\n",
       "      <td>130572.0</td>\n",
       "      <td>44.49</td>\n",
       "      <td>7.52</td>\n",
       "      <td>2.70</td>\n",
       "      <td>0.91</td>\n",
       "      <td>1.79</td>\n",
       "    </tr>\n",
       "    <tr>\n",
       "      <th>9</th>\n",
       "      <td>The Art of X-Ray Reading</td>\n",
       "      <td>Roy Peter Clark</td>\n",
       "      <td>68348.0</td>\n",
       "      <td>43.19</td>\n",
       "      <td>5.72</td>\n",
       "      <td>2.01</td>\n",
       "      <td>0.60</td>\n",
       "      <td>1.41</td>\n",
       "    </tr>\n",
       "  </tbody>\n",
       "</table>\n",
       "</div>"
      ],
      "text/plain": [
       "                        title                 author  total words  vividness  \\\n",
       "0        The Perfect Marriage           Adam Mitzner      80620.0      24.66   \n",
       "1           The Sisters Grimm        Menna van Praag     127292.0      62.51   \n",
       "2        White Reconstruction        Dylan Rodriguez      69519.0      29.69   \n",
       "3            Scoring with Him         Lauren Blakely      79455.0      49.74   \n",
       "4                  The Lizard  Dugald Bruce-Lockhart      78250.0      60.19   \n",
       "5             Never Forget Me         Jennifer Bacia      83058.0      37.02   \n",
       "6  Empire: Fortress of Spears         Anthony Riches     123371.0      47.48   \n",
       "7            Trap for a Goose   Liliiana Saint Clair      45932.0      32.85   \n",
       "8        Claudine Bourbonnais            Metis Beach     130572.0      44.49   \n",
       "9    The Art of X-Ray Reading        Roy Peter Clark      68348.0      43.19   \n",
       "\n",
       "   passive voice  all adverbs  ly-adverbs  non-ly-adverbs  \n",
       "0           9.95         3.23        1.03            2.20  \n",
       "1           8.52         3.40        0.91            2.48  \n",
       "2           3.57         2.79        1.68            1.11  \n",
       "3           7.69         2.99        0.77            2.22  \n",
       "4           6.17         2.54        0.76            1.79  \n",
       "5           8.66         3.29        1.17            2.12  \n",
       "6           5.90         2.61        1.09            1.52  \n",
       "7           7.30         4.11        1.80            2.31  \n",
       "8           7.52         2.70        0.91            1.79  \n",
       "9           5.72         2.01        0.60            1.41  "
      ]
     },
     "execution_count": 110,
     "metadata": {},
     "output_type": "execute_result"
    }
   ],
   "source": [
    "df"
   ]
  },
  {
   "cell_type": "code",
   "execution_count": null,
   "id": "da4ff93a",
   "metadata": {},
   "outputs": [],
   "source": []
  }
 ],
 "metadata": {
  "kernelspec": {
   "display_name": "Python 3 (ipykernel)",
   "language": "python",
   "name": "python3"
  },
  "language_info": {
   "codemirror_mode": {
    "name": "ipython",
    "version": 3
   },
   "file_extension": ".py",
   "mimetype": "text/x-python",
   "name": "python",
   "nbconvert_exporter": "python",
   "pygments_lexer": "ipython3",
   "version": "3.10.6"
  }
 },
 "nbformat": 4,
 "nbformat_minor": 5
}
