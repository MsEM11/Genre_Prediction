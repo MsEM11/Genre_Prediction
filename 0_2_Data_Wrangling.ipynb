{
 "cells": [
  {
   "cell_type": "markdown",
   "id": "ef4f022b",
   "metadata": {},
   "source": [
    "## Cleaning the Prosecraft data\n",
    "Next, it was time to get the Prosecraft books from a JSON containing every book to a DataFrame containing a sample. "
   ]
  },
  {
   "cell_type": "code",
   "execution_count": 1,
   "id": "43328983",
   "metadata": {},
   "outputs": [],
   "source": [
    "import requests\n",
    "import json\n",
    "from bs4 import BeautifulSoup\n",
    "import pandas as pd\n",
    "import random"
   ]
  },
  {
   "cell_type": "markdown",
   "id": "e30cbcab",
   "metadata": {},
   "source": [
    "I created a function to take in the title and author of a book and output a dictionary containing each piece of information given by Prosecraft. "
   ]
  },
  {
   "cell_type": "code",
   "execution_count": 10,
   "id": "b6ed81e8",
   "metadata": {},
   "outputs": [],
   "source": [
    "def get_info(title, author):\n",
    "    '''Given a title and author of a book in the list,\n",
    "    returns a dictionary of prosecraft's analysis about the book.'''\n",
    "    \n",
    "    #Get rid of special characters in URL\n",
    "    chars_to_remove = [':', '’', '.', \",\", '“', '”']\n",
    "    info = {'title': title, 'author': author}\n",
    "    URL = f\"{author}/{title}/\"\n",
    "    for char in chars_to_remove: \n",
    "        URL = URL.replace(char, '')\n",
    "    URL = URL.replace('&', 'and').replace(' ','-').lower()\n",
    "    URL = \"http://prosecraft.io/library/\" + URL\n",
    "    \n",
    "    #Get data from Prosecraft and turn it into a dict\n",
    "    page = requests.get(URL)\n",
    "    soup = BeautifulSoup(page.content, \"html.parser\")\n",
    "    headings = soup.find_all(\"div\", {\"class\": \"book-info-metric-heading\"})\n",
    "    values = soup.find_all(\"div\", {\"class\": \"book-info-metric-value\"})\n",
    "    for heading, value in zip(headings, values):\n",
    "        info[heading.text] = float(value.text.strip('%').replace(',',''))\n",
    "    return info"
   ]
  },
  {
   "cell_type": "markdown",
   "id": "9d8e7f52",
   "metadata": {},
   "source": [
    "I tested the function with a book from my favorite series. "
   ]
  },
  {
   "cell_type": "code",
   "execution_count": 3,
   "id": "ebe85981",
   "metadata": {},
   "outputs": [
    {
     "data": {
      "text/plain": [
       "{'title': 'Thick as Thieves',\n",
       " 'author': 'Megan Whalen Turner',\n",
       " 'total words': 81228.0,\n",
       " 'vividness': 46.07,\n",
       " 'passive voice': 8.24,\n",
       " 'all adverbs': 2.9,\n",
       " 'ly-adverbs': 1.0,\n",
       " 'non-ly-adverbs': 1.91}"
      ]
     },
     "execution_count": 3,
     "metadata": {},
     "output_type": "execute_result"
    }
   ],
   "source": [
    "get_info(\"Thick as Thieves\", \"Megan Whalen Turner\")"
   ]
  },
  {
   "cell_type": "markdown",
   "id": "dc337cf7",
   "metadata": {},
   "source": [
    "Next, I tried creating a random sample of ten books and turning that sample into a pandas DataFrame. "
   ]
  },
  {
   "cell_type": "code",
   "execution_count": 4,
   "id": "495c7a9c",
   "metadata": {},
   "outputs": [],
   "source": [
    "with open('book_list.json', 'r') as lst:\n",
    "    book_list = json.load(lst)\n"
   ]
  },
  {
   "cell_type": "code",
   "execution_count": 5,
   "id": "10f4a7c3",
   "metadata": {},
   "outputs": [],
   "source": [
    "indices = random.sample(range(0, len(book_list)), 10)\n",
    "books = []\n",
    "for index in indices:\n",
    "    books.append(book_list[index])"
   ]
  },
  {
   "cell_type": "code",
   "execution_count": 6,
   "id": "d4d75b1a",
   "metadata": {
    "scrolled": true
   },
   "outputs": [
    {
     "data": {
      "text/plain": [
       "[{'a': 'Katy Milkman',\n",
       "  't': 'How to Change',\n",
       "  'w': 199,\n",
       "  'e': 'jpg',\n",
       "  'v': 53409.0},\n",
       " {'a': 'Zadie Smith',\n",
       "  't': 'Changing My Mind',\n",
       "  'w': 199,\n",
       "  'e': 'jpg',\n",
       "  'v': 102881.0},\n",
       " {'a': 'Lauren Belfer',\n",
       "  't': 'And After the Fire',\n",
       "  'w': 198,\n",
       "  'e': 'jpg',\n",
       "  'v': 121275.0},\n",
       " {'a': 'Kelly Powell',\n",
       "  't': 'Magic Dark and Strange',\n",
       "  'w': 197,\n",
       "  'e': 'jpg',\n",
       "  'v': 51333.0},\n",
       " {'a': 'James P. Hogan',\n",
       "  't': 'Endgame Enigma',\n",
       "  'w': 186,\n",
       "  'e': 'jpg',\n",
       "  'v': 152071.0},\n",
       " {'a': 'Toni Jordan', 't': 'Nine Days', 'w': 194, 'e': 'jpg', 'v': 67063.0},\n",
       " {'a': 'Kerrelyn Sparks',\n",
       "  't': 'Vamps and the City',\n",
       "  'w': 185,\n",
       "  'e': 'jpg',\n",
       "  'v': 95146.0},\n",
       " {'a': 'Jenny McCarthy',\n",
       "  't': 'Love, Lust & Faking It',\n",
       "  'w': 203,\n",
       "  'e': 'jpg',\n",
       "  'v': 51744.0},\n",
       " {'a': 'Ilona Andrews',\n",
       "  't': 'Sweep of the Blade',\n",
       "  'w': 187,\n",
       "  'e': 'jpg',\n",
       "  'v': 84146.0},\n",
       " {'a': 'Eric T. Knight',\n",
       "  't': 'Power Forged',\n",
       "  'w': 200,\n",
       "  'e': 'jpg',\n",
       "  'v': 129144.0}]"
      ]
     },
     "execution_count": 6,
     "metadata": {},
     "output_type": "execute_result"
    }
   ],
   "source": [
    "books"
   ]
  },
  {
   "cell_type": "code",
   "execution_count": 11,
   "id": "827de012",
   "metadata": {},
   "outputs": [],
   "source": [
    "sample = []\n",
    "\n",
    "for book in books:\n",
    "    sample.append(get_info(book['t'], book['a']))\n",
    "    "
   ]
  },
  {
   "cell_type": "code",
   "execution_count": 12,
   "id": "34bb9ba5",
   "metadata": {},
   "outputs": [],
   "source": [
    "df = pd.DataFrame(sample)"
   ]
  },
  {
   "cell_type": "code",
   "execution_count": 13,
   "id": "f36cd413",
   "metadata": {},
   "outputs": [
    {
     "data": {
      "text/html": [
       "<div>\n",
       "<style scoped>\n",
       "    .dataframe tbody tr th:only-of-type {\n",
       "        vertical-align: middle;\n",
       "    }\n",
       "\n",
       "    .dataframe tbody tr th {\n",
       "        vertical-align: top;\n",
       "    }\n",
       "\n",
       "    .dataframe thead th {\n",
       "        text-align: right;\n",
       "    }\n",
       "</style>\n",
       "<table border=\"1\" class=\"dataframe\">\n",
       "  <thead>\n",
       "    <tr style=\"text-align: right;\">\n",
       "      <th></th>\n",
       "      <th>title</th>\n",
       "      <th>author</th>\n",
       "      <th>total words</th>\n",
       "      <th>vividness</th>\n",
       "      <th>passive voice</th>\n",
       "      <th>all adverbs</th>\n",
       "      <th>ly-adverbs</th>\n",
       "      <th>non-ly-adverbs</th>\n",
       "    </tr>\n",
       "  </thead>\n",
       "  <tbody>\n",
       "    <tr>\n",
       "      <th>0</th>\n",
       "      <td>How to Change</td>\n",
       "      <td>Katy Milkman</td>\n",
       "      <td>53409.0</td>\n",
       "      <td>26.54</td>\n",
       "      <td>6.85</td>\n",
       "      <td>3.27</td>\n",
       "      <td>1.48</td>\n",
       "      <td>1.80</td>\n",
       "    </tr>\n",
       "    <tr>\n",
       "      <th>1</th>\n",
       "      <td>Changing My Mind</td>\n",
       "      <td>Zadie Smith</td>\n",
       "      <td>102881.0</td>\n",
       "      <td>34.56</td>\n",
       "      <td>7.25</td>\n",
       "      <td>3.23</td>\n",
       "      <td>1.37</td>\n",
       "      <td>1.85</td>\n",
       "    </tr>\n",
       "    <tr>\n",
       "      <th>2</th>\n",
       "      <td>And After the Fire</td>\n",
       "      <td>Lauren Belfer</td>\n",
       "      <td>121275.0</td>\n",
       "      <td>44.64</td>\n",
       "      <td>8.07</td>\n",
       "      <td>2.66</td>\n",
       "      <td>0.82</td>\n",
       "      <td>1.84</td>\n",
       "    </tr>\n",
       "    <tr>\n",
       "      <th>3</th>\n",
       "      <td>Magic Dark and Strange</td>\n",
       "      <td>Kelly Powell</td>\n",
       "      <td>51333.0</td>\n",
       "      <td>60.47</td>\n",
       "      <td>6.86</td>\n",
       "      <td>2.28</td>\n",
       "      <td>0.65</td>\n",
       "      <td>1.63</td>\n",
       "    </tr>\n",
       "    <tr>\n",
       "      <th>4</th>\n",
       "      <td>Endgame Enigma</td>\n",
       "      <td>James P. Hogan</td>\n",
       "      <td>152071.0</td>\n",
       "      <td>37.22</td>\n",
       "      <td>8.26</td>\n",
       "      <td>3.22</td>\n",
       "      <td>1.22</td>\n",
       "      <td>2.00</td>\n",
       "    </tr>\n",
       "    <tr>\n",
       "      <th>5</th>\n",
       "      <td>Nine Days</td>\n",
       "      <td>Toni Jordan</td>\n",
       "      <td>67063.0</td>\n",
       "      <td>59.03</td>\n",
       "      <td>9.16</td>\n",
       "      <td>2.44</td>\n",
       "      <td>0.42</td>\n",
       "      <td>2.02</td>\n",
       "    </tr>\n",
       "    <tr>\n",
       "      <th>6</th>\n",
       "      <td>Vamps and the City</td>\n",
       "      <td>Kerrelyn Sparks</td>\n",
       "      <td>95146.0</td>\n",
       "      <td>51.39</td>\n",
       "      <td>8.58</td>\n",
       "      <td>2.87</td>\n",
       "      <td>0.89</td>\n",
       "      <td>1.98</td>\n",
       "    </tr>\n",
       "    <tr>\n",
       "      <th>7</th>\n",
       "      <td>Love, Lust &amp; Faking It</td>\n",
       "      <td>Jenny McCarthy</td>\n",
       "      <td>51744.0</td>\n",
       "      <td>36.98</td>\n",
       "      <td>9.15</td>\n",
       "      <td>3.49</td>\n",
       "      <td>1.13</td>\n",
       "      <td>2.36</td>\n",
       "    </tr>\n",
       "    <tr>\n",
       "      <th>8</th>\n",
       "      <td>Sweep of the Blade</td>\n",
       "      <td>Ilona Andrews</td>\n",
       "      <td>84146.0</td>\n",
       "      <td>56.42</td>\n",
       "      <td>7.28</td>\n",
       "      <td>2.30</td>\n",
       "      <td>0.75</td>\n",
       "      <td>1.55</td>\n",
       "    </tr>\n",
       "    <tr>\n",
       "      <th>9</th>\n",
       "      <td>Power Forged</td>\n",
       "      <td>Eric T. Knight</td>\n",
       "      <td>129144.0</td>\n",
       "      <td>46.85</td>\n",
       "      <td>9.51</td>\n",
       "      <td>3.16</td>\n",
       "      <td>1.04</td>\n",
       "      <td>2.12</td>\n",
       "    </tr>\n",
       "  </tbody>\n",
       "</table>\n",
       "</div>"
      ],
      "text/plain": [
       "                    title           author  total words  vividness  \\\n",
       "0           How to Change     Katy Milkman      53409.0      26.54   \n",
       "1        Changing My Mind      Zadie Smith     102881.0      34.56   \n",
       "2      And After the Fire    Lauren Belfer     121275.0      44.64   \n",
       "3  Magic Dark and Strange     Kelly Powell      51333.0      60.47   \n",
       "4          Endgame Enigma   James P. Hogan     152071.0      37.22   \n",
       "5               Nine Days      Toni Jordan      67063.0      59.03   \n",
       "6      Vamps and the City  Kerrelyn Sparks      95146.0      51.39   \n",
       "7  Love, Lust & Faking It   Jenny McCarthy      51744.0      36.98   \n",
       "8      Sweep of the Blade    Ilona Andrews      84146.0      56.42   \n",
       "9            Power Forged   Eric T. Knight     129144.0      46.85   \n",
       "\n",
       "   passive voice  all adverbs  ly-adverbs  non-ly-adverbs  \n",
       "0           6.85         3.27        1.48            1.80  \n",
       "1           7.25         3.23        1.37            1.85  \n",
       "2           8.07         2.66        0.82            1.84  \n",
       "3           6.86         2.28        0.65            1.63  \n",
       "4           8.26         3.22        1.22            2.00  \n",
       "5           9.16         2.44        0.42            2.02  \n",
       "6           8.58         2.87        0.89            1.98  \n",
       "7           9.15         3.49        1.13            2.36  \n",
       "8           7.28         2.30        0.75            1.55  \n",
       "9           9.51         3.16        1.04            2.12  "
      ]
     },
     "execution_count": 13,
     "metadata": {},
     "output_type": "execute_result"
    }
   ],
   "source": [
    "df"
   ]
  },
  {
   "cell_type": "markdown",
   "id": "349008d7",
   "metadata": {},
   "source": [
    "On my first try, one title produced a row of null values. It turned out that a ':' in the title did not appear in the URL, so I accounted for that in the get_info function. I ran it a few more times to see if a similar event occurred--it did, with several different special characters. \n",
    "\n",
    "At this point I reworked the get_info function to loop through the characters I wanted to remove rather than chaining .replace() on author and title with each character individually. "
   ]
  }
 ],
 "metadata": {
  "kernelspec": {
   "display_name": "Python 3 (ipykernel)",
   "language": "python",
   "name": "python3"
  },
  "language_info": {
   "codemirror_mode": {
    "name": "ipython",
    "version": 3
   },
   "file_extension": ".py",
   "mimetype": "text/x-python",
   "name": "python",
   "nbconvert_exporter": "python",
   "pygments_lexer": "ipython3",
   "version": "3.10.6"
  }
 },
 "nbformat": 4,
 "nbformat_minor": 5
}
